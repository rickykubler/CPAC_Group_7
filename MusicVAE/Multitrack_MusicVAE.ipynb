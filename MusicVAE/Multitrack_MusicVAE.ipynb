{
  "cells": [
    {
      "attachments": {},
      "cell_type": "markdown",
      "metadata": {
        "id": "QI5g-x4foZls"
      },
      "source": [
        "# Multitrack MusicVAE: Learning a Latent Space of Multitrack Measures\n",
        "### ___Ian Simon, Adam Roberts, Colin Raffel, Jesse Engel, Curtis Hawthorne, Douglas Eck___\n",
        "\n",
        "[MusicVAE](https://g.co/magenta/music-vae) learns a latent space of musical sequences.  Here we apply the MusicVAE framework to single measures of multi-instrument General MIDI, a symbolic music representation that uses a standard set of 128 instrument sounds.\n",
        "\n",
        "The models in this notebook are capable of encoding and decoding single measures of up to 8 tracks, optionally conditioned on an underlying chord.  Encoding transforms a single measure into a vector in a latent space, and decoding transforms a latent vector back into a measure.  Both encoding and decoding are performed hierarchically, with one level operating on tracks and another operating on the notes (and choice of instrument) in each track.\n",
        "\n",
        "See our [arXiv paper](https://arxiv.org/abs/1806.00195) for more details, along with our [blog post](http://g.co/magenta/multitrack) with links to JavaScript CodePens."
      ]
    },
    {
      "attachments": {},
      "cell_type": "markdown",
      "metadata": {
        "id": "rDMQbHPYVKmV"
      },
      "source": [
        "# Environment Setup"
      ]
    },
    {
      "cell_type": "code",
      "execution_count": 1,
      "metadata": {},
      "outputs": [
        {
          "name": "stderr",
          "output_type": "stream",
          "text": [
            "c:\\Users\\rikyd\\Documents\\GitHub\\CPAC_Group_7\\magenta-env\\lib\\site-packages\\tqdm\\auto.py:21: TqdmWarning: IProgress not found. Please update jupyter and ipywidgets. See https://ipywidgets.readthedocs.io/en/stable/user_install.html\n",
            "  from .autonotebook import tqdm as notebook_tqdm\n"
          ]
        },
        {
          "name": "stdout",
          "output_type": "stream",
          "text": [
            "WARNING:tensorflow:From c:\\Users\\rikyd\\Documents\\GitHub\\CPAC_Group_7\\magenta-env\\lib\\site-packages\\tensorflow\\python\\compat\\v2_compat.py:107: disable_resource_variables (from tensorflow.python.ops.variable_scope) is deprecated and will be removed in a future version.\n",
            "Instructions for updating:\n",
            "non-resource variables are not supported in the long term\n",
            "Done!\n"
          ]
        }
      ],
      "source": [
        "import numpy as np\n",
        "import os\n",
        "import tensorflow.compat.v1 as tf\n",
        "import magenta.music as mm\n",
        "from magenta.music.sequences_lib import concatenate_sequences\n",
        "from magenta.models.music_vae import configs\n",
        "from magenta.models.music_vae.trained_model import TrainedModel\n",
        "#from google.colab import files\n",
        "\n",
        "tf.disable_v2_behavior()\n",
        "print('Done!')"
      ]
    },
    {
      "attachments": {},
      "cell_type": "markdown",
      "metadata": {},
      "source": [
        "# ex list"
      ]
    },
    {
      "cell_type": "code",
      "execution_count": null,
      "metadata": {
        "colab": {
          "base_uri": "https://localhost:8080/"
        },
        "id": "tciXVi5eWG_1",
        "outputId": "54d49b1b-d44f-4c25-875c-e12602ff383a"
      },
      "outputs": [],
      "source": [
        "#@title Setup Environment\n",
        "\n",
        "print('Copying checkpoints and modified SGM SoundFont (https://sites.google.com/site/soundfonts4u) from GCS.')\n",
        "print('This will take a few minutes...')\n",
        "!gsutil -q -m cp gs://download.magenta.tensorflow.org/models/music_vae/multitrack/* /content/\n",
        "!gsutil -q -m cp gs://download.magenta.tensorflow.org/soundfonts/SGM-v2.01-Sal-Guit-Bass-V1.3.sf2 /content/\n",
        "\n",
        "print('Installing dependencies...')\n",
        "!apt-get update -qq && apt-get install -qq libfluidsynth1 build-essential libasound2-dev libjack-dev\n",
        "#!pip install -qU magenta pyfluidsynth pretty_midi\n",
        "\n",
        "print('Importing libraries...')\n",
        "\n",
        "import numpy as np\n",
        "import os\n",
        "import tensorflow.compat.v1 as tf\n",
        "\n",
        "#from google.colab import files\n",
        "\n",
        "import magenta.music as mm\n",
        "from magenta.music.sequences_lib import concatenate_sequences\n",
        "from magenta.models.music_vae import configs\n",
        "from magenta.models.music_vae.trained_model import TrainedModel\n",
        "\n",
        "tf.disable_v2_behavior()\n",
        "print('Done!')"
      ]
    },
    {
      "attachments": {},
      "cell_type": "markdown",
      "metadata": {},
      "source": [
        "# def functions"
      ]
    },
    {
      "cell_type": "code",
      "execution_count": 2,
      "metadata": {
        "id": "3URxzTQyXfdO"
      },
      "outputs": [],
      "source": [
        "BATCH_SIZE = 4\n",
        "Z_SIZE = 512\n",
        "TOTAL_STEPS = 512\n",
        "BAR_SECONDS = 2.0\n",
        "CHORD_DEPTH = 49\n",
        "\n",
        "SAMPLE_RATE = 44100\n",
        "SF2_PATH = '/content/SGM-v2.01-Sal-Guit-Bass-V1.3.sf2'\n",
        "\n",
        "# Play sequence using SoundFont.\n",
        "def play(note_sequences):\n",
        "  if not isinstance(note_sequences, list):\n",
        "    note_sequences = [note_sequences]\n",
        "  for ns in note_sequences:\n",
        "    mm.play_sequence(ns, synth=mm.fluidsynth, sf2_path=SF2_PATH)\n",
        "  \n",
        "# Spherical linear interpolation.\n",
        "def slerp(p0, p1, t):\n",
        "  \"\"\"Spherical linear interpolation.\"\"\"\n",
        "  omega = np.arccos(np.dot(np.squeeze(p0/np.linalg.norm(p0)), np.squeeze(p1/np.linalg.norm(p1))))\n",
        "  so = np.sin(omega)\n",
        "  return np.sin((1.0-t)*omega) / so * p0 + np.sin(t*omega)/so * p1\n",
        "\n",
        "# Download sequence.\n",
        "def download(note_sequence, filename):\n",
        "  mm.sequence_proto_to_midi_file(note_sequence, filename)\n",
        "  files.download(filename)\n",
        "\n",
        "# Chord encoding tensor.\n",
        "def chord_encoding(chord):\n",
        "  index = mm.TriadChordOneHotEncoding().encode_event(chord)\n",
        "  c = np.zeros([TOTAL_STEPS, CHORD_DEPTH])\n",
        "  c[0,0] = 1.0\n",
        "  c[1:,index] = 1.0\n",
        "  return c\n",
        "\n",
        "# Trim sequences to exactly one bar.\n",
        "def trim_sequences(seqs, num_seconds=BAR_SECONDS):\n",
        "  for i in range(len(seqs)):\n",
        "    seqs[i] = mm.extract_subsequence(seqs[i], 0.0, num_seconds)\n",
        "    seqs[i].total_time = num_seconds\n",
        "\n",
        "# Consolidate instrument numbers by MIDI program.\n",
        "def fix_instruments_for_concatenation(note_sequences):\n",
        "  instruments = {}\n",
        "  for i in range(len(note_sequences)):\n",
        "    for note in note_sequences[i].notes:\n",
        "      if not note.is_drum:\n",
        "        if note.program not in instruments:\n",
        "          if len(instruments) >= 8:\n",
        "            instruments[note.program] = len(instruments) + 2\n",
        "          else:\n",
        "            instruments[note.program] = len(instruments) + 1\n",
        "        note.instrument = instruments[note.program]\n",
        "      else:\n",
        "        note.instrument = 9\n"
      ]
    },
    {
      "attachments": {},
      "cell_type": "markdown",
      "metadata": {
        "id": "pl3oY0w8gBJh"
      },
      "source": [
        "# Chord-Conditioned Model"
      ]
    },
    {
      "cell_type": "code",
      "execution_count": 3,
      "metadata": {
        "colab": {
          "base_uri": "https://localhost:8080/"
        },
        "id": "n8z2zwC9gF2i",
        "outputId": "f4b0b79b-1c55-4d58-954f-40bf85673f5d"
      },
      "outputs": [
        {
          "name": "stdout",
          "output_type": "stream",
          "text": [
            "INFO:tensorflow:Building MusicVAE model with HierarchicalLstmEncoder, HierarchicalLstmDecoder, and hparams:\n",
            "{'max_seq_len': 512, 'z_size': 512, 'free_bits': 0.0, 'max_beta': 1.0, 'beta_rate': 0.0, 'batch_size': 4, 'grad_clip': 1.0, 'clip_mode': 'global_norm', 'grad_norm_clip_to_zero': 10000, 'learning_rate': 0.001, 'decay_rate': 0.9999, 'min_learning_rate': 1e-05, 'conditional': True, 'dec_rnn_size': [512, 512, 512], 'enc_rnn_size': [1024], 'dropout_keep_prob': 1.0, 'sampling_schedule': 'constant', 'sampling_rate': 0.0, 'use_cudnn': False, 'residual_encoder': False, 'residual_decoder': False, 'control_preprocessing_rnn_size': [256]}\n",
            "INFO:tensorflow:\n",
            "Hierarchical Encoder:\n",
            "  input length: 512\n",
            "  level lengths: [64, 8]\n",
            "\n",
            "INFO:tensorflow:Level 0 splits: 8\n",
            "INFO:tensorflow:\n",
            "Encoder Cells (bidirectional):\n",
            "  units: [1024]\n",
            "\n",
            "WARNING:tensorflow:`tf.nn.rnn_cell.MultiRNNCell` is deprecated. This class is equivalent as `tf.keras.layers.StackedRNNCells`, and will be replaced by that in Tensorflow 2.0.\n",
            "WARNING:tensorflow:`tf.nn.rnn_cell.MultiRNNCell` is deprecated. This class is equivalent as `tf.keras.layers.StackedRNNCells`, and will be replaced by that in Tensorflow 2.0.\n",
            "INFO:tensorflow:Level 1 splits: 1\n",
            "INFO:tensorflow:\n",
            "Encoder Cells (bidirectional):\n",
            "  units: [1024]\n",
            "\n",
            "WARNING:tensorflow:`tf.nn.rnn_cell.MultiRNNCell` is deprecated. This class is equivalent as `tf.keras.layers.StackedRNNCells`, and will be replaced by that in Tensorflow 2.0.\n",
            "WARNING:tensorflow:`tf.nn.rnn_cell.MultiRNNCell` is deprecated. This class is equivalent as `tf.keras.layers.StackedRNNCells`, and will be replaced by that in Tensorflow 2.0.\n",
            "INFO:tensorflow:\n",
            "Hierarchical Decoder:\n",
            "  input length: 512\n",
            "  level output lengths: [8, 64]\n",
            "\n",
            "WARNING:tensorflow:`tf.nn.rnn_cell.MultiRNNCell` is deprecated. This class is equivalent as `tf.keras.layers.StackedRNNCells`, and will be replaced by that in Tensorflow 2.0.\n",
            "INFO:tensorflow:\n",
            "Decoder Cells:\n",
            "  units: [512, 512, 512]\n",
            "\n",
            "WARNING:tensorflow:`tf.nn.rnn_cell.MultiRNNCell` is deprecated. This class is equivalent as `tf.keras.layers.StackedRNNCells`, and will be replaced by that in Tensorflow 2.0.\n"
          ]
        },
        {
          "name": "stderr",
          "output_type": "stream",
          "text": [
            "c:\\Users\\rikyd\\Documents\\GitHub\\CPAC_Group_7\\magenta-env\\lib\\site-packages\\magenta\\models\\music_vae\\lstm_utils.py:99: UserWarning: `tf.layers.dense` is deprecated and will be removed in a future version. Please use `tf.keras.layers.Dense` instead.\n",
            "  name=name),\n",
            "c:\\Users\\rikyd\\Documents\\GitHub\\CPAC_Group_7\\magenta-env\\lib\\site-packages\\magenta\\contrib\\rnn.py:750: UserWarning: `layer.add_variable` is deprecated and will be removed in a future version. Please use the `layer.add_weight()` method instead.\n",
            "  self._names[\"W\"], [input_size + self._num_units, self._num_units * 4])\n",
            "c:\\Users\\rikyd\\Documents\\GitHub\\CPAC_Group_7\\magenta-env\\lib\\site-packages\\magenta\\contrib\\rnn.py:753: UserWarning: `layer.add_variable` is deprecated and will be removed in a future version. Please use the `layer.add_weight()` method instead.\n",
            "  initializer=tf.constant_initializer(0.0))\n"
          ]
        },
        {
          "name": "stdout",
          "output_type": "stream",
          "text": [
            "WARNING:tensorflow:From c:\\Users\\rikyd\\Documents\\GitHub\\CPAC_Group_7\\magenta-env\\lib\\site-packages\\tensorflow\\python\\util\\dispatch.py:1082: to_float (from tensorflow.python.ops.math_ops) is deprecated and will be removed in a future version.\n",
            "Instructions for updating:\n",
            "Use `tf.cast` instead.\n",
            "WARNING:tensorflow:From c:\\Users\\rikyd\\Documents\\GitHub\\CPAC_Group_7\\magenta-env\\lib\\site-packages\\magenta\\contrib\\rnn.py:473: bidirectional_dynamic_rnn (from tensorflow.python.ops.rnn) is deprecated and will be removed in a future version.\n",
            "Instructions for updating:\n",
            "Please use `keras.layers.Bidirectional(keras.layers.RNN(cell))`, which is equivalent to this API\n",
            "WARNING:tensorflow:From c:\\Users\\rikyd\\Documents\\GitHub\\CPAC_Group_7\\magenta-env\\lib\\site-packages\\tensorflow\\python\\ops\\rnn.py:446: dynamic_rnn (from tensorflow.python.ops.rnn) is deprecated and will be removed in a future version.\n",
            "Instructions for updating:\n",
            "Please use `keras.layers.RNN(cell)`, which is equivalent to this API\n",
            "WARNING:tensorflow:From c:\\Users\\rikyd\\Documents\\GitHub\\CPAC_Group_7\\magenta-env\\lib\\site-packages\\tensorflow_probability\\python\\distributions\\distribution.py:342: calling MultivariateNormalDiag.__init__ (from tensorflow_probability.python.distributions.mvn_diag) with scale_identity_multiplier is deprecated and will be removed after 2020-01-01.\n",
            "Instructions for updating:\n",
            "`scale_identity_multiplier` is deprecated; please combine it into `scale_diag` directly instead.\n"
          ]
        },
        {
          "name": "stderr",
          "output_type": "stream",
          "text": [
            "c:\\Users\\rikyd\\Documents\\GitHub\\CPAC_Group_7\\magenta-env\\lib\\site-packages\\magenta\\models\\music_vae\\base_model.py:199: UserWarning: `tf.layers.dense` is deprecated and will be removed in a future version. Please use `tf.keras.layers.Dense` instead.\n",
            "  kernel_initializer=tf.random_normal_initializer(stddev=0.001))\n",
            "c:\\Users\\rikyd\\Documents\\GitHub\\CPAC_Group_7\\magenta-env\\lib\\site-packages\\magenta\\models\\music_vae\\base_model.py:205: UserWarning: `tf.layers.dense` is deprecated and will be removed in a future version. Please use `tf.keras.layers.Dense` instead.\n",
            "  kernel_initializer=tf.random_normal_initializer(stddev=0.001))\n"
          ]
        },
        {
          "name": "stdout",
          "output_type": "stream",
          "text": [
            "INFO:tensorflow:Restoring parameters from content/model_chords_fb64.ckpt\n"
          ]
        }
      ],
      "source": [
        "#@title Load Checkpoint\n",
        "\n",
        "config = configs.CONFIG_MAP['hier-multiperf_vel_1bar_med_chords']\n",
        "model = TrainedModel(\n",
        "    config, \n",
        "    batch_size=BATCH_SIZE,\n",
        "    checkpoint_dir_or_path='content/model_chords_fb64.ckpt')"
      ]
    },
    {
      "cell_type": "code",
      "execution_count": 30,
      "metadata": {
        "colab": {
          "base_uri": "https://localhost:8080/",
          "height": 500
        },
        "id": "_1ybYgKSgIt-",
        "outputId": "850c2659-0446-468f-fc4f-5186484e6150"
      },
      "outputs": [],
      "source": [
        "chord = 'C' #@param {type:\"string\"}\n",
        "temperature = 0.2 #@param {type:\"slider\", min:0.01, max:1.5, step:0.01}\n",
        "seqs = model.sample(n=BATCH_SIZE, length=TOTAL_STEPS, temperature=temperature,\n",
        "                    c_input=chord_encoding(chord), same_z=True)\n"
      ]
    },
    {
      "cell_type": "code",
      "execution_count": 16,
      "metadata": {},
      "outputs": [
        {
          "data": {
            "text/html": [
              "<div class=\"bk-root\">\n",
              "        <a href=\"https://bokeh.org\" target=\"_blank\" class=\"bk-logo bk-logo-small bk-logo-notebook\"></a>\n",
              "        <span id=\"2667\">Loading BokehJS ...</span>\n",
              "    </div>\n"
            ]
          },
          "metadata": {},
          "output_type": "display_data"
        },
        {
          "data": {
            "application/javascript": "(function(root) {\n  function now() {\n    return new Date();\n  }\n\n  const force = true;\n\n  if (typeof root._bokeh_onload_callbacks === \"undefined\" || force === true) {\n    root._bokeh_onload_callbacks = [];\n    root._bokeh_is_loading = undefined;\n  }\n\nconst JS_MIME_TYPE = 'application/javascript';\n  const HTML_MIME_TYPE = 'text/html';\n  const EXEC_MIME_TYPE = 'application/vnd.bokehjs_exec.v0+json';\n  const CLASS_NAME = 'output_bokeh rendered_html';\n\n  /**\n   * Render data to the DOM node\n   */\n  function render(props, node) {\n    const script = document.createElement(\"script\");\n    node.appendChild(script);\n  }\n\n  /**\n   * Handle when an output is cleared or removed\n   */\n  function handleClearOutput(event, handle) {\n    const cell = handle.cell;\n\n    const id = cell.output_area._bokeh_element_id;\n    const server_id = cell.output_area._bokeh_server_id;\n    // Clean up Bokeh references\n    if (id != null && id in Bokeh.index) {\n      Bokeh.index[id].model.document.clear();\n      delete Bokeh.index[id];\n    }\n\n    if (server_id !== undefined) {\n      // Clean up Bokeh references\n      const cmd_clean = \"from bokeh.io.state import curstate; print(curstate().uuid_to_server['\" + server_id + \"'].get_sessions()[0].document.roots[0]._id)\";\n      cell.notebook.kernel.execute(cmd_clean, {\n        iopub: {\n          output: function(msg) {\n            const id = msg.content.text.trim();\n            if (id in Bokeh.index) {\n              Bokeh.index[id].model.document.clear();\n              delete Bokeh.index[id];\n            }\n          }\n        }\n      });\n      // Destroy server and session\n      const cmd_destroy = \"import bokeh.io.notebook as ion; ion.destroy_server('\" + server_id + \"')\";\n      cell.notebook.kernel.execute(cmd_destroy);\n    }\n  }\n\n  /**\n   * Handle when a new output is added\n   */\n  function handleAddOutput(event, handle) {\n    const output_area = handle.output_area;\n    const output = handle.output;\n\n    // limit handleAddOutput to display_data with EXEC_MIME_TYPE content only\n    if ((output.output_type != \"display_data\") || (!Object.prototype.hasOwnProperty.call(output.data, EXEC_MIME_TYPE))) {\n      return\n    }\n\n    const toinsert = output_area.element.find(\".\" + CLASS_NAME.split(' ')[0]);\n\n    if (output.metadata[EXEC_MIME_TYPE][\"id\"] !== undefined) {\n      toinsert[toinsert.length - 1].firstChild.textContent = output.data[JS_MIME_TYPE];\n      // store reference to embed id on output_area\n      output_area._bokeh_element_id = output.metadata[EXEC_MIME_TYPE][\"id\"];\n    }\n    if (output.metadata[EXEC_MIME_TYPE][\"server_id\"] !== undefined) {\n      const bk_div = document.createElement(\"div\");\n      bk_div.innerHTML = output.data[HTML_MIME_TYPE];\n      const script_attrs = bk_div.children[0].attributes;\n      for (let i = 0; i < script_attrs.length; i++) {\n        toinsert[toinsert.length - 1].firstChild.setAttribute(script_attrs[i].name, script_attrs[i].value);\n        toinsert[toinsert.length - 1].firstChild.textContent = bk_div.children[0].textContent\n      }\n      // store reference to server id on output_area\n      output_area._bokeh_server_id = output.metadata[EXEC_MIME_TYPE][\"server_id\"];\n    }\n  }\n\n  function register_renderer(events, OutputArea) {\n\n    function append_mime(data, metadata, element) {\n      // create a DOM node to render to\n      const toinsert = this.create_output_subarea(\n        metadata,\n        CLASS_NAME,\n        EXEC_MIME_TYPE\n      );\n      this.keyboard_manager.register_events(toinsert);\n      // Render to node\n      const props = {data: data, metadata: metadata[EXEC_MIME_TYPE]};\n      render(props, toinsert[toinsert.length - 1]);\n      element.append(toinsert);\n      return toinsert\n    }\n\n    /* Handle when an output is cleared or removed */\n    events.on('clear_output.CodeCell', handleClearOutput);\n    events.on('delete.Cell', handleClearOutput);\n\n    /* Handle when a new output is added */\n    events.on('output_added.OutputArea', handleAddOutput);\n\n    /**\n     * Register the mime type and append_mime function with output_area\n     */\n    OutputArea.prototype.register_mime_type(EXEC_MIME_TYPE, append_mime, {\n      /* Is output safe? */\n      safe: true,\n      /* Index of renderer in `output_area.display_order` */\n      index: 0\n    });\n  }\n\n  // register the mime type if in Jupyter Notebook environment and previously unregistered\n  if (root.Jupyter !== undefined) {\n    const events = require('base/js/events');\n    const OutputArea = require('notebook/js/outputarea').OutputArea;\n\n    if (OutputArea.prototype.mime_types().indexOf(EXEC_MIME_TYPE) == -1) {\n      register_renderer(events, OutputArea);\n    }\n  }\n  if (typeof (root._bokeh_timeout) === \"undefined\" || force === true) {\n    root._bokeh_timeout = Date.now() + 5000;\n    root._bokeh_failed_load = false;\n  }\n\n  const NB_LOAD_WARNING = {'data': {'text/html':\n     \"<div style='background-color: #fdd'>\\n\"+\n     \"<p>\\n\"+\n     \"BokehJS does not appear to have successfully loaded. If loading BokehJS from CDN, this \\n\"+\n     \"may be due to a slow or bad network connection. Possible fixes:\\n\"+\n     \"</p>\\n\"+\n     \"<ul>\\n\"+\n     \"<li>re-rerun `output_notebook()` to attempt to load from CDN again, or</li>\\n\"+\n     \"<li>use INLINE resources instead, as so:</li>\\n\"+\n     \"</ul>\\n\"+\n     \"<code>\\n\"+\n     \"from bokeh.resources import INLINE\\n\"+\n     \"output_notebook(resources=INLINE)\\n\"+\n     \"</code>\\n\"+\n     \"</div>\"}};\n\n  function display_loaded() {\n    const el = document.getElementById(\"2667\");\n    if (el != null) {\n      el.textContent = \"BokehJS is loading...\";\n    }\n    if (root.Bokeh !== undefined) {\n      if (el != null) {\n        el.textContent = \"BokehJS \" + root.Bokeh.version + \" successfully loaded.\";\n      }\n    } else if (Date.now() < root._bokeh_timeout) {\n      setTimeout(display_loaded, 100)\n    }\n  }\n\n  function run_callbacks() {\n    try {\n      root._bokeh_onload_callbacks.forEach(function(callback) {\n        if (callback != null)\n          callback();\n      });\n    } finally {\n      delete root._bokeh_onload_callbacks\n    }\n    console.debug(\"Bokeh: all callbacks have finished\");\n  }\n\n  function load_libs(css_urls, js_urls, callback) {\n    if (css_urls == null) css_urls = [];\n    if (js_urls == null) js_urls = [];\n\n    root._bokeh_onload_callbacks.push(callback);\n    if (root._bokeh_is_loading > 0) {\n      console.debug(\"Bokeh: BokehJS is being loaded, scheduling callback at\", now());\n      return null;\n    }\n    if (js_urls == null || js_urls.length === 0) {\n      run_callbacks();\n      return null;\n    }\n    console.debug(\"Bokeh: BokehJS not loaded, scheduling load and callback at\", now());\n    root._bokeh_is_loading = css_urls.length + js_urls.length;\n\n    function on_load() {\n      root._bokeh_is_loading--;\n      if (root._bokeh_is_loading === 0) {\n        console.debug(\"Bokeh: all BokehJS libraries/stylesheets loaded\");\n        run_callbacks()\n      }\n    }\n\n    function on_error(url) {\n      console.error(\"failed to load \" + url);\n    }\n\n    for (let i = 0; i < css_urls.length; i++) {\n      const url = css_urls[i];\n      const element = document.createElement(\"link\");\n      element.onload = on_load;\n      element.onerror = on_error.bind(null, url);\n      element.rel = \"stylesheet\";\n      element.type = \"text/css\";\n      element.href = url;\n      console.debug(\"Bokeh: injecting link tag for BokehJS stylesheet: \", url);\n      document.body.appendChild(element);\n    }\n\n    for (let i = 0; i < js_urls.length; i++) {\n      const url = js_urls[i];\n      const element = document.createElement('script');\n      element.onload = on_load;\n      element.onerror = on_error.bind(null, url);\n      element.async = false;\n      element.src = url;\n      console.debug(\"Bokeh: injecting script tag for BokehJS library: \", url);\n      document.head.appendChild(element);\n    }\n  };\n\n  function inject_raw_css(css) {\n    const element = document.createElement(\"style\");\n    element.appendChild(document.createTextNode(css));\n    document.body.appendChild(element);\n  }\n\n  const js_urls = [\"https://cdn.bokeh.org/bokeh/release/bokeh-2.4.3.min.js\", \"https://cdn.bokeh.org/bokeh/release/bokeh-gl-2.4.3.min.js\", \"https://cdn.bokeh.org/bokeh/release/bokeh-widgets-2.4.3.min.js\", \"https://cdn.bokeh.org/bokeh/release/bokeh-tables-2.4.3.min.js\", \"https://cdn.bokeh.org/bokeh/release/bokeh-mathjax-2.4.3.min.js\"];\n  const css_urls = [];\n\n  const inline_js = [    function(Bokeh) {\n      Bokeh.set_log_level(\"info\");\n    },\nfunction(Bokeh) {\n    }\n  ];\n\n  function run_inline_js() {\n    if (root.Bokeh !== undefined || force === true) {\n          for (let i = 0; i < inline_js.length; i++) {\n      inline_js[i].call(root, root.Bokeh);\n    }\nif (force === true) {\n        display_loaded();\n      }} else if (Date.now() < root._bokeh_timeout) {\n      setTimeout(run_inline_js, 100);\n    } else if (!root._bokeh_failed_load) {\n      console.log(\"Bokeh: BokehJS failed to load within specified timeout.\");\n      root._bokeh_failed_load = true;\n    } else if (force !== true) {\n      const cell = $(document.getElementById(\"2667\")).parents('.cell').data().cell;\n      cell.output_area.append_execute_result(NB_LOAD_WARNING)\n    }\n  }\n\n  if (root._bokeh_is_loading === 0) {\n    console.debug(\"Bokeh: BokehJS loaded, going straight to plotting\");\n    run_inline_js();\n  } else {\n    load_libs(css_urls, js_urls, function() {\n      console.debug(\"Bokeh: BokehJS plotting callback run at\", now());\n      run_inline_js();\n    });\n  }\n}(window));",
            "application/vnd.bokehjs_load.v0+json": ""
          },
          "metadata": {},
          "output_type": "display_data"
        },
        {
          "data": {
            "text/html": [
              "\n",
              "  <div class=\"bk-root\" id=\"aed0caeb-fe70-457a-8c87-44734f3631be\" data-root-id=\"2582\"></div>\n"
            ]
          },
          "metadata": {},
          "output_type": "display_data"
        },
        {
          "data": {
            "application/javascript": "(function(root) {\n  function embed_document(root) {\n  const docs_json = {\"d2dc4223-d7e7-4792-ac50-697c3cb9508a\":{\"defs\":[],\"roots\":{\"references\":[{\"attributes\":{\"below\":[{\"id\":\"2591\"}],\"center\":[{\"id\":\"2594\"},{\"id\":\"2598\"}],\"height\":200,\"left\":[{\"id\":\"2595\"}],\"renderers\":[{\"id\":\"2619\"},{\"id\":\"2626\"},{\"id\":\"2633\"},{\"id\":\"2640\"},{\"id\":\"2647\"}],\"title\":{\"id\":\"2649\"},\"toolbar\":{\"id\":\"2605\"},\"width\":500,\"x_range\":{\"id\":\"2583\"},\"x_scale\":{\"id\":\"2587\"},\"y_range\":{\"id\":\"2585\"},\"y_scale\":{\"id\":\"2589\"}},\"id\":\"2582\",\"subtype\":\"Figure\",\"type\":\"Plot\"},{\"attributes\":{\"bottom\":{\"field\":\"bottom\"},\"fill_alpha\":{\"value\":0.2},\"fill_color\":{\"value\":\"#3288bd\"},\"hatch_alpha\":{\"value\":0.2},\"left\":{\"field\":\"start_time\"},\"line_alpha\":{\"value\":0.2},\"right\":{\"field\":\"end_time\"},\"top\":{\"field\":\"top\"}},\"id\":\"2625\",\"type\":\"Quad\"},{\"attributes\":{\"data\":{\"bottom\":{\"__ndarray__\":\"ZmZmZmbmUkBmZmZmZuZSQGZmZmZm5lJAZmZmZmbmUkBmZmZmZuZSQGZmZmZm5lJA\",\"dtype\":\"float64\",\"order\":\"little\",\"shape\":[6]},\"duration\":{\"__ndarray__\":\"AAAAAAAAyD8AAAAAAADIPwAAAAAAAMg/AAAAAAAAyD9YVVVVVVXFP2BVVVVVVbU/\",\"dtype\":\"float64\",\"order\":\"little\",\"shape\":[6]},\"end_time\":{\"__ndarray__\":\"VVVVVVVV2T+qqqqqqqrmP1VVVVVVVfA/VVVVVVVV9T8AAAAAAAD6PwAAAAAAAABA\",\"dtype\":\"float64\",\"order\":\"little\",\"shape\":[6]},\"fill_alpha\":{\"__ndarray__\":\"AAAAAABA4D8AAAAAAIDYPwAAAAAAQOA/AAAAAACA2D8AAAAAAEDgPwAAAAAAgNg/\",\"dtype\":\"float64\",\"order\":\"little\",\"shape\":[6]},\"index\":[4,11,17,21,29,39],\"instrument\":[3,3,3,3,3,3],\"pitch\":[76,76,76,76,76,76],\"program\":[11,11,11,11,11,11],\"start_time\":{\"__ndarray__\":\"qqqqqqqqyj+qqqqqqqrgP6qqqqqqquo/VVVVVVVV8j9VVVVVVVX3P6qqqqqqqv4/\",\"dtype\":\"float64\",\"order\":\"little\",\"shape\":[6]},\"top\":{\"__ndarray__\":\"mpmZmZkZU0CamZmZmRlTQJqZmZmZGVNAmpmZmZkZU0CamZmZmRlTQJqZmZmZGVNA\",\"dtype\":\"float64\",\"order\":\"little\",\"shape\":[6]},\"velocity\":[65,49,65,49,65,49]},\"selected\":{\"id\":\"2661\"},\"selection_policy\":{\"id\":\"2660\"}},\"id\":\"2628\",\"type\":\"ColumnDataSource\"},{\"attributes\":{\"tools\":[{\"id\":\"2599\"},{\"id\":\"2600\"},{\"id\":\"2601\"},{\"id\":\"2602\"},{\"id\":\"2603\"}]},\"id\":\"2605\",\"type\":\"Toolbar\"},{\"attributes\":{\"axis_label\":\"pitch (MIDI)\",\"coordinates\":null,\"formatter\":{\"id\":\"2651\"},\"group\":null,\"major_label_policy\":{\"id\":\"2652\"},\"ticker\":{\"id\":\"2611\"}},\"id\":\"2595\",\"type\":\"LinearAxis\"},{\"attributes\":{\"bottom\":{\"field\":\"bottom\"},\"fill_alpha\":{\"value\":0.1},\"fill_color\":{\"value\":\"#3288bd\"},\"hatch_alpha\":{\"value\":0.1},\"left\":{\"field\":\"start_time\"},\"line_alpha\":{\"value\":0.1},\"right\":{\"field\":\"end_time\"},\"top\":{\"field\":\"top\"}},\"id\":\"2624\",\"type\":\"Quad\"},{\"attributes\":{\"axis\":{\"id\":\"2591\"},\"coordinates\":null,\"group\":null,\"ticker\":null},\"id\":\"2594\",\"type\":\"Grid\"},{\"attributes\":{\"axis\":{\"id\":\"2595\"},\"coordinates\":null,\"dimension\":1,\"group\":null,\"ticker\":{\"id\":\"2613\"}},\"id\":\"2598\",\"type\":\"Grid\"},{\"attributes\":{\"bottom\":{\"field\":\"bottom\"},\"fill_alpha\":{\"value\":0.1},\"fill_color\":{\"value\":\"#d53e4f\"},\"hatch_alpha\":{\"value\":0.1},\"left\":{\"field\":\"start_time\"},\"line_alpha\":{\"value\":0.1},\"right\":{\"field\":\"end_time\"},\"top\":{\"field\":\"top\"}},\"id\":\"2617\",\"type\":\"Quad\"},{\"attributes\":{\"data\":{\"bottom\":{\"__ndarray__\":\"zczMzMxMQUDNzMzMzMxCQM3MzMzMTEFAzczMzMzMQkDNzMzMzExBQM3MzMzMzEJAzczMzMzMQkDNzMzMzMxFQA==\",\"dtype\":\"float64\",\"order\":\"little\",\"shape\":[8]},\"duration\":{\"__ndarray__\":\"WFVVVVVVlT9YVVVVVVWVP2BVVVVVVZU/YFVVVVVVlT+AVVVVVVWVP4BVVVVVVZU/gFVVVVVVlT+AVVVVVVWVPw==\",\"dtype\":\"float64\",\"order\":\"little\",\"shape\":[8]},\"end_time\":{\"__ndarray__\":\"AAAAAAAAyD8AAAAAAADIPwAAAAAAAOY/AAAAAAAA5j8AAAAAAADzPwAAAAAAAPM/AAAAAAAA+z8AAAAAAAD7Pw==\",\"dtype\":\"float64\",\"order\":\"little\",\"shape\":[8]},\"fill_alpha\":{\"__ndarray__\":\"AAAAAACA0D8AAAAAAIDYPwAAAAAAQOA/AAAAAACA2D8AAAAAAIDQPwAAAAAAgNg/AAAAAACA0D8AAAAAAIDYPw==\",\"dtype\":\"float64\",\"order\":\"little\",\"shape\":[8]},\"index\":[2,3,13,14,22,23,33,34],\"instrument\":[9,9,9,9,9,9,9,9],\"pitch\":[35,38,35,38,35,38,38,44],\"program\":[0,0,0,0,0,0,0,0],\"start_time\":{\"__ndarray__\":\"VVVVVVVVxT9VVVVVVVXFP1VVVVVVVeU/VVVVVVVV5T+qqqqqqqryP6qqqqqqqvI/qqqqqqqq+j+qqqqqqqr6Pw==\",\"dtype\":\"float64\",\"order\":\"little\",\"shape\":[8]},\"top\":{\"__ndarray__\":\"MzMzMzOzQUAzMzMzMzNDQDMzMzMzs0FAMzMzMzMzQ0AzMzMzM7NBQDMzMzMzM0NAMzMzMzMzQ0AzMzMzMzNGQA==\",\"dtype\":\"float64\",\"order\":\"little\",\"shape\":[8]},\"velocity\":[33,49,65,49,33,49,33,49]},\"selected\":{\"id\":\"2665\"},\"selection_policy\":{\"id\":\"2664\"}},\"id\":\"2642\",\"type\":\"ColumnDataSource\"},{\"attributes\":{},\"id\":\"2585\",\"type\":\"DataRange1d\"},{\"attributes\":{\"bottom\":{\"field\":\"bottom\"},\"fill_alpha\":{\"field\":\"fill_alpha\"},\"fill_color\":{\"value\":\"#fdae61\"},\"left\":{\"field\":\"start_time\"},\"right\":{\"field\":\"end_time\"},\"top\":{\"field\":\"top\"}},\"id\":\"2644\",\"type\":\"Quad\"},{\"attributes\":{},\"id\":\"2661\",\"type\":\"Selection\"},{\"attributes\":{},\"id\":\"2662\",\"type\":\"UnionRenderers\"},{\"attributes\":{},\"id\":\"2589\",\"type\":\"LinearScale\"},{\"attributes\":{},\"id\":\"2664\",\"type\":\"UnionRenderers\"},{\"attributes\":{},\"id\":\"2583\",\"type\":\"DataRange1d\"},{\"attributes\":{\"bottom\":{\"field\":\"bottom\"},\"fill_alpha\":{\"field\":\"fill_alpha\"},\"fill_color\":{\"value\":\"#f46d43\"},\"left\":{\"field\":\"start_time\"},\"right\":{\"field\":\"end_time\"},\"top\":{\"field\":\"top\"}},\"id\":\"2630\",\"type\":\"Quad\"},{\"attributes\":{},\"id\":\"2665\",\"type\":\"Selection\"},{\"attributes\":{},\"id\":\"2600\",\"type\":\"PanTool\"},{\"attributes\":{},\"id\":\"2658\",\"type\":\"UnionRenderers\"},{\"attributes\":{\"callback\":null,\"tooltips\":[[\"pitch\",\"@pitch\"],[\"program\",\"@program\"],[\"velo\",\"@velocity\"],[\"duration\",\"@duration\"],[\"start_time\",\"@start_time\"],[\"end_time\",\"@end_time\"],[\"velocity\",\"@velocity\"],[\"fill_alpha\",\"@fill_alpha\"]]},\"id\":\"2599\",\"type\":\"HoverTool\"},{\"attributes\":{},\"id\":\"2657\",\"type\":\"Selection\"},{\"attributes\":{},\"id\":\"2660\",\"type\":\"UnionRenderers\"},{\"attributes\":{\"data\":{\"bottom\":{\"__ndarray__\":\"zczMzMzMT0DNzMzMzMxJQM3MzMzMTEtAzczMzMzMTUDNzMzMzMxPQM3MzMzMzE9AzczMzMzMT0DNzMzMzMxPQM3MzMzMzElAzczMzMxMS0DNzMzMzMxNQM3MzMzMzE9AzczMzMzMSUDNzMzMzExLQM3MzMzMzE1A\",\"dtype\":\"float64\",\"order\":\"little\",\"shape\":[15]},\"duration\":{\"__ndarray__\":\"VlVVVVVVxT8AAAAAAADAPwAAAAAAAMA/AAAAAAAAwD9WVVVVVVXFP1hVVVVVVcU/WFVVVVVVxT9YVVVVVVXFPwAAAAAAAMA/AAAAAAAAwD8AAAAAAADAP1hVVVVVVcU/AAAAAAAAwD8AAAAAAADAPwAAAAAAAMA/\",\"dtype\":\"float64\",\"order\":\"little\",\"shape\":[15]},\"end_time\":{\"__ndarray__\":\"AAAAAAAA2D8AAAAAAADgPwAAAAAAAOA/AAAAAAAA4D8AAAAAAADkPwAAAAAAAOw/AAAAAAAA8j8AAAAAAAD2PwAAAAAAAPg/AAAAAAAA+D8AAAAAAAD4PwAAAAAAAPo/AAAAAAAAAEAAAAAAAAAAQAAAAAAAAABA\",\"dtype\":\"float64\",\"order\":\"little\",\"shape\":[15]},\"fill_alpha\":{\"__ndarray__\":\"AAAAAABA4D8AAAAAAIDYPwAAAAAAgNg/AAAAAACA2D8AAAAAAIDYPwAAAAAAQOA/AAAAAACA2D8AAAAAAEDgPwAAAAAAgNg/AAAAAACA2D8AAAAAAIDYPwAAAAAAgNg/AAAAAACA2D8AAAAAAIDYPwAAAAAAgNg/\",\"dtype\":\"float64\",\"order\":\"little\",\"shape\":[15]},\"index\":[5,6,7,8,9,16,18,25,26,27,28,30,36,37,38],\"instrument\":[4,4,4,4,4,4,4,4,4,4,4,4,4,4,4],\"pitch\":[64,52,55,60,64,64,64,64,52,55,60,64,52,55,60],\"program\":[24,24,24,24,24,24,24,24,24,24,24,24,24,24,24],\"start_time\":{\"__ndarray__\":\"qqqqqqqqyj8AAAAAAADYPwAAAAAAANg/AAAAAAAA2D9VVVVVVVXdP6qqqqqqquY/qqqqqqqq7j9VVVVVVVXzPwAAAAAAAPY/AAAAAAAA9j8AAAAAAAD2P1VVVVVVVfc/AAAAAAAA/j8AAAAAAAD+PwAAAAAAAP4/\",\"dtype\":\"float64\",\"order\":\"little\",\"shape\":[15]},\"top\":{\"__ndarray__\":\"mpmZmZkZUEAzMzMzMzNKQDMzMzMzs0tAMzMzMzMzTkCamZmZmRlQQJqZmZmZGVBAmpmZmZkZUECamZmZmRlQQDMzMzMzM0pAMzMzMzOzS0AzMzMzMzNOQJqZmZmZGVBAMzMzMzMzSkAzMzMzM7NLQDMzMzMzM05A\",\"dtype\":\"float64\",\"order\":\"little\",\"shape\":[15]},\"velocity\":[65,49,49,49,49,65,49,65,49,49,49,49,49,49,49]},\"selected\":{\"id\":\"2663\"},\"selection_policy\":{\"id\":\"2662\"}},\"id\":\"2635\",\"type\":\"ColumnDataSource\"},{\"attributes\":{\"bottom\":{\"field\":\"bottom\"},\"fill_alpha\":{\"value\":0.2},\"fill_color\":{\"value\":\"#fdae61\"},\"hatch_alpha\":{\"value\":0.2},\"left\":{\"field\":\"start_time\"},\"line_alpha\":{\"value\":0.2},\"right\":{\"field\":\"end_time\"},\"top\":{\"field\":\"top\"}},\"id\":\"2646\",\"type\":\"Quad\"},{\"attributes\":{},\"id\":\"2652\",\"type\":\"AllLabels\"},{\"attributes\":{\"coordinates\":null,\"data_source\":{\"id\":\"2614\"},\"glyph\":{\"id\":\"2616\"},\"group\":null,\"hover_glyph\":null,\"muted_glyph\":{\"id\":\"2618\"},\"nonselection_glyph\":{\"id\":\"2617\"},\"view\":{\"id\":\"2620\"}},\"id\":\"2619\",\"type\":\"GlyphRenderer\"},{\"attributes\":{\"data\":{\"bottom\":{\"__ndarray__\":\"ZmZmZmbmUUBmZmZmZuZRQGZmZmZm5lFAZmZmZmbmUUBmZmZmZuZRQGZmZmZm5lFAZmZmZmbmUUA=\",\"dtype\":\"float64\",\"order\":\"little\",\"shape\":[7]},\"duration\":{\"__ndarray__\":\"VVVVVVVVzT9UVVVVVVXFP1RVVVVVVc0//P//////xz9YVVVVVVXNP1BVVVVVVcU/AAAAAAAA0D8=\",\"dtype\":\"float64\",\"order\":\"little\",\"shape\":[7]},\"end_time\":{\"__ndarray__\":\"VVVVVVVV2T+qqqqqqqrkP1VVVVVVVe0/qqqqqqqq8j8AAAAAAAD3P6qqqqqqqvo/VVVVVVVV/z8=\",\"dtype\":\"float64\",\"order\":\"little\",\"shape\":[7]},\"fill_alpha\":{\"__ndarray__\":\"AAAAAABA6D8AAAAAAEDkPwAAAAAAQOg/AAAAAABA5D8AAAAAAEDoPwAAAAAAQOQ/AAAAAABA6D8=\",\"dtype\":\"float64\",\"order\":\"little\",\"shape\":[7]},\"index\":[1,10,15,19,24,31,35],\"instrument\":[2,2,2,2,2,2,2],\"pitch\":[72,72,72,72,72,72,72],\"program\":[4,4,4,4,4,4,4],\"start_time\":{\"__ndarray__\":\"VVVVVVVVxT+qqqqqqqrePwAAAAAAAOY/VVVVVVVV7z9VVVVVVVXzPwAAAAAAAPg/VVVVVVVV+z8=\",\"dtype\":\"float64\",\"order\":\"little\",\"shape\":[7]},\"top\":{\"__ndarray__\":\"mpmZmZkZUkCamZmZmRlSQJqZmZmZGVJAmpmZmZkZUkCamZmZmRlSQJqZmZmZGVJAmpmZmZkZUkA=\",\"dtype\":\"float64\",\"order\":\"little\",\"shape\":[7]},\"velocity\":[97,81,97,81,97,81,97]},\"selected\":{\"id\":\"2659\"},\"selection_policy\":{\"id\":\"2658\"}},\"id\":\"2621\",\"type\":\"ColumnDataSource\"},{\"attributes\":{\"bottom\":{\"field\":\"bottom\"},\"fill_alpha\":{\"field\":\"fill_alpha\"},\"fill_color\":{\"value\":\"#66c2a5\"},\"left\":{\"field\":\"start_time\"},\"right\":{\"field\":\"end_time\"},\"top\":{\"field\":\"top\"}},\"id\":\"2637\",\"type\":\"Quad\"},{\"attributes\":{\"coordinates\":null,\"data_source\":{\"id\":\"2642\"},\"glyph\":{\"id\":\"2644\"},\"group\":null,\"hover_glyph\":null,\"muted_glyph\":{\"id\":\"2646\"},\"nonselection_glyph\":{\"id\":\"2645\"},\"view\":{\"id\":\"2648\"}},\"id\":\"2647\",\"type\":\"GlyphRenderer\"},{\"attributes\":{\"bottom\":{\"field\":\"bottom\"},\"fill_alpha\":{\"value\":0.1},\"fill_color\":{\"value\":\"#66c2a5\"},\"hatch_alpha\":{\"value\":0.1},\"left\":{\"field\":\"start_time\"},\"line_alpha\":{\"value\":0.1},\"right\":{\"field\":\"end_time\"},\"top\":{\"field\":\"top\"}},\"id\":\"2638\",\"type\":\"Quad\"},{\"attributes\":{},\"id\":\"2651\",\"type\":\"BasicTickFormatter\"},{\"attributes\":{},\"id\":\"2592\",\"type\":\"BasicTicker\"},{\"attributes\":{\"coordinates\":null,\"group\":null},\"id\":\"2649\",\"type\":\"Title\"},{\"attributes\":{\"bottom\":{\"field\":\"bottom\"},\"fill_alpha\":{\"value\":0.1},\"fill_color\":{\"value\":\"#fdae61\"},\"hatch_alpha\":{\"value\":0.1},\"left\":{\"field\":\"start_time\"},\"line_alpha\":{\"value\":0.1},\"right\":{\"field\":\"end_time\"},\"top\":{\"field\":\"top\"}},\"id\":\"2645\",\"type\":\"Quad\"},{\"attributes\":{},\"id\":\"2603\",\"type\":\"SaveTool\"},{\"attributes\":{\"interval\":12},\"id\":\"2613\",\"type\":\"SingleIntervalTicker\"},{\"attributes\":{},\"id\":\"2587\",\"type\":\"LinearScale\"},{\"attributes\":{\"data\":{\"bottom\":{\"__ndarray__\":\"zczMzMzMR0DNzMzMzExFQM3MzMzMzEdAzczMzMxMRUA=\",\"dtype\":\"float64\",\"order\":\"little\",\"shape\":[4]},\"duration\":{\"__ndarray__\":\"AAAAAAAA4D8AAAAAAADgPwAAAAAAAOA/AAAAAAAA2D8=\",\"dtype\":\"float64\",\"order\":\"little\",\"shape\":[4]},\"end_time\":{\"__ndarray__\":\"AAAAAAAA5D8AAAAAAADyPwAAAAAAAPo/AAAAAAAAAEA=\",\"dtype\":\"float64\",\"order\":\"little\",\"shape\":[4]},\"fill_alpha\":{\"__ndarray__\":\"AAAAAABA4D8AAAAAAEDgPwAAAAAAQOA/AAAAAABA4D8=\",\"dtype\":\"float64\",\"order\":\"little\",\"shape\":[4]},\"index\":[0,12,20,32],\"instrument\":[1,1,1,1],\"pitch\":[48,43,48,43],\"program\":[32,32,32,32],\"start_time\":{\"__ndarray__\":\"AAAAAAAAwD8AAAAAAADkPwAAAAAAAPI/AAAAAAAA+j8=\",\"dtype\":\"float64\",\"order\":\"little\",\"shape\":[4]},\"top\":{\"__ndarray__\":\"MzMzMzMzSEAzMzMzM7NFQDMzMzMzM0hAMzMzMzOzRUA=\",\"dtype\":\"float64\",\"order\":\"little\",\"shape\":[4]},\"velocity\":[65,65,65,65]},\"selected\":{\"id\":\"2657\"},\"selection_policy\":{\"id\":\"2656\"}},\"id\":\"2614\",\"type\":\"ColumnDataSource\"},{\"attributes\":{\"source\":{\"id\":\"2635\"}},\"id\":\"2641\",\"type\":\"CDSView\"},{\"attributes\":{\"bottom\":{\"field\":\"bottom\"},\"fill_alpha\":{\"value\":0.1},\"fill_color\":{\"value\":\"#f46d43\"},\"hatch_alpha\":{\"value\":0.1},\"left\":{\"field\":\"start_time\"},\"line_alpha\":{\"value\":0.1},\"right\":{\"field\":\"end_time\"},\"top\":{\"field\":\"top\"}},\"id\":\"2631\",\"type\":\"Quad\"},{\"attributes\":{\"bottom_units\":\"screen\",\"coordinates\":null,\"fill_alpha\":0.5,\"fill_color\":\"lightgrey\",\"group\":null,\"left_units\":\"screen\",\"level\":\"overlay\",\"line_alpha\":1.0,\"line_color\":\"black\",\"line_dash\":[4,4],\"line_width\":2,\"right_units\":\"screen\",\"syncable\":false,\"top_units\":\"screen\"},\"id\":\"2604\",\"type\":\"BoxAnnotation\"},{\"attributes\":{\"axis_label\":\"time (sec)\",\"coordinates\":null,\"formatter\":{\"id\":\"2654\"},\"group\":null,\"major_label_policy\":{\"id\":\"2655\"},\"ticker\":{\"id\":\"2592\"}},\"id\":\"2591\",\"type\":\"LinearAxis\"},{\"attributes\":{\"source\":{\"id\":\"2628\"}},\"id\":\"2634\",\"type\":\"CDSView\"},{\"attributes\":{\"bottom\":{\"field\":\"bottom\"},\"fill_alpha\":{\"value\":0.2},\"fill_color\":{\"value\":\"#66c2a5\"},\"hatch_alpha\":{\"value\":0.2},\"left\":{\"field\":\"start_time\"},\"line_alpha\":{\"value\":0.2},\"right\":{\"field\":\"end_time\"},\"top\":{\"field\":\"top\"}},\"id\":\"2639\",\"type\":\"Quad\"},{\"attributes\":{},\"id\":\"2656\",\"type\":\"UnionRenderers\"},{\"attributes\":{\"coordinates\":null,\"data_source\":{\"id\":\"2621\"},\"glyph\":{\"id\":\"2623\"},\"group\":null,\"hover_glyph\":null,\"muted_glyph\":{\"id\":\"2625\"},\"nonselection_glyph\":{\"id\":\"2624\"},\"view\":{\"id\":\"2627\"}},\"id\":\"2626\",\"type\":\"GlyphRenderer\"},{\"attributes\":{},\"id\":\"2654\",\"type\":\"BasicTickFormatter\"},{\"attributes\":{},\"id\":\"2602\",\"type\":\"ResetTool\"},{\"attributes\":{\"source\":{\"id\":\"2614\"}},\"id\":\"2620\",\"type\":\"CDSView\"},{\"attributes\":{\"bottom\":{\"field\":\"bottom\"},\"fill_alpha\":{\"value\":0.2},\"fill_color\":{\"value\":\"#f46d43\"},\"hatch_alpha\":{\"value\":0.2},\"left\":{\"field\":\"start_time\"},\"line_alpha\":{\"value\":0.2},\"right\":{\"field\":\"end_time\"},\"top\":{\"field\":\"top\"}},\"id\":\"2632\",\"type\":\"Quad\"},{\"attributes\":{\"source\":{\"id\":\"2642\"}},\"id\":\"2648\",\"type\":\"CDSView\"},{\"attributes\":{\"interval\":12},\"id\":\"2611\",\"type\":\"SingleIntervalTicker\"},{\"attributes\":{\"coordinates\":null,\"data_source\":{\"id\":\"2628\"},\"glyph\":{\"id\":\"2630\"},\"group\":null,\"hover_glyph\":null,\"muted_glyph\":{\"id\":\"2632\"},\"nonselection_glyph\":{\"id\":\"2631\"},\"view\":{\"id\":\"2634\"}},\"id\":\"2633\",\"type\":\"GlyphRenderer\"},{\"attributes\":{\"bottom\":{\"field\":\"bottom\"},\"fill_alpha\":{\"value\":0.2},\"fill_color\":{\"value\":\"#d53e4f\"},\"hatch_alpha\":{\"value\":0.2},\"left\":{\"field\":\"start_time\"},\"line_alpha\":{\"value\":0.2},\"right\":{\"field\":\"end_time\"},\"top\":{\"field\":\"top\"}},\"id\":\"2618\",\"type\":\"Quad\"},{\"attributes\":{},\"id\":\"2663\",\"type\":\"Selection\"},{\"attributes\":{\"coordinates\":null,\"data_source\":{\"id\":\"2635\"},\"glyph\":{\"id\":\"2637\"},\"group\":null,\"hover_glyph\":null,\"muted_glyph\":{\"id\":\"2639\"},\"nonselection_glyph\":{\"id\":\"2638\"},\"view\":{\"id\":\"2641\"}},\"id\":\"2640\",\"type\":\"GlyphRenderer\"},{\"attributes\":{\"bottom\":{\"field\":\"bottom\"},\"fill_alpha\":{\"field\":\"fill_alpha\"},\"fill_color\":{\"value\":\"#d53e4f\"},\"left\":{\"field\":\"start_time\"},\"right\":{\"field\":\"end_time\"},\"top\":{\"field\":\"top\"}},\"id\":\"2616\",\"type\":\"Quad\"},{\"attributes\":{},\"id\":\"2655\",\"type\":\"AllLabels\"},{\"attributes\":{},\"id\":\"2659\",\"type\":\"Selection\"},{\"attributes\":{\"overlay\":{\"id\":\"2604\"}},\"id\":\"2601\",\"type\":\"BoxZoomTool\"},{\"attributes\":{\"bottom\":{\"field\":\"bottom\"},\"fill_alpha\":{\"field\":\"fill_alpha\"},\"fill_color\":{\"value\":\"#3288bd\"},\"left\":{\"field\":\"start_time\"},\"right\":{\"field\":\"end_time\"},\"top\":{\"field\":\"top\"}},\"id\":\"2623\",\"type\":\"Quad\"},{\"attributes\":{\"source\":{\"id\":\"2621\"}},\"id\":\"2627\",\"type\":\"CDSView\"}],\"root_ids\":[\"2582\"]},\"title\":\"Bokeh Application\",\"version\":\"2.4.3\"}};\n  const render_items = [{\"docid\":\"d2dc4223-d7e7-4792-ac50-697c3cb9508a\",\"root_ids\":[\"2582\"],\"roots\":{\"2582\":\"aed0caeb-fe70-457a-8c87-44734f3631be\"}}];\n  root.Bokeh.embed.embed_items_notebook(docs_json, render_items);\n  }\n  if (root.Bokeh !== undefined) {\n    embed_document(root);\n  } else {\n    let attempts = 0;\n    const timer = setInterval(function(root) {\n      if (root.Bokeh !== undefined) {\n        clearInterval(timer);\n        embed_document(root);\n      } else {\n        attempts++;\n        if (attempts > 100) {\n          clearInterval(timer);\n          console.log(\"Bokeh: ERROR: Unable to run BokehJS code because BokehJS library is missing\");\n        }\n      }\n    }, 10, root)\n  }\n})(window);",
            "application/vnd.bokehjs_exec.v0+json": ""
          },
          "metadata": {
            "application/vnd.bokehjs_exec.v0+json": {
              "id": "2582"
            }
          },
          "output_type": "display_data"
        }
      ],
      "source": [
        "trim_sequences(seqs)\n",
        "fix_instruments_for_concatenation(seqs)\n",
        "prog_ns = concatenate_sequences(seqs)\n",
        "\n",
        "#play(prog_ns)\n",
        "mm.plot_sequence(prog_ns)"
      ]
    },
    {
      "cell_type": "code",
      "execution_count": 84,
      "metadata": {
        "colab": {
          "base_uri": "https://localhost:8080/",
          "height": 518
        },
        "id": "qSmhyk6PgQbI",
        "outputId": "61dab5a4-76d4-4ac6-b83d-b020f76824a3"
      },
      "outputs": [],
      "source": [
        "#@title Same Style, Chord Progression\n",
        "double_seq = []\n",
        "chord_1 = 'C' #@param {type:\"string\"}\n",
        "#chord_2 = 'Caug' #@param {type:\"string\"}\n",
        "#chord_3 = 'Am' #@param {type:\"string\"}\n",
        "#chord_4 = 'E' #@param {type:\"string\"}\n",
        "chords = [chord_1]\n",
        "\n",
        "temperature = 0.2 #@param {type:\"slider\", min:0.01, max:1.5, step:0.01}\n",
        "z = np.random.normal(size=[1, Z_SIZE])\n",
        "seqs = [\n",
        "    model.decode(length=TOTAL_STEPS, z=z, temperature=temperature,\n",
        "                 c_input=chord_encoding(c))[0]\n",
        "    for c in chords\n",
        "]\n"
      ]
    },
    {
      "cell_type": "code",
      "execution_count": 85,
      "metadata": {},
      "outputs": [
        {
          "data": {
            "text/html": [
              "<div class=\"bk-root\">\n",
              "        <a href=\"https://bokeh.org\" target=\"_blank\" class=\"bk-logo bk-logo-small bk-logo-notebook\"></a>\n",
              "        <span id=\"8791\">Loading BokehJS ...</span>\n",
              "    </div>\n"
            ]
          },
          "metadata": {},
          "output_type": "display_data"
        },
        {
          "data": {
            "application/javascript": "(function(root) {\n  function now() {\n    return new Date();\n  }\n\n  const force = true;\n\n  if (typeof root._bokeh_onload_callbacks === \"undefined\" || force === true) {\n    root._bokeh_onload_callbacks = [];\n    root._bokeh_is_loading = undefined;\n  }\n\nconst JS_MIME_TYPE = 'application/javascript';\n  const HTML_MIME_TYPE = 'text/html';\n  const EXEC_MIME_TYPE = 'application/vnd.bokehjs_exec.v0+json';\n  const CLASS_NAME = 'output_bokeh rendered_html';\n\n  /**\n   * Render data to the DOM node\n   */\n  function render(props, node) {\n    const script = document.createElement(\"script\");\n    node.appendChild(script);\n  }\n\n  /**\n   * Handle when an output is cleared or removed\n   */\n  function handleClearOutput(event, handle) {\n    const cell = handle.cell;\n\n    const id = cell.output_area._bokeh_element_id;\n    const server_id = cell.output_area._bokeh_server_id;\n    // Clean up Bokeh references\n    if (id != null && id in Bokeh.index) {\n      Bokeh.index[id].model.document.clear();\n      delete Bokeh.index[id];\n    }\n\n    if (server_id !== undefined) {\n      // Clean up Bokeh references\n      const cmd_clean = \"from bokeh.io.state import curstate; print(curstate().uuid_to_server['\" + server_id + \"'].get_sessions()[0].document.roots[0]._id)\";\n      cell.notebook.kernel.execute(cmd_clean, {\n        iopub: {\n          output: function(msg) {\n            const id = msg.content.text.trim();\n            if (id in Bokeh.index) {\n              Bokeh.index[id].model.document.clear();\n              delete Bokeh.index[id];\n            }\n          }\n        }\n      });\n      // Destroy server and session\n      const cmd_destroy = \"import bokeh.io.notebook as ion; ion.destroy_server('\" + server_id + \"')\";\n      cell.notebook.kernel.execute(cmd_destroy);\n    }\n  }\n\n  /**\n   * Handle when a new output is added\n   */\n  function handleAddOutput(event, handle) {\n    const output_area = handle.output_area;\n    const output = handle.output;\n\n    // limit handleAddOutput to display_data with EXEC_MIME_TYPE content only\n    if ((output.output_type != \"display_data\") || (!Object.prototype.hasOwnProperty.call(output.data, EXEC_MIME_TYPE))) {\n      return\n    }\n\n    const toinsert = output_area.element.find(\".\" + CLASS_NAME.split(' ')[0]);\n\n    if (output.metadata[EXEC_MIME_TYPE][\"id\"] !== undefined) {\n      toinsert[toinsert.length - 1].firstChild.textContent = output.data[JS_MIME_TYPE];\n      // store reference to embed id on output_area\n      output_area._bokeh_element_id = output.metadata[EXEC_MIME_TYPE][\"id\"];\n    }\n    if (output.metadata[EXEC_MIME_TYPE][\"server_id\"] !== undefined) {\n      const bk_div = document.createElement(\"div\");\n      bk_div.innerHTML = output.data[HTML_MIME_TYPE];\n      const script_attrs = bk_div.children[0].attributes;\n      for (let i = 0; i < script_attrs.length; i++) {\n        toinsert[toinsert.length - 1].firstChild.setAttribute(script_attrs[i].name, script_attrs[i].value);\n        toinsert[toinsert.length - 1].firstChild.textContent = bk_div.children[0].textContent\n      }\n      // store reference to server id on output_area\n      output_area._bokeh_server_id = output.metadata[EXEC_MIME_TYPE][\"server_id\"];\n    }\n  }\n\n  function register_renderer(events, OutputArea) {\n\n    function append_mime(data, metadata, element) {\n      // create a DOM node to render to\n      const toinsert = this.create_output_subarea(\n        metadata,\n        CLASS_NAME,\n        EXEC_MIME_TYPE\n      );\n      this.keyboard_manager.register_events(toinsert);\n      // Render to node\n      const props = {data: data, metadata: metadata[EXEC_MIME_TYPE]};\n      render(props, toinsert[toinsert.length - 1]);\n      element.append(toinsert);\n      return toinsert\n    }\n\n    /* Handle when an output is cleared or removed */\n    events.on('clear_output.CodeCell', handleClearOutput);\n    events.on('delete.Cell', handleClearOutput);\n\n    /* Handle when a new output is added */\n    events.on('output_added.OutputArea', handleAddOutput);\n\n    /**\n     * Register the mime type and append_mime function with output_area\n     */\n    OutputArea.prototype.register_mime_type(EXEC_MIME_TYPE, append_mime, {\n      /* Is output safe? */\n      safe: true,\n      /* Index of renderer in `output_area.display_order` */\n      index: 0\n    });\n  }\n\n  // register the mime type if in Jupyter Notebook environment and previously unregistered\n  if (root.Jupyter !== undefined) {\n    const events = require('base/js/events');\n    const OutputArea = require('notebook/js/outputarea').OutputArea;\n\n    if (OutputArea.prototype.mime_types().indexOf(EXEC_MIME_TYPE) == -1) {\n      register_renderer(events, OutputArea);\n    }\n  }\n  if (typeof (root._bokeh_timeout) === \"undefined\" || force === true) {\n    root._bokeh_timeout = Date.now() + 5000;\n    root._bokeh_failed_load = false;\n  }\n\n  const NB_LOAD_WARNING = {'data': {'text/html':\n     \"<div style='background-color: #fdd'>\\n\"+\n     \"<p>\\n\"+\n     \"BokehJS does not appear to have successfully loaded. If loading BokehJS from CDN, this \\n\"+\n     \"may be due to a slow or bad network connection. Possible fixes:\\n\"+\n     \"</p>\\n\"+\n     \"<ul>\\n\"+\n     \"<li>re-rerun `output_notebook()` to attempt to load from CDN again, or</li>\\n\"+\n     \"<li>use INLINE resources instead, as so:</li>\\n\"+\n     \"</ul>\\n\"+\n     \"<code>\\n\"+\n     \"from bokeh.resources import INLINE\\n\"+\n     \"output_notebook(resources=INLINE)\\n\"+\n     \"</code>\\n\"+\n     \"</div>\"}};\n\n  function display_loaded() {\n    const el = document.getElementById(\"8791\");\n    if (el != null) {\n      el.textContent = \"BokehJS is loading...\";\n    }\n    if (root.Bokeh !== undefined) {\n      if (el != null) {\n        el.textContent = \"BokehJS \" + root.Bokeh.version + \" successfully loaded.\";\n      }\n    } else if (Date.now() < root._bokeh_timeout) {\n      setTimeout(display_loaded, 100)\n    }\n  }\n\n  function run_callbacks() {\n    try {\n      root._bokeh_onload_callbacks.forEach(function(callback) {\n        if (callback != null)\n          callback();\n      });\n    } finally {\n      delete root._bokeh_onload_callbacks\n    }\n    console.debug(\"Bokeh: all callbacks have finished\");\n  }\n\n  function load_libs(css_urls, js_urls, callback) {\n    if (css_urls == null) css_urls = [];\n    if (js_urls == null) js_urls = [];\n\n    root._bokeh_onload_callbacks.push(callback);\n    if (root._bokeh_is_loading > 0) {\n      console.debug(\"Bokeh: BokehJS is being loaded, scheduling callback at\", now());\n      return null;\n    }\n    if (js_urls == null || js_urls.length === 0) {\n      run_callbacks();\n      return null;\n    }\n    console.debug(\"Bokeh: BokehJS not loaded, scheduling load and callback at\", now());\n    root._bokeh_is_loading = css_urls.length + js_urls.length;\n\n    function on_load() {\n      root._bokeh_is_loading--;\n      if (root._bokeh_is_loading === 0) {\n        console.debug(\"Bokeh: all BokehJS libraries/stylesheets loaded\");\n        run_callbacks()\n      }\n    }\n\n    function on_error(url) {\n      console.error(\"failed to load \" + url);\n    }\n\n    for (let i = 0; i < css_urls.length; i++) {\n      const url = css_urls[i];\n      const element = document.createElement(\"link\");\n      element.onload = on_load;\n      element.onerror = on_error.bind(null, url);\n      element.rel = \"stylesheet\";\n      element.type = \"text/css\";\n      element.href = url;\n      console.debug(\"Bokeh: injecting link tag for BokehJS stylesheet: \", url);\n      document.body.appendChild(element);\n    }\n\n    for (let i = 0; i < js_urls.length; i++) {\n      const url = js_urls[i];\n      const element = document.createElement('script');\n      element.onload = on_load;\n      element.onerror = on_error.bind(null, url);\n      element.async = false;\n      element.src = url;\n      console.debug(\"Bokeh: injecting script tag for BokehJS library: \", url);\n      document.head.appendChild(element);\n    }\n  };\n\n  function inject_raw_css(css) {\n    const element = document.createElement(\"style\");\n    element.appendChild(document.createTextNode(css));\n    document.body.appendChild(element);\n  }\n\n  const js_urls = [\"https://cdn.bokeh.org/bokeh/release/bokeh-2.4.3.min.js\", \"https://cdn.bokeh.org/bokeh/release/bokeh-gl-2.4.3.min.js\", \"https://cdn.bokeh.org/bokeh/release/bokeh-widgets-2.4.3.min.js\", \"https://cdn.bokeh.org/bokeh/release/bokeh-tables-2.4.3.min.js\", \"https://cdn.bokeh.org/bokeh/release/bokeh-mathjax-2.4.3.min.js\"];\n  const css_urls = [];\n\n  const inline_js = [    function(Bokeh) {\n      Bokeh.set_log_level(\"info\");\n    },\nfunction(Bokeh) {\n    }\n  ];\n\n  function run_inline_js() {\n    if (root.Bokeh !== undefined || force === true) {\n          for (let i = 0; i < inline_js.length; i++) {\n      inline_js[i].call(root, root.Bokeh);\n    }\nif (force === true) {\n        display_loaded();\n      }} else if (Date.now() < root._bokeh_timeout) {\n      setTimeout(run_inline_js, 100);\n    } else if (!root._bokeh_failed_load) {\n      console.log(\"Bokeh: BokehJS failed to load within specified timeout.\");\n      root._bokeh_failed_load = true;\n    } else if (force !== true) {\n      const cell = $(document.getElementById(\"8791\")).parents('.cell').data().cell;\n      cell.output_area.append_execute_result(NB_LOAD_WARNING)\n    }\n  }\n\n  if (root._bokeh_is_loading === 0) {\n    console.debug(\"Bokeh: BokehJS loaded, going straight to plotting\");\n    run_inline_js();\n  } else {\n    load_libs(css_urls, js_urls, function() {\n      console.debug(\"Bokeh: BokehJS plotting callback run at\", now());\n      run_inline_js();\n    });\n  }\n}(window));",
            "application/vnd.bokehjs_load.v0+json": ""
          },
          "metadata": {},
          "output_type": "display_data"
        },
        {
          "data": {
            "text/html": [
              "\n",
              "  <div class=\"bk-root\" id=\"a8c3389f-bd6d-4be7-9203-677652f671fc\" data-root-id=\"8715\"></div>\n"
            ]
          },
          "metadata": {},
          "output_type": "display_data"
        },
        {
          "data": {
            "application/javascript": "(function(root) {\n  function embed_document(root) {\n  const docs_json = {\"f19b76e7-5619-4d00-bc9f-c6a3e9e1ad7b\":{\"defs\":[],\"roots\":{\"references\":[{\"attributes\":{\"below\":[{\"id\":\"8724\"}],\"center\":[{\"id\":\"8727\"},{\"id\":\"8731\"}],\"height\":200,\"left\":[{\"id\":\"8728\"}],\"renderers\":[{\"id\":\"8752\"},{\"id\":\"8759\"},{\"id\":\"8766\"},{\"id\":\"8773\"}],\"title\":{\"id\":\"8775\"},\"toolbar\":{\"id\":\"8738\"},\"width\":500,\"x_range\":{\"id\":\"8716\"},\"x_scale\":{\"id\":\"8720\"},\"y_range\":{\"id\":\"8718\"},\"y_scale\":{\"id\":\"8722\"}},\"id\":\"8715\",\"subtype\":\"Figure\",\"type\":\"Plot\"},{\"attributes\":{\"tools\":[{\"id\":\"8732\"},{\"id\":\"8733\"},{\"id\":\"8734\"},{\"id\":\"8735\"},{\"id\":\"8736\"}]},\"id\":\"8738\",\"type\":\"Toolbar\"},{\"attributes\":{},\"id\":\"8718\",\"type\":\"DataRange1d\"},{\"attributes\":{\"bottom\":{\"field\":\"bottom\"},\"fill_alpha\":{\"value\":0.2},\"fill_color\":{\"value\":\"#d53e4f\"},\"hatch_alpha\":{\"value\":0.2},\"left\":{\"field\":\"start_time\"},\"line_alpha\":{\"value\":0.2},\"right\":{\"field\":\"end_time\"},\"top\":{\"field\":\"top\"}},\"id\":\"8751\",\"type\":\"Quad\"},{\"attributes\":{\"data\":{\"bottom\":{\"__ndarray__\":\"zczMzMzMT0DNzMzMzExLQM3MzMzMzE1AzczMzMzMR0DNzMzMzMxNQM3MzMzMzEdAzczMzMxMS0DNzMzMzMxPQM3MzMzMzEdAzczMzMzMR0DNzMzMzExLQM3MzMzMzE1AzczMzMzMT0BmZmZmZqZQQM3MzMzMzEdAzczMzMzMTUDNzMzMzMxPQGZmZmZmplBAzczMzMzMT0DNzMzMzExLQM3MzMzMzE1AzczMzMzMR0DNzMzMzMxNQM3MzMzMzEdAzczMzMxMS0DNzMzMzMxPQM3MzMzMzEdAzczMzMzMR0DNzMzMzExLQM3MzMzMzE1AzczMzMzMT0BmZmZmZqZQQM3MzMzMzEdAzczMzMzMTUDNzMzMzMxPQGZmZmZmplBA\",\"dtype\":\"float64\",\"order\":\"little\",\"shape\":[36]},\"duration\":{\"__ndarray__\":\"AAAAAAAAyD8AAAAAAADIPwAAAAAAAMg/AAAAAAAAyD9YVVVVVVXNP1RVVVVVVcU/VFVVVVVVzT8AAAAAAADQP1RVVVVVVcU/qKqqqqqqyj+oqqqqqqrKP6yqqqqqqso/VFVVVVVVzT+oqqqqqqrKP2BVVVVVVbU/UFVVVVVVtT9WVVVVVVXrP6yqqqqqquo/AAAAAAAAyD8AAAAAAADIPwAAAAAAAMg/AAAAAAAAyD9gVVVVVVXNP1BVVVVVVcU/UFVVVVVVzT8AAAAAAADQP1BVVVVVVcU/oKqqqqqqyj+wqqqqqqrKP7Cqqqqqqso/UFVVVVVVzT+gqqqqqqrKP2BVVVVVVbU/QFVVVVVVtT9YVVVVVVXrP6yqqqqqquo/\",\"dtype\":\"float64\",\"order\":\"little\",\"shape\":[36]},\"end_time\":{\"__ndarray__\":\"VVVVVVVV3T+qqqqqqqreP6qqqqqqqt4/AAAAAAAA4D8AAAAAAADoP6qqqqqqquY/qqqqqqqq6D9VVVVVVVXpP1VVVVVVVec/VVVVVVVV8D+qqqqqqqrwPwAAAAAAAPE/VVVVVVVV8T9VVVVVVVXxPwAAAAAAAPM/VVVVVVVV8z8AAAAAAAAAQAAAAAAAAABAq6qqqqqqA0BVVVVVVdUDQFVVVVVV1QNAAAAAAAAABEAAAAAAAAAGQKqqqqqqqgVAqqqqqqoqBkBVVVVVVVUGQFVVVVVV1QVAqqqqqqoqCEBVVVVVVVUIQAAAAAAAgAhAqqqqqqqqCECqqqqqqqoIQAAAAAAAgAlAqqqqqqqqCUAAAAAAAAAQQAAAAAAAABBA\",\"dtype\":\"float64\",\"order\":\"little\",\"shape\":[36]},\"fill_alpha\":{\"__ndarray__\":\"AAAAAACA2D8AAAAAAIDYPwAAAAAAgNg/AAAAAACA2D8AAAAAAIDYPwAAAAAAgNg/AAAAAACA2D8AAAAAAIDYPwAAAAAAgNg/AAAAAACA2D8AAAAAAIDYPwAAAAAAgNg/AAAAAACA2D8AAAAAAIDYPwAAAAAAgNg/AAAAAACA2D8AAAAAAIDYPwAAAAAAgNg/AAAAAACA2D8AAAAAAIDYPwAAAAAAgNg/AAAAAACA2D8AAAAAAIDYPwAAAAAAgNg/AAAAAACA2D8AAAAAAIDYPwAAAAAAgNg/AAAAAACA2D8AAAAAAIDYPwAAAAAAgNg/AAAAAACA2D8AAAAAAIDYPwAAAAAAgNg/AAAAAACA2D8AAAAAAIDYPwAAAAAAgNg/\",\"dtype\":\"float64\",\"order\":\"little\",\"shape\":[36]},\"index\":[5,7,8,9,13,16,17,18,19,24,25,26,27,28,34,35,36,37,56,58,59,60,64,67,68,69,70,75,76,77,78,79,85,86,87,88],\"instrument\":[3,3,3,3,3,3,3,3,3,3,3,3,3,3,3,3,3,3,3,3,3,3,3,3,3,3,3,3,3,3,3,3,3,3,3,3],\"pitch\":[64,55,60,48,60,48,55,64,48,48,55,60,64,67,48,60,64,67,64,55,60,48,60,48,55,64,48,48,55,60,64,67,48,60,64,67],\"program\":[3,3,3,3,3,3,3,3,3,3,3,3,3,3,3,3,3,3,3,3,3,3,3,3,3,3,3,3,3,3,3,3,3,3,3,3],\"start_time\":{\"__ndarray__\":\"VVVVVVVV0T+qqqqqqqrSP6qqqqqqqtI/AAAAAAAA1D+qqqqqqqrgP1VVVVVVVeE/VVVVVVVV4T9VVVVVVVXhPwAAAAAAAOI/AAAAAAAA6j+qqqqqqqrqP1VVVVVVVes/VVVVVVVV6z8AAAAAAADsP6qqqqqqqvE/AAAAAAAA8j9VVVVVVVXyP6qqqqqqqvI/q6qqqqoqAkBVVVVVVVUCQFVVVVVVVQJAAAAAAACAAkCqqqqqqioEQFVVVVVVVQRAVVVVVVVVBEBVVVVVVVUEQAAAAAAAgARAAAAAAACABkCqqqqqqqoGQFVVVVVV1QZAVVVVVVXVBkAAAAAAAAAHQFVVVVVV1QhAAAAAAAAACUCqqqqqqioJQFVVVVVVVQlA\",\"dtype\":\"float64\",\"order\":\"little\",\"shape\":[36]},\"top\":{\"__ndarray__\":\"mpmZmZkZUEAzMzMzM7NLQDMzMzMzM05AMzMzMzMzSEAzMzMzMzNOQDMzMzMzM0hAMzMzMzOzS0CamZmZmRlQQDMzMzMzM0hAMzMzMzMzSEAzMzMzM7NLQDMzMzMzM05AmpmZmZkZUECamZmZmdlQQDMzMzMzM0hAMzMzMzMzTkCamZmZmRlQQJqZmZmZ2VBAmpmZmZkZUEAzMzMzM7NLQDMzMzMzM05AMzMzMzMzSEAzMzMzMzNOQDMzMzMzM0hAMzMzMzOzS0CamZmZmRlQQDMzMzMzM0hAMzMzMzMzSEAzMzMzM7NLQDMzMzMzM05AmpmZmZkZUECamZmZmdlQQDMzMzMzM0hAMzMzMzMzTkCamZmZmRlQQJqZmZmZ2VBA\",\"dtype\":\"float64\",\"order\":\"little\",\"shape\":[36]},\"velocity\":[49,49,49,49,49,49,49,49,49,49,49,49,49,49,49,49,49,49,49,49,49,49,49,49,49,49,49,49,49,49,49,49,49,49,49,49]},\"selected\":{\"id\":\"8787\"},\"selection_policy\":{\"id\":\"8786\"}},\"id\":\"8761\",\"type\":\"ColumnDataSource\"},{\"attributes\":{},\"id\":\"8787\",\"type\":\"Selection\"},{\"attributes\":{\"bottom\":{\"field\":\"bottom\"},\"fill_alpha\":{\"field\":\"fill_alpha\"},\"fill_color\":{\"value\":\"#d53e4f\"},\"left\":{\"field\":\"start_time\"},\"right\":{\"field\":\"end_time\"},\"top\":{\"field\":\"top\"}},\"id\":\"8749\",\"type\":\"Quad\"},{\"attributes\":{\"axis\":{\"id\":\"8728\"},\"coordinates\":null,\"dimension\":1,\"group\":null,\"ticker\":{\"id\":\"8746\"}},\"id\":\"8731\",\"type\":\"Grid\"},{\"attributes\":{},\"id\":\"8725\",\"type\":\"BasicTicker\"},{\"attributes\":{},\"id\":\"8720\",\"type\":\"LinearScale\"},{\"attributes\":{\"bottom\":{\"field\":\"bottom\"},\"fill_alpha\":{\"value\":0.1},\"fill_color\":{\"value\":\"#3288bd\"},\"hatch_alpha\":{\"value\":0.1},\"left\":{\"field\":\"start_time\"},\"line_alpha\":{\"value\":0.1},\"right\":{\"field\":\"end_time\"},\"top\":{\"field\":\"top\"}},\"id\":\"8757\",\"type\":\"Quad\"},{\"attributes\":{\"axis_label\":\"time (sec)\",\"coordinates\":null,\"formatter\":{\"id\":\"8780\"},\"group\":null,\"major_label_policy\":{\"id\":\"8781\"},\"ticker\":{\"id\":\"8725\"}},\"id\":\"8724\",\"type\":\"LinearAxis\"},{\"attributes\":{\"data\":{\"bottom\":{\"__ndarray__\":\"ZmZmZmbmVEBmZmZmZqZTQGZmZmZm5lJAZmZmZmamU0BmZmZmZuZSQGZmZmZmplNAZmZmZmbmUkBmZmZmZuZUQGZmZmZmplNAZmZmZmbmUkBmZmZmZqZTQGZmZmZm5lJAZmZmZmamU0BmZmZmZuZSQA==\",\"dtype\":\"float64\",\"order\":\"little\",\"shape\":[14]},\"duration\":{\"__ndarray__\":\"VVVVVVVV3T+qqqqqqqrSP1RVVVVVVdE/VFVVVVVV0T9UVVVVVVXRP1RVVVVVVdE/AAAAAAAA0D9QVVVVVVXdP6iqqqqqqtI/UFVVVVVV0T9QVVVVVVXRP1BVVVVVVdE/UFVVVVVV0T8AAAAAAADQPw==\",\"dtype\":\"float64\",\"order\":\"little\",\"shape\":[14]},\"end_time\":{\"__ndarray__\":\"qqqqqqqq3j9VVVVVVVXpP1VVVVVVVfA/VVVVVVVV9D9VVVVVVVX4P1VVVVVVVfw/AAAAAAAAAEBVVVVVVdUDQFVVVVVVVQZAqqqqqqoqCECqqqqqqioKQKqqqqqqKgxAqqqqqqoqDkAAAAAAAAAQQA==\",\"dtype\":\"float64\",\"order\":\"little\",\"shape\":[14]},\"fill_alpha\":{\"__ndarray__\":\"AAAAAACA2D8AAAAAAIDYPwAAAAAAgNg/AAAAAACA2D8AAAAAAIDYPwAAAAAAgNg/AAAAAACA2D8AAAAAAIDYPwAAAAAAgNg/AAAAAACA2D8AAAAAAIDYPwAAAAAAgNg/AAAAAACA2D8AAAAAAIDYPw==\",\"dtype\":\"float64\",\"order\":\"little\",\"shape\":[14]},\"index\":[0,10,20,29,38,42,47,51,61,71,80,89,93,98],\"instrument\":[1,1,1,1,1,1,1,1,1,1,1,1,1,1],\"pitch\":[84,79,76,79,76,79,76,84,79,76,79,76,79,76],\"program\":[1,1,1,1,1,1,1,1,1,1,1,1,1,1],\"start_time\":{\"__ndarray__\":\"VVVVVVVVlT8AAAAAAADgPwAAAAAAAOg/AAAAAAAA8D8AAAAAAAD0PwAAAAAAAPg/AAAAAAAA/D+rqqqqqioAQAAAAAAAAARAAAAAAAAABkAAAAAAAAAIQAAAAAAAAApAAAAAAAAADEAAAAAAAAAOQA==\",\"dtype\":\"float64\",\"order\":\"little\",\"shape\":[14]},\"top\":{\"__ndarray__\":\"mpmZmZkZVUCamZmZmdlTQJqZmZmZGVNAmpmZmZnZU0CamZmZmRlTQJqZmZmZ2VNAmpmZmZkZU0CamZmZmRlVQJqZmZmZ2VNAmpmZmZkZU0CamZmZmdlTQJqZmZmZGVNAmpmZmZnZU0CamZmZmRlTQA==\",\"dtype\":\"float64\",\"order\":\"little\",\"shape\":[14]},\"velocity\":[49,49,49,49,49,49,49,49,49,49,49,49,49,49]},\"selected\":{\"id\":\"8783\"},\"selection_policy\":{\"id\":\"8782\"}},\"id\":\"8747\",\"type\":\"ColumnDataSource\"},{\"attributes\":{\"data\":{\"bottom\":{\"__ndarray__\":\"ZmZmZmbmUUBmZmZmZuZSQGZmZmZm5lFAZmZmZmbmUkBmZmZmZuZRQGZmZmZm5lJAZmZmZmbmUUBmZmZmZuZSQGZmZmZm5lFAZmZmZmbmUkBmZmZmZuZRQGZmZmZm5lJAZmZmZmbmUUBmZmZmZuZSQGZmZmZm5lFAZmZmZmbmUkBmZmZmZuZRQGZmZmZm5lJAZmZmZmbmUUBmZmZmZuZSQGZmZmZm5lFAZmZmZmbmUkBmZmZmZuZRQGZmZmZm5lJAZmZmZmbmUUBmZmZmZuZSQGZmZmZm5lFAZmZmZmbmUkA=\",\"dtype\":\"float64\",\"order\":\"little\",\"shape\":[28]},\"duration\":{\"__ndarray__\":\"AAAAAAAA3D+qqqqqqqraP6iqqqqqqso/qKqqqqqqyj+oqqqqqqrKP6iqqqqqqso/AAAAAAAA3D8AAAAAAADcP7Cqqqqqqso/sKqqqqqqyj+wqqqqqqrKP7Cqqqqqqso/YFVVVVVVpT9gVVVVVVWlPwAAAAAAANw/sKqqqqqq2j+gqqqqqqrKP6Cqqqqqqso/oKqqqqqqyj+gqqqqqqrKPwAAAAAAANw/AAAAAAAA3D+wqqqqqqrKP7Cqqqqqqso/sKqqqqqqyj+wqqqqqqrKP4BVVVVVVaU/gFVVVVVVpT8=\",\"dtype\":\"float64\",\"order\":\"little\",\"shape\":[28]},\"end_time\":{\"__ndarray__\":\"VVVVVVVV3T9VVVVVVVXdP6qqqqqqquY/qqqqqqqq5j+qqqqqqqruP6qqqqqqqu4/AAAAAAAA9z8AAAAAAAD3PwAAAAAAAPs/AAAAAAAA+z8AAAAAAAD/PwAAAAAAAP8/AAAAAAAAAEAAAAAAAAAAQKuqqqqqqgNAq6qqqqqqA0CqqqqqqqoFQKqqqqqqqgVAqqqqqqqqB0CqqqqqqqoHQAAAAAAAgAtAAAAAAACAC0AAAAAAAIANQAAAAAAAgA1AAAAAAACAD0AAAAAAAIAPQAAAAAAAABBAAAAAAAAAEEA=\",\"dtype\":\"float64\",\"order\":\"little\",\"shape\":[28]},\"fill_alpha\":{\"__ndarray__\":\"AAAAAACA2D8AAAAAAIDYPwAAAAAAgNg/AAAAAACA2D8AAAAAAIDYPwAAAAAAgNg/AAAAAACA2D8AAAAAAIDYPwAAAAAAgNg/AAAAAACA2D8AAAAAAIDYPwAAAAAAgNg/AAAAAACA2D8AAAAAAIDYPwAAAAAAgNg/AAAAAACA2D8AAAAAAIDYPwAAAAAAgNg/AAAAAACA2D8AAAAAAIDYPwAAAAAAgNg/AAAAAACA2D8AAAAAAIDYPwAAAAAAgNg/AAAAAACA2D8AAAAAAIDYPwAAAAAAgNg/AAAAAACA2D8=\",\"dtype\":\"float64\",\"order\":\"little\",\"shape\":[28]},\"index\":[1,4,11,12,21,22,30,31,40,41,45,46,49,50,52,55,62,63,72,73,81,82,91,92,96,97,100,101],\"instrument\":[2,2,2,2,2,2,2,2,2,2,2,2,2,2,2,2,2,2,2,2,2,2,2,2,2,2,2,2],\"pitch\":[72,76,72,76,72,76,72,76,72,76,72,76,72,76,72,76,72,76,72,76,72,76,72,76,72,76,72,76],\"program\":[100,100,100,100,100,100,100,100,100,100,100,100,100,100,100,100,100,100,100,100,100,100,100,100,100,100,100,100],\"start_time\":{\"__ndarray__\":\"VVVVVVVVlT9VVVVVVVWlPwAAAAAAAOA/AAAAAAAA4D8AAAAAAADoPwAAAAAAAOg/AAAAAAAA8D8AAAAAAADwP6qqqqqqqvc/qqqqqqqq9z+qqqqqqqr7P6qqqqqqqvs/VVVVVVVV/z9VVVVVVVX/P6uqqqqqKgBAVVVVVVVVAEAAAAAAAAAEQAAAAAAAAARAAAAAAAAABkAAAAAAAAAGQAAAAAAAAAhAAAAAAAAACEBVVVVVVdULQFVVVVVV1QtAVVVVVVXVDUBVVVVVVdUNQKqqqqqqqg9AqqqqqqqqD0A=\",\"dtype\":\"float64\",\"order\":\"little\",\"shape\":[28]},\"top\":{\"__ndarray__\":\"mpmZmZkZUkCamZmZmRlTQJqZmZmZGVJAmpmZmZkZU0CamZmZmRlSQJqZmZmZGVNAmpmZmZkZUkCamZmZmRlTQJqZmZmZGVJAmpmZmZkZU0CamZmZmRlSQJqZmZmZGVNAmpmZmZkZUkCamZmZmRlTQJqZmZmZGVJAmpmZmZkZU0CamZmZmRlSQJqZmZmZGVNAmpmZmZkZUkCamZmZmRlTQJqZmZmZGVJAmpmZmZkZU0CamZmZmRlSQJqZmZmZGVNAmpmZmZkZUkCamZmZmRlTQJqZmZmZGVJAmpmZmZkZU0A=\",\"dtype\":\"float64\",\"order\":\"little\",\"shape\":[28]},\"velocity\":[49,49,49,49,49,49,49,49,49,49,49,49,49,49,49,49,49,49,49,49,49,49,49,49,49,49,49,49]},\"selected\":{\"id\":\"8785\"},\"selection_policy\":{\"id\":\"8784\"}},\"id\":\"8754\",\"type\":\"ColumnDataSource\"},{\"attributes\":{\"bottom\":{\"field\":\"bottom\"},\"fill_alpha\":{\"field\":\"fill_alpha\"},\"fill_color\":{\"value\":\"#f46d43\"},\"left\":{\"field\":\"start_time\"},\"right\":{\"field\":\"end_time\"},\"top\":{\"field\":\"top\"}},\"id\":\"8763\",\"type\":\"Quad\"},{\"attributes\":{\"overlay\":{\"id\":\"8737\"}},\"id\":\"8734\",\"type\":\"BoxZoomTool\"},{\"attributes\":{\"bottom\":{\"field\":\"bottom\"},\"fill_alpha\":{\"value\":0.2},\"fill_color\":{\"value\":\"#3288bd\"},\"hatch_alpha\":{\"value\":0.2},\"left\":{\"field\":\"start_time\"},\"line_alpha\":{\"value\":0.2},\"right\":{\"field\":\"end_time\"},\"top\":{\"field\":\"top\"}},\"id\":\"8758\",\"type\":\"Quad\"},{\"attributes\":{\"bottom\":{\"field\":\"bottom\"},\"fill_alpha\":{\"value\":0.1},\"fill_color\":{\"value\":\"#d53e4f\"},\"hatch_alpha\":{\"value\":0.1},\"left\":{\"field\":\"start_time\"},\"line_alpha\":{\"value\":0.1},\"right\":{\"field\":\"end_time\"},\"top\":{\"field\":\"top\"}},\"id\":\"8750\",\"type\":\"Quad\"},{\"attributes\":{},\"id\":\"8789\",\"type\":\"Selection\"},{\"attributes\":{\"axis\":{\"id\":\"8724\"},\"coordinates\":null,\"group\":null,\"ticker\":null},\"id\":\"8727\",\"type\":\"Grid\"},{\"attributes\":{},\"id\":\"8733\",\"type\":\"PanTool\"},{\"attributes\":{},\"id\":\"8781\",\"type\":\"AllLabels\"},{\"attributes\":{},\"id\":\"8782\",\"type\":\"UnionRenderers\"},{\"attributes\":{\"source\":{\"id\":\"8761\"}},\"id\":\"8767\",\"type\":\"CDSView\"},{\"attributes\":{},\"id\":\"8785\",\"type\":\"Selection\"},{\"attributes\":{\"coordinates\":null,\"group\":null},\"id\":\"8775\",\"type\":\"Title\"},{\"attributes\":{\"bottom\":{\"field\":\"bottom\"},\"fill_alpha\":{\"field\":\"fill_alpha\"},\"fill_color\":{\"value\":\"#3288bd\"},\"left\":{\"field\":\"start_time\"},\"right\":{\"field\":\"end_time\"},\"top\":{\"field\":\"top\"}},\"id\":\"8756\",\"type\":\"Quad\"},{\"attributes\":{},\"id\":\"8784\",\"type\":\"UnionRenderers\"},{\"attributes\":{\"bottom\":{\"field\":\"bottom\"},\"fill_alpha\":{\"field\":\"fill_alpha\"},\"fill_color\":{\"value\":\"#66c2a5\"},\"left\":{\"field\":\"start_time\"},\"right\":{\"field\":\"end_time\"},\"top\":{\"field\":\"top\"}},\"id\":\"8770\",\"type\":\"Quad\"},{\"attributes\":{\"bottom\":{\"field\":\"bottom\"},\"fill_alpha\":{\"value\":0.1},\"fill_color\":{\"value\":\"#f46d43\"},\"hatch_alpha\":{\"value\":0.1},\"left\":{\"field\":\"start_time\"},\"line_alpha\":{\"value\":0.1},\"right\":{\"field\":\"end_time\"},\"top\":{\"field\":\"top\"}},\"id\":\"8764\",\"type\":\"Quad\"},{\"attributes\":{},\"id\":\"8716\",\"type\":\"DataRange1d\"},{\"attributes\":{},\"id\":\"8786\",\"type\":\"UnionRenderers\"},{\"attributes\":{\"source\":{\"id\":\"8768\"}},\"id\":\"8774\",\"type\":\"CDSView\"},{\"attributes\":{\"coordinates\":null,\"data_source\":{\"id\":\"8761\"},\"glyph\":{\"id\":\"8763\"},\"group\":null,\"hover_glyph\":null,\"muted_glyph\":{\"id\":\"8765\"},\"nonselection_glyph\":{\"id\":\"8764\"},\"view\":{\"id\":\"8767\"}},\"id\":\"8766\",\"type\":\"GlyphRenderer\"},{\"attributes\":{\"axis_label\":\"pitch (MIDI)\",\"coordinates\":null,\"formatter\":{\"id\":\"8777\"},\"group\":null,\"major_label_policy\":{\"id\":\"8778\"},\"ticker\":{\"id\":\"8744\"}},\"id\":\"8728\",\"type\":\"LinearAxis\"},{\"attributes\":{\"bottom\":{\"field\":\"bottom\"},\"fill_alpha\":{\"value\":0.2},\"fill_color\":{\"value\":\"#66c2a5\"},\"hatch_alpha\":{\"value\":0.2},\"left\":{\"field\":\"start_time\"},\"line_alpha\":{\"value\":0.2},\"right\":{\"field\":\"end_time\"},\"top\":{\"field\":\"top\"}},\"id\":\"8772\",\"type\":\"Quad\"},{\"attributes\":{},\"id\":\"8735\",\"type\":\"ResetTool\"},{\"attributes\":{\"coordinates\":null,\"data_source\":{\"id\":\"8768\"},\"glyph\":{\"id\":\"8770\"},\"group\":null,\"hover_glyph\":null,\"muted_glyph\":{\"id\":\"8772\"},\"nonselection_glyph\":{\"id\":\"8771\"},\"view\":{\"id\":\"8774\"}},\"id\":\"8773\",\"type\":\"GlyphRenderer\"},{\"attributes\":{},\"id\":\"8736\",\"type\":\"SaveTool\"},{\"attributes\":{},\"id\":\"8783\",\"type\":\"Selection\"},{\"attributes\":{},\"id\":\"8788\",\"type\":\"UnionRenderers\"},{\"attributes\":{\"source\":{\"id\":\"8754\"}},\"id\":\"8760\",\"type\":\"CDSView\"},{\"attributes\":{},\"id\":\"8780\",\"type\":\"BasicTickFormatter\"},{\"attributes\":{\"data\":{\"bottom\":{\"__ndarray__\":\"zczMzMzMQUDNzMzMzExJQM3MzMzMTElAzczMzMzMQkDNzMzMzExJQM3MzMzMTElAzczMzMzMQUDNzMzMzExJQM3MzMzMTElAzczMzMzMQkDNzMzMzExJQM3MzMzMTElAzczMzMzMQUDNzMzMzExJQM3MzMzMTElAzczMzMzMQkDNzMzMzExJQM3MzMzMTElAzczMzMzMQUDNzMzMzExJQM3MzMzMTElAzczMzMzMQkDNzMzMzExJQM3MzMzMTElA\",\"dtype\":\"float64\",\"order\":\"little\",\"shape\":[24]},\"duration\":{\"__ndarray__\":\"VVVVVVVVlT9VVVVVVVWVP1BVVVVVVZU/YFVVVVVVlT9gVVVVVVWVP2BVVVVVVZU/QFVVVVVVlT9AVVVVVVWVP0BVVVVVVZU/QFVVVVVVlT9AVVVVVVWVP0BVVVVVVZU/AFVVVVVVlT8AVVVVVVWVPwBVVVVVVZU/gFVVVVVVlT+AVVVVVVWVP4BVVVVVVZU/gFVVVVVVlT+AVVVVVVWVP4BVVVVVVZU/gFVVVVVVlT+AVVVVVVWVP4BVVVVVVZU/\",\"dtype\":\"float64\",\"order\":\"little\",\"shape\":[24]},\"end_time\":{\"__ndarray__\":\"VVVVVVVVpT9VVVVVVVWlP6qqqqqqqtI/VVVVVVVV4T9VVVVVVVXhP1VVVVVVVek/qqqqqqqq8D+qqqqqqqrwP6qqqqqqqvQ/qqqqqqqq+D+qqqqqqqr4P6qqqqqqqvw/VVVVVVVVAEBVVVVVVVUAQFVVVVVVVQJAVVVVVVVVBEBVVVVVVVUEQFVVVVVVVQZAVVVVVVVVCEBVVVVVVVUIQFVVVVVVVQpAVVVVVVVVDEBVVVVVVVUMQFVVVVVVVQ5A\",\"dtype\":\"float64\",\"order\":\"little\",\"shape\":[24]},\"fill_alpha\":{\"__ndarray__\":\"AAAAAABA5D8AAAAAAEDkPwAAAAAAQOQ/AAAAAABA5D8AAAAAAEDkPwAAAAAAQOQ/AAAAAABA5D8AAAAAAEDkPwAAAAAAQOQ/AAAAAABA5D8AAAAAAEDkPwAAAAAAQOQ/AAAAAABA5D8AAAAAAEDkPwAAAAAAQOQ/AAAAAABA5D8AAAAAAEDkPwAAAAAAQOQ/AAAAAABA5D8AAAAAAEDkPwAAAAAAQOQ/AAAAAABA5D8AAAAAAEDkPwAAAAAAQOQ/\",\"dtype\":\"float64\",\"order\":\"little\",\"shape\":[24]},\"index\":[2,3,6,14,15,23,32,33,39,43,44,48,53,54,57,65,66,74,83,84,90,94,95,99],\"instrument\":[9,9,9,9,9,9,9,9,9,9,9,9,9,9,9,9,9,9,9,9,9,9,9,9],\"pitch\":[36,51,51,38,51,51,36,51,51,38,51,51,36,51,51,38,51,51,36,51,51,38,51,51],\"program\":[0,0,0,0,0,0,0,0,0,0,0,0,0,0,0,0,0,0,0,0,0,0,0,0],\"start_time\":{\"__ndarray__\":\"VVVVVVVVlT9VVVVVVVWVP1VVVVVVVdE/qqqqqqqq4D+qqqqqqqrgP6qqqqqqqug/VVVVVVVV8D9VVVVVVVXwP1VVVVVVVfQ/VVVVVVVV+D9VVVVVVVX4P1VVVVVVVfw/q6qqqqoqAECrqqqqqioAQKuqqqqqKgJAqqqqqqoqBECqqqqqqioEQKqqqqqqKgZAqqqqqqoqCECqqqqqqioIQKqqqqqqKgpAqqqqqqoqDECqqqqqqioMQKqqqqqqKg5A\",\"dtype\":\"float64\",\"order\":\"little\",\"shape\":[24]},\"top\":{\"__ndarray__\":\"MzMzMzMzQkAzMzMzM7NJQDMzMzMzs0lAMzMzMzMzQ0AzMzMzM7NJQDMzMzMzs0lAMzMzMzMzQkAzMzMzM7NJQDMzMzMzs0lAMzMzMzMzQ0AzMzMzM7NJQDMzMzMzs0lAMzMzMzMzQkAzMzMzM7NJQDMzMzMzs0lAMzMzMzMzQ0AzMzMzM7NJQDMzMzMzs0lAMzMzMzMzQkAzMzMzM7NJQDMzMzMzs0lAMzMzMzMzQ0AzMzMzM7NJQDMzMzMzs0lA\",\"dtype\":\"float64\",\"order\":\"little\",\"shape\":[24]},\"velocity\":[81,81,81,81,81,81,81,81,81,81,81,81,81,81,81,81,81,81,81,81,81,81,81,81]},\"selected\":{\"id\":\"8789\"},\"selection_policy\":{\"id\":\"8788\"}},\"id\":\"8768\",\"type\":\"ColumnDataSource\"},{\"attributes\":{\"bottom\":{\"field\":\"bottom\"},\"fill_alpha\":{\"value\":0.1},\"fill_color\":{\"value\":\"#66c2a5\"},\"hatch_alpha\":{\"value\":0.1},\"left\":{\"field\":\"start_time\"},\"line_alpha\":{\"value\":0.1},\"right\":{\"field\":\"end_time\"},\"top\":{\"field\":\"top\"}},\"id\":\"8771\",\"type\":\"Quad\"},{\"attributes\":{\"bottom_units\":\"screen\",\"coordinates\":null,\"fill_alpha\":0.5,\"fill_color\":\"lightgrey\",\"group\":null,\"left_units\":\"screen\",\"level\":\"overlay\",\"line_alpha\":1.0,\"line_color\":\"black\",\"line_dash\":[4,4],\"line_width\":2,\"right_units\":\"screen\",\"syncable\":false,\"top_units\":\"screen\"},\"id\":\"8737\",\"type\":\"BoxAnnotation\"},{\"attributes\":{\"callback\":null,\"tooltips\":[[\"pitch\",\"@pitch\"],[\"program\",\"@program\"],[\"velo\",\"@velocity\"],[\"duration\",\"@duration\"],[\"start_time\",\"@start_time\"],[\"end_time\",\"@end_time\"],[\"velocity\",\"@velocity\"],[\"fill_alpha\",\"@fill_alpha\"]]},\"id\":\"8732\",\"type\":\"HoverTool\"},{\"attributes\":{},\"id\":\"8777\",\"type\":\"BasicTickFormatter\"},{\"attributes\":{\"interval\":12},\"id\":\"8746\",\"type\":\"SingleIntervalTicker\"},{\"attributes\":{},\"id\":\"8722\",\"type\":\"LinearScale\"},{\"attributes\":{\"source\":{\"id\":\"8747\"}},\"id\":\"8753\",\"type\":\"CDSView\"},{\"attributes\":{\"bottom\":{\"field\":\"bottom\"},\"fill_alpha\":{\"value\":0.2},\"fill_color\":{\"value\":\"#f46d43\"},\"hatch_alpha\":{\"value\":0.2},\"left\":{\"field\":\"start_time\"},\"line_alpha\":{\"value\":0.2},\"right\":{\"field\":\"end_time\"},\"top\":{\"field\":\"top\"}},\"id\":\"8765\",\"type\":\"Quad\"},{\"attributes\":{\"interval\":12},\"id\":\"8744\",\"type\":\"SingleIntervalTicker\"},{\"attributes\":{\"coordinates\":null,\"data_source\":{\"id\":\"8747\"},\"glyph\":{\"id\":\"8749\"},\"group\":null,\"hover_glyph\":null,\"muted_glyph\":{\"id\":\"8751\"},\"nonselection_glyph\":{\"id\":\"8750\"},\"view\":{\"id\":\"8753\"}},\"id\":\"8752\",\"type\":\"GlyphRenderer\"},{\"attributes\":{\"coordinates\":null,\"data_source\":{\"id\":\"8754\"},\"glyph\":{\"id\":\"8756\"},\"group\":null,\"hover_glyph\":null,\"muted_glyph\":{\"id\":\"8758\"},\"nonselection_glyph\":{\"id\":\"8757\"},\"view\":{\"id\":\"8760\"}},\"id\":\"8759\",\"type\":\"GlyphRenderer\"},{\"attributes\":{},\"id\":\"8778\",\"type\":\"AllLabels\"}],\"root_ids\":[\"8715\"]},\"title\":\"Bokeh Application\",\"version\":\"2.4.3\"}};\n  const render_items = [{\"docid\":\"f19b76e7-5619-4d00-bc9f-c6a3e9e1ad7b\",\"root_ids\":[\"8715\"],\"roots\":{\"8715\":\"a8c3389f-bd6d-4be7-9203-677652f671fc\"}}];\n  root.Bokeh.embed.embed_items_notebook(docs_json, render_items);\n  }\n  if (root.Bokeh !== undefined) {\n    embed_document(root);\n  } else {\n    let attempts = 0;\n    const timer = setInterval(function(root) {\n      if (root.Bokeh !== undefined) {\n        clearInterval(timer);\n        embed_document(root);\n      } else {\n        attempts++;\n        if (attempts > 100) {\n          clearInterval(timer);\n          console.log(\"Bokeh: ERROR: Unable to run BokehJS code because BokehJS library is missing\");\n        }\n      }\n    }, 10, root)\n  }\n})(window);",
            "application/vnd.bokehjs_exec.v0+json": ""
          },
          "metadata": {
            "application/vnd.bokehjs_exec.v0+json": {
              "id": "8715"
            }
          },
          "output_type": "display_data"
        }
      ],
      "source": [
        "double_seq = seqs + seqs\n",
        "trim_sequences(double_seq)\n",
        "fix_instruments_for_concatenation(double_seq)\n",
        "prog_ns = concatenate_sequences(double_seq)\n",
        "\n",
        "#play(prog_ns)\n",
        "mm.plot_sequence(prog_ns)"
      ]
    },
    {
      "cell_type": "code",
      "execution_count": 66,
      "metadata": {},
      "outputs": [
        {
          "data": {
            "text/plain": [
              "ticks_per_quarter: 220\n",
              "tempos {\n",
              "  qpm: 120.0\n",
              "}\n",
              "notes {\n",
              "  pitch: 72\n",
              "  velocity: 97\n",
              "  end_time: 0.0625\n",
              "  instrument: 1\n",
              "  program: 53\n",
              "}\n",
              "notes {\n",
              "  pitch: 48\n",
              "  velocity: 113\n",
              "  end_time: 2.0\n",
              "  instrument: 2\n",
              "  program: 60\n",
              "}\n",
              "notes {\n",
              "  pitch: 40\n",
              "  velocity: 65\n",
              "  end_time: 0.125\n",
              "  instrument: 9\n",
              "  is_drum: true\n",
              "}\n",
              "notes {\n",
              "  pitch: 72\n",
              "  velocity: 113\n",
              "  start_time: 0.125\n",
              "  end_time: 0.1875\n",
              "  instrument: 1\n",
              "  program: 53\n",
              "}\n",
              "notes {\n",
              "  pitch: 72\n",
              "  velocity: 97\n",
              "  start_time: 0.25\n",
              "  end_time: 0.3125\n",
              "  instrument: 1\n",
              "  program: 53\n",
              "}\n",
              "notes {\n",
              "  pitch: 72\n",
              "  velocity: 113\n",
              "  start_time: 0.375\n",
              "  end_time: 0.4375\n",
              "  instrument: 1\n",
              "  program: 53\n",
              "}\n",
              "notes {\n",
              "  pitch: 52\n",
              "  velocity: 113\n",
              "  start_time: 0.5\n",
              "  end_time: 0.625\n",
              "  instrument: 3\n",
              "  program: 48\n",
              "}\n",
              "notes {\n",
              "  pitch: 72\n",
              "  velocity: 113\n",
              "  start_time: 0.5\n",
              "  end_time: 1.0\n",
              "  instrument: 1\n",
              "  program: 53\n",
              "}\n",
              "notes {\n",
              "  pitch: 55\n",
              "  velocity: 113\n",
              "  start_time: 0.5\n",
              "  end_time: 1.0\n",
              "  instrument: 2\n",
              "  program: 60\n",
              "}\n",
              "notes {\n",
              "  pitch: 40\n",
              "  velocity: 65\n",
              "  start_time: 0.5\n",
              "  end_time: 0.625\n",
              "  instrument: 9\n",
              "  is_drum: true\n",
              "}\n",
              "notes {\n",
              "  pitch: 52\n",
              "  velocity: 113\n",
              "  start_time: 1.0\n",
              "  end_time: 1.125\n",
              "  instrument: 3\n",
              "  program: 48\n",
              "}\n",
              "notes {\n",
              "  pitch: 40\n",
              "  velocity: 65\n",
              "  start_time: 1.0\n",
              "  end_time: 1.125\n",
              "  instrument: 9\n",
              "  is_drum: true\n",
              "}\n",
              "notes {\n",
              "  pitch: 52\n",
              "  velocity: 113\n",
              "  start_time: 1.5\n",
              "  end_time: 1.625\n",
              "  instrument: 3\n",
              "  program: 48\n",
              "}\n",
              "notes {\n",
              "  pitch: 55\n",
              "  velocity: 113\n",
              "  start_time: 1.5\n",
              "  end_time: 2.0\n",
              "  instrument: 2\n",
              "  program: 60\n",
              "}\n",
              "notes {\n",
              "  pitch: 40\n",
              "  velocity: 65\n",
              "  start_time: 1.5\n",
              "  end_time: 1.625\n",
              "  instrument: 9\n",
              "  is_drum: true\n",
              "}\n",
              "notes {\n",
              "  pitch: 72\n",
              "  velocity: 97\n",
              "  start_time: 2.0\n",
              "  end_time: 2.0625\n",
              "  instrument: 1\n",
              "  program: 53\n",
              "}\n",
              "notes {\n",
              "  pitch: 48\n",
              "  velocity: 113\n",
              "  start_time: 2.0\n",
              "  end_time: 4.0\n",
              "  instrument: 2\n",
              "  program: 60\n",
              "}\n",
              "notes {\n",
              "  pitch: 40\n",
              "  velocity: 65\n",
              "  start_time: 2.0\n",
              "  end_time: 2.125\n",
              "  instrument: 9\n",
              "  is_drum: true\n",
              "}\n",
              "notes {\n",
              "  pitch: 72\n",
              "  velocity: 113\n",
              "  start_time: 2.125\n",
              "  end_time: 2.1875\n",
              "  instrument: 1\n",
              "  program: 53\n",
              "}\n",
              "notes {\n",
              "  pitch: 72\n",
              "  velocity: 97\n",
              "  start_time: 2.25\n",
              "  end_time: 2.3125\n",
              "  instrument: 1\n",
              "  program: 53\n",
              "}\n",
              "notes {\n",
              "  pitch: 72\n",
              "  velocity: 113\n",
              "  start_time: 2.375\n",
              "  end_time: 2.4375\n",
              "  instrument: 1\n",
              "  program: 53\n",
              "}\n",
              "notes {\n",
              "  pitch: 52\n",
              "  velocity: 113\n",
              "  start_time: 2.5\n",
              "  end_time: 2.625\n",
              "  instrument: 3\n",
              "  program: 48\n",
              "}\n",
              "notes {\n",
              "  pitch: 72\n",
              "  velocity: 113\n",
              "  start_time: 2.5\n",
              "  end_time: 3.0\n",
              "  instrument: 1\n",
              "  program: 53\n",
              "}\n",
              "notes {\n",
              "  pitch: 55\n",
              "  velocity: 113\n",
              "  start_time: 2.5\n",
              "  end_time: 3.0\n",
              "  instrument: 2\n",
              "  program: 60\n",
              "}\n",
              "notes {\n",
              "  pitch: 40\n",
              "  velocity: 65\n",
              "  start_time: 2.5\n",
              "  end_time: 2.625\n",
              "  instrument: 9\n",
              "  is_drum: true\n",
              "}\n",
              "notes {\n",
              "  pitch: 52\n",
              "  velocity: 113\n",
              "  start_time: 3.0\n",
              "  end_time: 3.125\n",
              "  instrument: 3\n",
              "  program: 48\n",
              "}\n",
              "notes {\n",
              "  pitch: 40\n",
              "  velocity: 65\n",
              "  start_time: 3.0\n",
              "  end_time: 3.125\n",
              "  instrument: 9\n",
              "  is_drum: true\n",
              "}\n",
              "notes {\n",
              "  pitch: 52\n",
              "  velocity: 113\n",
              "  start_time: 3.5\n",
              "  end_time: 3.625\n",
              "  instrument: 3\n",
              "  program: 48\n",
              "}\n",
              "notes {\n",
              "  pitch: 55\n",
              "  velocity: 113\n",
              "  start_time: 3.5\n",
              "  end_time: 4.0\n",
              "  instrument: 2\n",
              "  program: 60\n",
              "}\n",
              "notes {\n",
              "  pitch: 40\n",
              "  velocity: 65\n",
              "  start_time: 3.5\n",
              "  end_time: 3.625\n",
              "  instrument: 9\n",
              "  is_drum: true\n",
              "}\n",
              "total_time: 4.0\n",
              "text_annotations {\n",
              "  text: \"C\"\n",
              "  annotation_type: CHORD_SYMBOL\n",
              "}\n",
              "text_annotations {\n",
              "  time: 2.0\n",
              "  text: \"C\"\n",
              "  annotation_type: CHORD_SYMBOL\n",
              "}"
            ]
          },
          "execution_count": 66,
          "metadata": {},
          "output_type": "execute_result"
        }
      ],
      "source": [
        "prog_ns"
      ]
    },
    {
      "cell_type": "code",
      "execution_count": 64,
      "metadata": {},
      "outputs": [],
      "source": [
        "file = open(\"rythmic.txt\", \"a\")\n",
        "str = repr(z)\n",
        "file.write(str)\n",
        "file.close()"
      ]
    },
    {
      "cell_type": "code",
      "execution_count": 27,
      "metadata": {},
      "outputs": [
        {
          "name": "stdout",
          "output_type": "stream",
          "text": [
            "ticks_per_quarter: 220\n",
            "tempos {\n",
            "  qpm: 120.0\n",
            "}\n",
            "notes {\n",
            "  pitch: 36\n",
            "  velocity: 113\n",
            "  end_time: 0.5625\n",
            "  instrument: 1\n",
            "  program: 35\n",
            "}\n",
            "notes {\n",
            "  pitch: 79\n",
            "  velocity: 81\n",
            "  end_time: 0.9791666666666666\n",
            "  instrument: 2\n",
            "  program: 48\n",
            "}\n",
            "notes {\n",
            "  pitch: 64\n",
            "  velocity: 97\n",
            "  end_time: 2.0\n",
            "  instrument: 3\n",
            "  program: 49\n",
            "}\n",
            "notes {\n",
            "  pitch: 67\n",
            "  velocity: 97\n",
            "  end_time: 2.0\n",
            "  instrument: 3\n",
            "  program: 49\n",
            "}\n",
            "notes {\n",
            "  pitch: 72\n",
            "  velocity: 97\n",
            "  end_time: 2.0\n",
            "  instrument: 3\n",
            "  program: 49\n",
            "}\n",
            "notes {\n",
            "  pitch: 64\n",
            "  velocity: 97\n",
            "  end_time: 1.9791666666666665\n",
            "  instrument: 4\n",
            "  program: 52\n",
            "}\n",
            "notes {\n",
            "  pitch: 67\n",
            "  velocity: 97\n",
            "  end_time: 1.9791666666666665\n",
            "  instrument: 4\n",
            "  program: 52\n",
            "}\n",
            "notes {\n",
            "  pitch: 72\n",
            "  velocity: 97\n",
            "  end_time: 1.9791666666666665\n",
            "  instrument: 4\n",
            "  program: 52\n",
            "}\n",
            "notes {\n",
            "  pitch: 51\n",
            "  velocity: 97\n",
            "  end_time: 0.08333333333333333\n",
            "  instrument: 9\n",
            "  is_drum: true\n",
            "}\n",
            "notes {\n",
            "  pitch: 36\n",
            "  velocity: 113\n",
            "  end_time: 1.0833333333333333\n",
            "  instrument: 9\n",
            "  is_drum: true\n",
            "}\n",
            "notes {\n",
            "  pitch: 64\n",
            "  velocity: 97\n",
            "  start_time: 0.020833333333333332\n",
            "  end_time: 0.75\n",
            "  instrument: 5\n",
            "  program: 24\n",
            "}\n",
            "notes {\n",
            "  pitch: 67\n",
            "  velocity: 113\n",
            "  start_time: 0.020833333333333332\n",
            "  end_time: 1.0\n",
            "  instrument: 5\n",
            "  program: 24\n",
            "}\n",
            "notes {\n",
            "  pitch: 72\n",
            "  velocity: 97\n",
            "  start_time: 0.020833333333333332\n",
            "  end_time: 1.0\n",
            "  instrument: 5\n",
            "  program: 24\n",
            "}\n",
            "notes {\n",
            "  pitch: 72\n",
            "  velocity: 97\n",
            "  start_time: 0.020833333333333332\n",
            "  end_time: 0.25\n",
            "  instrument: 6\n",
            "  program: 73\n",
            "}\n",
            "notes {\n",
            "  pitch: 51\n",
            "  velocity: 97\n",
            "  start_time: 0.25\n",
            "  end_time: 0.3333333333333333\n",
            "  instrument: 9\n",
            "  is_drum: true\n",
            "}\n",
            "notes {\n",
            "  pitch: 72\n",
            "  velocity: 81\n",
            "  start_time: 0.2708333333333333\n",
            "  end_time: 0.5\n",
            "  instrument: 6\n",
            "  program: 73\n",
            "}\n",
            "notes {\n",
            "  pitch: 60\n",
            "  velocity: 81\n",
            "  start_time: 0.5\n",
            "  end_time: 1.25\n",
            "  instrument: 5\n",
            "  program: 24\n",
            "}\n",
            "notes {\n",
            "  pitch: 51\n",
            "  velocity: 97\n",
            "  start_time: 0.5\n",
            "  end_time: 0.5833333333333333\n",
            "  instrument: 9\n",
            "  is_drum: true\n",
            "}\n",
            "notes {\n",
            "  pitch: 38\n",
            "  velocity: 113\n",
            "  start_time: 0.5\n",
            "  end_time: 2.0\n",
            "  instrument: 9\n",
            "  is_drum: true\n",
            "}\n",
            "notes {\n",
            "  pitch: 72\n",
            "  velocity: 97\n",
            "  start_time: 0.5208333333333333\n",
            "  end_time: 0.75\n",
            "  instrument: 6\n",
            "  program: 73\n",
            "}\n",
            "notes {\n",
            "  pitch: 64\n",
            "  velocity: 81\n",
            "  start_time: 0.75\n",
            "  end_time: 1.5\n",
            "  instrument: 5\n",
            "  program: 24\n",
            "}\n",
            "notes {\n",
            "  pitch: 36\n",
            "  velocity: 113\n",
            "  start_time: 0.75\n",
            "  end_time: 0.8541666666666666\n",
            "  instrument: 1\n",
            "  program: 35\n",
            "}\n",
            "notes {\n",
            "  pitch: 51\n",
            "  velocity: 97\n",
            "  start_time: 0.75\n",
            "  end_time: 0.8333333333333333\n",
            "  instrument: 9\n",
            "  is_drum: true\n",
            "}\n",
            "notes {\n",
            "  pitch: 72\n",
            "  velocity: 81\n",
            "  start_time: 0.7708333333333333\n",
            "  end_time: 1.0\n",
            "  instrument: 6\n",
            "  program: 73\n",
            "}\n",
            "notes {\n",
            "  pitch: 67\n",
            "  velocity: 97\n",
            "  start_time: 1.0\n",
            "  end_time: 1.75\n",
            "  instrument: 5\n",
            "  program: 24\n",
            "}\n",
            "notes {\n",
            "  pitch: 72\n",
            "  velocity: 97\n",
            "  start_time: 1.0\n",
            "  end_time: 1.9791666666666665\n",
            "  instrument: 5\n",
            "  program: 24\n",
            "}\n",
            "notes {\n",
            "  pitch: 36\n",
            "  velocity: 113\n",
            "  start_time: 1.0\n",
            "  end_time: 1.5416666666666665\n",
            "  instrument: 1\n",
            "  program: 35\n",
            "}\n",
            "notes {\n",
            "  pitch: 81\n",
            "  velocity: 81\n",
            "  start_time: 1.0\n",
            "  end_time: 2.0\n",
            "  instrument: 2\n",
            "  program: 48\n",
            "}\n",
            "notes {\n",
            "  pitch: 51\n",
            "  velocity: 97\n",
            "  start_time: 1.0\n",
            "  end_time: 1.0833333333333333\n",
            "  instrument: 9\n",
            "  is_drum: true\n",
            "}\n",
            "notes {\n",
            "  pitch: 36\n",
            "  velocity: 113\n",
            "  start_time: 1.0\n",
            "  end_time: 1.3333333333333333\n",
            "  instrument: 9\n",
            "  is_drum: true\n",
            "}\n",
            "notes {\n",
            "  pitch: 72\n",
            "  velocity: 97\n",
            "  start_time: 1.0208333333333333\n",
            "  end_time: 1.25\n",
            "  instrument: 6\n",
            "  program: 73\n",
            "}\n",
            "notes {\n",
            "  pitch: 60\n",
            "  velocity: 81\n",
            "  start_time: 1.25\n",
            "  end_time: 1.9791666666666665\n",
            "  instrument: 5\n",
            "  program: 24\n",
            "}\n",
            "notes {\n",
            "  pitch: 36\n",
            "  velocity: 113\n",
            "  start_time: 1.25\n",
            "  end_time: 1.3333333333333333\n",
            "  instrument: 9\n",
            "  is_drum: true\n",
            "}\n",
            "notes {\n",
            "  pitch: 51\n",
            "  velocity: 97\n",
            "  start_time: 1.25\n",
            "  end_time: 1.3333333333333333\n",
            "  instrument: 9\n",
            "  is_drum: true\n",
            "}\n",
            "notes {\n",
            "  pitch: 72\n",
            "  velocity: 81\n",
            "  start_time: 1.2708333333333333\n",
            "  end_time: 1.5\n",
            "  instrument: 6\n",
            "  program: 73\n",
            "}\n",
            "notes {\n",
            "  pitch: 64\n",
            "  velocity: 97\n",
            "  start_time: 1.5\n",
            "  end_time: 1.9791666666666665\n",
            "  instrument: 5\n",
            "  program: 24\n",
            "}\n",
            "notes {\n",
            "  pitch: 51\n",
            "  velocity: 97\n",
            "  start_time: 1.5\n",
            "  end_time: 1.5833333333333333\n",
            "  instrument: 9\n",
            "  is_drum: true\n",
            "}\n",
            "notes {\n",
            "  pitch: 38\n",
            "  velocity: 113\n",
            "  start_time: 1.5\n",
            "  end_time: 2.0\n",
            "  instrument: 9\n",
            "  is_drum: true\n",
            "}\n",
            "notes {\n",
            "  pitch: 72\n",
            "  velocity: 97\n",
            "  start_time: 1.5208333333333333\n",
            "  end_time: 1.75\n",
            "  instrument: 6\n",
            "  program: 73\n",
            "}\n",
            "notes {\n",
            "  pitch: 67\n",
            "  velocity: 81\n",
            "  start_time: 1.75\n",
            "  end_time: 1.9791666666666665\n",
            "  instrument: 5\n",
            "  program: 24\n",
            "}\n",
            "notes {\n",
            "  pitch: 36\n",
            "  velocity: 113\n",
            "  start_time: 1.75\n",
            "  end_time: 1.8541666666666665\n",
            "  instrument: 1\n",
            "  program: 35\n",
            "}\n",
            "notes {\n",
            "  pitch: 51\n",
            "  velocity: 97\n",
            "  start_time: 1.75\n",
            "  end_time: 1.8333333333333333\n",
            "  instrument: 9\n",
            "  is_drum: true\n",
            "}\n",
            "notes {\n",
            "  pitch: 72\n",
            "  velocity: 81\n",
            "  start_time: 1.7708333333333333\n",
            "  end_time: 2.0\n",
            "  instrument: 6\n",
            "  program: 73\n",
            "}\n",
            "total_time: 2.0\n",
            "text_annotations {\n",
            "  text: \"C\"\n",
            "  annotation_type: CHORD_SYMBOL\n",
            "}\n",
            "subsequence_info {\n",
            "}\n",
            "\n"
          ]
        }
      ],
      "source": [
        "print(seqs[0])"
      ]
    },
    {
      "cell_type": "code",
      "execution_count": 12,
      "metadata": {},
      "outputs": [],
      "source": [
        "seqs = [\n",
        "    model.decode(length=TOTAL_STEPS, z=z, temperature=temperature,\n",
        "                 c_input=chord_encoding(c))[0]\n",
        "    for c in chords\n",
        "]"
      ]
    },
    {
      "cell_type": "code",
      "execution_count": 25,
      "metadata": {
        "id": "xwQyOx8E4NLK"
      },
      "outputs": [
        {
          "ename": "NameError",
          "evalue": "name 'files' is not defined",
          "output_type": "error",
          "traceback": [
            "\u001b[1;31m---------------------------------------------------------------------------\u001b[0m",
            "\u001b[1;31mNameError\u001b[0m                                 Traceback (most recent call last)",
            "\u001b[1;32m~\\AppData\\Local\\Temp\\ipykernel_17612\\1888024273.py\u001b[0m in \u001b[0;36m<module>\u001b[1;34m\u001b[0m\n\u001b[0;32m      1\u001b[0m \u001b[1;31m#@title (Optional) Save Arrangement to MIDI\u001b[0m\u001b[1;33m\u001b[0m\u001b[1;33m\u001b[0m\u001b[1;33m\u001b[0m\u001b[0m\n\u001b[1;32m----> 2\u001b[1;33m \u001b[0mdownload\u001b[0m\u001b[1;33m(\u001b[0m\u001b[0mprog_ns\u001b[0m\u001b[1;33m,\u001b[0m \u001b[1;34m'_'\u001b[0m\u001b[1;33m.\u001b[0m\u001b[0mjoin\u001b[0m\u001b[1;33m(\u001b[0m\u001b[0mchords\u001b[0m\u001b[1;33m)\u001b[0m \u001b[1;33m+\u001b[0m \u001b[1;34m'.mid'\u001b[0m\u001b[1;33m)\u001b[0m\u001b[1;33m\u001b[0m\u001b[1;33m\u001b[0m\u001b[0m\n\u001b[0m",
            "\u001b[1;32m~\\AppData\\Local\\Temp\\ipykernel_17612\\4008154382.py\u001b[0m in \u001b[0;36mdownload\u001b[1;34m(note_sequence, filename)\u001b[0m\n\u001b[0;32m     25\u001b[0m \u001b[1;32mdef\u001b[0m \u001b[0mdownload\u001b[0m\u001b[1;33m(\u001b[0m\u001b[0mnote_sequence\u001b[0m\u001b[1;33m,\u001b[0m \u001b[0mfilename\u001b[0m\u001b[1;33m)\u001b[0m\u001b[1;33m:\u001b[0m\u001b[1;33m\u001b[0m\u001b[1;33m\u001b[0m\u001b[0m\n\u001b[0;32m     26\u001b[0m   \u001b[0mmm\u001b[0m\u001b[1;33m.\u001b[0m\u001b[0msequence_proto_to_midi_file\u001b[0m\u001b[1;33m(\u001b[0m\u001b[0mnote_sequence\u001b[0m\u001b[1;33m,\u001b[0m \u001b[0mfilename\u001b[0m\u001b[1;33m)\u001b[0m\u001b[1;33m\u001b[0m\u001b[1;33m\u001b[0m\u001b[0m\n\u001b[1;32m---> 27\u001b[1;33m   \u001b[0mfiles\u001b[0m\u001b[1;33m.\u001b[0m\u001b[0mdownload\u001b[0m\u001b[1;33m(\u001b[0m\u001b[0mfilename\u001b[0m\u001b[1;33m)\u001b[0m\u001b[1;33m\u001b[0m\u001b[1;33m\u001b[0m\u001b[0m\n\u001b[0m\u001b[0;32m     28\u001b[0m \u001b[1;33m\u001b[0m\u001b[0m\n\u001b[0;32m     29\u001b[0m \u001b[1;31m# Chord encoding tensor.\u001b[0m\u001b[1;33m\u001b[0m\u001b[1;33m\u001b[0m\u001b[1;33m\u001b[0m\u001b[0m\n",
            "\u001b[1;31mNameError\u001b[0m: name 'files' is not defined"
          ]
        }
      ],
      "source": [
        "#@title (Optional) Save Arrangement to MIDI\n",
        "download(prog_ns, '_'.join(chords) + '.mid')"
      ]
    },
    {
      "cell_type": "code",
      "execution_count": 25,
      "metadata": {
        "id": "2bXqnFz9gAya"
      },
      "outputs": [
        {
          "data": {
            "text/html": [
              "<div class=\"bk-root\">\n",
              "        <a href=\"https://bokeh.org\" target=\"_blank\" class=\"bk-logo bk-logo-small bk-logo-notebook\"></a>\n",
              "        <span id=\"2133\">Loading BokehJS ...</span>\n",
              "    </div>\n"
            ]
          },
          "metadata": {},
          "output_type": "display_data"
        },
        {
          "data": {
            "application/javascript": "(function(root) {\n  function now() {\n    return new Date();\n  }\n\n  const force = true;\n\n  if (typeof root._bokeh_onload_callbacks === \"undefined\" || force === true) {\n    root._bokeh_onload_callbacks = [];\n    root._bokeh_is_loading = undefined;\n  }\n\nconst JS_MIME_TYPE = 'application/javascript';\n  const HTML_MIME_TYPE = 'text/html';\n  const EXEC_MIME_TYPE = 'application/vnd.bokehjs_exec.v0+json';\n  const CLASS_NAME = 'output_bokeh rendered_html';\n\n  /**\n   * Render data to the DOM node\n   */\n  function render(props, node) {\n    const script = document.createElement(\"script\");\n    node.appendChild(script);\n  }\n\n  /**\n   * Handle when an output is cleared or removed\n   */\n  function handleClearOutput(event, handle) {\n    const cell = handle.cell;\n\n    const id = cell.output_area._bokeh_element_id;\n    const server_id = cell.output_area._bokeh_server_id;\n    // Clean up Bokeh references\n    if (id != null && id in Bokeh.index) {\n      Bokeh.index[id].model.document.clear();\n      delete Bokeh.index[id];\n    }\n\n    if (server_id !== undefined) {\n      // Clean up Bokeh references\n      const cmd_clean = \"from bokeh.io.state import curstate; print(curstate().uuid_to_server['\" + server_id + \"'].get_sessions()[0].document.roots[0]._id)\";\n      cell.notebook.kernel.execute(cmd_clean, {\n        iopub: {\n          output: function(msg) {\n            const id = msg.content.text.trim();\n            if (id in Bokeh.index) {\n              Bokeh.index[id].model.document.clear();\n              delete Bokeh.index[id];\n            }\n          }\n        }\n      });\n      // Destroy server and session\n      const cmd_destroy = \"import bokeh.io.notebook as ion; ion.destroy_server('\" + server_id + \"')\";\n      cell.notebook.kernel.execute(cmd_destroy);\n    }\n  }\n\n  /**\n   * Handle when a new output is added\n   */\n  function handleAddOutput(event, handle) {\n    const output_area = handle.output_area;\n    const output = handle.output;\n\n    // limit handleAddOutput to display_data with EXEC_MIME_TYPE content only\n    if ((output.output_type != \"display_data\") || (!Object.prototype.hasOwnProperty.call(output.data, EXEC_MIME_TYPE))) {\n      return\n    }\n\n    const toinsert = output_area.element.find(\".\" + CLASS_NAME.split(' ')[0]);\n\n    if (output.metadata[EXEC_MIME_TYPE][\"id\"] !== undefined) {\n      toinsert[toinsert.length - 1].firstChild.textContent = output.data[JS_MIME_TYPE];\n      // store reference to embed id on output_area\n      output_area._bokeh_element_id = output.metadata[EXEC_MIME_TYPE][\"id\"];\n    }\n    if (output.metadata[EXEC_MIME_TYPE][\"server_id\"] !== undefined) {\n      const bk_div = document.createElement(\"div\");\n      bk_div.innerHTML = output.data[HTML_MIME_TYPE];\n      const script_attrs = bk_div.children[0].attributes;\n      for (let i = 0; i < script_attrs.length; i++) {\n        toinsert[toinsert.length - 1].firstChild.setAttribute(script_attrs[i].name, script_attrs[i].value);\n        toinsert[toinsert.length - 1].firstChild.textContent = bk_div.children[0].textContent\n      }\n      // store reference to server id on output_area\n      output_area._bokeh_server_id = output.metadata[EXEC_MIME_TYPE][\"server_id\"];\n    }\n  }\n\n  function register_renderer(events, OutputArea) {\n\n    function append_mime(data, metadata, element) {\n      // create a DOM node to render to\n      const toinsert = this.create_output_subarea(\n        metadata,\n        CLASS_NAME,\n        EXEC_MIME_TYPE\n      );\n      this.keyboard_manager.register_events(toinsert);\n      // Render to node\n      const props = {data: data, metadata: metadata[EXEC_MIME_TYPE]};\n      render(props, toinsert[toinsert.length - 1]);\n      element.append(toinsert);\n      return toinsert\n    }\n\n    /* Handle when an output is cleared or removed */\n    events.on('clear_output.CodeCell', handleClearOutput);\n    events.on('delete.Cell', handleClearOutput);\n\n    /* Handle when a new output is added */\n    events.on('output_added.OutputArea', handleAddOutput);\n\n    /**\n     * Register the mime type and append_mime function with output_area\n     */\n    OutputArea.prototype.register_mime_type(EXEC_MIME_TYPE, append_mime, {\n      /* Is output safe? */\n      safe: true,\n      /* Index of renderer in `output_area.display_order` */\n      index: 0\n    });\n  }\n\n  // register the mime type if in Jupyter Notebook environment and previously unregistered\n  if (root.Jupyter !== undefined) {\n    const events = require('base/js/events');\n    const OutputArea = require('notebook/js/outputarea').OutputArea;\n\n    if (OutputArea.prototype.mime_types().indexOf(EXEC_MIME_TYPE) == -1) {\n      register_renderer(events, OutputArea);\n    }\n  }\n  if (typeof (root._bokeh_timeout) === \"undefined\" || force === true) {\n    root._bokeh_timeout = Date.now() + 5000;\n    root._bokeh_failed_load = false;\n  }\n\n  const NB_LOAD_WARNING = {'data': {'text/html':\n     \"<div style='background-color: #fdd'>\\n\"+\n     \"<p>\\n\"+\n     \"BokehJS does not appear to have successfully loaded. If loading BokehJS from CDN, this \\n\"+\n     \"may be due to a slow or bad network connection. Possible fixes:\\n\"+\n     \"</p>\\n\"+\n     \"<ul>\\n\"+\n     \"<li>re-rerun `output_notebook()` to attempt to load from CDN again, or</li>\\n\"+\n     \"<li>use INLINE resources instead, as so:</li>\\n\"+\n     \"</ul>\\n\"+\n     \"<code>\\n\"+\n     \"from bokeh.resources import INLINE\\n\"+\n     \"output_notebook(resources=INLINE)\\n\"+\n     \"</code>\\n\"+\n     \"</div>\"}};\n\n  function display_loaded() {\n    const el = document.getElementById(\"2133\");\n    if (el != null) {\n      el.textContent = \"BokehJS is loading...\";\n    }\n    if (root.Bokeh !== undefined) {\n      if (el != null) {\n        el.textContent = \"BokehJS \" + root.Bokeh.version + \" successfully loaded.\";\n      }\n    } else if (Date.now() < root._bokeh_timeout) {\n      setTimeout(display_loaded, 100)\n    }\n  }\n\n  function run_callbacks() {\n    try {\n      root._bokeh_onload_callbacks.forEach(function(callback) {\n        if (callback != null)\n          callback();\n      });\n    } finally {\n      delete root._bokeh_onload_callbacks\n    }\n    console.debug(\"Bokeh: all callbacks have finished\");\n  }\n\n  function load_libs(css_urls, js_urls, callback) {\n    if (css_urls == null) css_urls = [];\n    if (js_urls == null) js_urls = [];\n\n    root._bokeh_onload_callbacks.push(callback);\n    if (root._bokeh_is_loading > 0) {\n      console.debug(\"Bokeh: BokehJS is being loaded, scheduling callback at\", now());\n      return null;\n    }\n    if (js_urls == null || js_urls.length === 0) {\n      run_callbacks();\n      return null;\n    }\n    console.debug(\"Bokeh: BokehJS not loaded, scheduling load and callback at\", now());\n    root._bokeh_is_loading = css_urls.length + js_urls.length;\n\n    function on_load() {\n      root._bokeh_is_loading--;\n      if (root._bokeh_is_loading === 0) {\n        console.debug(\"Bokeh: all BokehJS libraries/stylesheets loaded\");\n        run_callbacks()\n      }\n    }\n\n    function on_error(url) {\n      console.error(\"failed to load \" + url);\n    }\n\n    for (let i = 0; i < css_urls.length; i++) {\n      const url = css_urls[i];\n      const element = document.createElement(\"link\");\n      element.onload = on_load;\n      element.onerror = on_error.bind(null, url);\n      element.rel = \"stylesheet\";\n      element.type = \"text/css\";\n      element.href = url;\n      console.debug(\"Bokeh: injecting link tag for BokehJS stylesheet: \", url);\n      document.body.appendChild(element);\n    }\n\n    for (let i = 0; i < js_urls.length; i++) {\n      const url = js_urls[i];\n      const element = document.createElement('script');\n      element.onload = on_load;\n      element.onerror = on_error.bind(null, url);\n      element.async = false;\n      element.src = url;\n      console.debug(\"Bokeh: injecting script tag for BokehJS library: \", url);\n      document.head.appendChild(element);\n    }\n  };\n\n  function inject_raw_css(css) {\n    const element = document.createElement(\"style\");\n    element.appendChild(document.createTextNode(css));\n    document.body.appendChild(element);\n  }\n\n  const js_urls = [\"https://cdn.bokeh.org/bokeh/release/bokeh-2.4.3.min.js\", \"https://cdn.bokeh.org/bokeh/release/bokeh-gl-2.4.3.min.js\", \"https://cdn.bokeh.org/bokeh/release/bokeh-widgets-2.4.3.min.js\", \"https://cdn.bokeh.org/bokeh/release/bokeh-tables-2.4.3.min.js\", \"https://cdn.bokeh.org/bokeh/release/bokeh-mathjax-2.4.3.min.js\"];\n  const css_urls = [];\n\n  const inline_js = [    function(Bokeh) {\n      Bokeh.set_log_level(\"info\");\n    },\nfunction(Bokeh) {\n    }\n  ];\n\n  function run_inline_js() {\n    if (root.Bokeh !== undefined || force === true) {\n          for (let i = 0; i < inline_js.length; i++) {\n      inline_js[i].call(root, root.Bokeh);\n    }\nif (force === true) {\n        display_loaded();\n      }} else if (Date.now() < root._bokeh_timeout) {\n      setTimeout(run_inline_js, 100);\n    } else if (!root._bokeh_failed_load) {\n      console.log(\"Bokeh: BokehJS failed to load within specified timeout.\");\n      root._bokeh_failed_load = true;\n    } else if (force !== true) {\n      const cell = $(document.getElementById(\"2133\")).parents('.cell').data().cell;\n      cell.output_area.append_execute_result(NB_LOAD_WARNING)\n    }\n  }\n\n  if (root._bokeh_is_loading === 0) {\n    console.debug(\"Bokeh: BokehJS loaded, going straight to plotting\");\n    run_inline_js();\n  } else {\n    load_libs(css_urls, js_urls, function() {\n      console.debug(\"Bokeh: BokehJS plotting callback run at\", now());\n      run_inline_js();\n    });\n  }\n}(window));",
            "application/vnd.bokehjs_load.v0+json": ""
          },
          "metadata": {},
          "output_type": "display_data"
        },
        {
          "data": {
            "text/html": [
              "\n",
              "  <div class=\"bk-root\" id=\"5beec03f-006b-4d6e-88b6-c4ac91c6d767\" data-root-id=\"1823\"></div>\n"
            ]
          },
          "metadata": {},
          "output_type": "display_data"
        },
        {
          "data": {
            "application/javascript": "(function(root) {\n  function embed_document(root) {\n  const docs_json = {\"c8b9df23-653d-45ba-ac82-a9c5cb5fb28b\":{\"defs\":[],\"roots\":{\"references\":[{\"attributes\":{\"below\":[{\"id\":\"1832\"}],\"center\":[{\"id\":\"1835\"},{\"id\":\"1839\"}],\"height\":200,\"left\":[{\"id\":\"1836\"}],\"renderers\":[{\"id\":\"1860\"},{\"id\":\"1867\"},{\"id\":\"1874\"},{\"id\":\"1881\"},{\"id\":\"1888\"},{\"id\":\"1895\"},{\"id\":\"1902\"},{\"id\":\"1909\"},{\"id\":\"1916\"},{\"id\":\"1923\"},{\"id\":\"1930\"},{\"id\":\"1937\"},{\"id\":\"1944\"},{\"id\":\"1951\"},{\"id\":\"1958\"},{\"id\":\"1965\"},{\"id\":\"1972\"},{\"id\":\"1979\"},{\"id\":\"1986\"},{\"id\":\"1993\"},{\"id\":\"2000\"},{\"id\":\"2007\"},{\"id\":\"2014\"},{\"id\":\"2021\"},{\"id\":\"2028\"},{\"id\":\"2035\"},{\"id\":\"2042\"},{\"id\":\"2049\"},{\"id\":\"2056\"},{\"id\":\"2063\"}],\"title\":{\"id\":\"2065\"},\"toolbar\":{\"id\":\"1846\"},\"width\":500,\"x_range\":{\"id\":\"1824\"},\"x_scale\":{\"id\":\"1828\"},\"y_range\":{\"id\":\"1826\"},\"y_scale\":{\"id\":\"1830\"}},\"id\":\"1823\",\"subtype\":\"Figure\",\"type\":\"Plot\"},{\"attributes\":{},\"id\":\"2087\",\"type\":\"Selection\"},{\"attributes\":{},\"id\":\"2117\",\"type\":\"Selection\"},{\"attributes\":{},\"id\":\"1844\",\"type\":\"SaveTool\"},{\"attributes\":{},\"id\":\"2089\",\"type\":\"Selection\"},{\"attributes\":{},\"id\":\"2119\",\"type\":\"Selection\"},{\"attributes\":{},\"id\":\"2086\",\"type\":\"UnionRenderers\"},{\"attributes\":{},\"id\":\"2121\",\"type\":\"Selection\"},{\"attributes\":{\"bottom\":{\"field\":\"bottom\"},\"fill_alpha\":{\"value\":0.1},\"fill_color\":{\"value\":\"#d53e4f\"},\"hatch_alpha\":{\"value\":0.1},\"left\":{\"field\":\"start_time\"},\"line_alpha\":{\"value\":0.1},\"right\":{\"field\":\"end_time\"},\"top\":{\"field\":\"top\"}},\"id\":\"2054\",\"type\":\"Quad\"},{\"attributes\":{},\"id\":\"2118\",\"type\":\"UnionRenderers\"},{\"attributes\":{\"bottom\":{\"field\":\"bottom\"},\"fill_alpha\":{\"value\":0.2},\"fill_color\":{\"value\":\"#e6f598\"},\"hatch_alpha\":{\"value\":0.2},\"left\":{\"field\":\"start_time\"},\"line_alpha\":{\"value\":0.2},\"right\":{\"field\":\"end_time\"},\"top\":{\"field\":\"top\"}},\"id\":\"1999\",\"type\":\"Quad\"},{\"attributes\":{},\"id\":\"2091\",\"type\":\"Selection\"},{\"attributes\":{\"coordinates\":null,\"data_source\":{\"id\":\"1869\"},\"glyph\":{\"id\":\"1871\"},\"group\":null,\"hover_glyph\":null,\"muted_glyph\":{\"id\":\"1873\"},\"nonselection_glyph\":{\"id\":\"1872\"},\"view\":{\"id\":\"1875\"}},\"id\":\"1874\",\"type\":\"GlyphRenderer\"},{\"attributes\":{\"bottom\":{\"field\":\"bottom\"},\"fill_alpha\":{\"value\":0.2},\"fill_color\":{\"value\":\"#d53e4f\"},\"hatch_alpha\":{\"value\":0.2},\"left\":{\"field\":\"start_time\"},\"line_alpha\":{\"value\":0.2},\"right\":{\"field\":\"end_time\"},\"top\":{\"field\":\"top\"}},\"id\":\"1908\",\"type\":\"Quad\"},{\"attributes\":{},\"id\":\"2123\",\"type\":\"Selection\"},{\"attributes\":{},\"id\":\"2088\",\"type\":\"UnionRenderers\"},{\"attributes\":{},\"id\":\"2120\",\"type\":\"UnionRenderers\"},{\"attributes\":{\"source\":{\"id\":\"1869\"}},\"id\":\"1875\",\"type\":\"CDSView\"},{\"attributes\":{},\"id\":\"2093\",\"type\":\"Selection\"},{\"attributes\":{\"source\":{\"id\":\"1876\"}},\"id\":\"1882\",\"type\":\"CDSView\"},{\"attributes\":{},\"id\":\"2125\",\"type\":\"Selection\"},{\"attributes\":{\"bottom\":{\"field\":\"bottom\"},\"fill_alpha\":{\"value\":0.1},\"fill_color\":{\"value\":\"#d53e4f\"},\"hatch_alpha\":{\"value\":0.1},\"left\":{\"field\":\"start_time\"},\"line_alpha\":{\"value\":0.1},\"right\":{\"field\":\"end_time\"},\"top\":{\"field\":\"top\"}},\"id\":\"1907\",\"type\":\"Quad\"},{\"attributes\":{\"source\":{\"id\":\"1974\"}},\"id\":\"1980\",\"type\":\"CDSView\"},{\"attributes\":{\"bottom\":{\"field\":\"bottom\"},\"fill_alpha\":{\"field\":\"fill_alpha\"},\"fill_color\":{\"value\":\"#3288bd\"},\"left\":{\"field\":\"start_time\"},\"right\":{\"field\":\"end_time\"},\"top\":{\"field\":\"top\"}},\"id\":\"2060\",\"type\":\"Quad\"},{\"attributes\":{},\"id\":\"2090\",\"type\":\"UnionRenderers\"},{\"attributes\":{\"coordinates\":null,\"data_source\":{\"id\":\"1876\"},\"glyph\":{\"id\":\"1878\"},\"group\":null,\"hover_glyph\":null,\"muted_glyph\":{\"id\":\"1880\"},\"nonselection_glyph\":{\"id\":\"1879\"},\"view\":{\"id\":\"1882\"}},\"id\":\"1881\",\"type\":\"GlyphRenderer\"},{\"attributes\":{},\"id\":\"2122\",\"type\":\"UnionRenderers\"},{\"attributes\":{\"source\":{\"id\":\"1904\"}},\"id\":\"1910\",\"type\":\"CDSView\"},{\"attributes\":{},\"id\":\"2095\",\"type\":\"Selection\"},{\"attributes\":{\"bottom\":{\"field\":\"bottom\"},\"fill_alpha\":{\"value\":0.1},\"fill_color\":{\"value\":\"#f46d43\"},\"hatch_alpha\":{\"value\":0.1},\"left\":{\"field\":\"start_time\"},\"line_alpha\":{\"value\":0.1},\"right\":{\"field\":\"end_time\"},\"top\":{\"field\":\"top\"}},\"id\":\"1921\",\"type\":\"Quad\"},{\"attributes\":{},\"id\":\"2127\",\"type\":\"Selection\"},{\"attributes\":{\"data\":{\"bottom\":{\"__ndarray__\":\"zczMzMxMSkDNzMzMzExMQM3MzMzMzE1AzczMzMxMRkDNzMzMzMxJQM3MzMzMTExAzczMzMzMTUDNzMzMzMxPQM3MzMzMTEZAzczMzMzMSUDNzMzMzExMQM3MzMzMzE1AzczMzMzMT0DNzMzMzMxIQM3MzMzMTEtAzczMzMxMTUDNzMzMzMxOQGZmZmZmJlBAZmZmZmYmUUDNzMzMzMxIQM3MzMzMTExAzczMzMzMTUBmZmZmZiZQQGZmZmZmJlFAZmZmZmYmUEBmZmZmZiZRQM3MzMzMzEhAzczMzMxMTEDNzMzMzMxOQGZmZmZmJlBAZmZmZmYmUUDNzMzMzExGQM3MzMzMTEZAzczMzMxMS0DNzMzMzMxKQM3MzMzMTEtAzczMzMzMSEDNzMzMzExKQM3MzMzMTEpAzczMzMxMSkDNzMzMzExGQM3MzMzMzElAzczMzMxMTEDNzMzMzMxNQM3MzMzMTEtAzczMzMzMSkDNzMzMzExKQM3MzMzMzEhAzczMzMzMTUBmZmZmZiZQQGZmZmZmJlFAzczMzMzMTUDNzMzMzMxPQGZmZmZmJlFAzczMzMzMTkBmZmZmZqZQQM3MzMzMTE1AzczMzMzMTkBmZmZmZqZQQM3MzMzMTE1AzczMzMzMTkBmZmZmZqZQQM3MzMzMTE1AzczMzMzMTkBmZmZmZqZQQM3MzMzMzE5AZmZmZmYmUEDNzMzMzMxOQGZmZmZmJlBAzczMzMzMTkBmZmZmZiZQQGZmZmZmJlBAZmZmZmYmUUBmZmZmZuZRQGZmZmZmJlBAZmZmZmYmUUBmZmZmZuZRQGZmZmZmJlBAZmZmZmYmUUBmZmZmZuZRQGZmZmZmJlBAZmZmZmYmUUBmZmZmZuZRQM3MzMzMzE1AzczMzMzMT0BmZmZmZiZRQM3MzMzMzE1AzczMzMzMT0BmZmZmZiZRQM3MzMzMzE1AzczMzMzMT0BmZmZmZiZRQM3MzMzMzE1AzczMzMzMT0BmZmZmZiZRQM3MzMzMzE5AZmZmZmamUEBmZmZmZqZRQM3MzMzMzE5AZmZmZmamUEBmZmZmZqZRQM3MzMzMzE5AZmZmZmamUEBmZmZmZqZRQM3MzMzMzE5AZmZmZmamUEBmZmZmZqZRQM3MzMzMzE5AZmZmZmYmUEBmZmZmZiZRQM3MzMzMzE5AZmZmZmYmUEBmZmZmZiZRQM3MzMzMzE5AZmZmZmYmUEBmZmZmZiZRQM3MzMzMzE5AZmZmZmYmUEBmZmZmZiZRQA==\",\"dtype\":\"float64\",\"order\":\"little\",\"shape\":[119]},\"duration\":{\"__ndarray__\":\"AAAAAAAA8D8AAAAAAADwPwAAAAAAAPA/YFVVVVVV7z9gVVVVVVXvP2BVVVVVVe8/YFVVVVVV7z9gVVVVVVXvP2BVVVVVVes/YFVVVVVV6z9gVVVVVVXrP2BVVVVVVes/YFVVVVVV6z+wqqqqqqr/P7Cqqqqqqv8/sKqqqqqq/z+wqqqqqqr/P8Cqqqqqqt4/wKqqqqqq3j+wqqqqqqr3P7Cqqqqqqvc/sKqqqqqq9z+AVVVVVVXdP8Cqqqqqqt4/wKqqqqqq3j/AqqqqqqreP8Cqqqqqqt4/wKqqqqqq3j/AqqqqqqreP8Cqqqqqqt4/wKqqqqqq3j9gVVVVVVXvPwAAAAAAAPA/AAAAAAAA8D+gqqqqqqrgPwAAAAAAAOA/QFVVVVVV7z8AAAAAAADwPwAAAAAAAPA/AAAAAAAA8D8AAAAAAAAAQAAAAAAAAPA/AAAAAAAA8D8AAAAAAADwPwAAAAAAAPA/AAAAAAAA8D8AAAAAAADwPwAAAAAAAPA/oKqqqqqq/z+gqqqqqqr/P6Cqqqqqqv8/oKqqqqqq/z+gqqqqqqr/P6Cqqqqqqv8/gKqqqqqq3j8AAAAAAADgP4Cqqqqqqt4/gKqqqqqq3j+AqqqqqqreP4Cqqqqqqt4/gKqqqqqq3j+AqqqqqqreP4Cqqqqqqt4/gKqqqqqq3j+AqqqqqqrePwAAAAAAAOA/gKqqqqqq3j8AWFVVVVWVPwBYVVVVVZU/AFhVVVVVlT8AWFVVVVWVP4Cqqqqqqt4/gKqqqqqq3j+AqqqqqqreP4Cqqqqqqt4/gKqqqqqq3j+AqqqqqqreP4Cqqqqqqt4/gKqqqqqq3j+AqqqqqqreP4Cqqqqqqt4/gKqqqqqq3j+AqqqqqqreP4Cqqqqqqt4/gKqqqqqq3j+AqqqqqqreP4Cqqqqqqt4/gKqqqqqq3j+AqqqqqqreP4Cqqqqqqt4/gKqqqqqq3j+AqqqqqqreP4Cqqqqqqt4/gKqqqqqq3j+AqqqqqqreP4Cqqqqqqt4/gKqqqqqq3j+AqqqqqqreP4Cqqqqqqt4/gKqqqqqq3j+AqqqqqqreP4Cqqqqqqt4/gKqqqqqq3j+AqqqqqqreP4Cqqqqqqt4/gKqqqqqq3j+AqqqqqqreP4Cqqqqqqt4/gKqqqqqq3j+AqqqqqqreP4Cqqqqqqt4/gKqqqqqq3j+AqqqqqqreP4Cqqqqqqt4/gKqqqqqq3j+AqqqqqqreP4Cqqqqqqt4/gKqqqqqq3j+AqqqqqqrePw==\",\"dtype\":\"float64\",\"order\":\"little\",\"shape\":[119]},\"end_time\":{\"__ndarray__\":\"AAAAAAAAEEAAAAAAAAAQQAAAAAAAABBAAAAAAAAANUAAAAAAAAA1QAAAAAAAADVAAAAAAAAANUAAAAAAAAA1QAAAAAAA4DVAAAAAAADgNUAAAAAAAOA1QAAAAAAA4DVAAAAAAADgNUAAAAAAAAA4QAAAAAAAADhAAAAAAAAAOEAAAAAAAAA4QAAAAAAAgDhAAAAAAACAOEAAAAAAAIA5QAAAAAAAgDlAAAAAAACAOUCrqqqqqvo4QAAAAAAAADlAAAAAAACAOUAAAAAAAIA5QAAAAAAAADpAAAAAAAAAOkAAAAAAAAA6QAAAAAAAADpAAAAAAAAAOkCrqqqqqvo8QAAAAAAAAD5AAAAAAAAAP0BVVVVVVYU/QAAAAAAAAEBAVVVVVVV9QEAAAAAAAABBQAAAAAAAgEFAAAAAAAAAQkAAAAAAAABDQAAAAAAAAENAAAAAAAAAQ0AAAAAAAABDQAAAAAAAgENAAAAAAAAAREAAAAAAAIBEQAAAAAAAAEVAAAAAAAAARkAAAAAAAABGQAAAAAAAAEZAAAAAAAAAR0AAAAAAAABHQAAAAAAAAEdAVVVVVVU9R0AAAAAAAEBHQFVVVVVVfUdAVVVVVVV9R0BVVVVVVX1HQFVVVVVVvUdAVVVVVVW9R0BVVVVVVb1HQFVVVVVV/UdAVVVVVVX9R0BVVVVVVf1HQAAAAAAAQEhAAAAAAABASECrqqqqqkJIQKuqqqqqQkhAq6qqqqqCSECrqqqqqoJIQFVVVVVVPUlAVVVVVVU9SUBVVVVVVT1JQFVVVVVVfUlAVVVVVVV9SUBVVVVVVX1JQFVVVVVVvUlAVVVVVVW9SUBVVVVVVb1JQFVVVVVV/UlAVVVVVVX9SUBVVVVVVf1JQFVVVVVVPUpAVVVVVVU9SkBVVVVVVT1KQFVVVVVVfUpAVVVVVVV9SkBVVVVVVX1KQFVVVVVVvUpAVVVVVVW9SkBVVVVVVb1KQFVVVVVV/UpAVVVVVVX9SkBVVVVVVf1KQFVVVVVVPUtAVVVVVVU9S0BVVVVVVT1LQFVVVVVVfUtAVVVVVVV9S0BVVVVVVX1LQFVVVVVVvUtAVVVVVVW9S0BVVVVVVb1LQFVVVVVV/UtAVVVVVVX9S0BVVVVVVf1LQFVVVVVVPUxAVVVVVVU9TEBVVVVVVT1MQFVVVVVVfUxAVVVVVVV9TEBVVVVVVX1MQFVVVVVVvUxAVVVVVVW9TEBVVVVVVb1MQFVVVVVV/UxAVVVVVVX9TEBVVVVVVf1MQA==\",\"dtype\":\"float64\",\"order\":\"little\",\"shape\":[119]},\"fill_alpha\":{\"__ndarray__\":\"AAAAAABA4D8AAAAAAEDgPwAAAAAAQOA/AAAAAACA2D8AAAAAAIDYPwAAAAAAgNg/AAAAAACA2D8AAAAAAIDYPwAAAAAAgNg/AAAAAACA2D8AAAAAAIDYPwAAAAAAgNg/AAAAAACA2D8AAAAAAIDYPwAAAAAAgNg/AAAAAACA2D8AAAAAAIDYPwAAAAAAgNg/AAAAAACA2D8AAAAAAIDYPwAAAAAAgNA/AAAAAACA2D8AAAAAAIDYPwAAAAAAgNg/AAAAAACA2D8AAAAAAIDYPwAAAAAAgNg/AAAAAACA2D8AAAAAAIDYPwAAAAAAgNg/AAAAAACA2D8AAAAAAEDoPwAAAAAAQOg/AAAAAABA6D8AAAAAAEDoPwAAAAAAQOQ/AAAAAABA6D8AAAAAAEDkPwAAAAAAQOg/AAAAAABA5D8AAAAAAEDoPwAAAAAAQOQ/AAAAAABA5D8AAAAAAEDkPwAAAAAAQOg/AAAAAABA6D8AAAAAAEDoPwAAAAAAQOg/AAAAAABA6D8AAAAAAEDoPwAAAAAAQOg/AAAAAABA6D8AAAAAAEDoPwAAAAAAQOg/AAAAAABA6D8AAAAAAEDoPwAAAAAAQOQ/AAAAAABA5D8AAAAAAEDkPwAAAAAAQOg/AAAAAABA6D8AAAAAAEDoPwAAAAAAQOQ/AAAAAABA5D8AAAAAAEDkPwAAAAAAQOg/AAAAAABA6D8AAAAAAEDoPwAAAAAAQOg/AAAAAABA6D8AAAAAAEDoPwAAAAAAQOg/AAAAAABA6D8AAAAAAEDoPwAAAAAAQOg/AAAAAABA6D8AAAAAAEDoPwAAAAAAQOg/AAAAAABA6D8AAAAAAEDoPwAAAAAAQOg/AAAAAABA6D8AAAAAAEDoPwAAAAAAQOg/AAAAAABA6D8AAAAAAEDoPwAAAAAAQOg/AAAAAABA6D8AAAAAAEDoPwAAAAAAQOg/AAAAAABA6D8AAAAAAEDoPwAAAAAAQOg/AAAAAABA6D8AAAAAAEDoPwAAAAAAQOg/AAAAAABA6D8AAAAAAEDoPwAAAAAAQOg/AAAAAABA6D8AAAAAAEDoPwAAAAAAQOg/AAAAAABA6D8AAAAAAEDoPwAAAAAAQOg/AAAAAABA6D8AAAAAAEDoPwAAAAAAQOg/AAAAAABA6D8AAAAAAEDoPwAAAAAAQOg/AAAAAABA6D8AAAAAAEDoPwAAAAAAQOg/AAAAAABA6D8AAAAAAEDoPwAAAAAAQOg/AAAAAABA6D8AAAAAAEDoPw==\",\"dtype\":\"float64\",\"order\":\"little\",\"shape\":[119]},\"index\":[56,57,58,312,313,314,315,316,331,332,333,334,335,349,350,351,352,375,376,377,378,379,387,388,406,407,412,413,414,415,416,458,472,490,504,511,518,530,546,561,578,596,597,598,612,632,646,660,680,681,682,738,739,740,777,778,785,786,787,795,796,797,805,806,807,812,818,824,825,839,840,865,866,867,878,879,880,889,890,891,900,901,902,910,911,912,921,922,923,933,934,935,942,943,944,954,955,956,965,966,967,976,977,978,989,990,991,999,1000,1001,1010,1011,1012,1024,1025,1026,1034,1035,1036],\"instrument\":[6,6,6,6,6,6,6,6,6,6,6,6,6,6,6,6,6,6,6,6,6,6,6,6,6,6,6,6,6,6,6,6,6,6,6,6,6,6,6,6,6,6,6,6,6,6,6,6,6,6,6,6,6,6,6,6,6,6,6,6,6,6,6,6,6,6,6,6,6,6,6,6,6,6,6,6,6,6,6,6,6,6,6,6,6,6,6,6,6,6,6,6,6,6,6,6,6,6,6,6,6,6,6,6,6,6,6,6,6,6,6,6,6,6,6,6,6,6,6],\"pitch\":[53,57,60,45,52,57,60,64,45,52,57,60,64,50,55,59,62,65,69,50,57,60,65,69,65,69,50,57,62,65,69,45,45,55,54,55,50,53,53,53,45,52,57,60,55,54,53,50,60,65,69,60,64,69,62,67,59,62,67,59,62,67,59,62,67,62,65,62,65,62,65,65,69,72,65,69,72,65,69,72,65,69,72,60,64,69,60,64,69,60,64,69,60,64,69,62,67,71,62,67,71,62,67,71,62,67,71,62,65,69,62,65,69,62,65,69,62,65,69],\"program\":[49,49,49,49,49,49,49,49,49,49,49,49,49,49,49,49,49,49,49,49,49,49,49,49,49,49,49,49,49,49,49,49,49,49,49,49,49,49,49,49,49,49,49,49,49,49,49,49,49,49,49,49,49,49,49,49,49,49,49,49,49,49,49,49,49,49,49,49,49,49,49,49,49,49,49,49,49,49,49,49,49,49,49,49,49,49,49,49,49,49,49,49,49,49,49,49,49,49,49,49,49,49,49,49,49,49,49,49,49,49,49,49,49,49,49,49,49,49,49],\"start_time\":{\"__ndarray__\":\"AAAAAAAACEAAAAAAAAAIQAAAAAAAAAhAVVVVVVUFNEBVVVVVVQU0QFVVVVVVBTRAVVVVVVUFNEBVVVVVVQU0QFVVVVVVBTVAVVVVVVUFNUBVVVVVVQU1QFVVVVVVBTVAVVVVVVUFNUBVVVVVVQU2QFVVVVVVBTZAVVVVVVUFNkBVVVVVVQU2QFVVVVVVBThAVVVVVVUFOEBVVVVVVQU4QFVVVVVVBThAVVVVVVUFOEBVVVVVVYU4QFVVVVVVhThAVVVVVVUFOUBVVVVVVQU5QFVVVVVVhTlAVVVVVVWFOUBVVVVVVYU5QFVVVVVVhTlAVVVVVVWFOUAAAAAAAAA8QAAAAAAAAD1AAAAAAAAAPkAAAAAAAAA/QAAAAAAAgD9AAAAAAAAAQEAAAAAAAIBAQAAAAAAAAEFAAAAAAACAQUAAAAAAAABCQAAAAAAAgEJAAAAAAACAQkAAAAAAAIBCQAAAAAAAAENAAAAAAACAQ0AAAAAAAABEQAAAAAAAgERAq6qqqqoCRUCrqqqqqgJFQKuqqqqqAkVAq6qqqqoCRkCrqqqqqgJGQKuqqqqqAkZAAAAAAAAAR0AAAAAAAABHQAAAAAAAQEdAAAAAAABAR0AAAAAAAEBHQAAAAAAAgEdAAAAAAACAR0AAAAAAAIBHQAAAAAAAwEdAAAAAAADAR0AAAAAAAMBHQAAAAAAAAEhAq6qqqqoCSEAAAAAAAEBIQAAAAAAAQEhAAAAAAACASEAAAAAAAIBIQAAAAAAAAElAAAAAAAAASUAAAAAAAABJQAAAAAAAQElAAAAAAABASUAAAAAAAEBJQAAAAAAAgElAAAAAAACASUAAAAAAAIBJQAAAAAAAwElAAAAAAADASUAAAAAAAMBJQAAAAAAAAEpAAAAAAAAASkAAAAAAAABKQAAAAAAAQEpAAAAAAABASkAAAAAAAEBKQAAAAAAAgEpAAAAAAACASkAAAAAAAIBKQAAAAAAAwEpAAAAAAADASkAAAAAAAMBKQAAAAAAAAEtAAAAAAAAAS0AAAAAAAABLQAAAAAAAQEtAAAAAAABAS0AAAAAAAEBLQAAAAAAAgEtAAAAAAACAS0AAAAAAAIBLQAAAAAAAwEtAAAAAAADAS0AAAAAAAMBLQAAAAAAAAExAAAAAAAAATEAAAAAAAABMQAAAAAAAQExAAAAAAABATEAAAAAAAEBMQAAAAAAAgExAAAAAAACATEAAAAAAAIBMQAAAAAAAwExAAAAAAADATEAAAAAAAMBMQA==\",\"dtype\":\"float64\",\"order\":\"little\",\"shape\":[119]},\"top\":{\"__ndarray__\":\"MzMzMzOzSkAzMzMzM7NMQDMzMzMzM05AMzMzMzOzRkAzMzMzMzNKQDMzMzMzs0xAMzMzMzMzTkCamZmZmRlQQDMzMzMzs0ZAMzMzMzMzSkAzMzMzM7NMQDMzMzMzM05AmpmZmZkZUEAzMzMzMzNJQDMzMzMzs0tAMzMzMzOzTUAzMzMzMzNPQJqZmZmZWVBAmpmZmZlZUUAzMzMzMzNJQDMzMzMzs0xAMzMzMzMzTkCamZmZmVlQQJqZmZmZWVFAmpmZmZlZUECamZmZmVlRQDMzMzMzM0lAMzMzMzOzTEAzMzMzMzNPQJqZmZmZWVBAmpmZmZlZUUAzMzMzM7NGQDMzMzMzs0ZAMzMzMzOzS0AzMzMzMzNLQDMzMzMzs0tAMzMzMzMzSUAzMzMzM7NKQDMzMzMzs0pAMzMzMzOzSkAzMzMzM7NGQDMzMzMzM0pAMzMzMzOzTEAzMzMzMzNOQDMzMzMzs0tAMzMzMzMzS0AzMzMzM7NKQDMzMzMzM0lAMzMzMzMzTkCamZmZmVlQQJqZmZmZWVFAMzMzMzMzTkCamZmZmRlQQJqZmZmZWVFAMzMzMzMzT0CamZmZmdlQQDMzMzMzs01AMzMzMzMzT0CamZmZmdlQQDMzMzMzs01AMzMzMzMzT0CamZmZmdlQQDMzMzMzs01AMzMzMzMzT0CamZmZmdlQQDMzMzMzM09AmpmZmZlZUEAzMzMzMzNPQJqZmZmZWVBAMzMzMzMzT0CamZmZmVlQQJqZmZmZWVBAmpmZmZlZUUCamZmZmRlSQJqZmZmZWVBAmpmZmZlZUUCamZmZmRlSQJqZmZmZWVBAmpmZmZlZUUCamZmZmRlSQJqZmZmZWVBAmpmZmZlZUUCamZmZmRlSQDMzMzMzM05AmpmZmZkZUECamZmZmVlRQDMzMzMzM05AmpmZmZkZUECamZmZmVlRQDMzMzMzM05AmpmZmZkZUECamZmZmVlRQDMzMzMzM05AmpmZmZkZUECamZmZmVlRQDMzMzMzM09AmpmZmZnZUECamZmZmdlRQDMzMzMzM09AmpmZmZnZUECamZmZmdlRQDMzMzMzM09AmpmZmZnZUECamZmZmdlRQDMzMzMzM09AmpmZmZnZUECamZmZmdlRQDMzMzMzM09AmpmZmZlZUECamZmZmVlRQDMzMzMzM09AmpmZmZlZUECamZmZmVlRQDMzMzMzM09AmpmZmZlZUECamZmZmVlRQDMzMzMzM09AmpmZmZlZUECamZmZmVlRQA==\",\"dtype\":\"float64\",\"order\":\"little\",\"shape\":[119]},\"velocity\":[65,65,65,49,49,49,49,49,49,49,49,49,49,49,49,49,49,49,49,49,33,49,49,49,49,49,49,49,49,49,49,97,97,97,97,81,97,81,97,81,97,81,81,81,97,97,97,97,97,97,97,97,97,97,97,97,81,81,81,97,97,97,81,81,81,97,97,97,97,97,97,97,97,97,97,97,97,97,97,97,97,97,97,97,97,97,97,97,97,97,97,97,97,97,97,97,97,97,97,97,97,97,97,97,97,97,97,97,97,97,97,97,97,97,97,97,97,97,97]},\"selected\":{\"id\":\"2083\"},\"selection_policy\":{\"id\":\"2082\"}},\"id\":\"1890\",\"type\":\"ColumnDataSource\"},{\"attributes\":{\"bottom\":{\"field\":\"bottom\"},\"fill_alpha\":{\"field\":\"fill_alpha\"},\"fill_color\":{\"value\":\"#d53e4f\"},\"left\":{\"field\":\"start_time\"},\"right\":{\"field\":\"end_time\"},\"top\":{\"field\":\"top\"}},\"id\":\"1906\",\"type\":\"Quad\"},{\"attributes\":{\"data\":{\"bottom\":{\"__ndarray__\":\"ZmZmZmbmUUBmZmZmZmZSQGZmZmZm5lFA\",\"dtype\":\"float64\",\"order\":\"little\",\"shape\":[3]},\"duration\":{\"__ndarray__\":\"AAAAAAAA4D8AAAAAAADgPwAAAAAAAOA/\",\"dtype\":\"float64\",\"order\":\"little\",\"shape\":[3]},\"end_time\":{\"__ndarray__\":\"AAAAAACAQUAAAAAAAMBBQAAAAAAAAEJA\",\"dtype\":\"float64\",\"order\":\"little\",\"shape\":[3]},\"fill_alpha\":{\"__ndarray__\":\"AAAAAABA6D8AAAAAAEDoPwAAAAAAQOg/\",\"dtype\":\"float64\",\"order\":\"little\",\"shape\":[3]},\"index\":[554,565,573],\"instrument\":[19,19,19],\"pitch\":[72,74,72],\"program\":[75,75,75],\"start_time\":{\"__ndarray__\":\"AAAAAABAQUAAAAAAAIBBQAAAAAAAwEFA\",\"dtype\":\"float64\",\"order\":\"little\",\"shape\":[3]},\"top\":{\"__ndarray__\":\"mpmZmZkZUkCamZmZmZlSQJqZmZmZGVJA\",\"dtype\":\"float64\",\"order\":\"little\",\"shape\":[3]},\"velocity\":[97,97,97]},\"selected\":{\"id\":\"2109\"},\"selection_policy\":{\"id\":\"2108\"}},\"id\":\"1981\",\"type\":\"ColumnDataSource\"},{\"attributes\":{},\"id\":\"2092\",\"type\":\"UnionRenderers\"},{\"attributes\":{\"bottom\":{\"field\":\"bottom\"},\"fill_alpha\":{\"field\":\"fill_alpha\"},\"fill_color\":{\"value\":\"#f46d43\"},\"left\":{\"field\":\"start_time\"},\"right\":{\"field\":\"end_time\"},\"top\":{\"field\":\"top\"}},\"id\":\"1920\",\"type\":\"Quad\"},{\"attributes\":{\"bottom\":{\"field\":\"bottom\"},\"fill_alpha\":{\"value\":0.1},\"fill_color\":{\"value\":\"#66c2a5\"},\"hatch_alpha\":{\"value\":0.1},\"left\":{\"field\":\"start_time\"},\"line_alpha\":{\"value\":0.1},\"right\":{\"field\":\"end_time\"},\"top\":{\"field\":\"top\"}},\"id\":\"1928\",\"type\":\"Quad\"},{\"attributes\":{},\"id\":\"2124\",\"type\":\"UnionRenderers\"},{\"attributes\":{\"source\":{\"id\":\"1890\"}},\"id\":\"1896\",\"type\":\"CDSView\"},{\"attributes\":{},\"id\":\"2097\",\"type\":\"Selection\"},{\"attributes\":{},\"id\":\"2129\",\"type\":\"Selection\"},{\"attributes\":{\"coordinates\":null,\"data_source\":{\"id\":\"1862\"},\"glyph\":{\"id\":\"1864\"},\"group\":null,\"hover_glyph\":null,\"muted_glyph\":{\"id\":\"1866\"},\"nonselection_glyph\":{\"id\":\"1865\"},\"view\":{\"id\":\"1868\"}},\"id\":\"1867\",\"type\":\"GlyphRenderer\"},{\"attributes\":{\"bottom\":{\"field\":\"bottom\"},\"fill_alpha\":{\"value\":0.1},\"fill_color\":{\"value\":\"#66c2a5\"},\"hatch_alpha\":{\"value\":0.1},\"left\":{\"field\":\"start_time\"},\"line_alpha\":{\"value\":0.1},\"right\":{\"field\":\"end_time\"},\"top\":{\"field\":\"top\"}},\"id\":\"1879\",\"type\":\"Quad\"},{\"attributes\":{},\"id\":\"2094\",\"type\":\"UnionRenderers\"},{\"attributes\":{\"bottom\":{\"field\":\"bottom\"},\"fill_alpha\":{\"value\":0.2},\"fill_color\":{\"value\":\"#66c2a5\"},\"hatch_alpha\":{\"value\":0.2},\"left\":{\"field\":\"start_time\"},\"line_alpha\":{\"value\":0.2},\"right\":{\"field\":\"end_time\"},\"top\":{\"field\":\"top\"}},\"id\":\"1880\",\"type\":\"Quad\"},{\"attributes\":{},\"id\":\"2126\",\"type\":\"UnionRenderers\"},{\"attributes\":{\"axis\":{\"id\":\"1832\"},\"coordinates\":null,\"group\":null,\"ticker\":null},\"id\":\"1835\",\"type\":\"Grid\"},{\"attributes\":{\"bottom\":{\"field\":\"bottom\"},\"fill_alpha\":{\"field\":\"fill_alpha\"},\"fill_color\":{\"value\":\"#fdae61\"},\"left\":{\"field\":\"start_time\"},\"right\":{\"field\":\"end_time\"},\"top\":{\"field\":\"top\"}},\"id\":\"1885\",\"type\":\"Quad\"},{\"attributes\":{},\"id\":\"2099\",\"type\":\"Selection\"},{\"attributes\":{\"axis\":{\"id\":\"1836\"},\"coordinates\":null,\"dimension\":1,\"group\":null,\"ticker\":{\"id\":\"1854\"}},\"id\":\"1839\",\"type\":\"Grid\"},{\"attributes\":{\"data\":{\"bottom\":{\"__ndarray__\":\"zczMzMxMSkDNzMzMzExMQM3MzMzMzE1AzczMzMxMSkDNzMzMzExMQM3MzMzMzE1AzczMzMxMSkDNzMzMzExMQM3MzMzMzE1AzczMzMzMSUDNzMzMzExMQM3MzMzMzE1AzczMzMzMSUDNzMzMzExMQM3MzMzMzE1AzczMzMzMSUDNzMzMzExMQM3MzMzMzE1AzczMzMzMSEDNzMzMzExLQM3MzMzMTE1AzczMzMzMSEDNzMzMzExLQM3MzMzMTE1AzczMzMzMSEDNzMzMzExLQM3MzMzMTE1AzczMzMzMSEDNzMzMzExKQM3MzMzMTExAzczMzMzMTkA=\",\"dtype\":\"float64\",\"order\":\"little\",\"shape\":[31]},\"duration\":{\"__ndarray__\":\"AAAAAAAA4D8AAAAAAADgPwAAAAAAAOA/AAAAAAAA4D8AAAAAAADgPwAAAAAAAOA/AAAAAAAA4D8AAAAAAADgPwAAAAAAAOA/AAAAAAAA4D8AAAAAAADgPwAAAAAAAOA/AAAAAAAA4D8AAAAAAADgPwAAAAAAAOA/AAAAAAAA4D8AAAAAAADgPwAAAAAAAOA/AAAAAAAA4D8AAAAAAADgPwAAAAAAAOA/AAAAAAAA4D8AAAAAAADgPwAAAAAAAOA/AAAAAAAA4D8AAAAAAADgPwAAAAAAAOA/AAAAAAAAAEAAAAAAAAD4PwAAAAAAAPA/AAAAAAAA4D8=\",\"dtype\":\"float64\",\"order\":\"little\",\"shape\":[31]},\"end_time\":{\"__ndarray__\":\"AAAAAAAACEAAAAAAAAAIQAAAAAAAAAhAAAAAAAAADEAAAAAAAAAMQAAAAAAAAAxAAAAAAAAAEEAAAAAAAAAQQAAAAAAAABBAAAAAAAAAFEAAAAAAAAAUQAAAAAAAABRAAAAAAAAAFkAAAAAAAAAWQAAAAAAAABZAAAAAAAAAGEAAAAAAAAAYQAAAAAAAABhAAAAAAAAAHEAAAAAAAAAcQAAAAAAAABxAAAAAAAAAHkAAAAAAAAAeQAAAAAAAAB5AAAAAAAAAIEAAAAAAAAAgQAAAAAAAACBAAAAAAAAAJEAAAAAAAAAkQAAAAAAAACRAAAAAAAAAJEA=\",\"dtype\":\"float64\",\"order\":\"little\",\"shape\":[31]},\"fill_alpha\":{\"__ndarray__\":\"AAAAAABA7D8AAAAAAEDsPwAAAAAAQOw/AAAAAABA6D8AAAAAAEDsPwAAAAAAQOw/AAAAAABA6D8AAAAAAEDsPwAAAAAAQOw/AAAAAABA7D8AAAAAAEDsPwAAAAAAQOw/AAAAAABA6D8AAAAAAEDsPwAAAAAAQOw/AAAAAABA6D8AAAAAAEDsPwAAAAAAQOw/AAAAAABA7D8AAAAAAEDsPwAAAAAAQOw/AAAAAABA6D8AAAAAAEDsPwAAAAAAQOw/AAAAAABA7D8AAAAAAEDsPwAAAAAAQOw/AAAAAABA6D8AAAAAAEDkPwAAAAAAQOg/AAAAAABA5D8=\",\"dtype\":\"float64\",\"order\":\"little\",\"shape\":[31]},\"index\":[42,43,44,52,53,54,63,64,65,79,80,81,88,89,90,98,99,100,113,114,115,122,123,124,130,131,132,138,142,149,154],\"instrument\":[5,5,5,5,5,5,5,5,5,5,5,5,5,5,5,5,5,5,5,5,5,5,5,5,5,5,5,5,5,5,5],\"pitch\":[53,57,60,53,57,60,53,57,60,52,57,60,52,57,60,52,57,60,50,55,59,50,55,59,50,55,59,50,53,57,62],\"program\":[27,27,27,27,27,27,27,27,27,27,27,27,27,27,27,27,27,27,27,27,27,27,27,27,27,27,27,27,27,27,27],\"start_time\":{\"__ndarray__\":\"AAAAAAAABEAAAAAAAAAEQAAAAAAAAARAAAAAAAAACEAAAAAAAAAIQAAAAAAAAAhAAAAAAAAADEAAAAAAAAAMQAAAAAAAAAxAAAAAAAAAEkAAAAAAAAASQAAAAAAAABJAAAAAAAAAFEAAAAAAAAAUQAAAAAAAABRAAAAAAAAAFkAAAAAAAAAWQAAAAAAAABZAAAAAAAAAGkAAAAAAAAAaQAAAAAAAABpAAAAAAAAAHEAAAAAAAAAcQAAAAAAAABxAAAAAAAAAHkAAAAAAAAAeQAAAAAAAAB5AAAAAAAAAIEAAAAAAAAAhQAAAAAAAACJAAAAAAAAAI0A=\",\"dtype\":\"float64\",\"order\":\"little\",\"shape\":[31]},\"top\":{\"__ndarray__\":\"MzMzMzOzSkAzMzMzM7NMQDMzMzMzM05AMzMzMzOzSkAzMzMzM7NMQDMzMzMzM05AMzMzMzOzSkAzMzMzM7NMQDMzMzMzM05AMzMzMzMzSkAzMzMzM7NMQDMzMzMzM05AMzMzMzMzSkAzMzMzM7NMQDMzMzMzM05AMzMzMzMzSkAzMzMzM7NMQDMzMzMzM05AMzMzMzMzSUAzMzMzM7NLQDMzMzMzs01AMzMzMzMzSUAzMzMzM7NLQDMzMzMzs01AMzMzMzMzSUAzMzMzM7NLQDMzMzMzs01AMzMzMzMzSUAzMzMzM7NKQDMzMzMzs0xAMzMzMzMzT0A=\",\"dtype\":\"float64\",\"order\":\"little\",\"shape\":[31]},\"velocity\":[113,113,113,97,113,113,97,113,113,113,113,113,97,113,113,97,113,113,113,113,113,97,113,113,113,113,113,97,81,97,81]},\"selected\":{\"id\":\"2081\"},\"selection_policy\":{\"id\":\"2080\"}},\"id\":\"1883\",\"type\":\"ColumnDataSource\"},{\"attributes\":{},\"id\":\"2131\",\"type\":\"Selection\"},{\"attributes\":{\"source\":{\"id\":\"1883\"}},\"id\":\"1889\",\"type\":\"CDSView\"},{\"attributes\":{\"bottom\":{\"field\":\"bottom\"},\"fill_alpha\":{\"value\":0.2},\"fill_color\":{\"value\":\"#abdda4\"},\"hatch_alpha\":{\"value\":0.2},\"left\":{\"field\":\"start_time\"},\"line_alpha\":{\"value\":0.2},\"right\":{\"field\":\"end_time\"},\"top\":{\"field\":\"top\"}},\"id\":\"1894\",\"type\":\"Quad\"},{\"attributes\":{},\"id\":\"2096\",\"type\":\"UnionRenderers\"},{\"attributes\":{},\"id\":\"2128\",\"type\":\"UnionRenderers\"},{\"attributes\":{},\"id\":\"1843\",\"type\":\"ResetTool\"},{\"attributes\":{},\"id\":\"2101\",\"type\":\"Selection\"},{\"attributes\":{\"source\":{\"id\":\"1925\"}},\"id\":\"1931\",\"type\":\"CDSView\"},{\"attributes\":{},\"id\":\"2098\",\"type\":\"UnionRenderers\"},{\"attributes\":{},\"id\":\"2130\",\"type\":\"UnionRenderers\"},{\"attributes\":{\"source\":{\"id\":\"1918\"}},\"id\":\"1924\",\"type\":\"CDSView\"},{\"attributes\":{\"bottom\":{\"field\":\"bottom\"},\"fill_alpha\":{\"value\":0.2},\"fill_color\":{\"value\":\"#66c2a5\"},\"hatch_alpha\":{\"value\":0.2},\"left\":{\"field\":\"start_time\"},\"line_alpha\":{\"value\":0.2},\"right\":{\"field\":\"end_time\"},\"top\":{\"field\":\"top\"}},\"id\":\"1978\",\"type\":\"Quad\"},{\"attributes\":{},\"id\":\"2103\",\"type\":\"Selection\"},{\"attributes\":{\"bottom\":{\"field\":\"bottom\"},\"fill_alpha\":{\"value\":0.1},\"fill_color\":{\"value\":\"#abdda4\"},\"hatch_alpha\":{\"value\":0.1},\"left\":{\"field\":\"start_time\"},\"line_alpha\":{\"value\":0.1},\"right\":{\"field\":\"end_time\"},\"top\":{\"field\":\"top\"}},\"id\":\"1893\",\"type\":\"Quad\"},{\"attributes\":{\"bottom\":{\"field\":\"bottom\"},\"fill_alpha\":{\"value\":0.1},\"fill_color\":{\"value\":\"#e6f598\"},\"hatch_alpha\":{\"value\":0.1},\"left\":{\"field\":\"start_time\"},\"line_alpha\":{\"value\":0.1},\"right\":{\"field\":\"end_time\"},\"top\":{\"field\":\"top\"}},\"id\":\"1998\",\"type\":\"Quad\"},{\"attributes\":{\"coordinates\":null,\"data_source\":{\"id\":\"1974\"},\"glyph\":{\"id\":\"1976\"},\"group\":null,\"hover_glyph\":null,\"muted_glyph\":{\"id\":\"1978\"},\"nonselection_glyph\":{\"id\":\"1977\"},\"view\":{\"id\":\"1980\"}},\"id\":\"1979\",\"type\":\"GlyphRenderer\"},{\"attributes\":{},\"id\":\"2100\",\"type\":\"UnionRenderers\"},{\"attributes\":{},\"id\":\"1824\",\"type\":\"DataRange1d\"},{\"attributes\":{\"bottom\":{\"field\":\"bottom\"},\"fill_alpha\":{\"value\":0.1},\"fill_color\":{\"value\":\"#f46d43\"},\"hatch_alpha\":{\"value\":0.1},\"left\":{\"field\":\"start_time\"},\"line_alpha\":{\"value\":0.1},\"right\":{\"field\":\"end_time\"},\"top\":{\"field\":\"top\"}},\"id\":\"1872\",\"type\":\"Quad\"},{\"attributes\":{\"data\":{\"bottom\":{\"__ndarray__\":\"zczMzMzMQkDNzMzMzMxCQM3MzMzMzERAzczMzMzMREDNzMzMzMxCQM3MzMzMzERAzczMzMzMREDNzMzMzMxEQM3MzMzMzERAzczMzMzMQkDNzMzMzMxEQM3MzMzMzERAzczMzMzMQUDNzMzMzMxEQM3MzMzMzEJAzczMzMzMREDNzMzMzMxBQM3MzMzMzERAzczMzMzMQkDNzMzMzMxEQM3MzMzMzERAzczMzMzMQkDNzMzMzMxEQM3MzMzMzERAzczMzMzMQkDNzMzMzMxEQM3MzMzMzEJAzczMzMzMREDNzMzMzMxCQM3MzMzMzERAzczMzMzMQ0DNzMzMzMxEQM3MzMzMzENAzczMzMzMREDNzMzMzMxBQM3MzMzMTEJAzczMzMzMREDNzMzMzMxBQM3MzMzMTEJAzczMzMzMREDNzMzMzMxDQM3MzMzMzERAzczMzMzMQ0DNzMzMzMxEQM3MzMzMzERAzczMzMzMREDNzMzMzMxEQM3MzMzMzERAzczMzMzMQUDNzMzMzMxCQM3MzMzMzERAzczMzMzMQUDNzMzMzMxCQM3MzMzMzERAzczMzMzMREDNzMzMzMxEQM3MzMzMzERAzczMzMzMREDNzMzMzMxDQM3MzMzMzERAzczMzMzMQ0DNzMzMzMxEQM3MzMzMzERAzczMzMzMREDNzMzMzMxEQM3MzMzMzERAzczMzMzMQUDNzMzMzMxBQM3MzMzMzERAzczMzMzMQUDNzMzMzMxBQM3MzMzMzERAzczMzMzMREDNzMzMzMxEQM3MzMzMzERAzczMzMzMREDNzMzMzMxDQM3MzMzMzERAzczMzMzMQ0DNzMzMzMxEQM3MzMzMzERAzczMzMzMREDNzMzMzMxEQM3MzMzMzERAzczMzMzMREDNzMzMzMxEQM3MzMzMzEFAzczMzMzMREDNzMzMzMxEQM3MzMzMzERAzczMzMzMREDNzMzMzMxEQM3MzMzMzERAzczMzMzMREDNzMzMzMxEQM3MzMzMTEFAzczMzMxMQUDNzMzMzExBQM3MzMzMTEFAzczMzMxMQUDNzMzMzExBQM3MzMzMTEFAzczMzMxMQUDNzMzMzExBQM3MzMzMTEFAzczMzMxMQUDNzMzMzExBQM3MzMzMzEFAzczMzMzMQkDNzMzMzMxBQM3MzMzMzEJAzczMzMzMQUDNzMzMzMxCQM3MzMzMzEFAzczMzMzMQkDNzMzMzMxBQM3MzMzMzEFAzczMzMzMQUDNzMzMzMxBQM3MzMzMzEFAzczMzMxMSUDNzMzMzMxBQM3MzMzMTElAzczMzMzMQUDNzMzMzExJQM3MzMzMzEFAzczMzMxMSUDNzMzMzMxBQM3MzMzMzEVAzczMzMzMQUDNzMzMzMxFQM3MzMzMzEFAzczMzMzMRUDNzMzMzMxBQM3MzMzMzEVAzczMzMzMQUDNzMzMzMxEQM3MzMzMzEFAzczMzMzMREDNzMzMzMxBQM3MzMzMzERAzczMzMzMQUDNzMzMzMxEQA==\",\"dtype\":\"float64\",\"order\":\"little\",\"shape\":[143]},\"duration\":{\"__ndarray__\":\"UFVVVVVVtT9QVVVVVVW1P2BVVVVVVbU/YFVVVVVVtT8AAAAAAACwP0BVVVVVVbU/QFVVVVVVtT9AVVVVVVW1P0BVVVVVVbU/AAAAAAAAsD9AVVVVVVW1P0BVVVVVVbU/wKqqqqqquj9AVVVVVVW1P8Cqqqqqqro/QFVVVVVVtT+Aqqqqqqq6P0BVVVVVVbU/gKqqqqqquj9AVVVVVVW1P0BVVVVVVbU/AAAAAAAAwD9AVVVVVVW1P0BVVVVVVbU/AAAAAAAAwD9AVVVVVVW1PwAAAAAAALA/AAAAAAAAsD8AAAAAAACwPwAAAAAAALA/gFVVVVVVtT8AAAAAAACwP4BVVVVVVbU/AAAAAAAAsD8AAAAAAADgPwAAAAAAAOA/AAAAAAAAsD8AAAAAAADgPwAAAAAAAOA/AAAAAAAAsD+AVVVVVVW1PwBVVVVVVaU/gFVVVVVVtT8AVVVVVVWlPwAAAAAAALA/AAAAAAAAsD8AAAAAAACwPwAAAAAAALA/AAAAAAAA4D8AVFVVVVWVPwBWVVVVVaU/AAAAAAAA4D8AVFVVVVWVPwBWVVVVVaU/AFRVVVVVlT8AVlVVVVWlPwBUVVVVVZU/AFZVVVVVpT8AVlVVVVWlPwBWVVVVVaU/AFZVVVVVpT8AVlVVVVWlPwBUVVVVVZU/AFRVVVVVlT8AVFVVVVWVPwBUVVVVVZU/AFRVVVVVlT8AVFVVVVWVPwBWVVVVVaU/AFRVVVVVlT8AVFVVVVWVPwBWVVVVVaU/AFRVVVVVlT8AAAAAAACwPwBUVVVVVZU/AAAAAAAAsD8AVFVVVVWVPwBWVVVVVaU/AFRVVVVVlT8AVlVVVVWlPwBYVVVVVZU/AFhVVVVVlT8AWFVVVVWVPwBYVVVVVZU/AFhVVVVVlT8AWFVVVVWVPwAAAAAAALA/AAAAAAAAsD8AAAAAAACwPwAAAAAAALA/AAAAAAAAsD8AWFVVVVWVPwBYVVVVVZU/AFhVVVVVlT8AWFVVVVWVPwBYVVVVVZU/AFhVVVVVlT8AWFVVVVWVPwBYVVVVVZU/AFhVVVVVlT8AWFVVVVWVPwBYVVVVVZU/AFhVVVVVlT8AWFVVVVWVPwBYVVVVVZU/AFhVVVVVlT8AWFVVVVWVPwBYVVVVVZU/AFhVVVVVlT8AWFVVVVWVPwBYVVVVVZU/AFhVVVVVlT8AWFVVVVWVPwBYVVVVVZU/AFhVVVVVlT8AWFVVVVWVPwBYVVVVVZU/AFhVVVVVlT8AWFVVVVWVPwBYVVVVVZU/AFhVVVVVlT8AWFVVVVWVPwBYVVVVVZU/AFhVVVVVlT8AWFVVVVWVPwBYVVVVVZU/AFhVVVVVlT8AWFVVVVWVPwBYVVVVVZU/AFhVVVVVlT8AWFVVVVWVPwBYVVVVVZU/AFhVVVVVlT8AWFVVVVWVPwBYVVVVVZU/AFhVVVVVlT8AWFVVVVWVPwBYVVVVVZU/AFhVVVVVlT8AWFVVVVWVPwBYVVVVVZU/AFhVVVVVlT8AWFVVVVWVPw==\",\"dtype\":\"float64\",\"order\":\"little\",\"shape\":[143]},\"end_time\":{\"__ndarray__\":\"qqqqqqqq4j9VVVVVVVX5P6uqqqqqqgBAq6qqqqqqAkAAAAAAAIAEQKqqqqqqqgRAqqqqqqqqBkCqqqqqqqoIQKqqqqqqqgpAAAAAAACADECqqqqqqqoMQKqqqqqqqg5Aq6qqqqpqEEBVVVVVVVUQQKuqqqqqahJAVVVVVVVVEkCqqqqqqmoUQFVVVVVVVRRAqqqqqqpqFkBVVVVVVVUWQFVVVVVVVRhAAAAAAACAGkBVVVVVVVUaQFVVVVVVVRxAAAAAAACAHkBVVVVVVVUeQAAAAAAAICFAAAAAAAAgIUAAAAAAACAjQAAAAAAAICNAq6qqqqoqJUAAAAAAACAlQKuqqqqqKidAAAAAAAAgJ0AAAAAAAAApQAAAAAAAACpAAAAAAAAgKUAAAAAAAAArQAAAAAAAACxAAAAAAAAgK0CrqqqqqiotQFVVVVVVFS1Aq6qqqqoqL0BVVVVVVRUvQAAAAAAAkDBAAAAAAACQMEAAAAAAAJAxQAAAAAAAkDFAAAAAAACAMkBVVVVVVYUyQKuqqqqqijJAAAAAAACAM0BVVVVVVYUzQKuqqqqqijNAVVVVVVWFNECrqqqqqoo0QFVVVVVVhTVAq6qqqqqKNUCrqqqqqoo2QKuqqqqqijZAq6qqqqqKN0Crqqqqqoo3QFVVVVVVhThAVVVVVVWFOEBVVVVVVYU5QFVVVVVVhTlAVVVVVVUFOkBVVVVVVYU6QKuqqqqqijpAVVVVVVUFO0BVVVVVVYU7QKuqqqqqijtAVVVVVVWFPEAAAAAAAJA8QFVVVVVVhT1AAAAAAACQPUBVVVVVVYU+QKuqqqqqij5AVVVVVVWFP0Crqqqqqoo/QKuqqqqqQkBAq6qqqqrCQECrqqqqqkJBQKuqqqqqwkFAq6qqqqpCQkCrqqqqqsJCQAAAAAAACENAAAAAAAAIQ0AAAAAAAEhDQAAAAAAAiENAAAAAAADIQ0CrqqqqqgJEQKuqqqqqQkRAq6qqqqqCRECrqqqqqsJEQKuqqqqqAkhAq6qqqqpCSECrqqqqqoJIQKuqqqqqwkhAq6qqqqoCSUCrqqqqqkJJQKuqqqqqgklAq6qqqqrCSUCrqqqqqgJKQKuqqqqqQkpAq6qqqqqCSkCrqqqqqsJKQKuqqqqqAktAq6qqqqoCS0CrqqqqqkJLQKuqqqqqQktAq6qqqqqCS0CrqqqqqoJLQKuqqqqqwktAq6qqqqrCS0CrqqqqqgJMQKuqqqqqQkxAq6qqqqqCTECrqqqqqsJMQKuqqqqqAk1Aq6qqqqoCTUCrqqqqqkJNQKuqqqqqQk1Aq6qqqqqCTUCrqqqqqoJNQKuqqqqqwk1Aq6qqqqrCTUCrqqqqqgJOQKuqqqqqAk5Aq6qqqqpCTkCrqqqqqkJOQKuqqqqqgk5Aq6qqqqqCTkCrqqqqqsJOQKuqqqqqwk5Aq6qqqqoCT0CrqqqqqgJPQKuqqqqqQk9Aq6qqqqpCT0CrqqqqqoJPQKuqqqqqgk9Aq6qqqqrCT0CrqqqqqsJPQA==\",\"dtype\":\"float64\",\"order\":\"little\",\"shape\":[143]},\"fill_alpha\":{\"__ndarray__\":\"AAAAAABA6D8AAAAAAEDoPwAAAAAAQOA/AAAAAACA2D8AAAAAAEDoPwAAAAAAQOA/AAAAAACA2D8AAAAAAEDgPwAAAAAAgNg/AAAAAABA6D8AAAAAAEDgPwAAAAAAgNg/AAAAAABA6D8AAAAAAEDgPwAAAAAAQOg/AAAAAABA4D8AAAAAAEDoPwAAAAAAQOA/AAAAAABA6D8AAAAAAEDgPwAAAAAAQOQ/AAAAAABA6D8AAAAAAEDkPwAAAAAAQOQ/AAAAAABA6D8AAAAAAEDkPwAAAAAAQOw/AAAAAABA7D8AAAAAAEDsPwAAAAAAQOw/AAAAAABA7D8AAAAAAEDoPwAAAAAAQOw/AAAAAABA6D8AAAAAAEDoPwAAAAAAQOQ/AAAAAABA6D8AAAAAAEDkPwAAAAAAQOg/AAAAAABA6D8AAAAAAEDoPwAAAAAAQOw/AAAAAABA6D8AAAAAAEDsPwAAAAAAQOw/AAAAAABA7D8AAAAAAEDsPwAAAAAAQOw/AAAAAABA7D8AAAAAAEDoPwAAAAAAQOQ/AAAAAABA7D8AAAAAAEDoPwAAAAAAQOQ/AAAAAABA6D8AAAAAAEDoPwAAAAAAQOg/AAAAAABA6D8AAAAAAEDsPwAAAAAAQOg/AAAAAABA7D8AAAAAAEDoPwAAAAAAQOw/AAAAAABA6D8AAAAAAEDsPwAAAAAAQOg/AAAAAABA6D8AAAAAAEDoPwAAAAAAQOg/AAAAAABA6D8AAAAAAEDoPwAAAAAAQOg/AAAAAABA6D8AAAAAAEDgPwAAAAAAQOg/AAAAAABA4D8AAAAAAEDsPwAAAAAAQOA/AAAAAABA7D8AAAAAAEDgPwAAAAAAQOQ/AAAAAABA5D8AAAAAAEDoPwAAAAAAQOg/AAAAAABA5D8AAAAAAEDkPwAAAAAAQOQ/AAAAAABA5D8AAAAAAEDkPwAAAAAAQOQ/AAAAAABA5D8AAAAAAEDkPwAAAAAAQOA/AAAAAABA4D8AAAAAAEDgPwAAAAAAQOg/AAAAAABA6D8AAAAAAEDoPwAAAAAAQOg/AAAAAABA6D8AAAAAAEDoPwAAAAAAQOg/AAAAAABA6D8AAAAAAEDoPwAAAAAAQOg/AAAAAABA6D8AAAAAAEDoPwAAAAAAQOg/AAAAAABA5D8AAAAAAEDoPwAAAAAAQOQ/AAAAAABA6D8AAAAAAEDkPwAAAAAAQOg/AAAAAABA5D8AAAAAAEDsPwAAAAAAQOw/AAAAAABA7D8AAAAAAEDsPwAAAAAAQOg/AAAAAABA4D8AAAAAAEDoPwAAAAAAQOA/AAAAAABA6D8AAAAAAEDgPwAAAAAAQOg/AAAAAABA4D8AAAAAAEDoPwAAAAAAQOA/AAAAAABA6D8AAAAAAEDgPwAAAAAAQOg/AAAAAABA4D8AAAAAAEDoPwAAAAAAQOA/AAAAAABA6D8AAAAAAEDkPwAAAAAAQOg/AAAAAABA5D8AAAAAAEDoPwAAAAAAQOQ/AAAAAABA6D8AAAAAAEDkPw==\",\"dtype\":\"float64\",\"order\":\"little\",\"shape\":[143]},\"index\":[11,29,37,40,46,47,49,59,61,67,68,70,74,75,82,83,93,94,102,103,108,118,119,127,135,136,145,146,157,158,171,172,182,183,189,199,200,206,216,217,231,232,244,245,259,260,268,269,276,285,286,296,306,307,323,324,342,343,359,360,371,372,384,385,410,411,420,431,432,442,451,452,468,469,485,486,497,498,513,514,527,543,556,574,589,605,613,614,626,637,644,647,654,663,670,816,830,845,855,874,884,895,906,916,928,940,948,960,961,970,971,983,984,993,994,1005,1017,1030,1040,1053,1054,1066,1067,1078,1079,1090,1091,1102,1103,1116,1117,1129,1130,1142,1143,1153,1154,1166,1167,1180,1181,1194,1195],\"instrument\":[9,9,9,9,9,9,9,9,9,9,9,9,9,9,9,9,9,9,9,9,9,9,9,9,9,9,9,9,9,9,9,9,9,9,9,9,9,9,9,9,9,9,9,9,9,9,9,9,9,9,9,9,9,9,9,9,9,9,9,9,9,9,9,9,9,9,9,9,9,9,9,9,9,9,9,9,9,9,9,9,9,9,9,9,9,9,9,9,9,9,9,9,9,9,9,9,9,9,9,9,9,9,9,9,9,9,9,9,9,9,9,9,9,9,9,9,9,9,9,9,9,9,9,9,9,9,9,9,9,9,9,9,9,9,9,9,9,9,9,9,9,9,9],\"pitch\":[38,38,42,42,38,42,42,42,42,38,42,42,36,42,38,42,36,42,38,42,42,38,42,42,38,42,38,42,38,42,40,42,40,42,36,37,42,36,37,42,40,42,40,42,42,42,42,42,36,38,42,36,38,42,42,42,42,42,40,42,40,42,42,42,42,42,36,36,42,36,36,42,42,42,42,42,40,42,40,42,42,42,42,42,42,42,36,42,42,42,42,42,42,42,42,35,35,35,35,35,35,35,35,35,35,35,35,36,38,36,38,36,38,36,38,36,36,36,36,36,51,36,51,36,51,36,51,36,44,36,44,36,44,36,44,36,42,36,42,36,42,36,42],\"program\":[0,0,0,0,0,0,0,0,0,0,0,0,0,0,0,0,0,0,0,0,0,0,0,0,0,0,0,0,0,0,0,0,0,0,0,0,0,0,0,0,0,0,0,0,0,0,0,0,0,0,0,0,0,0,0,0,0,0,0,0,0,0,0,0,0,0,0,0,0,0,0,0,0,0,0,0,0,0,0,0,0,0,0,0,0,0,0,0,0,0,0,0,0,0,0,0,0,0,0,0,0,0,0,0,0,0,0,0,0,0,0,0,0,0,0,0,0,0,0,0,0,0,0,0,0,0,0,0,0,0,0,0,0,0,0,0,0,0,0,0,0,0,0],\"start_time\":{\"__ndarray__\":\"AAAAAAAA4D8AAAAAAAD4PwAAAAAAAABAAAAAAAAAAkAAAAAAAAAEQAAAAAAAAARAAAAAAAAABkAAAAAAAAAIQAAAAAAAAApAAAAAAAAADEAAAAAAAAAMQAAAAAAAAA5AAAAAAAAAEEAAAAAAAAAQQAAAAAAAABJAAAAAAAAAEkAAAAAAAAAUQAAAAAAAABRAAAAAAAAAFkAAAAAAAAAWQAAAAAAAABhAAAAAAAAAGkAAAAAAAAAaQAAAAAAAABxAAAAAAAAAHkAAAAAAAAAeQAAAAAAAACFAAAAAAAAAIUAAAAAAAAAjQAAAAAAAACNAAAAAAAAAJUAAAAAAAAAlQAAAAAAAACdAAAAAAAAAJ0AAAAAAAAAoQAAAAAAAAClAAAAAAAAAKUAAAAAAAAAqQAAAAAAAACtAAAAAAAAAK0AAAAAAAAAtQAAAAAAAAC1AAAAAAAAAL0AAAAAAAAAvQAAAAAAAgDBAAAAAAACAMEAAAAAAAIAxQAAAAAAAgDFAAAAAAAAAMkAAAAAAAIAyQAAAAAAAgDJAAAAAAAAAM0AAAAAAAIAzQAAAAAAAgDNAAAAAAACANEAAAAAAAIA0QAAAAAAAgDVAAAAAAACANUAAAAAAAIA2QAAAAAAAgDZAAAAAAACAN0AAAAAAAIA3QAAAAAAAgDhAAAAAAACAOEAAAAAAAIA5QAAAAAAAgDlAAAAAAAAAOkAAAAAAAIA6QAAAAAAAgDpAAAAAAAAAO0AAAAAAAIA7QAAAAAAAgDtAAAAAAACAPEAAAAAAAIA8QAAAAAAAgD1AAAAAAACAPUAAAAAAAIA+QAAAAAAAgD5AAAAAAACAP0AAAAAAAIA/QAAAAAAAQEBAAAAAAADAQEAAAAAAAEBBQAAAAAAAwEFAAAAAAABAQkAAAAAAAMBCQAAAAAAAAENAAAAAAAAAQ0AAAAAAAEBDQAAAAAAAgENAAAAAAADAQ0AAAAAAAABEQAAAAAAAQERAAAAAAACAREAAAAAAAMBEQAAAAAAAAEhAAAAAAABASEAAAAAAAIBIQAAAAAAAwEhAAAAAAAAASUAAAAAAAEBJQAAAAAAAgElAAAAAAADASUAAAAAAAABKQAAAAAAAQEpAAAAAAACASkAAAAAAAMBKQAAAAAAAAEtAAAAAAAAAS0AAAAAAAEBLQAAAAAAAQEtAAAAAAACAS0AAAAAAAIBLQAAAAAAAwEtAAAAAAADAS0AAAAAAAABMQAAAAAAAQExAAAAAAACATEAAAAAAAMBMQAAAAAAAAE1AAAAAAAAATUAAAAAAAEBNQAAAAAAAQE1AAAAAAACATUAAAAAAAIBNQAAAAAAAwE1AAAAAAADATUAAAAAAAABOQAAAAAAAAE5AAAAAAABATkAAAAAAAEBOQAAAAAAAgE5AAAAAAACATkAAAAAAAMBOQAAAAAAAwE5AAAAAAAAAT0AAAAAAAABPQAAAAAAAQE9AAAAAAABAT0AAAAAAAIBPQAAAAAAAgE9AAAAAAADAT0AAAAAAAMBPQA==\",\"dtype\":\"float64\",\"order\":\"little\",\"shape\":[143]},\"top\":{\"__ndarray__\":\"MzMzMzMzQ0AzMzMzMzNDQDMzMzMzM0VAMzMzMzMzRUAzMzMzMzNDQDMzMzMzM0VAMzMzMzMzRUAzMzMzMzNFQDMzMzMzM0VAMzMzMzMzQ0AzMzMzMzNFQDMzMzMzM0VAMzMzMzMzQkAzMzMzMzNFQDMzMzMzM0NAMzMzMzMzRUAzMzMzMzNCQDMzMzMzM0VAMzMzMzMzQ0AzMzMzMzNFQDMzMzMzM0VAMzMzMzMzQ0AzMzMzMzNFQDMzMzMzM0VAMzMzMzMzQ0AzMzMzMzNFQDMzMzMzM0NAMzMzMzMzRUAzMzMzMzNDQDMzMzMzM0VAMzMzMzMzREAzMzMzMzNFQDMzMzMzM0RAMzMzMzMzRUAzMzMzMzNCQDMzMzMzs0JAMzMzMzMzRUAzMzMzMzNCQDMzMzMzs0JAMzMzMzMzRUAzMzMzMzNEQDMzMzMzM0VAMzMzMzMzREAzMzMzMzNFQDMzMzMzM0VAMzMzMzMzRUAzMzMzMzNFQDMzMzMzM0VAMzMzMzMzQkAzMzMzMzNDQDMzMzMzM0VAMzMzMzMzQkAzMzMzMzNDQDMzMzMzM0VAMzMzMzMzRUAzMzMzMzNFQDMzMzMzM0VAMzMzMzMzRUAzMzMzMzNEQDMzMzMzM0VAMzMzMzMzREAzMzMzMzNFQDMzMzMzM0VAMzMzMzMzRUAzMzMzMzNFQDMzMzMzM0VAMzMzMzMzQkAzMzMzMzNCQDMzMzMzM0VAMzMzMzMzQkAzMzMzMzNCQDMzMzMzM0VAMzMzMzMzRUAzMzMzMzNFQDMzMzMzM0VAMzMzMzMzRUAzMzMzMzNEQDMzMzMzM0VAMzMzMzMzREAzMzMzMzNFQDMzMzMzM0VAMzMzMzMzRUAzMzMzMzNFQDMzMzMzM0VAMzMzMzMzRUAzMzMzMzNFQDMzMzMzM0JAMzMzMzMzRUAzMzMzMzNFQDMzMzMzM0VAMzMzMzMzRUAzMzMzMzNFQDMzMzMzM0VAMzMzMzMzRUAzMzMzMzNFQDMzMzMzs0FAMzMzMzOzQUAzMzMzM7NBQDMzMzMzs0FAMzMzMzOzQUAzMzMzM7NBQDMzMzMzs0FAMzMzMzOzQUAzMzMzM7NBQDMzMzMzs0FAMzMzMzOzQUAzMzMzM7NBQDMzMzMzM0JAMzMzMzMzQ0AzMzMzMzNCQDMzMzMzM0NAMzMzMzMzQkAzMzMzMzNDQDMzMzMzM0JAMzMzMzMzQ0AzMzMzMzNCQDMzMzMzM0JAMzMzMzMzQkAzMzMzMzNCQDMzMzMzM0JAMzMzMzOzSUAzMzMzMzNCQDMzMzMzs0lAMzMzMzMzQkAzMzMzM7NJQDMzMzMzM0JAMzMzMzOzSUAzMzMzMzNCQDMzMzMzM0ZAMzMzMzMzQkAzMzMzMzNGQDMzMzMzM0JAMzMzMzMzRkAzMzMzMzNCQDMzMzMzM0ZAMzMzMzMzQkAzMzMzMzNFQDMzMzMzM0JAMzMzMzMzRUAzMzMzMzNCQDMzMzMzM0VAMzMzMzMzQkAzMzMzMzNFQA==\",\"dtype\":\"float64\",\"order\":\"little\",\"shape\":[143]},\"velocity\":[97,97,65,49,97,65,49,65,49,97,65,49,97,65,97,65,97,65,97,65,81,97,81,81,97,81,113,113,113,113,113,97,113,97,97,81,97,81,97,97,97,113,97,113,113,113,113,113,113,97,81,113,97,81,97,97,97,97,113,97,113,97,113,97,113,97,97,97,97,97,97,97,97,65,97,65,113,65,113,65,81,81,97,97,81,81,81,81,81,81,81,81,65,65,65,97,97,97,97,97,97,97,97,97,97,97,97,97,81,97,81,97,81,97,81,113,113,113,113,97,65,97,65,97,65,97,65,97,65,97,65,97,65,97,65,97,81,97,81,97,81,97,81]},\"selected\":{\"id\":\"2089\"},\"selection_policy\":{\"id\":\"2088\"}},\"id\":\"1911\",\"type\":\"ColumnDataSource\"},{\"attributes\":{\"source\":{\"id\":\"2058\"}},\"id\":\"2064\",\"type\":\"CDSView\"},{\"attributes\":{\"bottom\":{\"field\":\"bottom\"},\"fill_alpha\":{\"field\":\"fill_alpha\"},\"fill_color\":{\"value\":\"#fdae61\"},\"left\":{\"field\":\"start_time\"},\"right\":{\"field\":\"end_time\"},\"top\":{\"field\":\"top\"}},\"id\":\"1934\",\"type\":\"Quad\"},{\"attributes\":{},\"id\":\"1833\",\"type\":\"BasicTicker\"},{\"attributes\":{},\"id\":\"2105\",\"type\":\"Selection\"},{\"attributes\":{\"bottom\":{\"field\":\"bottom\"},\"fill_alpha\":{\"value\":0.2},\"fill_color\":{\"value\":\"#f46d43\"},\"hatch_alpha\":{\"value\":0.2},\"left\":{\"field\":\"start_time\"},\"line_alpha\":{\"value\":0.2},\"right\":{\"field\":\"end_time\"},\"top\":{\"field\":\"top\"}},\"id\":\"1922\",\"type\":\"Quad\"},{\"attributes\":{\"data\":{\"bottom\":{\"__ndarray__\":\"ZmZmZmZmUkBmZmZmZmZSQGZmZmZmZlJAZmZmZmZmUkA=\",\"dtype\":\"float64\",\"order\":\"little\",\"shape\":[4]},\"duration\":{\"__ndarray__\":\"AKqqqqqquj8Aqqqqqqq6PwCqqqqqqro/AKqqqqqquj8=\",\"dtype\":\"float64\",\"order\":\"little\",\"shape\":[4]},\"end_time\":{\"__ndarray__\":\"AAAAAAAQREAAAAAAAFBEQFVVVVVVjURAVVVVVVXNREA=\",\"dtype\":\"float64\",\"order\":\"little\",\"shape\":[4]},\"fill_alpha\":{\"__ndarray__\":\"AAAAAABA5D8AAAAAAEDkPwAAAAAAQOQ/AAAAAABA5D8=\",\"dtype\":\"float64\",\"order\":\"little\",\"shape\":[4]},\"index\":[648,655,658,666],\"instrument\":[23,23,23,23],\"pitch\":[74,74,74,74],\"program\":[8,8,8,8],\"start_time\":{\"__ndarray__\":\"q6qqqqoCRECrqqqqqkJEQAAAAAAAgERAAAAAAADAREA=\",\"dtype\":\"float64\",\"order\":\"little\",\"shape\":[4]},\"top\":{\"__ndarray__\":\"mpmZmZmZUkCamZmZmZlSQJqZmZmZmVJAmpmZmZmZUkA=\",\"dtype\":\"float64\",\"order\":\"little\",\"shape\":[4]},\"velocity\":[81,81,81,81]},\"selected\":{\"id\":\"2117\"},\"selection_policy\":{\"id\":\"2116\"}},\"id\":\"2009\",\"type\":\"ColumnDataSource\"},{\"attributes\":{},\"id\":\"2102\",\"type\":\"UnionRenderers\"},{\"attributes\":{},\"id\":\"2107\",\"type\":\"Selection\"},{\"attributes\":{\"bottom\":{\"field\":\"bottom\"},\"fill_alpha\":{\"field\":\"fill_alpha\"},\"fill_color\":{\"value\":\"#3288bd\"},\"left\":{\"field\":\"start_time\"},\"right\":{\"field\":\"end_time\"},\"top\":{\"field\":\"top\"}},\"id\":\"2011\",\"type\":\"Quad\"},{\"attributes\":{},\"id\":\"2104\",\"type\":\"UnionRenderers\"},{\"attributes\":{\"bottom\":{\"field\":\"bottom\"},\"fill_alpha\":{\"field\":\"fill_alpha\"},\"fill_color\":{\"value\":\"#d53e4f\"},\"left\":{\"field\":\"start_time\"},\"right\":{\"field\":\"end_time\"},\"top\":{\"field\":\"top\"}},\"id\":\"1955\",\"type\":\"Quad\"},{\"attributes\":{\"interval\":12},\"id\":\"1852\",\"type\":\"SingleIntervalTicker\"},{\"attributes\":{},\"id\":\"1841\",\"type\":\"PanTool\"},{\"attributes\":{},\"id\":\"2109\",\"type\":\"Selection\"},{\"attributes\":{\"coordinates\":null,\"data_source\":{\"id\":\"1925\"},\"glyph\":{\"id\":\"1927\"},\"group\":null,\"hover_glyph\":null,\"muted_glyph\":{\"id\":\"1929\"},\"nonselection_glyph\":{\"id\":\"1928\"},\"view\":{\"id\":\"1931\"}},\"id\":\"1930\",\"type\":\"GlyphRenderer\"},{\"attributes\":{\"data\":{\"bottom\":{\"__ndarray__\":\"zczMzMzMSEDNzMzMzExMQM3MzMzMzE5AZmZmZmYmUEDNzMzMzMxIQM3MzMzMTExAzczMzMzMTkBmZmZmZiZQQM3MzMzMTExAzczMzMzMTkDNzMzMzExMQM3MzMzMzE5AzczMzMxMTEDNzMzMzExMQM3MzMzMTExAzczMzMxMTEDNzMzMzExMQM3MzMzMTExAzczMzMxMTEDNzMzMzExMQM3MzMzMTExAzczMzMxMTEDNzMzMzExMQM3MzMzMTExAzczMzMxMTEDNzMzMzMxNQGZmZmZmJlBAzczMzMxMTEDNzMzMzMxNQGZmZmZmJlBAzczMzMxMTEDNzMzMzMxNQGZmZmZmJlBAzczMzMxMTEDNzMzMzMxNQM3MzMzMzE9AzczMzMxMTEDNzMzMzMxNQM3MzMzMzE9A\",\"dtype\":\"float64\",\"order\":\"little\",\"shape\":[39]},\"duration\":{\"__ndarray__\":\"AAAAAAAA8D8AAAAAAADoPwAAAAAAAOg/AAAAAAAA6D8AAAAAAADgPwAAAAAAANA/AAAAAAAA0D8AAAAAAADQP8CqqqqqquA/AFZVVVVVpT8AVFVVVVWlPwBWVVVVVaU/AFhVVVVVlT8AVFVVVVWVPwBUVVVVVZU/AFhVVVVVlT8AVFVVVVWVPwBUVVVVVZU/AFhVVVVVlT8AVFVVVVWVPwBUVVVVVZU/AFhVVVVVlT8AVFVVVVWVPwBUVVVVVZU/AAAAAAAA7j9AVVVVVVXtP0BVVVVVVe0/AAAAAAAA4D/AqqqqqqreP8Cqqqqqqt4/QFVVVVVV3T8AAAAAAADcPwAAAAAAANw/YFVVVVVV7z+gqqqqqqruP6Cqqqqqqu4/YFVVVVVV7z9gVVVVVVXvP2BVVVVVVe8/\",\"dtype\":\"float64\",\"order\":\"little\",\"shape\":[39]},\"end_time\":{\"__ndarray__\":\"AAAAAAAA+D8AAAAAAAD8PwAAAAAAAPw/AAAAAAAA/D8AAAAAAAAAQAAAAAAAAABAAAAAAAAAAEAAAAAAAAAAQKuqqqqqijhAAAAAAACQOEBVVVVVVZU4QKuqqqqqmjhAq6qqqqqaOEAAAAAAAKA4QFVVVVVVpThAq6qqqqqqOEAAAAAAALA4QFVVVVVVtThAq6qqqqq6OEAAAAAAAMA4QFVVVVVVxThAq6qqqqrKOEAAAAAAANA4QFVVVVVV1ThAVVVVVVX1OkBVVVVVVfU6QFVVVVVV9TpAAAAAAACAO0AAAAAAAIA7QAAAAAAAgDtAVVVVVVX1O0BVVVVVVfU7QFVVVVVV9TtAAAAAAAAAPUAAAAAAAAA9QAAAAAAAAD1AAAAAAAAAPkAAAAAAAAA+QAAAAAAAAD5A\",\"dtype\":\"float64\",\"order\":\"little\",\"shape\":[39]},\"fill_alpha\":{\"__ndarray__\":\"AAAAAABA7D8AAAAAAEDkPwAAAAAAQOg/AAAAAABA6D8AAAAAAEDkPwAAAAAAQOg/AAAAAABA6D8AAAAAAEDoPwAAAAAAQOQ/AAAAAABA6D8AAAAAAEDgPwAAAAAAQOQ/AAAAAABA4D8AAAAAAEDgPwAAAAAAQOA/AAAAAABA4D8AAAAAAEDgPwAAAAAAQOA/AAAAAABA4D8AAAAAAEDgPwAAAAAAQOA/AAAAAABA4D8AAAAAAEDgPwAAAAAAQOA/AAAAAABA5D8AAAAAAEDoPwAAAAAAQOg/AAAAAABA5D8AAAAAAEDoPwAAAAAAQOg/AAAAAABA5D8AAAAAAEDoPwAAAAAAQOg/AAAAAABA6D8AAAAAAEDkPwAAAAAAQOQ/AAAAAABA5D8AAAAAAEDkPwAAAAAAQOQ/\",\"dtype\":\"float64\",\"order\":\"little\",\"shape\":[39]},\"index\":[9,15,16,17,27,33,34,35,374,386,389,390,391,392,393,394,395,396,397,398,400,401,402,403,421,425,426,439,443,444,448,453,454,459,460,461,476,477,478],\"instrument\":[4,4,4,4,4,4,4,4,4,4,4,4,4,4,4,4,4,4,4,4,4,4,4,4,4,4,4,4,4,4,4,4,4,4,4,4,4,4,4],\"pitch\":[50,57,62,65,50,57,62,65,57,62,57,62,57,57,57,57,57,57,57,57,57,57,57,57,57,60,65,57,60,65,57,60,65,57,60,64,57,60,64],\"program\":[25,25,25,25,25,25,25,25,25,25,25,25,25,25,25,25,25,25,25,25,25,25,25,25,25,25,25,25,25,25,25,25,25,25,25,25,25,25,25],\"start_time\":{\"__ndarray__\":\"AAAAAAAA4D8AAAAAAADwPwAAAAAAAPA/AAAAAAAA8D8AAAAAAAD4PwAAAAAAAPw/AAAAAAAA/D8AAAAAAAD8P1VVVVVVBThAVVVVVVWFOECrqqqqqoo4QAAAAAAAkDhAVVVVVVWVOECrqqqqqpo4QAAAAAAAoDhAVVVVVVWlOECrqqqqqqo4QAAAAAAAsDhAVVVVVVW1OECrqqqqqro4QAAAAAAAwDhAVVVVVVXFOECrqqqqqso4QAAAAAAA0DhAVVVVVVUFOkCrqqqqqgo6QKuqqqqqCjpAAAAAAAAAO0BVVVVVVQU7QFVVVVVVBTtAAAAAAACAO0BVVVVVVYU7QFVVVVVVhTtAVVVVVVUFPECrqqqqqgo8QKuqqqqqCjxAVVVVVVUFPUBVVVVVVQU9QFVVVVVVBT1A\",\"dtype\":\"float64\",\"order\":\"little\",\"shape\":[39]},\"top\":{\"__ndarray__\":\"MzMzMzMzSUAzMzMzM7NMQDMzMzMzM09AmpmZmZlZUEAzMzMzMzNJQDMzMzMzs0xAMzMzMzMzT0CamZmZmVlQQDMzMzMzs0xAMzMzMzMzT0AzMzMzM7NMQDMzMzMzM09AMzMzMzOzTEAzMzMzM7NMQDMzMzMzs0xAMzMzMzOzTEAzMzMzM7NMQDMzMzMzs0xAMzMzMzOzTEAzMzMzM7NMQDMzMzMzs0xAMzMzMzOzTEAzMzMzM7NMQDMzMzMzs0xAMzMzMzOzTEAzMzMzMzNOQJqZmZmZWVBAMzMzMzOzTEAzMzMzMzNOQJqZmZmZWVBAMzMzMzOzTEAzMzMzMzNOQJqZmZmZWVBAMzMzMzOzTEAzMzMzMzNOQJqZmZmZGVBAMzMzMzOzTEAzMzMzMzNOQJqZmZmZGVBA\",\"dtype\":\"float64\",\"order\":\"little\",\"shape\":[39]},\"velocity\":[113,81,97,97,81,97,97,97,81,97,65,81,65,65,65,65,65,65,65,65,65,65,65,65,81,97,97,81,97,97,81,97,97,97,81,81,81,81,81]},\"selected\":{\"id\":\"2079\"},\"selection_policy\":{\"id\":\"2078\"}},\"id\":\"1876\",\"type\":\"ColumnDataSource\"},{\"attributes\":{\"coordinates\":null,\"data_source\":{\"id\":\"1904\"},\"glyph\":{\"id\":\"1906\"},\"group\":null,\"hover_glyph\":null,\"muted_glyph\":{\"id\":\"1908\"},\"nonselection_glyph\":{\"id\":\"1907\"},\"view\":{\"id\":\"1910\"}},\"id\":\"1909\",\"type\":\"GlyphRenderer\"},{\"attributes\":{},\"id\":\"2106\",\"type\":\"UnionRenderers\"},{\"attributes\":{\"bottom\":{\"field\":\"bottom\"},\"fill_alpha\":{\"field\":\"fill_alpha\"},\"fill_color\":{\"value\":\"#abdda4\"},\"left\":{\"field\":\"start_time\"},\"right\":{\"field\":\"end_time\"},\"top\":{\"field\":\"top\"}},\"id\":\"1892\",\"type\":\"Quad\"},{\"attributes\":{\"bottom\":{\"field\":\"bottom\"},\"fill_alpha\":{\"value\":0.2},\"fill_color\":{\"value\":\"#fdae61\"},\"hatch_alpha\":{\"value\":0.2},\"left\":{\"field\":\"start_time\"},\"line_alpha\":{\"value\":0.2},\"right\":{\"field\":\"end_time\"},\"top\":{\"field\":\"top\"}},\"id\":\"1887\",\"type\":\"Quad\"},{\"attributes\":{\"data\":{\"bottom\":{\"__ndarray__\":\"zczMzMzMTUDNzMzMzExMQM3MzMzMzE1AZmZmZmYmUEDNzMzMzExMQM3MzMzMzE1AZmZmZmYmUEDNzMzMzExMQM3MzMzMzE1AZmZmZmYmUEDNzMzMzExMQM3MzMzMTEtAzczMzMxMTEDNzMzMzExLQM3MzMzMTE1AzczMzMzMTkDNzMzMzExNQM3MzMzMzE5A\",\"dtype\":\"float64\",\"order\":\"little\",\"shape\":[18]},\"duration\":{\"__ndarray__\":\"gFVVVVVV3T8AAAAAAADgP8Cqqqqqqt4/QFVVVVVV3T8AAAAAAADgP8Cqqqqqqt4/wKqqqqqq3j8AAAAAAADgPwAAAAAAAOA/wKqqqqqq3j8AAAAAAADgP6CqqqqqquA/AAAAAAAA4D8AAAAAAADgP8Cqqqqqqt4/AAAAAAAA4D8AAAAAAADgP0BVVVVVVd0/\",\"dtype\":\"float64\",\"order\":\"little\",\"shape\":[18]},\"end_time\":{\"__ndarray__\":\"q6qqqqp6MkAAAAAAAAAzQAAAAAAAADNAAAAAAAAAM0AAAAAAAIAzQAAAAAAAgDNAAAAAAACAM0AAAAAAAAA0QAAAAAAAADRAAAAAAAAANEBVVVVVVYU0QAAAAAAAADVAq6qqqqp6NUCrqqqqqvo1QAAAAAAAgDZAq6qqqqr6NkAAAAAAAIA3QFVVVVVV9TdA\",\"dtype\":\"float64\",\"order\":\"little\",\"shape\":[18]},\"fill_alpha\":{\"__ndarray__\":\"AAAAAABA5D8AAAAAAEDgPwAAAAAAQOQ/AAAAAABA4D8AAAAAAEDkPwAAAAAAQOQ/AAAAAABA5D8AAAAAAEDgPwAAAAAAQOQ/AAAAAABA5D8AAAAAAEDkPwAAAAAAQOA/AAAAAABA5D8AAAAAAEDgPwAAAAAAQOQ/AAAAAABA6D8AAAAAAEDkPwAAAAAAQOg/\",\"dtype\":\"float64\",\"order\":\"little\",\"shape\":[18]},\"index\":[277,280,288,289,291,297,298,300,301,308,311,320,328,339,348,355,363,368],\"instrument\":[12,12,12,12,12,12,12,12,12,12,12,12,12,12,12,12,12,12],\"pitch\":[60,57,60,65,57,60,65,57,60,65,57,55,57,55,59,62,59,62],\"program\":[24,24,24,24,24,24,24,24,24,24,24,24,24,24,24,24,24,24],\"start_time\":{\"__ndarray__\":\"VVVVVVUFMkAAAAAAAIAyQFVVVVVVhTJAq6qqqqqKMkAAAAAAAAAzQFVVVVVVBTNAVVVVVVUFM0AAAAAAAIAzQAAAAAAAgDNAVVVVVVWFM0BVVVVVVQU0QKuqqqqqejRAq6qqqqr6NECrqqqqqno1QFVVVVVVBTZAq6qqqqp6NkAAAAAAAAA3QAAAAAAAgDdA\",\"dtype\":\"float64\",\"order\":\"little\",\"shape\":[18]},\"top\":{\"__ndarray__\":\"MzMzMzMzTkAzMzMzM7NMQDMzMzMzM05AmpmZmZlZUEAzMzMzM7NMQDMzMzMzM05AmpmZmZlZUEAzMzMzM7NMQDMzMzMzM05AmpmZmZlZUEAzMzMzM7NMQDMzMzMzs0tAMzMzMzOzTEAzMzMzM7NLQDMzMzMzs01AMzMzMzMzT0AzMzMzM7NNQDMzMzMzM09A\",\"dtype\":\"float64\",\"order\":\"little\",\"shape\":[18]},\"velocity\":[81,65,81,65,81,81,81,65,81,81,81,65,81,65,81,97,81,97]},\"selected\":{\"id\":\"2095\"},\"selection_policy\":{\"id\":\"2094\"}},\"id\":\"1932\",\"type\":\"ColumnDataSource\"},{\"attributes\":{},\"id\":\"2111\",\"type\":\"Selection\"},{\"attributes\":{\"bottom\":{\"field\":\"bottom\"},\"fill_alpha\":{\"value\":0.1},\"fill_color\":{\"value\":\"#fdae61\"},\"hatch_alpha\":{\"value\":0.1},\"left\":{\"field\":\"start_time\"},\"line_alpha\":{\"value\":0.1},\"right\":{\"field\":\"end_time\"},\"top\":{\"field\":\"top\"}},\"id\":\"1886\",\"type\":\"Quad\"},{\"attributes\":{\"bottom\":{\"field\":\"bottom\"},\"fill_alpha\":{\"value\":0.2},\"fill_color\":{\"value\":\"#66c2a5\"},\"hatch_alpha\":{\"value\":0.2},\"left\":{\"field\":\"start_time\"},\"line_alpha\":{\"value\":0.2},\"right\":{\"field\":\"end_time\"},\"top\":{\"field\":\"top\"}},\"id\":\"1929\",\"type\":\"Quad\"},{\"attributes\":{},\"id\":\"2108\",\"type\":\"UnionRenderers\"},{\"attributes\":{},\"id\":\"1828\",\"type\":\"LinearScale\"},{\"attributes\":{\"bottom\":{\"field\":\"bottom\"},\"fill_alpha\":{\"value\":0.2},\"fill_color\":{\"value\":\"#f46d43\"},\"hatch_alpha\":{\"value\":0.2},\"left\":{\"field\":\"start_time\"},\"line_alpha\":{\"value\":0.2},\"right\":{\"field\":\"end_time\"},\"top\":{\"field\":\"top\"}},\"id\":\"1873\",\"type\":\"Quad\"},{\"attributes\":{\"bottom\":{\"field\":\"bottom\"},\"fill_alpha\":{\"field\":\"fill_alpha\"},\"fill_color\":{\"value\":\"#3288bd\"},\"left\":{\"field\":\"start_time\"},\"right\":{\"field\":\"end_time\"},\"top\":{\"field\":\"top\"}},\"id\":\"1864\",\"type\":\"Quad\"},{\"attributes\":{},\"id\":\"2113\",\"type\":\"Selection\"},{\"attributes\":{\"coordinates\":null,\"data_source\":{\"id\":\"1883\"},\"glyph\":{\"id\":\"1885\"},\"group\":null,\"hover_glyph\":null,\"muted_glyph\":{\"id\":\"1887\"},\"nonselection_glyph\":{\"id\":\"1886\"},\"view\":{\"id\":\"1889\"}},\"id\":\"1888\",\"type\":\"GlyphRenderer\"},{\"attributes\":{\"source\":{\"id\":\"1862\"}},\"id\":\"1868\",\"type\":\"CDSView\"},{\"attributes\":{},\"id\":\"2083\",\"type\":\"Selection\"},{\"attributes\":{\"coordinates\":null,\"data_source\":{\"id\":\"1918\"},\"glyph\":{\"id\":\"1920\"},\"group\":null,\"hover_glyph\":null,\"muted_glyph\":{\"id\":\"1922\"},\"nonselection_glyph\":{\"id\":\"1921\"},\"view\":{\"id\":\"1924\"}},\"id\":\"1923\",\"type\":\"GlyphRenderer\"},{\"attributes\":{\"source\":{\"id\":\"1897\"}},\"id\":\"1903\",\"type\":\"CDSView\"},{\"attributes\":{\"bottom\":{\"field\":\"bottom\"},\"fill_alpha\":{\"field\":\"fill_alpha\"},\"fill_color\":{\"value\":\"#66c2a5\"},\"left\":{\"field\":\"start_time\"},\"right\":{\"field\":\"end_time\"},\"top\":{\"field\":\"top\"}},\"id\":\"1976\",\"type\":\"Quad\"},{\"attributes\":{},\"id\":\"2110\",\"type\":\"UnionRenderers\"},{\"attributes\":{\"bottom\":{\"field\":\"bottom\"},\"fill_alpha\":{\"value\":0.2},\"fill_color\":{\"value\":\"#e6f598\"},\"hatch_alpha\":{\"value\":0.2},\"left\":{\"field\":\"start_time\"},\"line_alpha\":{\"value\":0.2},\"right\":{\"field\":\"end_time\"},\"top\":{\"field\":\"top\"}},\"id\":\"2048\",\"type\":\"Quad\"},{\"attributes\":{},\"id\":\"2115\",\"type\":\"Selection\"},{\"attributes\":{\"data\":{\"bottom\":{\"__ndarray__\":\"zczMzMxMRkDNzMzMzExGQM3MzMzMTEZAzczMzMxMRUDNzMzMzMxIQM3MzMzMTEVAzczMzMzMSEDNzMzMzMxIQM3MzMzMTEpAzczMzMzMSEDNzMzMzExKQM3MzMzMTERAzczMzMzMQUDNzMzMzExEQM3MzMzMzEFAzczMzMzMQUDNzMzMzMxDQM3MzMzMTERAzczMzMzMQ0DNzMzMzMxCQM3MzMzMTEVAzczMzMzMQkDNzMzMzExFQM3MzMzMzEJAzczMzMzMQkDNzMzMzMxCQM3MzMzMzEJAmpmZmZmZPkCamZmZmZk+QJqZmZmZmT5AmpmZmZmZPkCamZmZmZk+QJqZmZmZmT5AmpmZmZmZPkCamZmZmZk+QJqZmZmZmTlAmpmZmZmZOUCamZmZmZk5QJqZmZmZmTlAmpmZmZmZOUCamZmZmZk8QJqZmZmZmTxAmpmZmZmZPECamZmZmZk8QJqZmZmZmTxAmpmZmZmZO0CamZmZmZk7QJqZmZmZmTtAmpmZmZmZO0CamZmZmZk7QA==\",\"dtype\":\"float64\",\"order\":\"little\",\"shape\":[50]},\"duration\":{\"__ndarray__\":\"VFVVVVVV8D+oqqqqqqrgPwAAAAAAAOA/WFVVVVVV4T8AAAAAAADgP1BVVVVVVeE/AAAAAAAA4D+wqqqqqqrgP1BVVVVVVeE/sKqqqqqq4D8AAAAAAADgPwAAAAAAAOA/wKqqqqqq4D/AqqqqqqrgPwAAAAAAAOA/gFVVVVVV3T8AAAAAAADgPwAAAAAAAOA/AAAAAAAA4D+AqqqqqqrePwAAAAAAAOA/AAAAAAAA4D8AAAAAAADgPwAAAAAAAOA/gKqqqqqq3j8AAAAAAADgPwAAAAAAAOA/AKqqqqqquj8Aqqqqqqq6PwCqqqqqqro/AKqqqqqquj8Aqqqqqqq6PwCqqqqqqro/AKqqqqqquj8Aqqqqqqq6PwCqqqqqqro/AKqqqqqquj8Aqqqqqqq6PwCqqqqqqro/AKqqqqqquj8Aqqqqqqq6PwCqqqqqqro/AKqqqqqquj8Aqqqqqqq6PwCqqqqqqro/AKqqqqqquj8Aqqqqqqq6PwCqqqqqqro/AKqqqqqquj8Aqqqqqqq6Pw==\",\"dtype\":\"float64\",\"order\":\"little\",\"shape\":[50]},\"end_time\":{\"__ndarray__\":\"VVVVVVUVFEBVVVVVVRUWQAAAAAAAABhAq6qqqqoqGkAAAAAAAAAcQKqqqqqqKh5AAAAAAAAAIECrqqqqqgohQFVVVVVVFSJAq6qqqqoKI0AAAAAAAAAkQAAAAAAAQEFAq6qqqqqCQUCrqqqqqsJBQAAAAAAAAEJAq6qqqqo6QkAAAAAAAIBCQAAAAAAAwEJAAAAAAAAAQ0BVVVVVVT1DQAAAAAAAgENAAAAAAADAQ0AAAAAAAABEQAAAAAAAQERAVVVVVVV9REAAAAAAAMBEQAAAAAAAAEVAVVVVVVUNS0AAAAAAADhLQFVVVVVVTUtAAAAAAAB4S0BVVVVVVY1LQAAAAAAAuEtAVVVVVVXNS0AAAAAAAPhLQFVVVVVVDUxAAAAAAAA4TEBVVVVVVU1MQAAAAAAAeExAVVVVVVWNTEBVVVVVVQ1NQFVVVVVVHU1AVVVVVVVNTUBVVVVVVY1NQFVVVVVVzU1AVVVVVVUNTkBVVVVVVR1OQFVVVVVVTU5AVVVVVVWNTkBVVVVVVc1OQA==\",\"dtype\":\"float64\",\"order\":\"little\",\"shape\":[50]},\"fill_alpha\":{\"__ndarray__\":\"AAAAAABA4D8AAAAAAEDkPwAAAAAAQOA/AAAAAABA4D8AAAAAAEDkPwAAAAAAQOA/AAAAAABA5D8AAAAAAEDgPwAAAAAAQOQ/AAAAAABA4D8AAAAAAEDkPwAAAAAAQOg/AAAAAABA5D8AAAAAAEDoPwAAAAAAQOg/AAAAAABA6D8AAAAAAEDkPwAAAAAAQOg/AAAAAABA5D8AAAAAAEDoPwAAAAAAQOg/AAAAAABA5D8AAAAAAEDoPwAAAAAAQOg/AAAAAABA6D8AAAAAAEDkPwAAAAAAQOg/AAAAAABA6D8AAAAAAEDoPwAAAAAAQOg/AAAAAABA6D8AAAAAAEDoPwAAAAAAQOg/AAAAAABA6D8AAAAAAEDoPwAAAAAAQOg/AAAAAABA6D8AAAAAAEDoPwAAAAAAQOg/AAAAAABA6D8AAAAAAEDoPwAAAAAAQOg/AAAAAABA6D8AAAAAAEDoPwAAAAAAQOg/AAAAAABA6D8AAAAAAEDoPwAAAAAAQOg/AAAAAABA6D8AAAAAAEDoPw==\",\"dtype\":\"float64\",\"order\":\"little\",\"shape\":[50]},\"index\":[72,91,101,106,116,125,133,139,143,150,155,545,550,560,569,577,584,595,604,611,620,631,639,645,651,659,667,953,962,964,973,975,986,988,996,998,1007,1009,1021,1023,1044,1055,1059,1071,1083,1095,1104,1107,1121,1134],\"instrument\":[7,7,7,7,7,7,7,7,7,7,7,7,7,7,7,7,7,7,7,7,7,7,7,7,7,7,7,7,7,7,7,7,7,7,7,7,7,7,7,7,7,7,7,7,7,7,7,7,7,7],\"pitch\":[45,45,45,43,50,43,50,50,53,50,53,41,36,41,36,36,40,41,40,38,43,38,43,38,38,38,38,31,31,31,31,31,31,31,31,26,26,26,26,26,29,29,29,29,29,28,28,28,28,28],\"program\":[35,35,35,35,35,35,35,35,35,35,35,35,35,35,35,35,35,35,35,35,35,35,35,35,35,35,35,35,35,35,35,35,35,35,35,35,35,35,35,35,35,35,35,35,35,35,35,35,35,35],\"start_time\":{\"__ndarray__\":\"AAAAAAAAEEAAAAAAAAAUQAAAAAAAABZAAAAAAAAAGEAAAAAAAAAaQAAAAAAAABxAAAAAAAAAHkAAAAAAAAAgQAAAAAAAACFAAAAAAAAAIkAAAAAAAAAjQAAAAAAAAEFAAAAAAABAQUAAAAAAAIBBQAAAAAAAwEFAAAAAAAAAQkAAAAAAAEBCQAAAAAAAgEJAAAAAAADAQkAAAAAAAABDQAAAAAAAQENAAAAAAACAQ0AAAAAAAMBDQAAAAAAAAERAAAAAAABAREAAAAAAAIBEQAAAAAAAwERAAAAAAAAAS0CrqqqqqipLQAAAAAAAQEtAq6qqqqpqS0AAAAAAAIBLQKuqqqqqqktAAAAAAADAS0CrqqqqqupLQAAAAAAAAExAq6qqqqoqTEAAAAAAAEBMQKuqqqqqakxAAAAAAACATEAAAAAAAABNQAAAAAAAEE1AAAAAAABATUAAAAAAAIBNQAAAAAAAwE1AAAAAAAAATkAAAAAAABBOQAAAAAAAQE5AAAAAAACATkAAAAAAAMBOQA==\",\"dtype\":\"float64\",\"order\":\"little\",\"shape\":[50]},\"top\":{\"__ndarray__\":\"MzMzMzOzRkAzMzMzM7NGQDMzMzMzs0ZAMzMzMzOzRUAzMzMzMzNJQDMzMzMzs0VAMzMzMzMzSUAzMzMzMzNJQDMzMzMzs0pAMzMzMzMzSUAzMzMzM7NKQDMzMzMzs0RAMzMzMzMzQkAzMzMzM7NEQDMzMzMzM0JAMzMzMzMzQkAzMzMzMzNEQDMzMzMzs0RAMzMzMzMzREAzMzMzMzNDQDMzMzMzs0VAMzMzMzMzQ0AzMzMzM7NFQDMzMzMzM0NAMzMzMzMzQ0AzMzMzMzNDQDMzMzMzM0NAZmZmZmZmP0BmZmZmZmY/QGZmZmZmZj9AZmZmZmZmP0BmZmZmZmY/QGZmZmZmZj9AZmZmZmZmP0BmZmZmZmY/QGZmZmZmZjpAZmZmZmZmOkBmZmZmZmY6QGZmZmZmZjpAZmZmZmZmOkBmZmZmZmY9QGZmZmZmZj1AZmZmZmZmPUBmZmZmZmY9QGZmZmZmZj1AZmZmZmZmPEBmZmZmZmY8QGZmZmZmZjxAZmZmZmZmPEBmZmZmZmY8QA==\",\"dtype\":\"float64\",\"order\":\"little\",\"shape\":[50]},\"velocity\":[65,81,65,65,81,65,81,65,81,65,81,97,81,97,97,97,81,97,81,97,97,81,97,97,97,81,97,97,97,97,97,97,97,97,97,97,97,97,97,97,97,97,97,97,97,97,97,97,97,97]},\"selected\":{\"id\":\"2085\"},\"selection_policy\":{\"id\":\"2084\"}},\"id\":\"1897\",\"type\":\"ColumnDataSource\"},{\"attributes\":{\"callback\":null,\"tooltips\":[[\"pitch\",\"@pitch\"],[\"program\",\"@program\"],[\"velo\",\"@velocity\"],[\"duration\",\"@duration\"],[\"start_time\",\"@start_time\"],[\"end_time\",\"@end_time\"],[\"velocity\",\"@velocity\"],[\"fill_alpha\",\"@fill_alpha\"]]},\"id\":\"1840\",\"type\":\"HoverTool\"},{\"attributes\":{\"bottom\":{\"field\":\"bottom\"},\"fill_alpha\":{\"value\":0.1},\"fill_color\":{\"value\":\"#f46d43\"},\"hatch_alpha\":{\"value\":0.1},\"left\":{\"field\":\"start_time\"},\"line_alpha\":{\"value\":0.1},\"right\":{\"field\":\"end_time\"},\"top\":{\"field\":\"top\"}},\"id\":\"2019\",\"type\":\"Quad\"},{\"attributes\":{},\"id\":\"2112\",\"type\":\"UnionRenderers\"},{\"attributes\":{\"bottom\":{\"field\":\"bottom\"},\"fill_alpha\":{\"value\":0.1},\"fill_color\":{\"value\":\"#3288bd\"},\"hatch_alpha\":{\"value\":0.1},\"left\":{\"field\":\"start_time\"},\"line_alpha\":{\"value\":0.1},\"right\":{\"field\":\"end_time\"},\"top\":{\"field\":\"top\"}},\"id\":\"1865\",\"type\":\"Quad\"},{\"attributes\":{\"data\":{\"bottom\":{\"__ndarray__\":\"zczMzMxMRUDNzMzMzMxCQM3MzMzMTEVAzczMzMzMQkDNzMzMzMxCQM3MzMzMzEJAzczMzMzMQkDNzMzMzMxCQJqZmZmZmTxAmpmZmZmZPECamZmZmZk8QJqZmZmZmTxAmpmZmZmZO0CamZmZmZk7QJqZmZmZmTtAmpmZmZmZO0CamZmZmZk7QA==\",\"dtype\":\"float64\",\"order\":\"little\",\"shape\":[17]},\"duration\":{\"__ndarray__\":\"wKqqqqqq3j8AAAAAAADgPwAAAAAAAOA/AAAAAAAA4D8AAAAAAADgPwAAAAAAAOA/AAAAAAAA4D8AAAAAAADgPwCrqqqqqsI/AKuqqqqqwj8Aq6qqqqrCPwCrqqqqqsI/AKqqqqqquj8Aqqqqqqq6PwAAAAAAAMA/AAAAAAAAwD8AAAAAAADAPw==\",\"dtype\":\"float64\",\"order\":\"little\",\"shape\":[17]},\"end_time\":{\"__ndarray__\":\"q6qqqqp6PkAAAAAAAAA/QAAAAAAAgD9AAAAAAAAAQEAAAAAAAEBAQAAAAAAAgEBAAAAAAADAQEAAAAAAAABBQKuqqqqqEklAq6qqqqpSSUCrqqqqqpJJQKuqqqqq0klAAAAAAAAQSkBVVVVVVT1KQFVVVVVVVUpAVVVVVVWVSkBVVVVVVdVKQA==\",\"dtype\":\"float64\",\"order\":\"little\",\"shape\":[17]},\"fill_alpha\":{\"__ndarray__\":\"AAAAAABA6D8AAAAAAEDkPwAAAAAAQOQ/AAAAAABA5D8AAAAAAEDoPwAAAAAAQOQ/AAAAAABA6D8AAAAAAEDkPwAAAAAAQOQ/AAAAAABA5D8AAAAAAEDkPwAAAAAAQOQ/AAAAAABA6D8AAAAAAEDoPwAAAAAAQOg/AAAAAABA6D8AAAAAAEDoPw==\",\"dtype\":\"float64\",\"order\":\"little\",\"shape\":[17]},\"index\":[489,495,503,510,517,520,529,537,864,877,888,899,917,919,929,941,950],\"instrument\":[16,16,16,16,16,16,16,16,16,16,16,16,16,16,16,16,16],\"pitch\":[43,38,43,38,38,38,38,38,29,29,29,29,28,28,28,28,28],\"program\":[32,32,32,32,32,32,32,32,32,32,32,32,32,32,32,32,32],\"start_time\":{\"__ndarray__\":\"AAAAAAAAPkAAAAAAAIA+QAAAAAAAAD9AAAAAAACAP0AAAAAAAABAQAAAAAAAQEBAAAAAAACAQEAAAAAAAMBAQAAAAAAAAElAAAAAAABASUAAAAAAAIBJQAAAAAAAwElAq6qqqqoCSkAAAAAAADBKQFVVVVVVRUpAVVVVVVWFSkBVVVVVVcVKQA==\",\"dtype\":\"float64\",\"order\":\"little\",\"shape\":[17]},\"top\":{\"__ndarray__\":\"MzMzMzOzRUAzMzMzMzNDQDMzMzMzs0VAMzMzMzMzQ0AzMzMzMzNDQDMzMzMzM0NAMzMzMzMzQ0AzMzMzMzNDQGZmZmZmZj1AZmZmZmZmPUBmZmZmZmY9QGZmZmZmZj1AZmZmZmZmPEBmZmZmZmY8QGZmZmZmZjxAZmZmZmZmPEBmZmZmZmY8QA==\",\"dtype\":\"float64\",\"order\":\"little\",\"shape\":[17]},\"velocity\":[97,81,81,81,97,81,97,81,81,81,81,81,97,97,97,97,97]},\"selected\":{\"id\":\"2103\"},\"selection_policy\":{\"id\":\"2102\"}},\"id\":\"1960\",\"type\":\"ColumnDataSource\"},{\"attributes\":{\"overlay\":{\"id\":\"1845\"}},\"id\":\"1842\",\"type\":\"BoxZoomTool\"},{\"attributes\":{},\"id\":\"1830\",\"type\":\"LinearScale\"},{\"attributes\":{\"interval\":12},\"id\":\"1854\",\"type\":\"SingleIntervalTicker\"},{\"attributes\":{},\"id\":\"2114\",\"type\":\"UnionRenderers\"},{\"attributes\":{},\"id\":\"1826\",\"type\":\"DataRange1d\"},{\"attributes\":{\"axis_label\":\"time (sec)\",\"coordinates\":null,\"formatter\":{\"id\":\"2070\"},\"group\":null,\"major_label_policy\":{\"id\":\"2071\"},\"ticker\":{\"id\":\"1833\"}},\"id\":\"1832\",\"type\":\"LinearAxis\"},{\"attributes\":{\"bottom\":{\"field\":\"bottom\"},\"fill_alpha\":{\"value\":0.2},\"fill_color\":{\"value\":\"#3288bd\"},\"hatch_alpha\":{\"value\":0.2},\"left\":{\"field\":\"start_time\"},\"line_alpha\":{\"value\":0.2},\"right\":{\"field\":\"end_time\"},\"top\":{\"field\":\"top\"}},\"id\":\"1866\",\"type\":\"Quad\"},{\"attributes\":{\"axis_label\":\"pitch (MIDI)\",\"coordinates\":null,\"formatter\":{\"id\":\"2067\"},\"group\":null,\"major_label_policy\":{\"id\":\"2068\"},\"ticker\":{\"id\":\"1852\"}},\"id\":\"1836\",\"type\":\"LinearAxis\"},{\"attributes\":{\"coordinates\":null,\"data_source\":{\"id\":\"1890\"},\"glyph\":{\"id\":\"1892\"},\"group\":null,\"hover_glyph\":null,\"muted_glyph\":{\"id\":\"1894\"},\"nonselection_glyph\":{\"id\":\"1893\"},\"view\":{\"id\":\"1896\"}},\"id\":\"1895\",\"type\":\"GlyphRenderer\"},{\"attributes\":{},\"id\":\"2116\",\"type\":\"UnionRenderers\"},{\"attributes\":{\"coordinates\":null,\"data_source\":{\"id\":\"2002\"},\"glyph\":{\"id\":\"2004\"},\"group\":null,\"hover_glyph\":null,\"muted_glyph\":{\"id\":\"2006\"},\"nonselection_glyph\":{\"id\":\"2005\"},\"view\":{\"id\":\"2008\"}},\"id\":\"2007\",\"type\":\"GlyphRenderer\"},{\"attributes\":{},\"id\":\"2074\",\"type\":\"UnionRenderers\"},{\"attributes\":{},\"id\":\"2084\",\"type\":\"UnionRenderers\"},{\"attributes\":{},\"id\":\"2081\",\"type\":\"Selection\"},{\"attributes\":{\"source\":{\"id\":\"1981\"}},\"id\":\"1987\",\"type\":\"CDSView\"},{\"attributes\":{\"coordinates\":null,\"data_source\":{\"id\":\"1939\"},\"glyph\":{\"id\":\"1941\"},\"group\":null,\"hover_glyph\":null,\"muted_glyph\":{\"id\":\"1943\"},\"nonselection_glyph\":{\"id\":\"1942\"},\"view\":{\"id\":\"1945\"}},\"id\":\"1944\",\"type\":\"GlyphRenderer\"},{\"attributes\":{\"bottom\":{\"field\":\"bottom\"},\"fill_alpha\":{\"field\":\"fill_alpha\"},\"fill_color\":{\"value\":\"#d53e4f\"},\"left\":{\"field\":\"start_time\"},\"right\":{\"field\":\"end_time\"},\"top\":{\"field\":\"top\"}},\"id\":\"2053\",\"type\":\"Quad\"},{\"attributes\":{\"bottom\":{\"field\":\"bottom\"},\"fill_alpha\":{\"field\":\"fill_alpha\"},\"fill_color\":{\"value\":\"#66c2a5\"},\"left\":{\"field\":\"start_time\"},\"right\":{\"field\":\"end_time\"},\"top\":{\"field\":\"top\"}},\"id\":\"1878\",\"type\":\"Quad\"},{\"attributes\":{\"coordinates\":null,\"data_source\":{\"id\":\"1995\"},\"glyph\":{\"id\":\"1997\"},\"group\":null,\"hover_glyph\":null,\"muted_glyph\":{\"id\":\"1999\"},\"nonselection_glyph\":{\"id\":\"1998\"},\"view\":{\"id\":\"2001\"}},\"id\":\"2000\",\"type\":\"GlyphRenderer\"},{\"attributes\":{\"coordinates\":null,\"data_source\":{\"id\":\"2044\"},\"glyph\":{\"id\":\"2046\"},\"group\":null,\"hover_glyph\":null,\"muted_glyph\":{\"id\":\"2048\"},\"nonselection_glyph\":{\"id\":\"2047\"},\"view\":{\"id\":\"2050\"}},\"id\":\"2049\",\"type\":\"GlyphRenderer\"},{\"attributes\":{\"bottom\":{\"field\":\"bottom\"},\"fill_alpha\":{\"value\":0.2},\"fill_color\":{\"value\":\"#abdda4\"},\"hatch_alpha\":{\"value\":0.2},\"left\":{\"field\":\"start_time\"},\"line_alpha\":{\"value\":0.2},\"right\":{\"field\":\"end_time\"},\"top\":{\"field\":\"top\"}},\"id\":\"1943\",\"type\":\"Quad\"},{\"attributes\":{\"coordinates\":null,\"data_source\":{\"id\":\"1960\"},\"glyph\":{\"id\":\"1962\"},\"group\":null,\"hover_glyph\":null,\"muted_glyph\":{\"id\":\"1964\"},\"nonselection_glyph\":{\"id\":\"1963\"},\"view\":{\"id\":\"1966\"}},\"id\":\"1965\",\"type\":\"GlyphRenderer\"},{\"attributes\":{\"coordinates\":null,\"data_source\":{\"id\":\"2016\"},\"glyph\":{\"id\":\"2018\"},\"group\":null,\"hover_glyph\":null,\"muted_glyph\":{\"id\":\"2020\"},\"nonselection_glyph\":{\"id\":\"2019\"},\"view\":{\"id\":\"2022\"}},\"id\":\"2021\",\"type\":\"GlyphRenderer\"},{\"attributes\":{\"data\":{\"bottom\":{\"__ndarray__\":\"mpmZmZmZOUCamZmZmZk5QJqZmZmZmTlAmpmZmZmZOUCamZmZmZk5QJqZmZmZmTlAmpmZmZmZOUCamZmZmZk5QJqZmZmZmTlAmpmZmZmZOUCamZmZmZk5QJqZmZmZmTlAmpmZmZmZOUCamZmZmZk5QJqZmZmZmTlA\",\"dtype\":\"float64\",\"order\":\"little\",\"shape\":[15]},\"duration\":{\"__ndarray__\":\"AKqqqqqquj8Aqqqqqqq6PwCqqqqqqro/AKqqqqqquj8Aqqqqqqq6PwCqqqqqqro/AKqqqqqquj8Aqqqqqqq6PwCqqqqqqro/AKqqqqqquj8Aqqqqqqq6PwCqqqqqqro/AKqqqqqquj8Aqqqqqqq6PwCqqqqqqro/\",\"dtype\":\"float64\",\"order\":\"little\",\"shape\":[15]},\"end_time\":{\"__ndarray__\":\"VVVVVVUNT0BVVVVVVR1PQFVVVVVVLU9AVVVVVVU9T0BVVVVVVU1PQFVVVVVVXU9AVVVVVVVtT0BVVVVVVX1PQFVVVVVVjU9AVVVVVVWdT0BVVVVVVa1PQFVVVVVVvU9AVVVVVVXNT0BVVVVVVd1PQFVVVVVV7U9A\",\"dtype\":\"float64\",\"order\":\"little\",\"shape\":[15]},\"fill_alpha\":{\"__ndarray__\":\"AAAAAABA6D8AAAAAAEDoPwAAAAAAQOg/AAAAAABA6D8AAAAAAEDoPwAAAAAAQOg/AAAAAABA6D8AAAAAAEDoPwAAAAAAQOg/AAAAAABA6D8AAAAAAEDoPwAAAAAAQOg/AAAAAABA6D8AAAAAAEDoPwAAAAAAQOg/\",\"dtype\":\"float64\",\"order\":\"little\",\"shape\":[15]},\"index\":[1147,1155,1156,1158,1159,1169,1171,1173,1174,1183,1185,1187,1188,1197,1199],\"instrument\":[30,30,30,30,30,30,30,30,30,30,30,30,30,30,30],\"pitch\":[26,26,26,26,26,26,26,26,26,26,26,26,26,26,26],\"program\":[38,38,38,38,38,38,38,38,38,38,38,38,38,38,38],\"start_time\":{\"__ndarray__\":\"AAAAAAAAT0AAAAAAABBPQAAAAAAAIE9AAAAAAAAwT0AAAAAAAEBPQAAAAAAAUE9AAAAAAABgT0AAAAAAAHBPQAAAAAAAgE9AAAAAAACQT0AAAAAAAKBPQAAAAAAAsE9AAAAAAADAT0AAAAAAANBPQAAAAAAA4E9A\",\"dtype\":\"float64\",\"order\":\"little\",\"shape\":[15]},\"top\":{\"__ndarray__\":\"ZmZmZmZmOkBmZmZmZmY6QGZmZmZmZjpAZmZmZmZmOkBmZmZmZmY6QGZmZmZmZjpAZmZmZmZmOkBmZmZmZmY6QGZmZmZmZjpAZmZmZmZmOkBmZmZmZmY6QGZmZmZmZjpAZmZmZmZmOkBmZmZmZmY6QGZmZmZmZjpA\",\"dtype\":\"float64\",\"order\":\"little\",\"shape\":[15]},\"velocity\":[97,97,97,97,97,97,97,97,97,97,97,97,97,97,97]},\"selected\":{\"id\":\"2131\"},\"selection_policy\":{\"id\":\"2130\"}},\"id\":\"2058\",\"type\":\"ColumnDataSource\"},{\"attributes\":{\"coordinates\":null,\"group\":null},\"id\":\"2065\",\"type\":\"Title\"},{\"attributes\":{\"source\":{\"id\":\"1946\"}},\"id\":\"1952\",\"type\":\"CDSView\"},{\"attributes\":{},\"id\":\"2072\",\"type\":\"UnionRenderers\"},{\"attributes\":{\"data\":{\"bottom\":{\"__ndarray__\":\"zczMzMzMTUDNzMzMzExNQM3MzMzMTE1AzczMzMzMTUDNzMzMzExNQGZmZmZmplBAzczMzMzMTkBmZmZmZmZQQA==\",\"dtype\":\"float64\",\"order\":\"little\",\"shape\":[8]},\"duration\":{\"__ndarray__\":\"AAAAAAAA+D8AAAAAAAD4PwAAAAAAAPg/AAAAAAAA+D8AAAAAAAD4PwAAAAAAAPg/AAAAAAAA+D+AVVVVVVXZPw==\",\"dtype\":\"float64\",\"order\":\"little\",\"shape\":[8]},\"end_time\":{\"__ndarray__\":\"AAAAAAAAQUAAAAAAAABEQAAAAAAAAEhAAAAAAAAAS0AAAAAAAABMQAAAAAAAAE1AAAAAAAAAT0CrqqqqqnJPQA==\",\"dtype\":\"float64\",\"order\":\"little\",\"shape\":[8]},\"fill_alpha\":{\"__ndarray__\":\"AAAAAABA6D8AAAAAAEDsPwAAAAAAQOg/AAAAAABA6D8AAAAAAEDoPwAAAAAAQOg/AAAAAABA6D8AAAAAAEDoPw==\",\"dtype\":\"float64\",\"order\":\"little\",\"shape\":[8]},\"index\":[526,625,790,927,969,1016,1115,1165],\"instrument\":[18,18,18,18,18,18,18,18],\"pitch\":[60,59,59,60,59,67,62,66],\"program\":[119,119,119,119,119,119,119,119],\"start_time\":{\"__ndarray__\":\"AAAAAABAQEAAAAAAAEBDQAAAAAAAQEdAAAAAAABASkAAAAAAAEBLQAAAAAAAQExAAAAAAABATkAAAAAAAEBPQA==\",\"dtype\":\"float64\",\"order\":\"little\",\"shape\":[8]},\"top\":{\"__ndarray__\":\"MzMzMzMzTkAzMzMzM7NNQDMzMzMzs01AMzMzMzMzTkAzMzMzM7NNQJqZmZmZ2VBAMzMzMzMzT0CamZmZmZlQQA==\",\"dtype\":\"float64\",\"order\":\"little\",\"shape\":[8]},\"velocity\":[97,113,97,97,97,97,97,97]},\"selected\":{\"id\":\"2107\"},\"selection_policy\":{\"id\":\"2106\"}},\"id\":\"1974\",\"type\":\"ColumnDataSource\"},{\"attributes\":{\"bottom\":{\"field\":\"bottom\"},\"fill_alpha\":{\"field\":\"fill_alpha\"},\"fill_color\":{\"value\":\"#abdda4\"},\"left\":{\"field\":\"start_time\"},\"right\":{\"field\":\"end_time\"},\"top\":{\"field\":\"top\"}},\"id\":\"1990\",\"type\":\"Quad\"},{\"attributes\":{\"bottom\":{\"field\":\"bottom\"},\"fill_alpha\":{\"value\":0.2},\"fill_color\":{\"value\":\"#3288bd\"},\"hatch_alpha\":{\"value\":0.2},\"left\":{\"field\":\"start_time\"},\"line_alpha\":{\"value\":0.2},\"right\":{\"field\":\"end_time\"},\"top\":{\"field\":\"top\"}},\"id\":\"2013\",\"type\":\"Quad\"},{\"attributes\":{\"bottom\":{\"field\":\"bottom\"},\"fill_alpha\":{\"value\":0.1},\"fill_color\":{\"value\":\"#66c2a5\"},\"hatch_alpha\":{\"value\":0.1},\"left\":{\"field\":\"start_time\"},\"line_alpha\":{\"value\":0.1},\"right\":{\"field\":\"end_time\"},\"top\":{\"field\":\"top\"}},\"id\":\"1977\",\"type\":\"Quad\"},{\"attributes\":{\"bottom\":{\"field\":\"bottom\"},\"fill_alpha\":{\"value\":0.1},\"fill_color\":{\"value\":\"#e6f598\"},\"hatch_alpha\":{\"value\":0.1},\"left\":{\"field\":\"start_time\"},\"line_alpha\":{\"value\":0.1},\"right\":{\"field\":\"end_time\"},\"top\":{\"field\":\"top\"}},\"id\":\"2047\",\"type\":\"Quad\"},{\"attributes\":{\"bottom\":{\"field\":\"bottom\"},\"fill_alpha\":{\"field\":\"fill_alpha\"},\"fill_color\":{\"value\":\"#3288bd\"},\"left\":{\"field\":\"start_time\"},\"right\":{\"field\":\"end_time\"},\"top\":{\"field\":\"top\"}},\"id\":\"1913\",\"type\":\"Quad\"},{\"attributes\":{\"bottom\":{\"field\":\"bottom\"},\"fill_alpha\":{\"value\":0.2},\"fill_color\":{\"value\":\"#fdae61\"},\"hatch_alpha\":{\"value\":0.2},\"left\":{\"field\":\"start_time\"},\"line_alpha\":{\"value\":0.2},\"right\":{\"field\":\"end_time\"},\"top\":{\"field\":\"top\"}},\"id\":\"2034\",\"type\":\"Quad\"},{\"attributes\":{\"coordinates\":null,\"data_source\":{\"id\":\"1946\"},\"glyph\":{\"id\":\"1948\"},\"group\":null,\"hover_glyph\":null,\"muted_glyph\":{\"id\":\"1950\"},\"nonselection_glyph\":{\"id\":\"1949\"},\"view\":{\"id\":\"1952\"}},\"id\":\"1951\",\"type\":\"GlyphRenderer\"},{\"attributes\":{\"source\":{\"id\":\"1911\"}},\"id\":\"1917\",\"type\":\"CDSView\"},{\"attributes\":{\"source\":{\"id\":\"2030\"}},\"id\":\"2036\",\"type\":\"CDSView\"},{\"attributes\":{\"source\":{\"id\":\"2002\"}},\"id\":\"2008\",\"type\":\"CDSView\"},{\"attributes\":{\"coordinates\":null,\"data_source\":{\"id\":\"1967\"},\"glyph\":{\"id\":\"1969\"},\"group\":null,\"hover_glyph\":null,\"muted_glyph\":{\"id\":\"1971\"},\"nonselection_glyph\":{\"id\":\"1970\"},\"view\":{\"id\":\"1973\"}},\"id\":\"1972\",\"type\":\"GlyphRenderer\"},{\"attributes\":{\"bottom\":{\"field\":\"bottom\"},\"fill_alpha\":{\"value\":0.2},\"fill_color\":{\"value\":\"#e6f598\"},\"hatch_alpha\":{\"value\":0.2},\"left\":{\"field\":\"start_time\"},\"line_alpha\":{\"value\":0.2},\"right\":{\"field\":\"end_time\"},\"top\":{\"field\":\"top\"}},\"id\":\"1901\",\"type\":\"Quad\"},{\"attributes\":{\"bottom\":{\"field\":\"bottom\"},\"fill_alpha\":{\"value\":0.1},\"fill_color\":{\"value\":\"#e6f598\"},\"hatch_alpha\":{\"value\":0.1},\"left\":{\"field\":\"start_time\"},\"line_alpha\":{\"value\":0.1},\"right\":{\"field\":\"end_time\"},\"top\":{\"field\":\"top\"}},\"id\":\"1949\",\"type\":\"Quad\"},{\"attributes\":{\"bottom\":{\"field\":\"bottom\"},\"fill_alpha\":{\"value\":0.1},\"fill_color\":{\"value\":\"#f46d43\"},\"hatch_alpha\":{\"value\":0.1},\"left\":{\"field\":\"start_time\"},\"line_alpha\":{\"value\":0.1},\"right\":{\"field\":\"end_time\"},\"top\":{\"field\":\"top\"}},\"id\":\"1970\",\"type\":\"Quad\"},{\"attributes\":{\"bottom\":{\"field\":\"bottom\"},\"fill_alpha\":{\"value\":0.1},\"fill_color\":{\"value\":\"#3288bd\"},\"hatch_alpha\":{\"value\":0.1},\"left\":{\"field\":\"start_time\"},\"line_alpha\":{\"value\":0.1},\"right\":{\"field\":\"end_time\"},\"top\":{\"field\":\"top\"}},\"id\":\"2012\",\"type\":\"Quad\"},{\"attributes\":{},\"id\":\"2067\",\"type\":\"BasicTickFormatter\"},{\"attributes\":{\"data\":{\"bottom\":{\"__ndarray__\":\"zczMzMxMSkDNzMzMzExMQM3MzMzMzE1AZmZmZmYmUEBmZmZmZiZRQM3MzMzMTEpAzczMzMxMTEDNzMzMzMxNQGZmZmZmJlBAZmZmZmYmUUDNzMzMzExKQM3MzMzMTExAzczMzMzMTUBmZmZmZiZQQGZmZmZmJlFAzczMzMxMSkDNzMzMzExMQM3MzMzMzE1AZmZmZmYmUEBmZmZmZiZRQM3MzMzMzE1AzczMzMzMT0BmZmZmZqZQQM3MzMzMzE1AzczMzMzMT0BmZmZmZqZQQM3MzMzMzE1AzczMzMzMT0BmZmZmZqZQQM3MzMzMzE1AzczMzMzMT0BmZmZmZqZQQA==\",\"dtype\":\"float64\",\"order\":\"little\",\"shape\":[32]},\"duration\":{\"__ndarray__\":\"AAAAAAAA4D8AAAAAAADgPwAAAAAAAOA/AAAAAAAA4D8AAAAAAADgPwAAAAAAAOA/AAAAAAAA4D8AAAAAAADgPwAAAAAAAOA/AAAAAAAA4D8AAAAAAADgPwAAAAAAAOA/AAAAAAAA4D8AAAAAAADgPwAAAAAAAOA/AAAAAAAA4D8AAAAAAADgPwAAAAAAAOA/AAAAAAAA4D8AAAAAAADgPwBYVVVVVZU/AFhVVVVVlT8AWFVVVVWVPwBYVVVVVZU/AFhVVVVVlT8AWFVVVVWVPwBYVVVVVZU/AFhVVVVVlT8AWFVVVVWVPwBYVVVVVZU/AFhVVVVVlT8AWFVVVVWVPw==\",\"dtype\":\"float64\",\"order\":\"little\",\"shape\":[32]},\"end_time\":{\"__ndarray__\":\"AAAAAABARUAAAAAAAEBFQAAAAAAAQEVAAAAAAABARUAAAAAAAEBFQAAAAAAAgEVAAAAAAACARUAAAAAAAIBFQAAAAAAAgEVAAAAAAACARUAAAAAAAMBFQAAAAAAAwEVAAAAAAADARUAAAAAAAMBFQAAAAAAAwEVAAAAAAAAARkAAAAAAAABGQAAAAAAAAEZAAAAAAAAARkAAAAAAAABGQKuqqqqqAkZAq6qqqqoCRkCrqqqqqgJGQKuqqqqqQkZAq6qqqqpCRkCrqqqqqkJGQKuqqqqqgkZAq6qqqqqCRkCrqqqqqoJGQKuqqqqqwkZAq6qqqqrCRkCrqqqqqsJGQA==\",\"dtype\":\"float64\",\"order\":\"little\",\"shape\":[32]},\"fill_alpha\":{\"__ndarray__\":\"AAAAAABA5D8AAAAAAEDkPwAAAAAAQOQ/AAAAAABA5D8AAAAAAEDkPwAAAAAAQOQ/AAAAAABA5D8AAAAAAEDkPwAAAAAAQOQ/AAAAAABA5D8AAAAAAEDkPwAAAAAAQOQ/AAAAAABA5D8AAAAAAEDkPwAAAAAAQOQ/AAAAAABA5D8AAAAAAEDkPwAAAAAAQOQ/AAAAAABA5D8AAAAAAEDkPwAAAAAAQOg/AAAAAABA6D8AAAAAAEDoPwAAAAAAQOg/AAAAAABA6D8AAAAAAEDoPwAAAAAAQOg/AAAAAABA6D8AAAAAAEDoPwAAAAAAQOg/AAAAAABA6D8AAAAAAEDoPw==\",\"dtype\":\"float64\",\"order\":\"little\",\"shape\":[32]},\"index\":[674,675,676,677,678,691,692,693,694,695,709,710,711,712,713,723,724,725,726,727,734,735,736,748,749,750,759,760,761,770,771,772],\"instrument\":[24,24,24,24,24,24,24,24,24,24,24,24,24,24,24,24,24,24,24,24,24,24,24,24,24,24,24,24,24,24,24,24],\"pitch\":[53,57,60,65,69,53,57,60,65,69,53,57,60,65,69,53,57,60,65,69,60,64,67,60,64,67,60,64,67,60,64,67],\"program\":[99,99,99,99,99,99,99,99,99,99,99,99,99,99,99,99,99,99,99,99,99,99,99,99,99,99,99,99,99,99,99,99],\"start_time\":{\"__ndarray__\":\"AAAAAAAARUAAAAAAAABFQAAAAAAAAEVAAAAAAAAARUAAAAAAAABFQAAAAAAAQEVAAAAAAABARUAAAAAAAEBFQAAAAAAAQEVAAAAAAABARUAAAAAAAIBFQAAAAAAAgEVAAAAAAACARUAAAAAAAIBFQAAAAAAAgEVAAAAAAADARUAAAAAAAMBFQAAAAAAAwEVAAAAAAADARUAAAAAAAMBFQAAAAAAAAEZAAAAAAAAARkAAAAAAAABGQAAAAAAAQEZAAAAAAABARkAAAAAAAEBGQAAAAAAAgEZAAAAAAACARkAAAAAAAIBGQAAAAAAAwEZAAAAAAADARkAAAAAAAMBGQA==\",\"dtype\":\"float64\",\"order\":\"little\",\"shape\":[32]},\"top\":{\"__ndarray__\":\"MzMzMzOzSkAzMzMzM7NMQDMzMzMzM05AmpmZmZlZUECamZmZmVlRQDMzMzMzs0pAMzMzMzOzTEAzMzMzMzNOQJqZmZmZWVBAmpmZmZlZUUAzMzMzM7NKQDMzMzMzs0xAMzMzMzMzTkCamZmZmVlQQJqZmZmZWVFAMzMzMzOzSkAzMzMzM7NMQDMzMzMzM05AmpmZmZlZUECamZmZmVlRQDMzMzMzM05AmpmZmZkZUECamZmZmdlQQDMzMzMzM05AmpmZmZkZUECamZmZmdlQQDMzMzMzM05AmpmZmZkZUECamZmZmdlQQDMzMzMzM05AmpmZmZkZUECamZmZmdlQQA==\",\"dtype\":\"float64\",\"order\":\"little\",\"shape\":[32]},\"velocity\":[81,81,81,81,81,81,81,81,81,81,81,81,81,81,81,81,81,81,81,81,97,97,97,97,97,97,97,97,97,97,97,97]},\"selected\":{\"id\":\"2119\"},\"selection_policy\":{\"id\":\"2118\"}},\"id\":\"2016\",\"type\":\"ColumnDataSource\"},{\"attributes\":{\"data\":{\"bottom\":{\"__ndarray__\":\"zczMzMxMTEDNzMzMzMxNQGZmZmZmJlBAzczMzMxMTEDNzMzMzMxNQGZmZmZmJlBAzczMzMxMTEDNzMzMzMxNQGZmZmZmJlBAzczMzMxMTEDNzMzMzMxNQGZmZmZmJlBAzczMzMxMTEDNzMzMzMxNQM3MzMzMzE9AzczMzMxMTEDNzMzMzMxNQM3MzMzMzE9AzczMzMxMTEDNzMzMzMxNQM3MzMzMzE9AzczMzMxMTEDNzMzMzMxNQM3MzMzMzE9AzczMzMzMTkBmZmZmZiZQQGZmZmZmJlFAzczMzMzMTkBmZmZmZiZQQGZmZmZmJlFAzczMzMzMTkBmZmZmZiZQQGZmZmZmJlFAzczMzMzMTkBmZmZmZiZQQGZmZmZmJlFAzczMzMzMTUBmZmZmZiZQQGZmZmZmJlFAzczMzMzMTUBmZmZmZiZQQGZmZmZmJlFAzczMzMzMTUBmZmZmZiZQQGZmZmZmJlFAzczMzMzMTUBmZmZmZiZQQGZmZmZmJlFAzczMzMxMTEDNzMzMzMxNQM3MzMzMzE9AzczMzMxMTEDNzMzMzMxNQM3MzMzMzE9AzczMzMxMTEDNzMzMzMxNQM3MzMzMzE9AzczMzMxMTEDNzMzMzMxNQM3MzMzMzE9A\",\"dtype\":\"float64\",\"order\":\"little\",\"shape\":[60]},\"duration\":{\"__ndarray__\":\"AAAAAAAA4D8AAAAAAADgPwAAAAAAAOA/AAAAAAAA4D8AAAAAAADgPwAAAAAAAOA/AAAAAAAA4D8AAAAAAADgPwAAAAAAAOA/AAAAAAAA4D8AAAAAAADgPwAAAAAAAOA/AAAAAAAA4D8AAAAAAADgPwAAAAAAAOA/AAAAAAAA4D8AAAAAAADgPwAAAAAAAOA/AAAAAAAA4D8AAAAAAADgPwAAAAAAAOA/AAAAAAAA4D8AAAAAAADgPwAAAAAAAOA/gKqqqqqq3j+AqqqqqqreP4Cqqqqqqt4/gKqqqqqq3j+AqqqqqqreP4Cqqqqqqt4/gKqqqqqq3j+AqqqqqqreP4Cqqqqqqt4/gKqqqqqq3j+AqqqqqqreP4Cqqqqqqt4/gKqqqqqq3j+AqqqqqqreP4Cqqqqqqt4/gKqqqqqq3j+AqqqqqqreP4Cqqqqqqt4/gKqqqqqq3j+AqqqqqqreP4Cqqqqqqt4/gKqqqqqq3j+AqqqqqqreP4Cqqqqqqt4/gKqqqqqq3j+AqqqqqqreP4Cqqqqqqt4/gKqqqqqq3j+AqqqqqqreP4Cqqqqqqt4/gKqqqqqq3j+AqqqqqqreP4Cqqqqqqt4/gKqqqqqq3j+AqqqqqqreP4Cqqqqqqt4/\",\"dtype\":\"float64\",\"order\":\"little\",\"shape\":[60]},\"end_time\":{\"__ndarray__\":\"AAAAAABASUAAAAAAAEBJQAAAAAAAQElAAAAAAACASUAAAAAAAIBJQAAAAAAAgElAAAAAAADASUAAAAAAAMBJQAAAAAAAwElAAAAAAAAASkAAAAAAAABKQAAAAAAAAEpAAAAAAABASkAAAAAAAEBKQAAAAAAAQEpAAAAAAACASkAAAAAAAIBKQAAAAAAAgEpAAAAAAADASkAAAAAAAMBKQAAAAAAAwEpAAAAAAAAAS0AAAAAAAABLQAAAAAAAAEtAVVVVVVU9TEBVVVVVVT1MQFVVVVVVPUxAVVVVVVV9TEBVVVVVVX1MQFVVVVVVfUxAVVVVVVW9TEBVVVVVVb1MQFVVVVVVvUxAVVVVVVX9TEBVVVVVVf1MQFVVVVVV/UxAVVVVVVU9TUBVVVVVVT1NQFVVVVVVPU1AVVVVVVV9TUBVVVVVVX1NQFVVVVVVfU1AVVVVVVW9TUBVVVVVVb1NQFVVVVVVvU1AVVVVVVX9TUBVVVVVVf1NQFVVVVVV/U1AVVVVVVU9TkBVVVVVVT1OQFVVVVVVPU5AVVVVVVV9TkBVVVVVVX1OQFVVVVVVfU5AVVVVVVW9TkBVVVVVVb1OQFVVVVVVvU5AVVVVVVX9TkBVVVVVVf1OQFVVVVVV/U5A\",\"dtype\":\"float64\",\"order\":\"little\",\"shape\":[60]},\"fill_alpha\":{\"__ndarray__\":\"AAAAAABA6D8AAAAAAEDoPwAAAAAAQOg/AAAAAABA6D8AAAAAAEDoPwAAAAAAQOg/AAAAAABA6D8AAAAAAEDoPwAAAAAAQOg/AAAAAABA6D8AAAAAAEDoPwAAAAAAQOg/AAAAAABA6D8AAAAAAEDoPwAAAAAAQOg/AAAAAABA6D8AAAAAAEDoPwAAAAAAQOg/AAAAAABA6D8AAAAAAEDoPwAAAAAAQOg/AAAAAABA6D8AAAAAAEDoPwAAAAAAQOg/AAAAAABA5D8AAAAAAEDkPwAAAAAAQOQ/AAAAAABA5D8AAAAAAEDkPwAAAAAAQOQ/AAAAAABA5D8AAAAAAEDkPwAAAAAAQOQ/AAAAAABA5D8AAAAAAEDkPwAAAAAAQOQ/AAAAAABA5D8AAAAAAEDkPwAAAAAAQOQ/AAAAAABA5D8AAAAAAEDkPwAAAAAAQOQ/AAAAAABA5D8AAAAAAEDkPwAAAAAAQOQ/AAAAAABA5D8AAAAAAEDkPwAAAAAAQOQ/AAAAAABA5D8AAAAAAEDkPwAAAAAAQOQ/AAAAAABA5D8AAAAAAEDkPwAAAAAAQOQ/AAAAAABA5D8AAAAAAEDkPwAAAAAAQOQ/AAAAAABA5D8AAAAAAEDkPwAAAAAAQOQ/\",\"dtype\":\"float64\",\"order\":\"little\",\"shape\":[60]},\"index\":[868,869,870,881,882,883,892,893,894,903,904,905,913,914,915,924,925,926,936,937,938,945,946,947,1002,1003,1004,1013,1014,1015,1027,1028,1029,1037,1038,1039,1047,1048,1049,1062,1063,1064,1074,1075,1076,1086,1087,1088,1099,1100,1101,1111,1112,1113,1125,1126,1127,1138,1139,1140],\"instrument\":[28,28,28,28,28,28,28,28,28,28,28,28,28,28,28,28,28,28,28,28,28,28,28,28,28,28,28,28,28,28,28,28,28,28,28,28,28,28,28,28,28,28,28,28,28,28,28,28,28,28,28,28,28,28,28,28,28,28,28,28],\"pitch\":[57,60,65,57,60,65,57,60,65,57,60,65,57,60,64,57,60,64,57,60,64,57,60,64,62,65,69,62,65,69,62,65,69,62,65,69,60,65,69,60,65,69,60,65,69,60,65,69,57,60,64,57,60,64,57,60,64,57,60,64],\"program\":[60,60,60,60,60,60,60,60,60,60,60,60,60,60,60,60,60,60,60,60,60,60,60,60,60,60,60,60,60,60,60,60,60,60,60,60,60,60,60,60,60,60,60,60,60,60,60,60,60,60,60,60,60,60,60,60,60,60,60,60],\"start_time\":{\"__ndarray__\":\"AAAAAAAASUAAAAAAAABJQAAAAAAAAElAAAAAAABASUAAAAAAAEBJQAAAAAAAQElAAAAAAACASUAAAAAAAIBJQAAAAAAAgElAAAAAAADASUAAAAAAAMBJQAAAAAAAwElAAAAAAAAASkAAAAAAAABKQAAAAAAAAEpAAAAAAABASkAAAAAAAEBKQAAAAAAAQEpAAAAAAACASkAAAAAAAIBKQAAAAAAAgEpAAAAAAADASkAAAAAAAMBKQAAAAAAAwEpAAAAAAAAATEAAAAAAAABMQAAAAAAAAExAAAAAAABATEAAAAAAAEBMQAAAAAAAQExAAAAAAACATEAAAAAAAIBMQAAAAAAAgExAAAAAAADATEAAAAAAAMBMQAAAAAAAwExAAAAAAAAATUAAAAAAAABNQAAAAAAAAE1AAAAAAABATUAAAAAAAEBNQAAAAAAAQE1AAAAAAACATUAAAAAAAIBNQAAAAAAAgE1AAAAAAADATUAAAAAAAMBNQAAAAAAAwE1AAAAAAAAATkAAAAAAAABOQAAAAAAAAE5AAAAAAABATkAAAAAAAEBOQAAAAAAAQE5AAAAAAACATkAAAAAAAIBOQAAAAAAAgE5AAAAAAADATkAAAAAAAMBOQAAAAAAAwE5A\",\"dtype\":\"float64\",\"order\":\"little\",\"shape\":[60]},\"top\":{\"__ndarray__\":\"MzMzMzOzTEAzMzMzMzNOQJqZmZmZWVBAMzMzMzOzTEAzMzMzMzNOQJqZmZmZWVBAMzMzMzOzTEAzMzMzMzNOQJqZmZmZWVBAMzMzMzOzTEAzMzMzMzNOQJqZmZmZWVBAMzMzMzOzTEAzMzMzMzNOQJqZmZmZGVBAMzMzMzOzTEAzMzMzMzNOQJqZmZmZGVBAMzMzMzOzTEAzMzMzMzNOQJqZmZmZGVBAMzMzMzOzTEAzMzMzMzNOQJqZmZmZGVBAMzMzMzMzT0CamZmZmVlQQJqZmZmZWVFAMzMzMzMzT0CamZmZmVlQQJqZmZmZWVFAMzMzMzMzT0CamZmZmVlQQJqZmZmZWVFAMzMzMzMzT0CamZmZmVlQQJqZmZmZWVFAMzMzMzMzTkCamZmZmVlQQJqZmZmZWVFAMzMzMzMzTkCamZmZmVlQQJqZmZmZWVFAMzMzMzMzTkCamZmZmVlQQJqZmZmZWVFAMzMzMzMzTkCamZmZmVlQQJqZmZmZWVFAMzMzMzOzTEAzMzMzMzNOQJqZmZmZGVBAMzMzMzOzTEAzMzMzMzNOQJqZmZmZGVBAMzMzMzOzTEAzMzMzMzNOQJqZmZmZGVBAMzMzMzOzTEAzMzMzMzNOQJqZmZmZGVBA\",\"dtype\":\"float64\",\"order\":\"little\",\"shape\":[60]},\"velocity\":[97,97,97,97,97,97,97,97,97,97,97,97,97,97,97,97,97,97,97,97,97,97,97,97,81,81,81,81,81,81,81,81,81,81,81,81,81,81,81,81,81,81,81,81,81,81,81,81,81,81,81,81,81,81,81,81,81,81,81,81]},\"selected\":{\"id\":\"2127\"},\"selection_policy\":{\"id\":\"2126\"}},\"id\":\"2044\",\"type\":\"ColumnDataSource\"},{\"attributes\":{},\"id\":\"2068\",\"type\":\"AllLabels\"},{\"attributes\":{\"bottom\":{\"field\":\"bottom\"},\"fill_alpha\":{\"value\":0.1},\"fill_color\":{\"value\":\"#d53e4f\"},\"hatch_alpha\":{\"value\":0.1},\"left\":{\"field\":\"start_time\"},\"line_alpha\":{\"value\":0.1},\"right\":{\"field\":\"end_time\"},\"top\":{\"field\":\"top\"}},\"id\":\"2005\",\"type\":\"Quad\"},{\"attributes\":{\"coordinates\":null,\"data_source\":{\"id\":\"1981\"},\"glyph\":{\"id\":\"1983\"},\"group\":null,\"hover_glyph\":null,\"muted_glyph\":{\"id\":\"1985\"},\"nonselection_glyph\":{\"id\":\"1984\"},\"view\":{\"id\":\"1987\"}},\"id\":\"1986\",\"type\":\"GlyphRenderer\"},{\"attributes\":{\"bottom\":{\"field\":\"bottom\"},\"fill_alpha\":{\"field\":\"fill_alpha\"},\"fill_color\":{\"value\":\"#e6f598\"},\"left\":{\"field\":\"start_time\"},\"right\":{\"field\":\"end_time\"},\"top\":{\"field\":\"top\"}},\"id\":\"1948\",\"type\":\"Quad\"},{\"attributes\":{\"bottom\":{\"field\":\"bottom\"},\"fill_alpha\":{\"value\":0.2},\"fill_color\":{\"value\":\"#d53e4f\"},\"hatch_alpha\":{\"value\":0.2},\"left\":{\"field\":\"start_time\"},\"line_alpha\":{\"value\":0.2},\"right\":{\"field\":\"end_time\"},\"top\":{\"field\":\"top\"}},\"id\":\"2055\",\"type\":\"Quad\"},{\"attributes\":{\"bottom\":{\"field\":\"bottom\"},\"fill_alpha\":{\"value\":0.2},\"fill_color\":{\"value\":\"#66c2a5\"},\"hatch_alpha\":{\"value\":0.2},\"left\":{\"field\":\"start_time\"},\"line_alpha\":{\"value\":0.2},\"right\":{\"field\":\"end_time\"},\"top\":{\"field\":\"top\"}},\"id\":\"2027\",\"type\":\"Quad\"},{\"attributes\":{},\"id\":\"2076\",\"type\":\"UnionRenderers\"},{\"attributes\":{\"bottom\":{\"field\":\"bottom\"},\"fill_alpha\":{\"value\":0.1},\"fill_color\":{\"value\":\"#d53e4f\"},\"hatch_alpha\":{\"value\":0.1},\"left\":{\"field\":\"start_time\"},\"line_alpha\":{\"value\":0.1},\"right\":{\"field\":\"end_time\"},\"top\":{\"field\":\"top\"}},\"id\":\"1858\",\"type\":\"Quad\"},{\"attributes\":{\"bottom\":{\"field\":\"bottom\"},\"fill_alpha\":{\"value\":0.2},\"fill_color\":{\"value\":\"#fdae61\"},\"hatch_alpha\":{\"value\":0.2},\"left\":{\"field\":\"start_time\"},\"line_alpha\":{\"value\":0.2},\"right\":{\"field\":\"end_time\"},\"top\":{\"field\":\"top\"}},\"id\":\"1985\",\"type\":\"Quad\"},{\"attributes\":{\"coordinates\":null,\"data_source\":{\"id\":\"2023\"},\"glyph\":{\"id\":\"2025\"},\"group\":null,\"hover_glyph\":null,\"muted_glyph\":{\"id\":\"2027\"},\"nonselection_glyph\":{\"id\":\"2026\"},\"view\":{\"id\":\"2029\"}},\"id\":\"2028\",\"type\":\"GlyphRenderer\"},{\"attributes\":{\"bottom\":{\"field\":\"bottom\"},\"fill_alpha\":{\"field\":\"fill_alpha\"},\"fill_color\":{\"value\":\"#f46d43\"},\"left\":{\"field\":\"start_time\"},\"right\":{\"field\":\"end_time\"},\"top\":{\"field\":\"top\"}},\"id\":\"1969\",\"type\":\"Quad\"},{\"attributes\":{\"source\":{\"id\":\"1967\"}},\"id\":\"1973\",\"type\":\"CDSView\"},{\"attributes\":{\"bottom\":{\"field\":\"bottom\"},\"fill_alpha\":{\"value\":0.1},\"fill_color\":{\"value\":\"#3288bd\"},\"hatch_alpha\":{\"value\":0.1},\"left\":{\"field\":\"start_time\"},\"line_alpha\":{\"value\":0.1},\"right\":{\"field\":\"end_time\"},\"top\":{\"field\":\"top\"}},\"id\":\"1914\",\"type\":\"Quad\"},{\"attributes\":{\"data\":{\"bottom\":{\"__ndarray__\":\"ZmZmZmbmUUBmZmZmZuZRQGZmZmZm5lFAZmZmZmbmUUBmZmZmZuZRQGZmZmZm5lFAZmZmZmbmUUBmZmZmZuZRQGZmZmZm5lFAZmZmZmbmUUBmZmZmZuZRQGZmZmZm5lFAZmZmZmZmWEBmZmZmZmZYQGZmZmZmZlhAZmZmZmZmWEBmZmZmZiZTQGZmZmZmJlNAZmZmZmYmU0BmZmZmZiZTQGZmZmZmJlNAZmZmZmYmU0BmZmZmZiZTQGZmZmZm5ldAZmZmZmbmV0BmZmZmZuZXQGZmZmZm5ldAZmZmZmbmV0BmZmZmZuZXQGZmZmZm5ldAZmZmZmbmV0BmZmZmZuZXQA==\",\"dtype\":\"float64\",\"order\":\"little\",\"shape\":[32]},\"duration\":{\"__ndarray__\":\"AKyqqqqquj8Aqqqqqqq6PwCsqqqqqro/AKqqqqqquj8Aqqqqqqq6PwCsqqqqqro/AKqqqqqquj8Aqqqqqqq6PwCsqqqqqro/AKqqqqqquj8Aqqqqqqq6PwBWVVVVVbU/AKqqqqqquj8Aqqqqqqq6PwCqqqqqqro/AKqqqqqquj8Aqqqqqqq6PwCqqqqqqro/AKyqqqqquj8Aqqqqqqq6PwCsqqqqqro/AKqqqqqquj8Aqqqqqqq6PwCqqqqqqro/AKqqqqqquj8ArKqqqqq6PwAAAAAAAMA/AKqqqqqquj8ArKqqqqq6PwCqqqqqqro/AKqqqqqquj8ArKqqqqq6Pw==\",\"dtype\":\"float64\",\"order\":\"little\",\"shape\":[32]},\"end_time\":{\"__ndarray__\":\"q6qqqqoSQkBVVVVVVS1CQKuqqqqqQkJAAAAAAABYQkBVVVVVVW1CQKuqqqqqgkJAAAAAAACYQkBVVVVVVa1CQKuqqqqqwkJAAAAAAADYQkBVVVVVVe1CQAAAAAAAAENAAAAAAAAQQ0BVVVVVVU1DQFVVVVVVjUNAVVVVVVXNQ0AAAAAAABBFQFVVVVVVPUVAq6qqqqpSRUBVVVVVVX1FQKuqqqqqkkVAVVVVVVW9RUBVVVVVVf1FQAAAAAAAEEZAVVVVVVUtRkCrqqqqqkpGQKuqqqqqakZAAAAAAACIRkCrqqqqqqJGQFVVVVVVvUZAAAAAAADYRkCrqqqqqvJGQA==\",\"dtype\":\"float64\",\"order\":\"little\",\"shape\":[32]},\"fill_alpha\":{\"__ndarray__\":\"AAAAAABA4D8AAAAAAEDkPwAAAAAAQOA/AAAAAABA5D8AAAAAAEDgPwAAAAAAQOQ/AAAAAABA4D8AAAAAAEDkPwAAAAAAQOA/AAAAAABA5D8AAAAAAEDkPwAAAAAAQOQ/AAAAAABA5D8AAAAAAEDkPwAAAAAAQOQ/AAAAAABA5D8AAAAAAEDkPwAAAAAAQOQ/AAAAAABA5D8AAAAAAEDkPwAAAAAAQOQ/AAAAAABA5D8AAAAAAEDkPwAAAAAAQOQ/AAAAAABA5D8AAAAAAEDkPwAAAAAAQOQ/AAAAAABA5D8AAAAAAEDkPwAAAAAAQOQ/AAAAAABA5D8AAAAAAEDkPw==\",\"dtype\":\"float64\",\"order\":\"little\",\"shape\":[32]},\"index\":[580,581,583,591,592,594,600,601,603,607,608,610,615,619,630,638,679,686,696,703,714,721,731,737,741,743,752,754,762,765,773,775],\"instrument\":[21,21,21,21,21,21,21,21,21,21,21,21,21,21,21,21,21,21,21,21,21,21,21,21,21,21,21,21,21,21,21,21],\"pitch\":[72,72,72,72,72,72,72,72,72,72,72,72,98,98,98,98,77,77,77,77,77,77,77,96,96,96,96,96,96,96,96,96],\"program\":[9,9,9,9,9,9,9,9,9,9,9,9,9,9,9,9,9,9,9,9,9,9,9,9,9,9,9,9,9,9,9,9],\"start_time\":{\"__ndarray__\":\"VVVVVVUFQkAAAAAAACBCQFVVVVVVNUJAq6qqqqpKQkAAAAAAAGBCQFVVVVVVdUJAq6qqqqqKQkAAAAAAAKBCQFVVVVVVtUJAq6qqqqrKQkAAAAAAAOBCQFVVVVVV9UJAq6qqqqoCQ0AAAAAAAEBDQAAAAAAAgENAAAAAAADAQ0CrqqqqqgJFQAAAAAAAMEVAVVVVVVVFRUAAAAAAAHBFQFVVVVVVhUVAAAAAAACwRUAAAAAAAPBFQKuqqqqqAkZAAAAAAAAgRkBVVVVVVT1GQKuqqqqqWkZAq6qqqqp6RkBVVVVVVZVGQAAAAAAAsEZAq6qqqqrKRkBVVVVVVeVGQA==\",\"dtype\":\"float64\",\"order\":\"little\",\"shape\":[32]},\"top\":{\"__ndarray__\":\"mpmZmZkZUkCamZmZmRlSQJqZmZmZGVJAmpmZmZkZUkCamZmZmRlSQJqZmZmZGVJAmpmZmZkZUkCamZmZmRlSQJqZmZmZGVJAmpmZmZkZUkCamZmZmRlSQJqZmZmZGVJAmpmZmZmZWECamZmZmZlYQJqZmZmZmVhAmpmZmZmZWECamZmZmVlTQJqZmZmZWVNAmpmZmZlZU0CamZmZmVlTQJqZmZmZWVNAmpmZmZlZU0CamZmZmVlTQJqZmZmZGVhAmpmZmZkZWECamZmZmRlYQJqZmZmZGVhAmpmZmZkZWECamZmZmRlYQJqZmZmZGVhAmpmZmZkZWECamZmZmRlYQA==\",\"dtype\":\"float64\",\"order\":\"little\",\"shape\":[32]},\"velocity\":[65,81,65,81,65,81,65,81,65,81,81,81,81,81,81,81,81,81,81,81,81,81,81,81,81,81,81,81,81,81,81,81]},\"selected\":{\"id\":\"2113\"},\"selection_policy\":{\"id\":\"2112\"}},\"id\":\"1995\",\"type\":\"ColumnDataSource\"},{\"attributes\":{},\"id\":\"2077\",\"type\":\"Selection\"},{\"attributes\":{\"bottom\":{\"field\":\"bottom\"},\"fill_alpha\":{\"value\":0.1},\"fill_color\":{\"value\":\"#d53e4f\"},\"hatch_alpha\":{\"value\":0.1},\"left\":{\"field\":\"start_time\"},\"line_alpha\":{\"value\":0.1},\"right\":{\"field\":\"end_time\"},\"top\":{\"field\":\"top\"}},\"id\":\"1956\",\"type\":\"Quad\"},{\"attributes\":{\"bottom\":{\"field\":\"bottom\"},\"fill_alpha\":{\"field\":\"fill_alpha\"},\"fill_color\":{\"value\":\"#abdda4\"},\"left\":{\"field\":\"start_time\"},\"right\":{\"field\":\"end_time\"},\"top\":{\"field\":\"top\"}},\"id\":\"2039\",\"type\":\"Quad\"},{\"attributes\":{},\"id\":\"2079\",\"type\":\"Selection\"},{\"attributes\":{\"data\":{\"bottom\":{\"__ndarray__\":\"zczMzMzMTUDNzMzMzMxNQM3MzMzMzE5A\",\"dtype\":\"float64\",\"order\":\"little\",\"shape\":[3]},\"duration\":{\"__ndarray__\":\"AAAAAAAA4D/AqqqqqqreP8Cqqqqqqt4/\",\"dtype\":\"float64\",\"order\":\"little\",\"shape\":[3]},\"end_time\":{\"__ndarray__\":\"AAAAAAAAPUAAAAAAAIA9QAAAAAAAAD5A\",\"dtype\":\"float64\",\"order\":\"little\",\"shape\":[3]},\"fill_alpha\":{\"__ndarray__\":\"AAAAAABA4D8AAAAAAEDkPwAAAAAAQOA/\",\"dtype\":\"float64\",\"order\":\"little\",\"shape\":[3]},\"index\":[467,479,487],\"instrument\":[15,15,15],\"pitch\":[60,60,62],\"program\":[79,79,79],\"start_time\":{\"__ndarray__\":\"AAAAAACAPEBVVVVVVQU9QFVVVVVVhT1A\",\"dtype\":\"float64\",\"order\":\"little\",\"shape\":[3]},\"top\":{\"__ndarray__\":\"MzMzMzMzTkAzMzMzMzNOQDMzMzMzM09A\",\"dtype\":\"float64\",\"order\":\"little\",\"shape\":[3]},\"velocity\":[65,81,65]},\"selected\":{\"id\":\"2101\"},\"selection_policy\":{\"id\":\"2100\"}},\"id\":\"1953\",\"type\":\"ColumnDataSource\"},{\"attributes\":{\"bottom\":{\"field\":\"bottom\"},\"fill_alpha\":{\"value\":0.1},\"fill_color\":{\"value\":\"#fdae61\"},\"hatch_alpha\":{\"value\":0.1},\"left\":{\"field\":\"start_time\"},\"line_alpha\":{\"value\":0.1},\"right\":{\"field\":\"end_time\"},\"top\":{\"field\":\"top\"}},\"id\":\"2033\",\"type\":\"Quad\"},{\"attributes\":{\"source\":{\"id\":\"2023\"}},\"id\":\"2029\",\"type\":\"CDSView\"},{\"attributes\":{\"bottom\":{\"field\":\"bottom\"},\"fill_alpha\":{\"value\":0.2},\"fill_color\":{\"value\":\"#3288bd\"},\"hatch_alpha\":{\"value\":0.2},\"left\":{\"field\":\"start_time\"},\"line_alpha\":{\"value\":0.2},\"right\":{\"field\":\"end_time\"},\"top\":{\"field\":\"top\"}},\"id\":\"1915\",\"type\":\"Quad\"},{\"attributes\":{\"bottom\":{\"field\":\"bottom\"},\"fill_alpha\":{\"value\":0.2},\"fill_color\":{\"value\":\"#f46d43\"},\"hatch_alpha\":{\"value\":0.2},\"left\":{\"field\":\"start_time\"},\"line_alpha\":{\"value\":0.2},\"right\":{\"field\":\"end_time\"},\"top\":{\"field\":\"top\"}},\"id\":\"1971\",\"type\":\"Quad\"},{\"attributes\":{\"data\":{\"bottom\":{\"__ndarray__\":\"zczMzMxMTEDNzMzMzMxOQGZmZmZmJlBAzczMzMxMTEDNzMzMzMxOQGZmZmZmJlBAzczMzMxMTEDNzMzMzMxOQGZmZmZmJlBA\",\"dtype\":\"float64\",\"order\":\"little\",\"shape\":[9]},\"duration\":{\"__ndarray__\":\"gKqqqqqq3j+AqqqqqqreP4Cqqqqqqt4/gKqqqqqq3j+AqqqqqqreP4Cqqqqqqt4/QFVVVVVV7z9AVVVVVVXvP0BVVVVVVe8/\",\"dtype\":\"float64\",\"order\":\"little\",\"shape\":[9]},\"end_time\":{\"__ndarray__\":\"VVVVVVU9SEBVVVVVVT1IQFVVVVVVPUhAVVVVVVV9SEBVVVVVVX1IQFVVVVVVfUhAVVVVVVX9SEBVVVVVVf1IQFVVVVVV/UhA\",\"dtype\":\"float64\",\"order\":\"little\",\"shape\":[9]},\"fill_alpha\":{\"__ndarray__\":\"AAAAAABA6D8AAAAAAEDoPwAAAAAAQOg/AAAAAABA6D8AAAAAAEDoPwAAAAAAQOg/AAAAAABA6D8AAAAAAEDoPwAAAAAAQOg/\",\"dtype\":\"float64\",\"order\":\"little\",\"shape\":[9]},\"index\":[813,814,815,826,827,828,841,842,843],\"instrument\":[27,27,27,27,27,27,27,27,27],\"pitch\":[57,62,65,57,62,65,57,62,65],\"program\":[61,61,61,61,61,61,61,61,61],\"start_time\":{\"__ndarray__\":\"AAAAAAAASEAAAAAAAABIQAAAAAAAAEhAAAAAAABASEAAAAAAAEBIQAAAAAAAQEhAAAAAAACASEAAAAAAAIBIQAAAAAAAgEhA\",\"dtype\":\"float64\",\"order\":\"little\",\"shape\":[9]},\"top\":{\"__ndarray__\":\"MzMzMzOzTEAzMzMzMzNPQJqZmZmZWVBAMzMzMzOzTEAzMzMzMzNPQJqZmZmZWVBAMzMzMzOzTEAzMzMzMzNPQJqZmZmZWVBA\",\"dtype\":\"float64\",\"order\":\"little\",\"shape\":[9]},\"velocity\":[97,97,97,97,97,97,97,97,97]},\"selected\":{\"id\":\"2125\"},\"selection_policy\":{\"id\":\"2124\"}},\"id\":\"2037\",\"type\":\"ColumnDataSource\"},{\"attributes\":{\"bottom\":{\"field\":\"bottom\"},\"fill_alpha\":{\"value\":0.2},\"fill_color\":{\"value\":\"#3288bd\"},\"hatch_alpha\":{\"value\":0.2},\"left\":{\"field\":\"start_time\"},\"line_alpha\":{\"value\":0.2},\"right\":{\"field\":\"end_time\"},\"top\":{\"field\":\"top\"}},\"id\":\"2062\",\"type\":\"Quad\"},{\"attributes\":{\"bottom\":{\"field\":\"bottom\"},\"fill_alpha\":{\"value\":0.2},\"fill_color\":{\"value\":\"#d53e4f\"},\"hatch_alpha\":{\"value\":0.2},\"left\":{\"field\":\"start_time\"},\"line_alpha\":{\"value\":0.2},\"right\":{\"field\":\"end_time\"},\"top\":{\"field\":\"top\"}},\"id\":\"2006\",\"type\":\"Quad\"},{\"attributes\":{},\"id\":\"2073\",\"type\":\"Selection\"},{\"attributes\":{\"data\":{\"bottom\":{\"__ndarray__\":\"zczMzMzMSEDNzMzMzExKQM3MzMzMzEhAzczMzMxMSkDNzMzMzExEQM3MzMzMzEdAzczMzMxMREDNzMzMzMxBQM3MzMzMTERAzczMzMzMR0DNzMzMzExEQM3MzMzMzEdAzczMzMxMRkDNzMzMzExGQM3MzMzMTEZAzczMzMxMRkDNzMzMzExFQM3MzMzMTEVAzczMzMxMRUDNzMzMzExFQM3MzMzMzEhAzczMzMxMRkDNzMzMzExGQM3MzMzMTEZAzczMzMxMREDNzMzMzExGQM3MzMzMzEdAzczMzMxMRkA=\",\"dtype\":\"float64\",\"order\":\"little\",\"shape\":[28]},\"duration\":{\"__ndarray__\":\"VVVVVVVV4T9UVVVVVVXhP1RVVVVVVeE/AAAAAAAA4D+oqqqqqqrgP6iqqqqqquA/AAAAAAAA4D8AAAAAAADgPwAAAAAAAOA/AAAAAAAA4D8AAAAAAADgPwAAAAAAAOA/AAAAAAAA4D8AAAAAAADgPwAAAAAAAOA/AAAAAAAA4D8AAAAAAADgPwAAAAAAAOA/AAAAAAAA4D8AAAAAAADgPwAAAAAAAOA/AAAAAAAA4D8AAAAAAADgPwAAAAAAAOA/AAAAAAAA4D8AAAAAAADgPwAAAAAAAOA/AAAAAAAA4D8=\",\"dtype\":\"float64\",\"order\":\"little\",\"shape\":[28]},\"end_time\":{\"__ndarray__\":\"VVVVVVVV4T+qqqqqqqrwP6qqqqqqqvg/AAAAAAAAAECqqqqqqioEQKqqqqqqKghAAAAAAAAADEAAAAAAAAAQQAAAAAAAACVAAAAAAAAAJkAAAAAAAAAnQAAAAAAAAChAAAAAAAAAKUAAAAAAAAAqQAAAAAAAACtAAAAAAAAALEAAAAAAAAAtQAAAAAAAAC5AAAAAAAAAL0AAAAAAAAAwQAAAAAAAgDBAAAAAAAAAMUAAAAAAAIAxQAAAAAAAADJAAAAAAACAMkAAAAAAAAAzQAAAAAAAgDNAAAAAAAAANEA=\",\"dtype\":\"float64\",\"order\":\"little\",\"shape\":[28]},\"fill_alpha\":{\"__ndarray__\":\"AAAAAABA4D8AAAAAAEDkPwAAAAAAQOg/AAAAAABA5D8AAAAAAEDgPwAAAAAAQOQ/AAAAAABA4D8AAAAAAEDkPwAAAAAAQOw/AAAAAABA6D8AAAAAAEDsPwAAAAAAQOg/AAAAAABA7D8AAAAAAEDoPwAAAAAAQOw/AAAAAABA6D8AAAAAAEDsPwAAAAAAQOg/AAAAAABA7D8AAAAAAEDoPwAAAAAAQOw/AAAAAABA6D8AAAAAAEDsPwAAAAAAQOg/AAAAAABA7D8AAAAAAEDsPwAAAAAAQOw/AAAAAABA7D8=\",\"dtype\":\"float64\",\"order\":\"little\",\"shape\":[28]},\"index\":[0,10,18,28,36,45,55,66,161,170,176,181,187,197,204,214,220,229,234,242,248,257,263,267,272,281,292,302],\"instrument\":[1,1,1,1,1,1,1,1,1,1,1,1,1,1,1,1,1,1,1,1,1,1,1,1,1,1,1,1],\"pitch\":[50,53,50,53,41,48,41,36,41,48,41,48,45,45,45,45,43,43,43,43,50,45,45,45,41,45,48,45],\"program\":[33,33,33,33,33,33,33,33,33,33,33,33,33,33,33,33,33,33,33,33,33,33,33,33,33,33,33,33],\"start_time\":{\"__ndarray__\":\"AAAAAAAAAAAAAAAAAADgPwAAAAAAAPA/AAAAAAAA+D8AAAAAAAAAQAAAAAAAAARAAAAAAAAACEAAAAAAAAAMQAAAAAAAACRAAAAAAAAAJUAAAAAAAAAmQAAAAAAAACdAAAAAAAAAKEAAAAAAAAApQAAAAAAAACpAAAAAAAAAK0AAAAAAAAAsQAAAAAAAAC1AAAAAAAAALkAAAAAAAAAvQAAAAAAAADBAAAAAAACAMEAAAAAAAAAxQAAAAAAAgDFAAAAAAAAAMkAAAAAAAIAyQAAAAAAAADNAAAAAAACAM0A=\",\"dtype\":\"float64\",\"order\":\"little\",\"shape\":[28]},\"top\":{\"__ndarray__\":\"MzMzMzMzSUAzMzMzM7NKQDMzMzMzM0lAMzMzMzOzSkAzMzMzM7NEQDMzMzMzM0hAMzMzMzOzREAzMzMzMzNCQDMzMzMzs0RAMzMzMzMzSEAzMzMzM7NEQDMzMzMzM0hAMzMzMzOzRkAzMzMzM7NGQDMzMzMzs0ZAMzMzMzOzRkAzMzMzM7NFQDMzMzMzs0VAMzMzMzOzRUAzMzMzM7NFQDMzMzMzM0lAMzMzMzOzRkAzMzMzM7NGQDMzMzMzs0ZAMzMzMzOzREAzMzMzM7NGQDMzMzMzM0hAMzMzMzOzRkA=\",\"dtype\":\"float64\",\"order\":\"little\",\"shape\":[28]},\"velocity\":[65,81,97,81,65,81,65,81,113,97,113,97,113,97,113,97,113,97,113,97,113,97,113,97,113,113,113,113]},\"selected\":{\"id\":\"2073\"},\"selection_policy\":{\"id\":\"2072\"}},\"id\":\"1855\",\"type\":\"ColumnDataSource\"},{\"attributes\":{},\"id\":\"2082\",\"type\":\"UnionRenderers\"},{\"attributes\":{\"data\":{\"bottom\":{\"__ndarray__\":\"zczMzMxMRkDNzMzMzExGQM3MzMzMTEZAzczMzMxMRkDNzMzMzExFQM3MzMzMTEVAzczMzMxMRUDNzMzMzMxCQA==\",\"dtype\":\"float64\",\"order\":\"little\",\"shape\":[8]},\"duration\":{\"__ndarray__\":\"AAAAAAAA4D8AAAAAAADgPwAAAAAAAOA/AAAAAAAA4D8AAAAAAADgPwAAAAAAAOA/YFVVVVVV4T8AAAAAAADgPw==\",\"dtype\":\"float64\",\"order\":\"little\",\"shape\":[8]},\"end_time\":{\"__ndarray__\":\"AAAAAACANEAAAAAAAAA1QAAAAAAAgDVAAAAAAAAANkAAAAAAAIA2QAAAAAAAADdAq6qqqqqKN0AAAAAAAAA4QA==\",\"dtype\":\"float64\",\"order\":\"little\",\"shape\":[8]},\"fill_alpha\":{\"__ndarray__\":\"AAAAAABA7D8AAAAAAEDoPwAAAAAAQOw/AAAAAABA6D8AAAAAAEDoPwAAAAAAQOg/AAAAAABA7D8AAAAAAEDoPw==\",\"dtype\":\"float64\",\"order\":\"little\",\"shape\":[8]},\"index\":[310,321,329,340,347,357,364,369],\"instrument\":[13,13,13,13,13,13,13,13],\"pitch\":[45,45,45,45,43,43,43,38],\"program\":[34,34,34,34,34,34,34,34],\"start_time\":{\"__ndarray__\":\"AAAAAAAANEAAAAAAAIA0QAAAAAAAADVAAAAAAACANUAAAAAAAAA2QAAAAAAAgDZAAAAAAAAAN0AAAAAAAIA3QA==\",\"dtype\":\"float64\",\"order\":\"little\",\"shape\":[8]},\"top\":{\"__ndarray__\":\"MzMzMzOzRkAzMzMzM7NGQDMzMzMzs0ZAMzMzMzOzRkAzMzMzM7NFQDMzMzMzs0VAMzMzMzOzRUAzMzMzMzNDQA==\",\"dtype\":\"float64\",\"order\":\"little\",\"shape\":[8]},\"velocity\":[113,97,113,97,97,97,113,97]},\"selected\":{\"id\":\"2097\"},\"selection_policy\":{\"id\":\"2096\"}},\"id\":\"1939\",\"type\":\"ColumnDataSource\"},{\"attributes\":{\"bottom\":{\"field\":\"bottom\"},\"fill_alpha\":{\"field\":\"fill_alpha\"},\"fill_color\":{\"value\":\"#fdae61\"},\"left\":{\"field\":\"start_time\"},\"right\":{\"field\":\"end_time\"},\"top\":{\"field\":\"top\"}},\"id\":\"2032\",\"type\":\"Quad\"},{\"attributes\":{\"coordinates\":null,\"data_source\":{\"id\":\"1953\"},\"glyph\":{\"id\":\"1955\"},\"group\":null,\"hover_glyph\":null,\"muted_glyph\":{\"id\":\"1957\"},\"nonselection_glyph\":{\"id\":\"1956\"},\"view\":{\"id\":\"1959\"}},\"id\":\"1958\",\"type\":\"GlyphRenderer\"},{\"attributes\":{\"bottom\":{\"field\":\"bottom\"},\"fill_alpha\":{\"field\":\"fill_alpha\"},\"fill_color\":{\"value\":\"#d53e4f\"},\"left\":{\"field\":\"start_time\"},\"right\":{\"field\":\"end_time\"},\"top\":{\"field\":\"top\"}},\"id\":\"1857\",\"type\":\"Quad\"},{\"attributes\":{\"bottom\":{\"field\":\"bottom\"},\"fill_alpha\":{\"field\":\"fill_alpha\"},\"fill_color\":{\"value\":\"#66c2a5\"},\"left\":{\"field\":\"start_time\"},\"right\":{\"field\":\"end_time\"},\"top\":{\"field\":\"top\"}},\"id\":\"2025\",\"type\":\"Quad\"},{\"attributes\":{},\"id\":\"2078\",\"type\":\"UnionRenderers\"},{\"attributes\":{\"bottom\":{\"field\":\"bottom\"},\"fill_alpha\":{\"field\":\"fill_alpha\"},\"fill_color\":{\"value\":\"#f46d43\"},\"left\":{\"field\":\"start_time\"},\"right\":{\"field\":\"end_time\"},\"top\":{\"field\":\"top\"}},\"id\":\"1871\",\"type\":\"Quad\"},{\"attributes\":{\"bottom\":{\"field\":\"bottom\"},\"fill_alpha\":{\"field\":\"fill_alpha\"},\"fill_color\":{\"value\":\"#e6f598\"},\"left\":{\"field\":\"start_time\"},\"right\":{\"field\":\"end_time\"},\"top\":{\"field\":\"top\"}},\"id\":\"1899\",\"type\":\"Quad\"},{\"attributes\":{\"data\":{\"bottom\":{\"__ndarray__\":\"zczMzMxMTEDNzMzMzMxNQM3MzMzMzE9AzczMzMxMSkDNzMzMzExMQM3MzMzMzE1AZmZmZmYmUEBmZmZmZiZRQGZmZmZm5lFA\",\"dtype\":\"float64\",\"order\":\"little\",\"shape\":[9]},\"duration\":{\"__ndarray__\":\"AAAAAAAA+D8AAAAAAAD4PwAAAAAAAPg/AAAAAAAAAEAAAAAAAAAAQAAAAAAAAABAAAAAAAAAAEAAAAAAAAAAQAAAAAAAAABA\",\"dtype\":\"float64\",\"order\":\"little\",\"shape\":[9]},\"end_time\":{\"__ndarray__\":\"AAAAAAAAQ0AAAAAAAABDQAAAAAAAAENAAAAAAAAASkAAAAAAAABKQAAAAAAAAEpAAAAAAAAATkAAAAAAAABOQAAAAAAAAE5A\",\"dtype\":\"float64\",\"order\":\"little\",\"shape\":[9]},\"fill_alpha\":{\"__ndarray__\":\"AAAAAABA5D8AAAAAAEDkPwAAAAAAQOQ/AAAAAABA6D8AAAAAAEDoPwAAAAAAQOg/AAAAAABA6D8AAAAAAEDoPwAAAAAAQOg/\",\"dtype\":\"float64\",\"order\":\"little\",\"shape\":[9]},\"index\":[585,586,587,871,872,873,1050,1051,1052],\"instrument\":[22,22,22,22,22,22,22,22,22],\"pitch\":[57,60,64,53,57,60,65,69,72],\"program\":[89,89,89,89,89,89,89,89,89],\"start_time\":{\"__ndarray__\":\"AAAAAABAQkAAAAAAAEBCQAAAAAAAQEJAAAAAAAAASUAAAAAAAABJQAAAAAAAAElAAAAAAAAATUAAAAAAAABNQAAAAAAAAE1A\",\"dtype\":\"float64\",\"order\":\"little\",\"shape\":[9]},\"top\":{\"__ndarray__\":\"MzMzMzOzTEAzMzMzMzNOQJqZmZmZGVBAMzMzMzOzSkAzMzMzM7NMQDMzMzMzM05AmpmZmZlZUECamZmZmVlRQJqZmZmZGVJA\",\"dtype\":\"float64\",\"order\":\"little\",\"shape\":[9]},\"velocity\":[81,81,81,97,97,97,97,97,97]},\"selected\":{\"id\":\"2115\"},\"selection_policy\":{\"id\":\"2114\"}},\"id\":\"2002\",\"type\":\"ColumnDataSource\"},{\"attributes\":{\"data\":{\"bottom\":{\"__ndarray__\":\"zczMzMxMTEDNzMzMzMxNQM3MzMzMTExAzczMzMzMTUDNzMzMzExMQM3MzMzMzE1AzczMzMxMTEDNzMzMzMxNQM3MzMzMTE1AzczMzMzMTkBmZmZmZqZQQM3MzMzMTE1AzczMzMzMTkBmZmZmZqZQQA==\",\"dtype\":\"float64\",\"order\":\"little\",\"shape\":[14]},\"duration\":{\"__ndarray__\":\"AAAAAAAA4D8AAAAAAADgPwAAAAAAAOA/AAAAAAAA4D8AAAAAAADgPwAAAAAAAOA/AAAAAAAA4D8AAAAAAADgPwAAAAAAAOA/AAAAAAAA4D8AAAAAAADgPwAAAAAAAOA/AAAAAAAA4D8AAAAAAADgPw==\",\"dtype\":\"float64\",\"order\":\"little\",\"shape\":[14]},\"end_time\":{\"__ndarray__\":\"AAAAAABARkAAAAAAAEBGQAAAAAAAgEZAAAAAAACARkAAAAAAAMBGQAAAAAAAwEZAAAAAAAAAR0AAAAAAAABHQAAAAAAAQEtAAAAAAABAS0AAAAAAAEBLQAAAAAAAwEtAAAAAAADAS0AAAAAAAMBLQA==\",\"dtype\":\"float64\",\"order\":\"little\",\"shape\":[14]},\"fill_alpha\":{\"__ndarray__\":\"AAAAAABA6D8AAAAAAEDoPwAAAAAAQOg/AAAAAABA6D8AAAAAAEDoPwAAAAAAQOg/AAAAAABA6D8AAAAAAEDoPwAAAAAAQOg/AAAAAABA6D8AAAAAAEDoPwAAAAAAQOg/AAAAAABA6D8AAAAAAEDoPw==\",\"dtype\":\"float64\",\"order\":\"little\",\"shape\":[14]},\"index\":[732,733,744,745,755,756,766,767,957,958,959,979,980,981],\"instrument\":[25,25,25,25,25,25,25,25,25,25,25,25,25,25],\"pitch\":[57,60,57,60,57,60,57,60,59,62,67,59,62,67],\"program\":[54,54,54,54,54,54,54,54,54,54,54,54,54,54],\"start_time\":{\"__ndarray__\":\"AAAAAAAARkAAAAAAAABGQAAAAAAAQEZAAAAAAABARkAAAAAAAIBGQAAAAAAAgEZAAAAAAADARkAAAAAAAMBGQAAAAAAAAEtAAAAAAAAAS0AAAAAAAABLQAAAAAAAgEtAAAAAAACAS0AAAAAAAIBLQA==\",\"dtype\":\"float64\",\"order\":\"little\",\"shape\":[14]},\"top\":{\"__ndarray__\":\"MzMzMzOzTEAzMzMzMzNOQDMzMzMzs0xAMzMzMzMzTkAzMzMzM7NMQDMzMzMzM05AMzMzMzOzTEAzMzMzMzNOQDMzMzMzs01AMzMzMzMzT0CamZmZmdlQQDMzMzMzs01AMzMzMzMzT0CamZmZmdlQQA==\",\"dtype\":\"float64\",\"order\":\"little\",\"shape\":[14]},\"velocity\":[97,97,97,97,97,97,97,97,97,97,97,97,97,97]},\"selected\":{\"id\":\"2121\"},\"selection_policy\":{\"id\":\"2120\"}},\"id\":\"2023\",\"type\":\"ColumnDataSource\"},{\"attributes\":{\"data\":{\"bottom\":{\"__ndarray__\":\"ZmZmZmYmUEBmZmZmZiZRQGZmZmZmJlBAZmZmZmYmUUBmZmZmZiZQQGZmZmZmJlFAZmZmZmYmUEBmZmZmZiZRQM3MzMzMzE9AZmZmZmamUEBmZmZmZiZRQM3MzMzMzE9AZmZmZmamUEBmZmZmZiZRQM3MzMzMzE9AZmZmZmamUEBmZmZmZiZRQM3MzMzMzE9AZmZmZmamUEBmZmZmZiZRQM3MzMzMzE5AZmZmZmamUEBmZmZmZqZRQM3MzMzMzE5AZmZmZmamUEBmZmZmZqZRQM3MzMzMzE5AZmZmZmamUEBmZmZmZqZRQM3MzMzMzE5AZmZmZmamUEBmZmZmZqZRQA==\",\"dtype\":\"float64\",\"order\":\"little\",\"shape\":[32]},\"duration\":{\"__ndarray__\":\"AFhVVVVVlT8AAAAAAADgPwBYVVVVVZU/AFhVVVVVlT8AWFVVVVWVPwBYVVVVVZU/AFhVVVVVlT8AWFVVVVWVP4BVVVVVVd0/gFVVVVVV3T+AVVVVVVXdP4BVVVVVVd0/gFVVVVVV3T+AVVVVVVXdP4BVVVVVVd0/gFVVVVVV3T+AVVVVVVXdP4BVVVVVVd0/gFVVVVVV3T+AVVVVVVXdPwAAAAAAANQ/AAAAAAAA1D8AAAAAAADUPwAAAAAAANQ/AAAAAAAA1D8AAAAAAADUPwAAAAAAANQ/AAAAAAAA1D8AAAAAAADUPwAAAAAAANQ/AAAAAAAA1D8AAAAAAADUPw==\",\"dtype\":\"float64\",\"order\":\"little\",\"shape\":[32]},\"end_time\":{\"__ndarray__\":\"q6qqqqoCTUAAAAAAAEBNQKuqqqqqQk1Aq6qqqqpCTUCrqqqqqoJNQKuqqqqqgk1Aq6qqqqrCTUCrqqqqqsJNQKuqqqqqOk5Aq6qqqqo6TkCrqqqqqjpOQKuqqqqqek5Aq6qqqqp6TkCrqqqqqnpOQKuqqqqquk5Aq6qqqqq6TkCrqqqqqrpOQKuqqqqq+k5Aq6qqqqr6TkCrqqqqqvpOQAAAAAAAKE9AAAAAAAAoT0AAAAAAAChPQAAAAAAAaE9AAAAAAABoT0AAAAAAAGhPQAAAAAAAqE9AAAAAAACoT0AAAAAAAKhPQAAAAAAA6E9AAAAAAADoT0AAAAAAAOhPQA==\",\"dtype\":\"float64\",\"order\":\"little\",\"shape\":[32]},\"fill_alpha\":{\"__ndarray__\":\"AAAAAABA6D8AAAAAAEDoPwAAAAAAQOg/AAAAAABA6D8AAAAAAEDoPwAAAAAAQOg/AAAAAABA6D8AAAAAAEDoPwAAAAAAQOg/AAAAAABA6D8AAAAAAEDoPwAAAAAAQOg/AAAAAABA6D8AAAAAAEDoPwAAAAAAQOg/AAAAAABA6D8AAAAAAEDoPwAAAAAAQOg/AAAAAABA6D8AAAAAAEDoPwAAAAAAQOg/AAAAAABA6D8AAAAAAEDoPwAAAAAAQOg/AAAAAABA6D8AAAAAAEDoPwAAAAAAQOg/AAAAAABA6D8AAAAAAEDoPwAAAAAAQOg/AAAAAABA6D8AAAAAAEDoPw==\",\"dtype\":\"float64\",\"order\":\"little\",\"shape\":[32]},\"index\":[1045,1046,1060,1061,1072,1073,1084,1085,1096,1097,1098,1108,1109,1110,1122,1123,1124,1135,1136,1137,1148,1149,1150,1160,1161,1162,1175,1176,1177,1189,1190,1191],\"instrument\":[29,29,29,29,29,29,29,29,29,29,29,29,29,29,29,29,29,29,29,29,29,29,29,29,29,29,29,29,29,29,29,29],\"pitch\":[65,69,65,69,65,69,65,69,64,67,69,64,67,69,64,67,69,64,67,69,62,67,71,62,67,71,62,67,71,62,67,71],\"program\":[53,53,53,53,53,53,53,53,53,53,53,53,53,53,53,53,53,53,53,53,53,53,53,53,53,53,53,53,53,53,53,53],\"start_time\":{\"__ndarray__\":\"AAAAAAAATUAAAAAAAABNQAAAAAAAQE1AAAAAAABATUAAAAAAAIBNQAAAAAAAgE1AAAAAAADATUAAAAAAAMBNQAAAAAAAAE5AAAAAAAAATkAAAAAAAABOQAAAAAAAQE5AAAAAAABATkAAAAAAAEBOQAAAAAAAgE5AAAAAAACATkAAAAAAAIBOQAAAAAAAwE5AAAAAAADATkAAAAAAAMBOQAAAAAAAAE9AAAAAAAAAT0AAAAAAAABPQAAAAAAAQE9AAAAAAABAT0AAAAAAAEBPQAAAAAAAgE9AAAAAAACAT0AAAAAAAIBPQAAAAAAAwE9AAAAAAADAT0AAAAAAAMBPQA==\",\"dtype\":\"float64\",\"order\":\"little\",\"shape\":[32]},\"top\":{\"__ndarray__\":\"mpmZmZlZUECamZmZmVlRQJqZmZmZWVBAmpmZmZlZUUCamZmZmVlQQJqZmZmZWVFAmpmZmZlZUECamZmZmVlRQJqZmZmZGVBAmpmZmZnZUECamZmZmVlRQJqZmZmZGVBAmpmZmZnZUECamZmZmVlRQJqZmZmZGVBAmpmZmZnZUECamZmZmVlRQJqZmZmZGVBAmpmZmZnZUECamZmZmVlRQDMzMzMzM09AmpmZmZnZUECamZmZmdlRQDMzMzMzM09AmpmZmZnZUECamZmZmdlRQDMzMzMzM09AmpmZmZnZUECamZmZmdlRQDMzMzMzM09AmpmZmZnZUECamZmZmdlRQA==\",\"dtype\":\"float64\",\"order\":\"little\",\"shape\":[32]},\"velocity\":[97,97,97,97,97,97,97,97,97,97,97,97,97,97,97,97,97,97,97,97,97,97,97,97,97,97,97,97,97,97,97,97]},\"selected\":{\"id\":\"2129\"},\"selection_policy\":{\"id\":\"2128\"}},\"id\":\"2051\",\"type\":\"ColumnDataSource\"},{\"attributes\":{\"source\":{\"id\":\"2051\"}},\"id\":\"2057\",\"type\":\"CDSView\"},{\"attributes\":{},\"id\":\"2080\",\"type\":\"UnionRenderers\"},{\"attributes\":{\"data\":{\"bottom\":{\"__ndarray__\":\"zczMzMxMRkDNzMzMzMxIQM3MzMzMTEZAzczMzMxMREDNzMzMzMxHQM3MzMzMTEZAzczMzMzMR0A=\",\"dtype\":\"float64\",\"order\":\"little\",\"shape\":[7]},\"duration\":{\"__ndarray__\":\"AAAAAAAA4D8AAAAAAADgPwAAAAAAAPA/AAAAAAAA4D8AAAAAAADgPwAAAAAAAOA/AAAAAAAA4D8=\",\"dtype\":\"float64\",\"order\":\"little\",\"shape\":[7]},\"end_time\":{\"__ndarray__\":\"AAAAAACAOEAAAAAAAAA5QAAAAAAAADpAAAAAAACAOkAAAAAAAAA7QAAAAAAAgDtAAAAAAAAAPEA=\",\"dtype\":\"float64\",\"order\":\"little\",\"shape\":[7]},\"fill_alpha\":{\"__ndarray__\":\"AAAAAABA7D8AAAAAAEDoPwAAAAAAQOw/AAAAAABA6D8AAAAAAEDoPwAAAAAAQOg/AAAAAABA6D8=\",\"dtype\":\"float64\",\"order\":\"little\",\"shape\":[7]},\"index\":[373,382,404,419,429,440,449],\"instrument\":[14,14,14,14,14,14,14],\"pitch\":[45,50,45,41,48,45,48],\"program\":[36,36,36,36,36,36,36],\"start_time\":{\"__ndarray__\":\"AAAAAAAAOEAAAAAAAIA4QAAAAAAAADlAAAAAAAAAOkAAAAAAAIA6QAAAAAAAADtAAAAAAACAO0A=\",\"dtype\":\"float64\",\"order\":\"little\",\"shape\":[7]},\"top\":{\"__ndarray__\":\"MzMzMzOzRkAzMzMzMzNJQDMzMzMzs0ZAMzMzMzOzREAzMzMzMzNIQDMzMzMzs0ZAMzMzMzMzSEA=\",\"dtype\":\"float64\",\"order\":\"little\",\"shape\":[7]},\"velocity\":[113,97,113,97,97,97,97]},\"selected\":{\"id\":\"2099\"},\"selection_policy\":{\"id\":\"2098\"}},\"id\":\"1946\",\"type\":\"ColumnDataSource\"},{\"attributes\":{},\"id\":\"2075\",\"type\":\"Selection\"},{\"attributes\":{\"source\":{\"id\":\"1953\"}},\"id\":\"1959\",\"type\":\"CDSView\"},{\"attributes\":{\"bottom\":{\"field\":\"bottom\"},\"fill_alpha\":{\"field\":\"fill_alpha\"},\"fill_color\":{\"value\":\"#fdae61\"},\"left\":{\"field\":\"start_time\"},\"right\":{\"field\":\"end_time\"},\"top\":{\"field\":\"top\"}},\"id\":\"1983\",\"type\":\"Quad\"},{\"attributes\":{\"source\":{\"id\":\"2009\"}},\"id\":\"2015\",\"type\":\"CDSView\"},{\"attributes\":{\"bottom\":{\"field\":\"bottom\"},\"fill_alpha\":{\"value\":0.1},\"fill_color\":{\"value\":\"#e6f598\"},\"hatch_alpha\":{\"value\":0.1},\"left\":{\"field\":\"start_time\"},\"line_alpha\":{\"value\":0.1},\"right\":{\"field\":\"end_time\"},\"top\":{\"field\":\"top\"}},\"id\":\"1900\",\"type\":\"Quad\"},{\"attributes\":{\"data\":{\"bottom\":{\"__ndarray__\":\"zczMzMzMR0DNzMzMzMxNQM3MzMzMzE5A\",\"dtype\":\"float64\",\"order\":\"little\",\"shape\":[3]},\"duration\":{\"__ndarray__\":\"AAAAAAAA+D8AAAAAAAD4PwAAAAAAAPg/\",\"dtype\":\"float64\",\"order\":\"little\",\"shape\":[3]},\"end_time\":{\"__ndarray__\":\"AAAAAAAAQkAAAAAAAABDQAAAAAAAAEVA\",\"dtype\":\"float64\",\"order\":\"little\",\"shape\":[3]},\"fill_alpha\":{\"__ndarray__\":\"AAAAAABA6D8AAAAAAEDsPwAAAAAAQOQ/\",\"dtype\":\"float64\",\"order\":\"little\",\"shape\":[3]},\"index\":[555,588,653],\"instrument\":[20,20,20],\"pitch\":[48,60,62],\"program\":[122,122,122],\"start_time\":{\"__ndarray__\":\"AAAAAABAQUAAAAAAAEBCQAAAAAAAQERA\",\"dtype\":\"float64\",\"order\":\"little\",\"shape\":[3]},\"top\":{\"__ndarray__\":\"MzMzMzMzSEAzMzMzMzNOQDMzMzMzM09A\",\"dtype\":\"float64\",\"order\":\"little\",\"shape\":[3]},\"velocity\":[97,113,81]},\"selected\":{\"id\":\"2111\"},\"selection_policy\":{\"id\":\"2110\"}},\"id\":\"1988\",\"type\":\"ColumnDataSource\"},{\"attributes\":{\"tools\":[{\"id\":\"1840\"},{\"id\":\"1841\"},{\"id\":\"1842\"},{\"id\":\"1843\"},{\"id\":\"1844\"}]},\"id\":\"1846\",\"type\":\"Toolbar\"},{\"attributes\":{\"bottom\":{\"field\":\"bottom\"},\"fill_alpha\":{\"value\":0.2},\"fill_color\":{\"value\":\"#d53e4f\"},\"hatch_alpha\":{\"value\":0.2},\"left\":{\"field\":\"start_time\"},\"line_alpha\":{\"value\":0.2},\"right\":{\"field\":\"end_time\"},\"top\":{\"field\":\"top\"}},\"id\":\"1859\",\"type\":\"Quad\"},{\"attributes\":{\"bottom\":{\"field\":\"bottom\"},\"fill_alpha\":{\"value\":0.2},\"fill_color\":{\"value\":\"#d53e4f\"},\"hatch_alpha\":{\"value\":0.2},\"left\":{\"field\":\"start_time\"},\"line_alpha\":{\"value\":0.2},\"right\":{\"field\":\"end_time\"},\"top\":{\"field\":\"top\"}},\"id\":\"1957\",\"type\":\"Quad\"},{\"attributes\":{},\"id\":\"2085\",\"type\":\"Selection\"},{\"attributes\":{\"data\":{\"bottom\":{\"__ndarray__\":\"ZmZmZmYmVEBmZmZmZqZTQGZmZmZmJlNAZmZmZmZmUkBmZmZmZqZRQGZmZmZmJlFA\",\"dtype\":\"float64\",\"order\":\"little\",\"shape\":[6]},\"duration\":{\"__ndarray__\":\"AAAAAAAA4D8AAAAAAADgPwAAAAAAAOA/AAAAAAAA4D8AAAAAAADgPwAAAAAAAOA/\",\"dtype\":\"float64\",\"order\":\"little\",\"shape\":[6]},\"end_time\":{\"__ndarray__\":\"AAAAAACAQEAAAAAAAMBAQAAAAAAAAEFAAAAAAACAQ0AAAAAAAMBDQAAAAAAAAERA\",\"dtype\":\"float64\",\"order\":\"little\",\"shape\":[6]},\"fill_alpha\":{\"__ndarray__\":\"AAAAAABA6D8AAAAAAEDkPwAAAAAAQOQ/AAAAAABA6D8AAAAAAEDkPwAAAAAAQOg/\",\"dtype\":\"float64\",\"order\":\"little\",\"shape\":[6]},\"index\":[525,535,542,624,636,643],\"instrument\":[17,17,17,17,17,17],\"pitch\":[81,79,77,74,71,69],\"program\":[78,78,78,78,78,78],\"start_time\":{\"__ndarray__\":\"AAAAAABAQEAAAAAAAIBAQAAAAAAAwEBAAAAAAABAQ0AAAAAAAIBDQAAAAAAAwENA\",\"dtype\":\"float64\",\"order\":\"little\",\"shape\":[6]},\"top\":{\"__ndarray__\":\"mpmZmZlZVECamZmZmdlTQJqZmZmZWVNAmpmZmZmZUkCamZmZmdlRQJqZmZmZWVFA\",\"dtype\":\"float64\",\"order\":\"little\",\"shape\":[6]},\"velocity\":[97,81,81,97,81,97]},\"selected\":{\"id\":\"2105\"},\"selection_policy\":{\"id\":\"2104\"}},\"id\":\"1967\",\"type\":\"ColumnDataSource\"},{\"attributes\":{\"coordinates\":null,\"data_source\":{\"id\":\"1855\"},\"glyph\":{\"id\":\"1857\"},\"group\":null,\"hover_glyph\":null,\"muted_glyph\":{\"id\":\"1859\"},\"nonselection_glyph\":{\"id\":\"1858\"},\"view\":{\"id\":\"1861\"}},\"id\":\"1860\",\"type\":\"GlyphRenderer\"},{\"attributes\":{\"coordinates\":null,\"data_source\":{\"id\":\"1988\"},\"glyph\":{\"id\":\"1990\"},\"group\":null,\"hover_glyph\":null,\"muted_glyph\":{\"id\":\"1992\"},\"nonselection_glyph\":{\"id\":\"1991\"},\"view\":{\"id\":\"1994\"}},\"id\":\"1993\",\"type\":\"GlyphRenderer\"},{\"attributes\":{\"coordinates\":null,\"data_source\":{\"id\":\"2037\"},\"glyph\":{\"id\":\"2039\"},\"group\":null,\"hover_glyph\":null,\"muted_glyph\":{\"id\":\"2041\"},\"nonselection_glyph\":{\"id\":\"2040\"},\"view\":{\"id\":\"2043\"}},\"id\":\"2042\",\"type\":\"GlyphRenderer\"},{\"attributes\":{\"data\":{\"bottom\":{\"__ndarray__\":\"ZmZmZmYmUUBmZmZmZqZQQGZmZmZmJlBA\",\"dtype\":\"float64\",\"order\":\"little\",\"shape\":[3]},\"duration\":{\"__ndarray__\":\"AAAAAAAA4D8AAAAAAADgPwAAAAAAAOA/\",\"dtype\":\"float64\",\"order\":\"little\",\"shape\":[3]},\"end_time\":{\"__ndarray__\":\"AAAAAAAAIkAAAAAAAAAjQAAAAAAAACRA\",\"dtype\":\"float64\",\"order\":\"little\",\"shape\":[3]},\"fill_alpha\":{\"__ndarray__\":\"AAAAAABA6D8AAAAAAEDoPwAAAAAAQOg/\",\"dtype\":\"float64\",\"order\":\"little\",\"shape\":[3]},\"index\":[144,151,156],\"instrument\":[11,11,11],\"pitch\":[69,67,65],\"program\":[71,71,71],\"start_time\":{\"__ndarray__\":\"AAAAAAAAIUAAAAAAAAAiQAAAAAAAACNA\",\"dtype\":\"float64\",\"order\":\"little\",\"shape\":[3]},\"top\":{\"__ndarray__\":\"mpmZmZlZUUCamZmZmdlQQJqZmZmZWVBA\",\"dtype\":\"float64\",\"order\":\"little\",\"shape\":[3]},\"velocity\":[97,97,97]},\"selected\":{\"id\":\"2093\"},\"selection_policy\":{\"id\":\"2092\"}},\"id\":\"1925\",\"type\":\"ColumnDataSource\"},{\"attributes\":{\"bottom\":{\"field\":\"bottom\"},\"fill_alpha\":{\"value\":0.1},\"fill_color\":{\"value\":\"#abdda4\"},\"hatch_alpha\":{\"value\":0.1},\"left\":{\"field\":\"start_time\"},\"line_alpha\":{\"value\":0.1},\"right\":{\"field\":\"end_time\"},\"top\":{\"field\":\"top\"}},\"id\":\"1991\",\"type\":\"Quad\"},{\"attributes\":{\"data\":{\"bottom\":{\"__ndarray__\":\"ZmZmZmamU0BmZmZmZqZTQGZmZmZmplNAZmZmZmamU0BmZmZmZqZTQGZmZmZmplNAZmZmZmZmUkBmZmZmZmZSQGZmZmZmZlJAZmZmZmZmUkBmZmZmZmZSQGZmZmZmZlJAZmZmZmZmUkBmZmZmZmZSQGZmZmZmZlJAZmZmZmZmUkBmZmZmZmZSQGZmZmZmZlJAZmZmZmZmUkBmZmZmZmZSQGZmZmZmZlJAZmZmZmZmUkA=\",\"dtype\":\"float64\",\"order\":\"little\",\"shape\":[22]},\"duration\":{\"__ndarray__\":\"AKqqqqqquj8Aqqqqqqq6PwCqqqqqqro/AKqqqqqquj8Aqqqqqqq6PwCqqqqqqro/AKqqqqqquj8Aqqqqqqq6PwCqqqqqqro/AKqqqqqquj8Aqqqqqqq6PwCqqqqqqro/AKqqqqqquj8Aqqqqqqq6PwCqqqqqqro/AKqqqqqquj8Aqqqqqqq6PwCqqqqqqro/AKqqqqqquj8Aqqqqqqq6PwCqqqqqqro/AKqqqqqquj8=\",\"dtype\":\"float64\",\"order\":\"little\",\"shape\":[22]},\"end_time\":{\"__ndarray__\":\"AAAAAAAQR0BVVVVVVT1HQFVVVVVVTUdAVVVVVVV9R0BVVVVVVY1HQFVVVVVVzUdAAAAAAAAQSEAAAAAAACBIQAAAAAAAMEhAAAAAAABASEAAAAAAAFBIQAAAAAAAYEhAAAAAAABwSEAAAAAAAIBIQAAAAAAAkEhAAAAAAACgSEAAAAAAALBIQAAAAAAAwEhAAAAAAADQSEAAAAAAAOBIQAAAAAAA8EhAAAAAAAAASUA=\",\"dtype\":\"float64\",\"order\":\"little\",\"shape\":[22]},\"fill_alpha\":{\"__ndarray__\":\"AAAAAABA5D8AAAAAAEDkPwAAAAAAQOQ/AAAAAABA5D8AAAAAAEDkPwAAAAAAQOQ/AAAAAABA5D8AAAAAAEDkPwAAAAAAQOQ/AAAAAABA5D8AAAAAAEDkPwAAAAAAQOQ/AAAAAABA5D8AAAAAAEDkPwAAAAAAQOQ/AAAAAABA5D8AAAAAAEDkPwAAAAAAQOQ/AAAAAABA5D8AAAAAAEDkPwAAAAAAQOQ/AAAAAABA5D8=\",\"dtype\":\"float64\",\"order\":\"little\",\"shape\":[22]},\"index\":[781,783,784,793,794,804,817,819,821,822,831,833,835,837,846,848,850,852,856,858,860,862],\"instrument\":[26,26,26,26,26,26,26,26,26,26,26,26,26,26,26,26,26,26,26,26,26,26],\"pitch\":[79,79,79,79,79,79,74,74,74,74,74,74,74,74,74,74,74,74,74,74,74,74],\"program\":[13,13,13,13,13,13,13,13,13,13,13,13,13,13,13,13,13,13,13,13,13,13],\"start_time\":{\"__ndarray__\":\"q6qqqqoCR0AAAAAAADBHQAAAAAAAQEdAAAAAAABwR0AAAAAAAIBHQAAAAAAAwEdAq6qqqqoCSECrqqqqqhJIQKuqqqqqIkhAq6qqqqoySECrqqqqqkJIQKuqqqqqUkhAq6qqqqpiSECrqqqqqnJIQKuqqqqqgkhAq6qqqqqSSECrqqqqqqJIQKuqqqqqskhAq6qqqqrCSECrqqqqqtJIQKuqqqqq4khAq6qqqqrySEA=\",\"dtype\":\"float64\",\"order\":\"little\",\"shape\":[22]},\"top\":{\"__ndarray__\":\"mpmZmZnZU0CamZmZmdlTQJqZmZmZ2VNAmpmZmZnZU0CamZmZmdlTQJqZmZmZ2VNAmpmZmZmZUkCamZmZmZlSQJqZmZmZmVJAmpmZmZmZUkCamZmZmZlSQJqZmZmZmVJAmpmZmZmZUkCamZmZmZlSQJqZmZmZmVJAmpmZmZmZUkCamZmZmZlSQJqZmZmZmVJAmpmZmZmZUkCamZmZmZlSQJqZmZmZmVJAmpmZmZmZUkA=\",\"dtype\":\"float64\",\"order\":\"little\",\"shape\":[22]},\"velocity\":[81,81,81,81,81,81,81,81,81,81,81,81,81,81,81,81,81,81,81,81,81,81]},\"selected\":{\"id\":\"2123\"},\"selection_policy\":{\"id\":\"2122\"}},\"id\":\"2030\",\"type\":\"ColumnDataSource\"},{\"attributes\":{\"bottom\":{\"field\":\"bottom\"},\"fill_alpha\":{\"value\":0.1},\"fill_color\":{\"value\":\"#abdda4\"},\"hatch_alpha\":{\"value\":0.1},\"left\":{\"field\":\"start_time\"},\"line_alpha\":{\"value\":0.1},\"right\":{\"field\":\"end_time\"},\"top\":{\"field\":\"top\"}},\"id\":\"2040\",\"type\":\"Quad\"},{\"attributes\":{\"data\":{\"bottom\":{\"__ndarray__\":\"zczMzMxMSkDNzMzMzExMQM3MzMzMzE1AzczMzMzMSEDNzMzMzMxCQGZmZmZmJlBAzczMzMxMRkDNzMzMzExKQM3MzMzMTEpAzczMzMxMTEDNzMzMzMxNQGZmZmZmJlBAzczMzMzMSEDNzMzMzExKQM3MzMzMTExAzczMzMzMTUDNzMzMzExMQM3MzMzMTEpAzczMzMxMSkDNzMzMzExKQM3MzMzMTEpAzczMzMxMTEDNzMzMzExKQM3MzMzMTExAzczMzMxMSkDNzMzMzExKQM3MzMzMzElAzczMzMzMSUDNzMzMzExMQM3MzMzMzElAzczMzMzMSUDNzMzMzExGQM3MzMzMTExAzczMzMzMSUDNzMzMzExGQM3MzMzMTExAzczMzMzMSUDNzMzMzMxJQM3MzMzMTE1AzczMzMxMRUDNzMzMzExFQM3MzMzMzE5AzczMzMxMRUDNzMzMzExNQM3MzMzMTEVAzczMzMzMTkDNzMzMzExFQM3MzMzMzEJAzczMzMxMTEDNzMzMzMxIQM3MzMzMTExAzczMzMzMQkDNzMzMzExMQM3MzMzMzEhAzczMzMxMTEDNzMzMzExEQM3MzMzMTERAzczMzMxMREDNzMzMzMxHQM3MzMzMTERAzczMzMxMREDNzMzMzExEQM3MzMzMzEdAzczMzMxMREDNzMzMzExEQM3MzMzMTExAzczMzMxMTEDNzMzMzExMQM3MzMzMzE1AzczMzMxMTEDNzMzMzExMQM3MzMzMTExAzczMzMxMTEDNzMzMzExMQM3MzMzMTExAzczMzMxMTEDNzMzMzExMQM3MzMzMTEtAzczMzMxMS0DNzMzMzExLQM3MzMzMTE1AzczMzMxMS0DNzMzMzExLQM3MzMzMTEtAzczMzMxMS0DNzMzMzExLQM3MzMzMTExAzczMzMzMTkDNzMzMzExMQM3MzMzMTExAzczMzMxMTEDNzMzMzExMQM3MzMzMzE5AzczMzMxMTEDNzMzMzExMQM3MzMzMTExAzczMzMxMTEDNzMzMzExMQM3MzMzMTExAzczMzMxMTEDNzMzMzExMQM3MzMzMzE1AzczMzMzMTUDNzMzMzMxNQM3MzMzMzE1AzczMzMzMTUDNzMzMzMxNQM3MzMzMzE1AzczMzMzMTUDNzMzMzMxNQM3MzMzMzE1AzczMzMzMTUDNzMzMzMxNQM3MzMzMzE5AzczMzMzMTkDNzMzMzMxOQM3MzMzMzE5AzczMzMzMTkDNzMzMzMxOQM3MzMzMzE5AzczMzMzMTkDNzMzMzMxOQM3MzMzMzE5AzczMzMzMTkDNzMzMzMxOQM3MzMzMzE5AzczMzMxMT0DNzMzMzExPQM3MzMzMTE9AzczMzMxMT0DNzMzMzExPQM3MzMzMzE5AzczMzMzMTkDNzMzMzMxOQM3MzMzMzE5AzczMzMzMTkDNzMzMzMxOQM3MzMzMzE5AZmZmZmamUEBmZmZmZqZQQGZmZmZmplBAZmZmZmamUEBmZmZmZqZQQGZmZmZmplBAZmZmZmYmUUBmZmZmZiZRQGZmZmZmJlFAZmZmZmYmUUBmZmZmZiZQQGZmZmZmJlBAZmZmZmYmUEBmZmZmZiZQQGZmZmZmJlBAZmZmZmYmUEBmZmZmZiZQQGZmZmZmJlBAZmZmZmYmUEBmZmZmZiZQQGZmZmZmJlBA\",\"dtype\":\"float64\",\"order\":\"little\",\"shape\":[159]},\"duration\":{\"__ndarray__\":\"AAAAAAAA8j8AAAAAAADwPwAAAAAAAOg/qqqqqqqq4D9VVVVVVVXwPwAAAAAAAOA/AAAAAAAA4D8AAAAAAADwPwAAAAAAAOA/AAAAAAAA4D8AAAAAAADgPwAAAAAAAOA/AAAAAAAA4D8AAAAAAADQPwAAAAAAANA/AAAAAAAA0D8AAAAAAADuP1BVVVVVVdE/AAAAAAAA0D8AAAAAAADQPwAAAAAAANA/AAAAAAAA4D8AAAAAAADgPwAAAAAAAOA/AAAAAAAA0D8AAAAAAADAP2BVVVVVVdU/sKqqqqqq1j8AAAAAAADgP7Cqqqqqqt4/sKqqqqqq1j8AAAAAAADgPwAAAAAAAOA/AAAAAAAA2D8AAAAAAADgPwAAAAAAAOA/sKqqqqqq1j8AVlVVVVWVP6Cqqqqqqt4/YFVVVVVVxT+wqqqqqqrePwAAAAAAAOA/AAAAAAAA4D8AAAAAAADgPwAAAAAAAOA/AAAAAAAA4D+gqqqqqqrCPwAAAAAAAOA/AFRVVVVVlT+gqqqqqqrePwBUVVVVVZU/AAAAAAAA4D8AVFVVVVWVP6Cqqqqqqt4/AFRVVVVVlT8AAAAAAADuPwBUVVVVVZU/AAAAAAAA4D9AVVVVVVXdPwAAAAAAANA/AAAAAAAA7j8AAAAAAADgP2BVVVVVVd0/QFVVVVVV0T8AVVVVVVWlP8Cqqqqqqt4/AFRVVVVVlT9gVVVVVVXdP7CqqqqqquA/gFVVVVVVzT+AVVVVVVXNPwAAAAAAAOA/gFVVVVVVzT+AVVVVVVXNPwAAAAAAAOA/gFVVVVVVzT/AqqqqqqrCP8Cqqqqqqt4/gKqqqqqquj8AAAAAAADgPwAAAAAAAOA/AAAAAAAA4D+gqqqqqqreP6Cqqqqqqt4/oKqqqqqq3j9AVVVVVVXFPwAAAAAAAO4/AAAAAAAA7j8AAAAAAACwPwAAAAAAAOA/gKqqqqqq3j+gqqqqqqruP8Cqqqqqqu4/QFVVVVVV3T8AVVVVVVXFP4BVVVVVVcU/AAAAAAAAwD8Aq6qqqqrCP4CqqqqqqsI/gKqqqqqq3j9AVVVVVVXdPwBVVVVVVbU/AFVVVVVVtT8AVlVVVVW1PwBVVVVVVbU/AFVVVVVVtT8AAAAAAADAPwBVVVVVVbU/AFZVVVVVtT8AVVVVVVW1PwBVVVVVVbU/AFZVVVVVtT8AVlVVVVWlPwAAAAAAALA/AAAAAAAAwD8AAAAAAADAPwAAAAAAAMA/AAAAAAAAwD8AAAAAAADAPwAAAAAAAMA/AAAAAAAAsD8Aq6qqqqq6PwCrqqqqqro/AKuqqqqquj8Aq6qqqqq6PwBWVVVVVaU/AAAAAAAAsD8AVlVVVVW1PwAAAAAAALA/AAAAAAAAsD8AAAAAAACwPwAAAAAAALA/AAAAAAAAsD8AAAAAAACwPwAAAAAAALA/AAAAAAAAsD8AAAAAAACwPwAAAAAAALA/AAAAAAAAsD8AAAAAAACwPwAAAAAAALA/AAAAAAAAsD8AAAAAAACwPwAAAAAAALA/AKyqqqqquj8ArKqqqqq6PwCsqqqqqro/AKyqqqqquj8AAAAAAACwPwAAAAAAALA/AAAAAAAAsD8AAAAAAACwPwAAAAAAALA/AAAAAAAAsD8AAAAAAACwPwAAAAAAALA/AAAAAAAAsD8AAAAAAACwPwAAAAAAALA/\",\"dtype\":\"float64\",\"order\":\"little\",\"shape\":[159]},\"end_time\":{\"__ndarray__\":\"AAAAAAAA9D8AAAAAAAD0PwAAAAAAAPQ/VVVVVVVV8D9VVVVVVVX4PwAAAAAAAPQ/AAAAAAAA+D8AAAAAAAAAQAAAAAAAAPw/AAAAAAAA/D8AAAAAAAD8PwAAAAAAAPw/AAAAAAAAAEAAAAAAAAAAQAAAAAAAAABAAAAAAAAAAEAAAAAAAAAIQFVVVVVV1QJAVVVVVVXVBEAAAAAAAAAHQAAAAAAAAAlAAAAAAAAADEAAAAAAAAANQAAAAAAAABBAAAAAAAAAD0AAAAAAAAAQQKuqqqqqqhFAAAAAAABAE0AAAAAAAAAUQAAAAAAAABRAAAAAAADAFEAAAAAAAAAWQAAAAAAAABZAVVVVVVVVFkAAAAAAAAAYQAAAAAAAABhAVVVVVVXVF0AAAAAAAAAYQFVVVVVVFRpAAAAAAAAAGUAAAAAAAAAbQAAAAAAAABxAVVVVVVUVHUAAAAAAAAAeQKqqqqqqKh9AAAAAAAAAIEBVVVVVVdUfQFVVVVVVFSFAVVVVVVU1IEAAAAAAAAAiQFVVVVVVNSFAq6qqqqoKI0BVVVVVVTUiQAAAAAAAACRAVVVVVVU1I0BVVVVVVfUlQFVVVVVVNSRAq6qqqqqqJUBVVVVVVfUlQFVVVVVVNSZAq6qqqqrqJ0AAAAAAAEAnQKuqqqqq6idAVVVVVVXVJ0AAAAAAAAAoQKuqqqqqCilAVVVVVVU1KECrqqqqqiopQKuqqqqqCipAq6qqqqqqKUCrqqqqqioqQAAAAAAAACtAq6qqqqqqKkCrqqqqqiorQAAAAAAAACxAq6qqqqqqK0AAAAAAAAAsQKuqqqqqCi1AAAAAAABgLEAAAAAAAIAtQAAAAAAAAC5AVVVVVVWVLkAAAAAAAAAvQFVVVVVVlS9AAAAAAAAAMEAAAAAAAAAwQKuqqqqq+jBAAAAAAAAAMUBVVVVVVSUwQAAAAAAAwDBAVVVVVVVFMUBVVVVVVfUxQKuqqqqq+jFAAAAAAADAMUBVVVVVVfUxQKuqqqqqOjJAq6qqqqpqMkCrqqqqqqoyQAAAAAAA8DJAVVVVVVWFM0AAAAAAAAA0QFVVVVVVJTRAAAAAAABQNECrqqqqqno0QFVVVVVVpTRAAAAAAADQNEBVVVVVVQU1QAAAAAAAMDVAq6qqqqpaNUBVVVVVVYU1QAAAAAAAsDVAq6qqqqraNUAAAAAAAAA2QAAAAAAAIDZAAAAAAABgNkAAAAAAAKA2QAAAAAAA4DZAAAAAAAAgN0AAAAAAAGA3QAAAAAAAoDdAAAAAAAAgOECrqqqqqlo4QKuqqqqq2jhAq6qqqqpaOUCrqqqqqto5QAAAAAAAADpAAAAAAAAgOkCrqqqqqlo6QKuqqqqqmjpAAAAAAADQOkAAAAAAABA7QAAAAAAAIDxAAAAAAABQPEBVVVVVVaU8QAAAAAAA0DxAVVVVVVUlPUAAAAAAAFA9QFVVVVVVpT1AAAAAAAAgPkAAAAAAAFA+QFVVVVVVpT5AAAAAAADQPkBVVVVVVSU/QAAAAAAAUD9Aq6qqqqoSQECrqqqqqlJAQKuqqqqqkkBAq6qqqqrSQEAAAAAAABBBQFVVVVVVJUFAq6qqqqo6QUAAAAAAAFBBQFVVVVVVZUFAq6qqqqp6QUAAAAAAAJBBQFVVVVVVpUFAq6qqqqq6QUAAAAAAANBBQFVVVVVV5UFA\",\"dtype\":\"float64\",\"order\":\"little\",\"shape\":[159]},\"fill_alpha\":{\"__ndarray__\":\"AAAAAACA2D8AAAAAAEDgPwAAAAAAgNg/AAAAAABA5D8AAAAAAEDgPwAAAAAAQOA/AAAAAABA4D8AAAAAAEDkPwAAAAAAQOQ/AAAAAABA4D8AAAAAAEDkPwAAAAAAQOQ/AAAAAABA4D8AAAAAAEDgPwAAAAAAQOQ/AAAAAABA4D8AAAAAAEDgPwAAAAAAgNg/AAAAAABA5D8AAAAAAEDgPwAAAAAAQOQ/AAAAAABA5D8AAAAAAEDgPwAAAAAAQOA/AAAAAABA5D8AAAAAAEDgPwAAAAAAgNg/AAAAAABA6D8AAAAAAEDgPwAAAAAAQOQ/AAAAAABA5D8AAAAAAEDgPwAAAAAAQOQ/AAAAAABA6D8AAAAAAEDgPwAAAAAAQOQ/AAAAAABA5D8AAAAAAEDoPwAAAAAAQOQ/AAAAAACA2D8AAAAAAEDkPwAAAAAAQOg/AAAAAABA6D8AAAAAAEDkPwAAAAAAQOA/AAAAAABA6D8AAAAAAEDkPwAAAAAAQOQ/AAAAAACA2D8AAAAAAEDgPwAAAAAAQOg/AAAAAABA5D8AAAAAAEDgPwAAAAAAQOA/AAAAAABA4D8AAAAAAEDkPwAAAAAAgNg/AAAAAABA7D8AAAAAAEDgPwAAAAAAQOQ/AAAAAABA5D8AAAAAAEDoPwAAAAAAQOA/AAAAAABA5D8AAAAAAEDoPwAAAAAAQOQ/AAAAAACA2D8AAAAAAEDoPwAAAAAAQOg/AAAAAABA4D8AAAAAAEDkPwAAAAAAQOQ/AAAAAABA4D8AAAAAAEDkPwAAAAAAQOg/AAAAAABA4D8AAAAAAEDkPwAAAAAAQOQ/AAAAAACA2D8AAAAAAEDsPwAAAAAAQOg/AAAAAABA6D8AAAAAAEDkPwAAAAAAQOw/AAAAAABA6D8AAAAAAEDoPwAAAAAAQOQ/AAAAAABA6D8AAAAAAIDYPwAAAAAAQOw/AAAAAABA6D8AAAAAAEDkPwAAAAAAQOg/AAAAAABA7D8AAAAAAEDsPwAAAAAAgNg/AAAAAABA4D8AAAAAAEDkPwAAAAAAQOA/AAAAAABA4D8AAAAAAEDkPwAAAAAAQOA/AAAAAABA5D8AAAAAAEDgPwAAAAAAQOQ/AAAAAABA4D8AAAAAAEDkPwAAAAAAQOA/AAAAAABA4D8AAAAAAEDgPwAAAAAAQOA/AAAAAABA4D8AAAAAAEDgPwAAAAAAQOA/AAAAAABA5D8AAAAAAEDgPwAAAAAAQOQ/AAAAAABA4D8AAAAAAEDgPwAAAAAAQOA/AAAAAABA4D8AAAAAAEDkPwAAAAAAQOA/AAAAAABA5D8AAAAAAEDgPwAAAAAAQOQ/AAAAAABA4D8AAAAAAEDkPwAAAAAAQOQ/AAAAAABA4D8AAAAAAEDkPwAAAAAAQOA/AAAAAABA5D8AAAAAAEDgPwAAAAAAQOQ/AAAAAABA4D8AAAAAAEDkPwAAAAAAQOA/AAAAAABA4D8AAAAAAEDkPwAAAAAAQOQ/AAAAAABA4D8AAAAAAEDgPwAAAAAAQOQ/AAAAAABA4D8AAAAAAEDkPwAAAAAAQOA/AAAAAABA5D8AAAAAAEDgPwAAAAAAQOQ/AAAAAABA5D8AAAAAAEDkPwAAAAAAQOQ/AAAAAABA5D8AAAAAAEDkPwAAAAAAQOQ/AAAAAABA5D8AAAAAAEDkPwAAAAAAQOQ/\",\"dtype\":\"float64\",\"order\":\"little\",\"shape\":[159]},\"index\":[4,5,6,7,8,12,13,14,22,23,24,25,26,30,31,32,38,39,41,48,50,51,60,62,69,71,76,77,78,84,85,86,87,95,96,97,104,105,109,110,111,112,120,121,128,129,137,140,141,147,148,152,153,159,160,166,168,169,173,175,177,179,180,185,186,193,194,195,196,201,202,203,211,212,213,218,219,225,226,227,228,233,236,241,246,247,252,254,255,256,261,262,264,266,271,278,279,287,290,299,309,317,318,319,325,326,327,336,337,338,344,345,346,353,354,356,361,362,366,367,380,381,399,408,417,418,427,428,436,437,438,462,463,470,471,480,481,488,492,493,499,501,506,508,519,528,536,544,547,548,549,557,558,559,566,567,568,575,576],\"instrument\":[3,3,3,3,3,3,3,3,3,3,3,3,3,3,3,3,3,3,3,3,3,3,3,3,3,3,3,3,3,3,3,3,3,3,3,3,3,3,3,3,3,3,3,3,3,3,3,3,3,3,3,3,3,3,3,3,3,3,3,3,3,3,3,3,3,3,3,3,3,3,3,3,3,3,3,3,3,3,3,3,3,3,3,3,3,3,3,3,3,3,3,3,3,3,3,3,3,3,3,3,3,3,3,3,3,3,3,3,3,3,3,3,3,3,3,3,3,3,3,3,3,3,3,3,3,3,3,3,3,3,3,3,3,3,3,3,3,3,3,3,3,3,3,3,3,3,3,3,3,3,3,3,3,3,3,3,3,3,3],\"pitch\":[53,57,60,50,38,65,45,53,53,57,60,65,50,53,57,60,57,53,53,53,53,57,53,57,53,53,52,52,57,52,52,45,57,52,45,57,52,52,59,43,43,62,43,59,43,62,43,38,57,50,57,38,57,50,57,41,41,41,48,41,41,41,48,41,41,57,57,57,60,57,57,57,57,57,57,57,57,55,55,55,59,55,55,55,55,55,57,62,57,57,57,57,62,57,57,57,57,57,57,57,57,60,60,60,60,60,60,60,60,60,60,60,60,62,62,62,62,62,62,62,62,62,62,62,62,62,63,63,63,63,63,62,62,62,62,62,62,62,67,67,67,67,67,67,69,69,69,69,65,65,65,65,65,65,65,65,65,65,65],\"program\":[0,0,0,0,0,0,0,0,0,0,0,0,0,0,0,0,0,0,0,0,0,0,0,0,0,0,0,0,0,0,0,0,0,0,0,0,0,0,0,0,0,0,0,0,0,0,0,0,0,0,0,0,0,0,0,0,0,0,0,0,0,0,0,0,0,0,0,0,0,0,0,0,0,0,0,0,0,0,0,0,0,0,0,0,0,0,0,0,0,0,0,0,0,0,0,0,0,0,0,0,0,0,0,0,0,0,0,0,0,0,0,0,0,0,0,0,0,0,0,0,0,0,0,0,0,0,0,0,0,0,0,0,0,0,0,0,0,0,0,0,0,0,0,0,0,0,0,0,0,0,0,0,0,0,0,0,0,0,0],\"start_time\":{\"__ndarray__\":\"AAAAAAAAwD8AAAAAAADQPwAAAAAAAOA/AAAAAAAA4D8AAAAAAADgPwAAAAAAAOg/AAAAAAAA8D8AAAAAAADwPwAAAAAAAPQ/AAAAAAAA9D8AAAAAAAD0PwAAAAAAAPQ/AAAAAAAA+D8AAAAAAAD8PwAAAAAAAPw/AAAAAAAA/D8AAAAAAIAAQKuqqqqqqgBAVVVVVVXVAkAAAAAAAAAFQAAAAAAAAAdAAAAAAAAACEAAAAAAAAAJQAAAAAAAAAxAAAAAAAAADUAAAAAAAAAPQFVVVVVVVRBAVVVVVVXVEUAAAAAAAAASQFVVVVVVFRJAVVVVVVVVE0AAAAAAAAAUQAAAAAAAABRAVVVVVVXVFEAAAAAAAAAWQAAAAAAAABZAqqqqqqpqFkCqqqqqquoXQKuqqqqqKhhAVVVVVVVVGEBVVVVVVRUZQAAAAAAAABpAVVVVVVUVG0AAAAAAAAAcQKqqqqqqKh1AAAAAAAAAHkAAAAAAAEAfQFVVVVVVFSBAq6qqqqoqIECrqqqqqgohQKuqqqqqKiFAq6qqqqoKIkCrqqqqqioiQKuqqqqqCiNAq6qqqqoqI0BVVVVVVRUkQKuqqqqqKiRAq6qqqqqqJECrqqqqqgolQFVVVVVVtSVAq6qqqqoKJkAAAAAAAEAmQAAAAAAAACdAq6qqqqpKJ0CrqqqqquonQFVVVVVVFShAq6qqqqoqKEAAAAAAAEAoQAAAAAAAAClAVVVVVVU1KUBVVVVVVbUpQAAAAAAAACpAVVVVVVU1KkBVVVVVVbUqQAAAAAAAACtAVVVVVVU1K0BVVVVVVbUrQFVVVVVVFSxAq6qqqqoqLEAAAAAAAIAsQAAAAAAAAC1AVVVVVVWVLUCrqqqqqgouQAAAAAAAoC5Aq6qqqqoKL0CrqqqqqqovQKuqqqqqCjBAAAAAAAAQMEBVVVVVVRUwQAAAAAAAQDBAq6qqqqrKMEAAAAAAAAAxQFVVVVVVBTFAq6qqqqpKMUCrqqqqqsoxQAAAAAAAEDJAq6qqqqpKMkBVVVVVVYUyQKuqqqqqyjJAq6qqqqoKM0CrqqqqqoozQAAAAAAAEDRAq6qqqqo6NEBVVVVVVWU0QAAAAAAAkDRAq6qqqqq6NEBVVVVVVeU0QKuqqqqqGjVAVVVVVVVFNUAAAAAAAHA1QKuqqqqqmjVAVVVVVVXFNUBVVVVVVfU1QAAAAAAAEDZAAAAAAABANkAAAAAAAIA2QAAAAAAAwDZAAAAAAAAAN0AAAAAAAEA3QAAAAAAAgDdAAAAAAAAQOEAAAAAAAEA4QAAAAAAAwDhAAAAAAABAOUAAAAAAAMA5QFVVVVVV9TlAAAAAAAAQOkBVVVVVVUU6QKuqqqqqijpAAAAAAADAOkAAAAAAAAA7QAAAAAAAEDxAAAAAAABAPEBVVVVVVZU8QAAAAAAAwDxAVVVVVVUVPUAAAAAAAEA9QFVVVVVVlT1AAAAAAAAQPkAAAAAAAEA+QFVVVVVVlT5AAAAAAADAPkBVVVVVVRU/QAAAAAAAQD9AVVVVVVUFQEBVVVVVVUVAQFVVVVVVhUBAVVVVVVXFQEAAAAAAAAhBQFVVVVVVHUFAq6qqqqoyQUAAAAAAAEhBQFVVVVVVXUFAq6qqqqpyQUAAAAAAAIhBQFVVVVVVnUFAq6qqqqqyQUAAAAAAAMhBQFVVVVVV3UFA\",\"dtype\":\"float64\",\"order\":\"little\",\"shape\":[159]},\"top\":{\"__ndarray__\":\"MzMzMzOzSkAzMzMzM7NMQDMzMzMzM05AMzMzMzMzSUAzMzMzMzNDQJqZmZmZWVBAMzMzMzOzRkAzMzMzM7NKQDMzMzMzs0pAMzMzMzOzTEAzMzMzMzNOQJqZmZmZWVBAMzMzMzMzSUAzMzMzM7NKQDMzMzMzs0xAMzMzMzMzTkAzMzMzM7NMQDMzMzMzs0pAMzMzMzOzSkAzMzMzM7NKQDMzMzMzs0pAMzMzMzOzTEAzMzMzM7NKQDMzMzMzs0xAMzMzMzOzSkAzMzMzM7NKQDMzMzMzM0pAMzMzMzMzSkAzMzMzM7NMQDMzMzMzM0pAMzMzMzMzSkAzMzMzM7NGQDMzMzMzs0xAMzMzMzMzSkAzMzMzM7NGQDMzMzMzs0xAMzMzMzMzSkAzMzMzMzNKQDMzMzMzs01AMzMzMzOzRUAzMzMzM7NFQDMzMzMzM09AMzMzMzOzRUAzMzMzM7NNQDMzMzMzs0VAMzMzMzMzT0AzMzMzM7NFQDMzMzMzM0NAMzMzMzOzTEAzMzMzMzNJQDMzMzMzs0xAMzMzMzMzQ0AzMzMzM7NMQDMzMzMzM0lAMzMzMzOzTEAzMzMzM7NEQDMzMzMzs0RAMzMzMzOzREAzMzMzMzNIQDMzMzMzs0RAMzMzMzOzREAzMzMzM7NEQDMzMzMzM0hAMzMzMzOzREAzMzMzM7NEQDMzMzMzs0xAMzMzMzOzTEAzMzMzM7NMQDMzMzMzM05AMzMzMzOzTEAzMzMzM7NMQDMzMzMzs0xAMzMzMzOzTEAzMzMzM7NMQDMzMzMzs0xAMzMzMzOzTEAzMzMzM7NMQDMzMzMzs0tAMzMzMzOzS0AzMzMzM7NLQDMzMzMzs01AMzMzMzOzS0AzMzMzM7NLQDMzMzMzs0tAMzMzMzOzS0AzMzMzM7NLQDMzMzMzs0xAMzMzMzMzT0AzMzMzM7NMQDMzMzMzs0xAMzMzMzOzTEAzMzMzM7NMQDMzMzMzM09AMzMzMzOzTEAzMzMzM7NMQDMzMzMzs0xAMzMzMzOzTEAzMzMzM7NMQDMzMzMzs0xAMzMzMzOzTEAzMzMzM7NMQDMzMzMzM05AMzMzMzMzTkAzMzMzMzNOQDMzMzMzM05AMzMzMzMzTkAzMzMzMzNOQDMzMzMzM05AMzMzMzMzTkAzMzMzMzNOQDMzMzMzM05AMzMzMzMzTkAzMzMzMzNOQDMzMzMzM09AMzMzMzMzT0AzMzMzMzNPQDMzMzMzM09AMzMzMzMzT0AzMzMzMzNPQDMzMzMzM09AMzMzMzMzT0AzMzMzMzNPQDMzMzMzM09AMzMzMzMzT0AzMzMzMzNPQDMzMzMzM09AMzMzMzOzT0AzMzMzM7NPQDMzMzMzs09AMzMzMzOzT0AzMzMzM7NPQDMzMzMzM09AMzMzMzMzT0AzMzMzMzNPQDMzMzMzM09AMzMzMzMzT0AzMzMzMzNPQDMzMzMzM09AmpmZmZnZUECamZmZmdlQQJqZmZmZ2VBAmpmZmZnZUECamZmZmdlQQJqZmZmZ2VBAmpmZmZlZUUCamZmZmVlRQJqZmZmZWVFAmpmZmZlZUUCamZmZmVlQQJqZmZmZWVBAmpmZmZlZUECamZmZmVlQQJqZmZmZWVBAmpmZmZlZUECamZmZmVlQQJqZmZmZWVBAmpmZmZlZUECamZmZmVlQQJqZmZmZWVBA\",\"dtype\":\"float64\",\"order\":\"little\",\"shape\":[159]},\"velocity\":[49,65,49,81,65,65,65,81,81,65,81,81,65,65,81,65,65,49,81,65,81,81,65,65,81,65,49,97,65,81,81,65,81,97,65,81,81,97,81,49,81,97,97,81,65,97,81,81,49,65,97,81,65,65,65,81,49,113,65,81,81,97,65,81,97,81,49,97,97,65,81,81,65,81,97,65,81,81,49,113,97,97,81,113,97,97,81,97,49,113,97,81,97,113,113,49,65,81,65,65,81,65,81,65,81,65,81,65,65,65,65,65,65,65,81,65,81,65,65,65,65,81,65,81,65,81,65,81,81,65,81,65,81,65,81,65,81,65,65,81,81,65,65,81,65,81,65,81,65,81,81,81,81,81,81,81,81,81,81]},\"selected\":{\"id\":\"2077\"},\"selection_policy\":{\"id\":\"2076\"}},\"id\":\"1869\",\"type\":\"ColumnDataSource\"},{\"attributes\":{\"bottom\":{\"field\":\"bottom\"},\"fill_alpha\":{\"field\":\"fill_alpha\"},\"fill_color\":{\"value\":\"#3288bd\"},\"left\":{\"field\":\"start_time\"},\"right\":{\"field\":\"end_time\"},\"top\":{\"field\":\"top\"}},\"id\":\"1962\",\"type\":\"Quad\"},{\"attributes\":{\"source\":{\"id\":\"1988\"}},\"id\":\"1994\",\"type\":\"CDSView\"},{\"attributes\":{\"source\":{\"id\":\"2037\"}},\"id\":\"2043\",\"type\":\"CDSView\"},{\"attributes\":{\"coordinates\":null,\"data_source\":{\"id\":\"1932\"},\"glyph\":{\"id\":\"1934\"},\"group\":null,\"hover_glyph\":null,\"muted_glyph\":{\"id\":\"1936\"},\"nonselection_glyph\":{\"id\":\"1935\"},\"view\":{\"id\":\"1938\"}},\"id\":\"1937\",\"type\":\"GlyphRenderer\"},{\"attributes\":{\"data\":{\"bottom\":{\"__ndarray__\":\"ZmZmZmamUUBmZmZmZiZRQGZmZmZmplBAZmZmZmYmUUBmZmZmZiZRQGZmZmZmJlFAZmZmZmYmUUBmZmZmZiZRQGZmZmZm5lFAZmZmZmamUUBmZmZmZiZRQGZmZmZmZlJAZmZmZmamUUBmZmZmZiZRQGZmZmZmJlFAZmZmZmYmUUBmZmZmZiZRQGZmZmZmJlFAZmZmZmamUEBmZmZmZiZRQGZmZmZmZlJAZmZmZmZmUkBmZmZmZuZRQGZmZmZmZlJAZmZmZmbmUUBmZmZmZmZSQM3MzMzMTExAzczMzMzMTUBmZmZmZiZQQGZmZmZm5lFAzczMzMxMTEDNzMzMzMxNQGZmZmZmJlBAZmZmZmZmUkDNzMzMzExMQM3MzMzMzE1AZmZmZmYmUEBmZmZmZuZRQM3MzMzMTExAzczMzMzMTUBmZmZmZiZQQM3MzMzMTExAzczMzMzMTUDNzMzMzMxPQM3MzMzMTExAzczMzMzMTUDNzMzMzMxPQM3MzMzMTExAzczMzMzMTUDNzMzMzMxPQM3MzMzMzE5AzczMzMzMTkBmZmZmZqZRQM3MzMzMzE5AzczMzMzMTkBmZmZmZiZRQM3MzMzMzE5AzczMzMzMTkBmZmZmZqZQQM3MzMzMzE5AzczMzMzMTkDNzMzMzMxNQM3MzMzMzE5AZmZmZmYmUEBmZmZmZiZRQM3MzMzMzE1AzczMzMzMTkBmZmZmZiZQQGZmZmZmJlFAzczMzMzMTUDNzMzMzMxOQGZmZmZmJlBAZmZmZmYmUUDNzMzMzMxNQGZmZmZmJlBAZmZmZmYmUUDNzMzMzMxNQGZmZmZmJlBAZmZmZmYmUUDNzMzMzMxNQGZmZmZmJlBAZmZmZmYmUUDNzMzMzMxNQM3MzMzMzE1AzczMzMzMTUDNzMzMzMxNQM3MzMzMzE1AzczMzMzMTUDNzMzMzMxNQM3MzMzMzE1AzczMzMzMTkBmZmZmZqZQQGZmZmZmplFAzczMzMzMTkBmZmZmZqZQQGZmZmZmplFAzczMzMzMTkBmZmZmZqZQQGZmZmZmplFAzczMzMzMTkBmZmZmZqZQQGZmZmZmplFAzczMzMzMTkBmZmZmZqZQQGZmZmZmplFAZmZmZmYmUEBmZmZmZiZQQGZmZmZmZlJAZmZmZmamUEBmZmZmZiZQQGZmZmZmJlBAZmZmZmbmUUBmZmZmZiZQQGZmZmZmJlBAZmZmZmYmUEBmZmZmZiZRQGZmZmZmJlBAZmZmZmYmUEBmZmZmZiZQQGZmZmZmJlFAZmZmZmbmUUBmZmZmZiZQQGZmZmZmJlFAZmZmZmbmUUBmZmZmZiZRQGZmZmZmJlBAZmZmZmYmUUBmZmZmZuZRQGZmZmZmJlBAZmZmZmYmUUBmZmZmZuZRQGZmZmZmJlBAZmZmZmYmUUBmZmZmZuZRQGZmZmZmZlFAZmZmZmYmUEBmZmZmZiZRQGZmZmZm5lFAZmZmZmYmUEBmZmZmZiZRQGZmZmZm5lFAZmZmZmYmUUBmZmZmZiZQQGZmZmZmJlFAZmZmZmbmUUDNzMzMzMxNQM3MzMzMzE1AZmZmZmbmUkDNzMzMzMxNQM3MzMzMzE1AzczMzMzMTUBmZmZmZmZSQM3MzMzMzE1AzczMzMzMTUDNzMzMzMxNQGZmZmZm5lFAzczMzMzMTUDNzMzMzMxNQGZmZmZmplBAZmZmZmamUUBmZmZmZmZSQGZmZmZmplFAZmZmZmamUUBmZmZmZqZRQGZmZmZmZlJAZmZmZmamUUBmZmZmZqZRQGZmZmZmplFAZmZmZmbmUkBmZmZmZqZRQGZmZmZmplFAZmZmZmYmUUBmZmZmZiZRQGZmZmZmZlJAZmZmZmYmUUBmZmZmZiZRQGZmZmZmJlFAZmZmZmYmUUBmZmZmZuZRQGZmZmZmJlFAZmZmZmYmUUBmZmZmZiZRQGZmZmZmJlFAZmZmZmZmUkBmZmZmZiZRQGZmZmZmJlFAZmZmZmYmUUBmZmZmZiZRQGZmZmZm5lFAZmZmZmbmUUBmZmZmZuZRQGZmZmZm5lFAZmZmZmbmUUBmZmZmZuZRQGZmZmZm5lFAZmZmZmbmUUBmZmZmZuZRQGZmZmZm5lFAZmZmZmbmUUBmZmZmZuZRQGZmZmZm5lFAZmZmZmYmUUBmZmZmZqZQQGZmZmZmJlFAZmZmZmbmUUBmZmZmZiZRQGZmZmZmJlFAZmZmZmYmUUBmZmZmZqZQQGZmZmZmplBAZmZmZmamUEBmZmZmZqZQQGZmZmZmplBAZmZmZmamUEBmZmZmZqZQQGZmZmZmplBAZmZmZmamUEBmZmZmZqZQQGZmZmZmJlFAZmZmZmYmUUBmZmZmZiZRQGZmZmZmJlFAZmZmZmYmUUBmZmZmZiZRQGZmZmZmJlFAZmZmZmYmUUBmZmZmZiZRQGZmZmZmJlFAZmZmZmYmUUBmZmZmZiZRQGZmZmZmJlNAZmZmZmYmU0BmZmZmZiZTQGZmZmZmJlNAZmZmZmYmU0BmZmZmZiZTQGZmZmZmJlNAZmZmZmYmU0BmZmZmZiZTQGZmZmZmJlNAZmZmZmYmU0BmZmZmZiZTQGZmZmZmJlNAZmZmZmYmU0BmZmZmZiZTQGZmZmZmJlFAZmZmZmYmUUBmZmZmZiZRQGZmZmZmJlFAZmZmZmYmUUBmZmZmZiZRQGZmZmZmJlFAZmZmZmYmUUBmZmZmZiZRQGZmZmZmJlFAZmZmZmYmUUBmZmZmZiZRQGZmZmZmJlFAZmZmZmYmUUBmZmZmZqZQQGZmZmZmplFAZmZmZmZmUkBmZmZmZqZQQGZmZmZmplFAZmZmZmZmUkBmZmZmZmZSQGZmZmZmZlJAZmZmZmamUEBmZmZmZqZRQGZmZmZmZlJAZmZmZmZmUkBmZmZmZmZSQGZmZmZmplBAZmZmZmamUUBmZmZmZmZSQGZmZmZmZlJAZmZmZmZmUkA=\",\"dtype\":\"float64\",\"order\":\"little\",\"shape\":[277]},\"duration\":{\"__ndarray__\":\"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\",\"dtype\":\"float64\",\"order\":\"little\",\"shape\":[277]},\"end_time\":{\"__ndarray__\":\"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\",\"dtype\":\"float64\",\"order\":\"little\",\"shape\":[277]},\"fill_alpha\":{\"__ndarray__\":\"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\",\"dtype\":\"float64\",\"order\":\"little\",\"shape\":[277]},\"index\":[107,117,126,134,165,174,178,184,198,205,215,230,235,243,258,265,270,322,330,341,358,365,370,383,405,409,422,423,424,430,433,434,435,441,445,446,447,450,455,456,457,464,465,466,473,474,475,482,483,484,491,494,496,500,502,505,507,509,512,515,516,521,522,523,524,531,532,533,534,538,539,540,541,551,552,553,562,563,564,570,571,572,579,582,590,593,599,602,606,609,616,617,618,621,622,623,627,628,629,633,634,635,640,641,642,649,650,652,656,657,661,662,664,665,668,669,671,672,683,684,685,687,688,689,690,697,698,699,700,701,702,705,706,707,708,715,716,717,718,719,720,722,728,729,730,742,746,747,751,753,757,758,763,764,768,769,774,776,782,788,789,791,792,800,801,802,803,808,809,810,811,820,823,829,832,834,836,838,844,847,849,851,853,854,857,859,861,863,875,876,885,886,887,896,897,898,907,908,909,918,920,930,931,932,939,949,951,952,963,968,972,974,982,985,987,992,995,997,1006,1008,1018,1019,1020,1022,1031,1032,1033,1041,1042,1043,1056,1057,1058,1065,1068,1069,1070,1077,1080,1081,1082,1089,1092,1093,1094,1105,1106,1114,1118,1119,1120,1128,1131,1132,1133,1141,1144,1145,1146,1151,1152,1157,1163,1164,1168,1170,1172,1178,1179,1182,1184,1186,1192,1193,1196,1198,1200],\"instrument\":[10,10,10,10,10,10,10,10,10,10,10,10,10,10,10,10,10,10,10,10,10,10,10,10,10,10,10,10,10,10,10,10,10,10,10,10,10,10,10,10,10,10,10,10,10,10,10,10,10,10,10,10,10,10,10,10,10,10,10,10,10,10,10,10,10,10,10,10,10,10,10,10,10,10,10,10,10,10,10,10,10,10,10,10,10,10,10,10,10,10,10,10,10,10,10,10,10,10,10,10,10,10,10,10,10,10,10,10,10,10,10,10,10,10,10,10,10,10,10,10,10,10,10,10,10,10,10,10,10,10,10,10,10,10,10,10,10,10,10,10,10,10,10,10,10,10,10,10,10,10,10,10,10,10,10,10,10,10,10,10,10,10,10,10,10,10,10,10,10,10,10,10,10,10,10,10,10,10,10,10,10,10,10,10,10,10,10,10,10,10,10,10,10,10,10,10,10,10,10,10,10,10,10,10,10,10,10,10,10,10,10,10,10,10,10,10,10,10,10,10,10,10,10,10,10,10,10,10,10,10,10,10,10,10,10,10,10,10,10,10,10,10,10,10,10,10,10,10,10,10,10,10,10,10,10,10,10,10,10,10,10,10,10,10,10,10,10,10,10,10,10,10,10,10,10,10,10],\"pitch\":[71,69,67,69,69,69,69,69,72,71,69,74,71,69,69,69,69,69,67,69,74,74,72,74,72,74,57,60,65,72,57,60,65,74,57,60,65,72,57,60,65,57,60,64,57,60,64,57,60,64,62,62,71,62,62,69,62,62,67,62,62,60,62,65,69,60,62,65,69,60,62,65,69,60,65,69,60,65,69,60,65,69,60,60,60,60,60,60,60,60,62,67,71,62,67,71,62,67,71,62,67,71,62,67,71,65,65,74,67,65,65,72,65,65,65,69,65,65,65,69,72,65,69,72,69,65,69,72,65,69,72,65,69,72,70,65,69,72,65,69,72,69,65,69,72,60,60,76,60,60,60,74,60,60,60,72,60,60,67,71,74,71,71,71,74,71,71,71,76,71,71,69,69,74,69,69,69,69,72,69,69,69,69,74,69,69,69,69,72,72,72,72,72,72,72,72,72,72,72,72,72,69,67,69,72,69,69,69,67,67,67,67,67,67,67,67,67,67,69,69,69,69,69,69,69,69,69,69,69,69,77,77,77,77,77,77,77,77,77,77,77,77,77,77,77,69,69,69,69,69,69,69,69,69,69,69,69,69,69,67,71,74,67,71,74,74,74,67,71,74,74,74,67,71,74,74,74],\"program\":[73,73,73,73,73,73,73,73,73,73,73,73,73,73,73,73,73,73,73,73,73,73,73,73,73,73,73,73,73,73,73,73,73,73,73,73,73,73,73,73,73,73,73,73,73,73,73,73,73,73,73,73,73,73,73,73,73,73,73,73,73,73,73,73,73,73,73,73,73,73,73,73,73,73,73,73,73,73,73,73,73,73,73,73,73,73,73,73,73,73,73,73,73,73,73,73,73,73,73,73,73,73,73,73,73,73,73,73,73,73,73,73,73,73,73,73,73,73,73,73,73,73,73,73,73,73,73,73,73,73,73,73,73,73,73,73,73,73,73,73,73,73,73,73,73,73,73,73,73,73,73,73,73,73,73,73,73,73,73,73,73,73,73,73,73,73,73,73,73,73,73,73,73,73,73,73,73,73,73,73,73,73,73,73,73,73,73,73,73,73,73,73,73,73,73,73,73,73,73,73,73,73,73,73,73,73,73,73,73,73,73,73,73,73,73,73,73,73,73,73,73,73,73,73,73,73,73,73,73,73,73,73,73,73,73,73,73,73,73,73,73,73,73,73,73,73,73,73,73,73,73,73,73,73,73,73,73,73,73,73,73,73,73,73,73,73,73,73,73,73,73,73,73,73,73,73,73],\"start_time\":{\"__ndarray__\":\"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\",\"dtype\":\"float64\",\"order\":\"little\",\"shape\":[277]},\"top\":{\"__ndarray__\":\"mpmZmZnZUUCamZmZmVlRQJqZmZmZ2VBAmpmZmZlZUUCamZmZmVlRQJqZmZmZWVFAmpmZmZlZUUCamZmZmVlRQJqZmZmZGVJAmpmZmZnZUUCamZmZmVlRQJqZmZmZmVJAmpmZmZnZUUCamZmZmVlRQJqZmZmZWVFAmpmZmZlZUUCamZmZmVlRQJqZmZmZWVFAmpmZmZnZUECamZmZmVlRQJqZmZmZmVJAmpmZmZmZUkCamZmZmRlSQJqZmZmZmVJAmpmZmZkZUkCamZmZmZlSQDMzMzMzs0xAMzMzMzMzTkCamZmZmVlQQJqZmZmZGVJAMzMzMzOzTEAzMzMzMzNOQJqZmZmZWVBAmpmZmZmZUkAzMzMzM7NMQDMzMzMzM05AmpmZmZlZUECamZmZmRlSQDMzMzMzs0xAMzMzMzMzTkCamZmZmVlQQDMzMzMzs0xAMzMzMzMzTkCamZmZmRlQQDMzMzMzs0xAMzMzMzMzTkCamZmZmRlQQDMzMzMzs0xAMzMzMzMzTkCamZmZmRlQQDMzMzMzM09AMzMzMzMzT0CamZmZmdlRQDMzMzMzM09AMzMzMzMzT0CamZmZmVlRQDMzMzMzM09AMzMzMzMzT0CamZmZmdlQQDMzMzMzM09AMzMzMzMzT0AzMzMzMzNOQDMzMzMzM09AmpmZmZlZUECamZmZmVlRQDMzMzMzM05AMzMzMzMzT0CamZmZmVlQQJqZmZmZWVFAMzMzMzMzTkAzMzMzMzNPQJqZmZmZWVBAmpmZmZlZUUAzMzMzMzNOQJqZmZmZWVBAmpmZmZlZUUAzMzMzMzNOQJqZmZmZWVBAmpmZmZlZUUAzMzMzMzNOQJqZmZmZWVBAmpmZmZlZUUAzMzMzMzNOQDMzMzMzM05AMzMzMzMzTkAzMzMzMzNOQDMzMzMzM05AMzMzMzMzTkAzMzMzMzNOQDMzMzMzM05AMzMzMzMzT0CamZmZmdlQQJqZmZmZ2VFAMzMzMzMzT0CamZmZmdlQQJqZmZmZ2VFAMzMzMzMzT0CamZmZmdlQQJqZmZmZ2VFAMzMzMzMzT0CamZmZmdlQQJqZmZmZ2VFAMzMzMzMzT0CamZmZmdlQQJqZmZmZ2VFAmpmZmZlZUECamZmZmVlQQJqZmZmZmVJAmpmZmZnZUECamZmZmVlQQJqZmZmZWVBAmpmZmZkZUkCamZmZmVlQQJqZmZmZWVBAmpmZmZlZUECamZmZmVlRQJqZmZmZWVBAmpmZmZlZUECamZmZmVlQQJqZmZmZWVFAmpmZmZkZUkCamZmZmVlQQJqZmZmZWVFAmpmZmZkZUkCamZmZmVlRQJqZmZmZWVBAmpmZmZlZUUCamZmZmRlSQJqZmZmZWVBAmpmZmZlZUUCamZmZmRlSQJqZmZmZWVBAmpmZmZlZUUCamZmZmRlSQJqZmZmZmVFAmpmZmZlZUECamZmZmVlRQJqZmZmZGVJAmpmZmZlZUECamZmZmVlRQJqZmZmZGVJAmpmZmZlZUUCamZmZmVlQQJqZmZmZWVFAmpmZmZkZUkAzMzMzMzNOQDMzMzMzM05AmpmZmZkZU0AzMzMzMzNOQDMzMzMzM05AMzMzMzMzTkCamZmZmZlSQDMzMzMzM05AMzMzMzMzTkAzMzMzMzNOQJqZmZmZGVJAMzMzMzMzTkAzMzMzMzNOQJqZmZmZ2VBAmpmZmZnZUUCamZmZmZlSQJqZmZmZ2VFAmpmZmZnZUUCamZmZmdlRQJqZmZmZmVJAmpmZmZnZUUCamZmZmdlRQJqZmZmZ2VFAmpmZmZkZU0CamZmZmdlRQJqZmZmZ2VFAmpmZmZlZUUCamZmZmVlRQJqZmZmZmVJAmpmZmZlZUUCamZmZmVlRQJqZmZmZWVFAmpmZmZlZUUCamZmZmRlSQJqZmZmZWVFAmpmZmZlZUUCamZmZmVlRQJqZmZmZWVFAmpmZmZmZUkCamZmZmVlRQJqZmZmZWVFAmpmZmZlZUUCamZmZmVlRQJqZmZmZGVJAmpmZmZkZUkCamZmZmRlSQJqZmZmZGVJAmpmZmZkZUkCamZmZmRlSQJqZmZmZGVJAmpmZmZkZUkCamZmZmRlSQJqZmZmZGVJAmpmZmZkZUkCamZmZmRlSQJqZmZmZGVJAmpmZmZlZUUCamZmZmdlQQJqZmZmZWVFAmpmZmZkZUkCamZmZmVlRQJqZmZmZWVFAmpmZmZlZUUCamZmZmdlQQJqZmZmZ2VBAmpmZmZnZUECamZmZmdlQQJqZmZmZ2VBAmpmZmZnZUECamZmZmdlQQJqZmZmZ2VBAmpmZmZnZUECamZmZmdlQQJqZmZmZWVFAmpmZmZlZUUCamZmZmVlRQJqZmZmZWVFAmpmZmZlZUUCamZmZmVlRQJqZmZmZWVFAmpmZmZlZUUCamZmZmVlRQJqZmZmZWVFAmpmZmZlZUUCamZmZmVlRQJqZmZmZWVNAmpmZmZlZU0CamZmZmVlTQJqZmZmZWVNAmpmZmZlZU0CamZmZmVlTQJqZmZmZWVNAmpmZmZlZU0CamZmZmVlTQJqZmZmZWVNAmpmZmZlZU0CamZmZmVlTQJqZmZmZWVNAmpmZmZlZU0CamZmZmVlTQJqZmZmZWVFAmpmZmZlZUUCamZmZmVlRQJqZmZmZWVFAmpmZmZlZUUCamZmZmVlRQJqZmZmZWVFAmpmZmZlZUUCamZmZmVlRQJqZmZmZWVFAmpmZmZlZUUCamZmZmVlRQJqZmZmZWVFAmpmZmZlZUUCamZmZmdlQQJqZmZmZ2VFAmpmZmZmZUkCamZmZmdlQQJqZmZmZ2VFAmpmZmZmZUkCamZmZmZlSQJqZmZmZmVJAmpmZmZnZUECamZmZmdlRQJqZmZmZmVJAmpmZmZmZUkCamZmZmZlSQJqZmZmZ2VBAmpmZmZnZUUCamZmZmZlSQJqZmZmZmVJAmpmZmZmZUkA=\",\"dtype\":\"float64\",\"order\":\"little\",\"shape\":[277]},\"velocity\":[81,65,65,81,97,97,97,97,113,113,113,97,81,97,97,81,97,113,97,97,113,113,113,97,81,97,65,65,65,97,65,65,65,113,65,65,65,97,65,65,65,65,65,65,65,65,65,65,65,65,65,81,97,81,81,97,81,81,97,81,81,65,65,65,65,65,65,65,65,65,65,65,65,65,65,65,65,65,65,65,65,65,65,65,65,65,65,65,65,65,65,65,65,65,65,65,65,65,65,65,65,65,65,65,65,65,65,81,65,65,65,81,65,65,65,81,65,65,65,65,65,65,65,65,113,65,65,65,65,65,65,65,65,65,113,65,65,65,65,65,65,113,65,65,65,65,65,97,65,65,65,97,65,65,65,97,65,65,65,81,97,65,81,65,97,81,65,81,97,65,81,65,65,97,65,65,65,65,97,65,65,65,65,97,65,65,65,65,65,65,65,65,65,65,65,65,65,65,65,65,65,65,65,65,65,65,65,65,65,65,65,65,65,65,65,65,65,65,65,65,65,65,65,65,65,65,65,65,65,65,65,65,65,65,65,65,65,65,65,65,65,65,65,65,65,81,81,81,81,81,81,81,81,81,81,81,81,81,81,81,81,81,81,81,81,81,81,81,81,81,81,81,81,81,81,81,81]},\"selected\":{\"id\":\"2091\"},\"selection_policy\":{\"id\":\"2090\"}},\"id\":\"1918\",\"type\":\"ColumnDataSource\"},{\"attributes\":{\"bottom\":{\"field\":\"bottom\"},\"fill_alpha\":{\"field\":\"fill_alpha\"},\"fill_color\":{\"value\":\"#f46d43\"},\"left\":{\"field\":\"start_time\"},\"right\":{\"field\":\"end_time\"},\"top\":{\"field\":\"top\"}},\"id\":\"2018\",\"type\":\"Quad\"},{\"attributes\":{},\"id\":\"2071\",\"type\":\"AllLabels\"},{\"attributes\":{\"bottom\":{\"field\":\"bottom\"},\"fill_alpha\":{\"value\":0.1},\"fill_color\":{\"value\":\"#fdae61\"},\"hatch_alpha\":{\"value\":0.1},\"left\":{\"field\":\"start_time\"},\"line_alpha\":{\"value\":0.1},\"right\":{\"field\":\"end_time\"},\"top\":{\"field\":\"top\"}},\"id\":\"1935\",\"type\":\"Quad\"},{\"attributes\":{\"bottom\":{\"field\":\"bottom\"},\"fill_alpha\":{\"value\":0.2},\"fill_color\":{\"value\":\"#3288bd\"},\"hatch_alpha\":{\"value\":0.2},\"left\":{\"field\":\"start_time\"},\"line_alpha\":{\"value\":0.2},\"right\":{\"field\":\"end_time\"},\"top\":{\"field\":\"top\"}},\"id\":\"1964\",\"type\":\"Quad\"},{\"attributes\":{\"bottom\":{\"field\":\"bottom\"},\"fill_alpha\":{\"value\":0.2},\"fill_color\":{\"value\":\"#abdda4\"},\"hatch_alpha\":{\"value\":0.2},\"left\":{\"field\":\"start_time\"},\"line_alpha\":{\"value\":0.2},\"right\":{\"field\":\"end_time\"},\"top\":{\"field\":\"top\"}},\"id\":\"1992\",\"type\":\"Quad\"},{\"attributes\":{\"bottom\":{\"field\":\"bottom\"},\"fill_alpha\":{\"value\":0.2},\"fill_color\":{\"value\":\"#f46d43\"},\"hatch_alpha\":{\"value\":0.2},\"left\":{\"field\":\"start_time\"},\"line_alpha\":{\"value\":0.2},\"right\":{\"field\":\"end_time\"},\"top\":{\"field\":\"top\"}},\"id\":\"2020\",\"type\":\"Quad\"},{\"attributes\":{\"bottom\":{\"field\":\"bottom\"},\"fill_alpha\":{\"value\":0.1},\"fill_color\":{\"value\":\"#fdae61\"},\"hatch_alpha\":{\"value\":0.1},\"left\":{\"field\":\"start_time\"},\"line_alpha\":{\"value\":0.1},\"right\":{\"field\":\"end_time\"},\"top\":{\"field\":\"top\"}},\"id\":\"1984\",\"type\":\"Quad\"},{\"attributes\":{\"bottom\":{\"field\":\"bottom\"},\"fill_alpha\":{\"value\":0.1},\"fill_color\":{\"value\":\"#66c2a5\"},\"hatch_alpha\":{\"value\":0.1},\"left\":{\"field\":\"start_time\"},\"line_alpha\":{\"value\":0.1},\"right\":{\"field\":\"end_time\"},\"top\":{\"field\":\"top\"}},\"id\":\"2026\",\"type\":\"Quad\"},{\"attributes\":{\"bottom\":{\"field\":\"bottom\"},\"fill_alpha\":{\"value\":0.2},\"fill_color\":{\"value\":\"#abdda4\"},\"hatch_alpha\":{\"value\":0.2},\"left\":{\"field\":\"start_time\"},\"line_alpha\":{\"value\":0.2},\"right\":{\"field\":\"end_time\"},\"top\":{\"field\":\"top\"}},\"id\":\"2041\",\"type\":\"Quad\"},{\"attributes\":{},\"id\":\"2070\",\"type\":\"BasicTickFormatter\"},{\"attributes\":{\"coordinates\":null,\"data_source\":{\"id\":\"2009\"},\"glyph\":{\"id\":\"2011\"},\"group\":null,\"hover_glyph\":null,\"muted_glyph\":{\"id\":\"2013\"},\"nonselection_glyph\":{\"id\":\"2012\"},\"view\":{\"id\":\"2015\"}},\"id\":\"2014\",\"type\":\"GlyphRenderer\"},{\"attributes\":{\"data\":{\"bottom\":{\"__ndarray__\":\"zczMzMzMTkBmZmZmZiZQQGZmZmZmJlFAzczMzMzMTkBmZmZmZiZQQGZmZmZmJlFAzczMzMxMSkDNzMzMzExMQM3MzMzMzE1AZmZmZmYmUEDNzMzMzExGQM3MzMzMzElAzczMzMxMTEDNzMzMzMxNQM3MzMzMTEZAzczMzMzMSUDNzMzMzExMQM3MzMzMzE1AzczMzMzMSEDNzMzMzExLQM3MzMzMTE1AzczMzMzMTkDNzMzMzMxIQM3MzMzMTEtAzczMzMxMTUDNzMzMzMxOQM3MzMzMTEpAzczMzMxMTEDNzMzMzMxNQM3MzMzMzE5AzczMzMxMSkDNzMzMzExMQM3MzMzMzE1AzczMzMxMSkDNzMzMzExMQM3MzMzMzE1AzczMzMxMSkDNzMzMzExMQM3MzMzMzE1AzczMzMxMSkDNzMzMzExMQM3MzMzMzE1A\",\"dtype\":\"float64\",\"order\":\"little\",\"shape\":[42]},\"duration\":{\"__ndarray__\":\"AAAAAAAA8D8AAAAAAADwPwAAAAAAAPA/AAAAAAAA8D8AAAAAAADwPwAAAAAAAPA/qKqqqqqq/z+oqqqqqqr/P6iqqqqqqv8/WFVVVVVV/z8AAAAAAADwP1BVVVVVVe8/UFVVVVVV7z9QVVVVVVXvP1BVVVVVVe8/UFVVVVVV7z9QVVVVVVXvP1BVVVVVVe8/UFVVVVVV7z9QVVVVVVXvP1BVVVVVVe8/UFVVVVVV7z9QVVVVVVXvP1BVVVVVVe8/UFVVVVVV7z9QVVVVVVXvP7Cqqqqqqv8/sKqqqqqq/z+wqqqqqqr/P1BVVVVVVf8/AAAAAAAA4D8AAAAAAADgPwAAAAAAAOA/AAAAAAAA4D8AAAAAAADgPwAAAAAAAOA/AAAAAAAA4D8AAAAAAADgPwAAAAAAAOA/AAAAAAAA4D8AAAAAAADgPwAAAAAAAOA/\",\"dtype\":\"float64\",\"order\":\"little\",\"shape\":[42]},\"end_time\":{\"__ndarray__\":\"AAAAAAAA8D8AAAAAAADwPwAAAAAAAPA/AAAAAAAAAEAAAAAAAAAAQAAAAAAAAABAAAAAAAAAKEAAAAAAAAAoQAAAAAAAAChAAAAAAAAAKEAAAAAAAAAqQAAAAAAAACpAAAAAAAAAKkAAAAAAAAAqQAAAAAAAACxAAAAAAAAALEAAAAAAAAAsQAAAAAAAACxAAAAAAAAALkAAAAAAAAAuQAAAAAAAAC5AAAAAAAAALkAAAAAAAAAwQAAAAAAAADBAAAAAAAAAMEAAAAAAAAAwQAAAAAAAADJAAAAAAAAAMkAAAAAAAAAyQAAAAAAAADJAAAAAAACAMkAAAAAAAIAyQAAAAAAAgDJAAAAAAAAAM0AAAAAAAAAzQAAAAAAAADNAAAAAAACAM0AAAAAAAIAzQAAAAAAAgDNAAAAAAAAANEAAAAAAAAA0QAAAAAAAADRA\",\"dtype\":\"float64\",\"order\":\"little\",\"shape\":[42]},\"fill_alpha\":{\"__ndarray__\":\"AAAAAABA4D8AAAAAAEDgPwAAAAAAQOA/AAAAAABA4D8AAAAAAEDgPwAAAAAAQOA/AAAAAACA2D8AAAAAAIDYPwAAAAAAgNg/AAAAAABA4D8AAAAAAIDYPwAAAAAAgNg/AAAAAACA2D8AAAAAAIDYPwAAAAAAQOA/AAAAAABA4D8AAAAAAEDgPwAAAAAAQOA/AAAAAACA2D8AAAAAAIDYPwAAAAAAgNg/AAAAAACA2D8AAAAAAEDgPwAAAAAAQOA/AAAAAABA4D8AAAAAAEDgPwAAAAAAgNg/AAAAAACA2D8AAAAAAIDYPwAAAAAAgNg/AAAAAACA2D8AAAAAAIDYPwAAAAAAgNg/AAAAAABA4D8AAAAAAEDgPwAAAAAAQOA/AAAAAABA4D8AAAAAAEDgPwAAAAAAQOA/AAAAAABA4D8AAAAAAEDgPwAAAAAAQOA/\",\"dtype\":\"float64\",\"order\":\"little\",\"shape\":[42]},\"index\":[1,2,3,19,20,21,162,163,164,167,188,190,191,192,207,208,209,210,221,222,223,224,237,238,239,240,249,250,251,253,273,274,275,282,283,284,293,294,295,303,304,305],\"instrument\":[2,2,2,2,2,2,2,2,2,2,2,2,2,2,2,2,2,2,2,2,2,2,2,2,2,2,2,2,2,2,2,2,2,2,2,2,2,2,2,2,2,2],\"pitch\":[62,65,69,62,65,69,53,57,60,65,45,52,57,60,45,52,57,60,50,55,59,62,50,55,59,62,53,57,60,62,53,57,60,53,57,60,53,57,60,53,57,60],\"program\":[48,48,48,48,48,48,48,48,48,48,48,48,48,48,48,48,48,48,48,48,48,48,48,48,48,48,48,48,48,48,48,48,48,48,48,48,48,48,48,48,48,48],\"start_time\":{\"__ndarray__\":\"AAAAAAAAAAAAAAAAAAAAAAAAAAAAAAAAAAAAAAAA8D8AAAAAAADwPwAAAAAAAPA/q6qqqqoKJECrqqqqqgokQKuqqqqqCiRAVVVVVVUVJEAAAAAAAAAoQKuqqqqqCihAq6qqqqoKKECrqqqqqgooQKuqqqqqCipAq6qqqqoKKkCrqqqqqgoqQKuqqqqqCipAq6qqqqoKLECrqqqqqgosQKuqqqqqCixAq6qqqqoKLECrqqqqqgouQKuqqqqqCi5Aq6qqqqoKLkCrqqqqqgouQFVVVVVVBTBAVVVVVVUFMEBVVVVVVQUwQKuqqqqqCjBAAAAAAAAAMkAAAAAAAAAyQAAAAAAAADJAAAAAAACAMkAAAAAAAIAyQAAAAAAAgDJAAAAAAAAAM0AAAAAAAAAzQAAAAAAAADNAAAAAAACAM0AAAAAAAIAzQAAAAAAAgDNA\",\"dtype\":\"float64\",\"order\":\"little\",\"shape\":[42]},\"top\":{\"__ndarray__\":\"MzMzMzMzT0CamZmZmVlQQJqZmZmZWVFAMzMzMzMzT0CamZmZmVlQQJqZmZmZWVFAMzMzMzOzSkAzMzMzM7NMQDMzMzMzM05AmpmZmZlZUEAzMzMzM7NGQDMzMzMzM0pAMzMzMzOzTEAzMzMzMzNOQDMzMzMzs0ZAMzMzMzMzSkAzMzMzM7NMQDMzMzMzM05AMzMzMzMzSUAzMzMzM7NLQDMzMzMzs01AMzMzMzMzT0AzMzMzMzNJQDMzMzMzs0tAMzMzMzOzTUAzMzMzMzNPQDMzMzMzs0pAMzMzMzOzTEAzMzMzMzNOQDMzMzMzM09AMzMzMzOzSkAzMzMzM7NMQDMzMzMzM05AMzMzMzOzSkAzMzMzM7NMQDMzMzMzM05AMzMzMzOzSkAzMzMzM7NMQDMzMzMzM05AMzMzMzOzSkAzMzMzM7NMQDMzMzMzM05A\",\"dtype\":\"float64\",\"order\":\"little\",\"shape\":[42]},\"velocity\":[65,65,65,65,65,65,49,49,49,65,49,49,49,49,65,65,65,65,49,49,49,49,65,65,65,65,49,49,49,49,49,49,49,65,65,65,65,65,65,65,65,65]},\"selected\":{\"id\":\"2075\"},\"selection_policy\":{\"id\":\"2074\"}},\"id\":\"1862\",\"type\":\"ColumnDataSource\"},{\"attributes\":{\"source\":{\"id\":\"1932\"}},\"id\":\"1938\",\"type\":\"CDSView\"},{\"attributes\":{\"bottom\":{\"field\":\"bottom\"},\"fill_alpha\":{\"value\":0.1},\"fill_color\":{\"value\":\"#3288bd\"},\"hatch_alpha\":{\"value\":0.1},\"left\":{\"field\":\"start_time\"},\"line_alpha\":{\"value\":0.1},\"right\":{\"field\":\"end_time\"},\"top\":{\"field\":\"top\"}},\"id\":\"2061\",\"type\":\"Quad\"},{\"attributes\":{\"coordinates\":null,\"data_source\":{\"id\":\"1897\"},\"glyph\":{\"id\":\"1899\"},\"group\":null,\"hover_glyph\":null,\"muted_glyph\":{\"id\":\"1901\"},\"nonselection_glyph\":{\"id\":\"1900\"},\"view\":{\"id\":\"1903\"}},\"id\":\"1902\",\"type\":\"GlyphRenderer\"},{\"attributes\":{\"coordinates\":null,\"data_source\":{\"id\":\"1911\"},\"glyph\":{\"id\":\"1913\"},\"group\":null,\"hover_glyph\":null,\"muted_glyph\":{\"id\":\"1915\"},\"nonselection_glyph\":{\"id\":\"1914\"},\"view\":{\"id\":\"1917\"}},\"id\":\"1916\",\"type\":\"GlyphRenderer\"},{\"attributes\":{\"source\":{\"id\":\"1855\"}},\"id\":\"1861\",\"type\":\"CDSView\"},{\"attributes\":{\"coordinates\":null,\"data_source\":{\"id\":\"2051\"},\"glyph\":{\"id\":\"2053\"},\"group\":null,\"hover_glyph\":null,\"muted_glyph\":{\"id\":\"2055\"},\"nonselection_glyph\":{\"id\":\"2054\"},\"view\":{\"id\":\"2057\"}},\"id\":\"2056\",\"type\":\"GlyphRenderer\"},{\"attributes\":{\"coordinates\":null,\"data_source\":{\"id\":\"2058\"},\"glyph\":{\"id\":\"2060\"},\"group\":null,\"hover_glyph\":null,\"muted_glyph\":{\"id\":\"2062\"},\"nonselection_glyph\":{\"id\":\"2061\"},\"view\":{\"id\":\"2064\"}},\"id\":\"2063\",\"type\":\"GlyphRenderer\"},{\"attributes\":{\"data\":{\"bottom\":{\"__ndarray__\":\"zczMzMxMTEDNzMzMzExLQM3MzMzMTEpAzczMzMxMS0DNzMzMzExLQM3MzMzMTE1AzczMzMxMS0DNzMzMzExNQA==\",\"dtype\":\"float64\",\"order\":\"little\",\"shape\":[8]},\"duration\":{\"__ndarray__\":\"AAAAAAAA8D8AAAAAAADwPwAAAAAAAPA/AAAAAAAA8D/AqqqqqqruP8Cqqqqqqu4/AAAAAAAA8D8AAAAAAADwPw==\",\"dtype\":\"float64\",\"order\":\"little\",\"shape\":[8]},\"end_time\":{\"__ndarray__\":\"AAAAAAAAFEAAAAAAAAAYQAAAAAAAgEVAAAAAAAAARkCrqqqqqnpHQKuqqqqqekdAAAAAAAAASEAAAAAAAABIQA==\",\"dtype\":\"float64\",\"order\":\"little\",\"shape\":[8]},\"fill_alpha\":{\"__ndarray__\":\"AAAAAABA5D8AAAAAAEDkPwAAAAAAQOg/AAAAAABA6D8AAAAAAEDoPwAAAAAAQOg/AAAAAABA6D8AAAAAAEDoPw==\",\"dtype\":\"float64\",\"order\":\"little\",\"shape\":[8]},\"index\":[73,92,673,704,779,780,798,799],\"instrument\":[8,8,8,8,8,8,8,8],\"pitch\":[57,55,53,55,55,59,55,59],\"program\":[52,52,52,52,52,52,52,52],\"start_time\":{\"__ndarray__\":\"AAAAAAAAEEAAAAAAAAAUQAAAAAAAAEVAAAAAAACARUAAAAAAAABHQAAAAAAAAEdAAAAAAACAR0AAAAAAAIBHQA==\",\"dtype\":\"float64\",\"order\":\"little\",\"shape\":[8]},\"top\":{\"__ndarray__\":\"MzMzMzOzTEAzMzMzM7NLQDMzMzMzs0pAMzMzMzOzS0AzMzMzM7NLQDMzMzMzs01AMzMzMzOzS0AzMzMzM7NNQA==\",\"dtype\":\"float64\",\"order\":\"little\",\"shape\":[8]},\"velocity\":[81,81,97,97,97,97,97,97]},\"selected\":{\"id\":\"2087\"},\"selection_policy\":{\"id\":\"2086\"}},\"id\":\"1904\",\"type\":\"ColumnDataSource\"},{\"attributes\":{\"bottom\":{\"field\":\"bottom\"},\"fill_alpha\":{\"value\":0.2},\"fill_color\":{\"value\":\"#fdae61\"},\"hatch_alpha\":{\"value\":0.2},\"left\":{\"field\":\"start_time\"},\"line_alpha\":{\"value\":0.2},\"right\":{\"field\":\"end_time\"},\"top\":{\"field\":\"top\"}},\"id\":\"1936\",\"type\":\"Quad\"},{\"attributes\":{\"bottom\":{\"field\":\"bottom\"},\"fill_alpha\":{\"value\":0.2},\"fill_color\":{\"value\":\"#e6f598\"},\"hatch_alpha\":{\"value\":0.2},\"left\":{\"field\":\"start_time\"},\"line_alpha\":{\"value\":0.2},\"right\":{\"field\":\"end_time\"},\"top\":{\"field\":\"top\"}},\"id\":\"1950\",\"type\":\"Quad\"},{\"attributes\":{\"source\":{\"id\":\"1960\"}},\"id\":\"1966\",\"type\":\"CDSView\"},{\"attributes\":{\"source\":{\"id\":\"2016\"}},\"id\":\"2022\",\"type\":\"CDSView\"},{\"attributes\":{\"bottom_units\":\"screen\",\"coordinates\":null,\"fill_alpha\":0.5,\"fill_color\":\"lightgrey\",\"group\":null,\"left_units\":\"screen\",\"level\":\"overlay\",\"line_alpha\":1.0,\"line_color\":\"black\",\"line_dash\":[4,4],\"line_width\":2,\"right_units\":\"screen\",\"syncable\":false,\"top_units\":\"screen\"},\"id\":\"1845\",\"type\":\"BoxAnnotation\"},{\"attributes\":{\"coordinates\":null,\"data_source\":{\"id\":\"2030\"},\"glyph\":{\"id\":\"2032\"},\"group\":null,\"hover_glyph\":null,\"muted_glyph\":{\"id\":\"2034\"},\"nonselection_glyph\":{\"id\":\"2033\"},\"view\":{\"id\":\"2036\"}},\"id\":\"2035\",\"type\":\"GlyphRenderer\"},{\"attributes\":{\"bottom\":{\"field\":\"bottom\"},\"fill_alpha\":{\"value\":0.1},\"fill_color\":{\"value\":\"#abdda4\"},\"hatch_alpha\":{\"value\":0.1},\"left\":{\"field\":\"start_time\"},\"line_alpha\":{\"value\":0.1},\"right\":{\"field\":\"end_time\"},\"top\":{\"field\":\"top\"}},\"id\":\"1942\",\"type\":\"Quad\"},{\"attributes\":{\"bottom\":{\"field\":\"bottom\"},\"fill_alpha\":{\"field\":\"fill_alpha\"},\"fill_color\":{\"value\":\"#e6f598\"},\"left\":{\"field\":\"start_time\"},\"right\":{\"field\":\"end_time\"},\"top\":{\"field\":\"top\"}},\"id\":\"1997\",\"type\":\"Quad\"},{\"attributes\":{\"bottom\":{\"field\":\"bottom\"},\"fill_alpha\":{\"field\":\"fill_alpha\"},\"fill_color\":{\"value\":\"#d53e4f\"},\"left\":{\"field\":\"start_time\"},\"right\":{\"field\":\"end_time\"},\"top\":{\"field\":\"top\"}},\"id\":\"2004\",\"type\":\"Quad\"},{\"attributes\":{\"bottom\":{\"field\":\"bottom\"},\"fill_alpha\":{\"field\":\"fill_alpha\"},\"fill_color\":{\"value\":\"#66c2a5\"},\"left\":{\"field\":\"start_time\"},\"right\":{\"field\":\"end_time\"},\"top\":{\"field\":\"top\"}},\"id\":\"1927\",\"type\":\"Quad\"},{\"attributes\":{\"source\":{\"id\":\"1939\"}},\"id\":\"1945\",\"type\":\"CDSView\"},{\"attributes\":{\"source\":{\"id\":\"1995\"}},\"id\":\"2001\",\"type\":\"CDSView\"},{\"attributes\":{\"source\":{\"id\":\"2044\"}},\"id\":\"2050\",\"type\":\"CDSView\"},{\"attributes\":{\"bottom\":{\"field\":\"bottom\"},\"fill_alpha\":{\"field\":\"fill_alpha\"},\"fill_color\":{\"value\":\"#abdda4\"},\"left\":{\"field\":\"start_time\"},\"right\":{\"field\":\"end_time\"},\"top\":{\"field\":\"top\"}},\"id\":\"1941\",\"type\":\"Quad\"},{\"attributes\":{\"bottom\":{\"field\":\"bottom\"},\"fill_alpha\":{\"field\":\"fill_alpha\"},\"fill_color\":{\"value\":\"#e6f598\"},\"left\":{\"field\":\"start_time\"},\"right\":{\"field\":\"end_time\"},\"top\":{\"field\":\"top\"}},\"id\":\"2046\",\"type\":\"Quad\"},{\"attributes\":{\"bottom\":{\"field\":\"bottom\"},\"fill_alpha\":{\"value\":0.1},\"fill_color\":{\"value\":\"#3288bd\"},\"hatch_alpha\":{\"value\":0.1},\"left\":{\"field\":\"start_time\"},\"line_alpha\":{\"value\":0.1},\"right\":{\"field\":\"end_time\"},\"top\":{\"field\":\"top\"}},\"id\":\"1963\",\"type\":\"Quad\"}],\"root_ids\":[\"1823\"]},\"title\":\"Bokeh Application\",\"version\":\"2.4.3\"}};\n  const render_items = [{\"docid\":\"c8b9df23-653d-45ba-ac82-a9c5cb5fb28b\",\"root_ids\":[\"1823\"],\"roots\":{\"1823\":\"5beec03f-006b-4d6e-88b6-c4ac91c6d767\"}}];\n  root.Bokeh.embed.embed_items_notebook(docs_json, render_items);\n  }\n  if (root.Bokeh !== undefined) {\n    embed_document(root);\n  } else {\n    let attempts = 0;\n    const timer = setInterval(function(root) {\n      if (root.Bokeh !== undefined) {\n        clearInterval(timer);\n        embed_document(root);\n      } else {\n        attempts++;\n        if (attempts > 100) {\n          clearInterval(timer);\n          console.log(\"Bokeh: ERROR: Unable to run BokehJS code because BokehJS library is missing\");\n        }\n      }\n    }, 10, root)\n  }\n})(window);",
            "application/vnd.bokehjs_exec.v0+json": ""
          },
          "metadata": {
            "application/vnd.bokehjs_exec.v0+json": {
              "id": "1823"
            }
          },
          "output_type": "display_data"
        }
      ],
      "source": [
        "#@title Style Interpolation, Repeating Chord Progression\n",
        "\n",
        "chord_1 = 'Dm' #@param {type:\"string\"}\n",
        "chord_2 = 'F' #@param {type:\"string\"}\n",
        "chord_3 = 'Am' #@param {type:\"string\"}\n",
        "chord_4 = 'G' #@param {type:\"string\"}\n",
        "chords = [chord_1, chord_2, chord_3, chord_4]\n",
        "\n",
        "num_bars = 32 #@param {type:\"slider\", min:4, max:64, step:4}\n",
        "temperature = 0.2 #@param {type:\"slider\", min:0.01, max:1.5, step:0.01}\n",
        "\n",
        "z1 = np.random.normal(size=[Z_SIZE])\n",
        "z2 = np.random.normal(size=[Z_SIZE])\n",
        "z = np.array([slerp(z1, z2, t)\n",
        "              for t in np.linspace(0, 1, num_bars)])\n",
        "\n",
        "seqs = [\n",
        "    model.decode(length=TOTAL_STEPS, z=z[i:i+1, :], temperature=temperature,\n",
        "                 c_input=chord_encoding(chords[i % 4]))[0]\n",
        "    for i in range(num_bars)\n",
        "]\n",
        "\n",
        "trim_sequences(seqs)\n",
        "fix_instruments_for_concatenation(seqs)\n",
        "prog_interp_ns = concatenate_sequences(seqs)\n",
        "\n",
        "#play(prog_interp_ns)\n",
        "mm.plot_sequence(prog_interp_ns)\n"
      ]
    },
    {
      "cell_type": "code",
      "execution_count": null,
      "metadata": {
        "id": "AsPJX7Lzfek5"
      },
      "outputs": [],
      "source": [
        "#@title (Optional) Save to MIDI\n",
        "download(prog_interp_ns, 'interp_' + '_'.join(chords) + '.mid')"
      ]
    },
    {
      "attachments": {},
      "cell_type": "markdown",
      "metadata": {
        "id": "loV8bwJ8fOR_"
      },
      "source": [
        "# Unconditioned Model"
      ]
    },
    {
      "cell_type": "code",
      "execution_count": null,
      "metadata": {
        "id": "Cao1ezEDfRQG"
      },
      "outputs": [],
      "source": [
        "#@title Load Checkpoint\n",
        "\n",
        "config = configs.CONFIG_MAP['hier-multiperf_vel_1bar_med']\n",
        "model = TrainedModel(\n",
        "    config, batch_size=BATCH_SIZE,\n",
        "    checkpoint_dir_or_path='/content/model_fb256.ckpt')\n",
        "model._config.data_converter._max_tensors_per_input = None"
      ]
    },
    {
      "cell_type": "code",
      "execution_count": null,
      "metadata": {
        "id": "WnAZsIYsfXWV"
      },
      "outputs": [],
      "source": [
        "#@title Random Samples\n",
        "\n",
        "temperature = 0.2 #@param {type:\"slider\", min:0.01, max:1.5, step:0.01}\n",
        "seqs = model.sample(n=BATCH_SIZE, length=TOTAL_STEPS, temperature=temperature)\n",
        "\n",
        "trim_sequences(seqs)\n",
        "play(seqs)\n"
      ]
    },
    {
      "cell_type": "code",
      "execution_count": null,
      "metadata": {
        "id": "glPwRID0fsC-"
      },
      "outputs": [],
      "source": [
        "#@title Interpolation Between Random Samples\n",
        "\n",
        "num_bars = 32 #@param {type:\"slider\", min:4, max:64, step:1}\n",
        "temperature = 0.2 #@param {type:\"slider\", min:0.01, max:1.5, step:0.01}\n",
        "\n",
        "z1 = np.random.normal(size=[Z_SIZE])\n",
        "z2 = np.random.normal(size=[Z_SIZE])\n",
        "z = np.array([slerp(z1, z2, t)\n",
        "              for t in np.linspace(0, 1, num_bars)])\n",
        "\n",
        "seqs = model.decode(length=TOTAL_STEPS, z=z, temperature=temperature)\n",
        "\n",
        "trim_sequences(seqs)\n",
        "fix_instruments_for_concatenation(seqs)\n",
        "interp_ns = concatenate_sequences(seqs)\n",
        "\n",
        "play(interp_ns)\n",
        "mm.plot_sequence(interp_ns)\n"
      ]
    },
    {
      "cell_type": "code",
      "execution_count": null,
      "metadata": {
        "id": "yyPUVh2cyZF2"
      },
      "outputs": [],
      "source": [
        "#@title (Optional) Save to MIDI\n",
        "download(interp_ns, 'interp.mid')"
      ]
    },
    {
      "cell_type": "code",
      "execution_count": null,
      "metadata": {
        "id": "TAs8Stysy640"
      },
      "outputs": [],
      "source": [
        "#@title Upload MIDI Files to Reconstruct\n",
        "midi_files = files.upload().values()\n",
        "seqs = [mm.midi_to_sequence_proto(midi) for midi in midi_files]\n",
        "\n",
        "uploaded_seqs = []\n",
        "for seq in seqs:\n",
        "  _, tensors, _, _ = model._config.data_converter.to_tensors(seq)\n",
        "  uploaded_seqs.extend(model._config.data_converter.from_tensors(tensors))\n",
        "  \n",
        "trim_sequences(uploaded_seqs)\n",
        "\n",
        "print('Parsed %d measures' % len(uploaded_seqs))"
      ]
    },
    {
      "cell_type": "code",
      "execution_count": null,
      "metadata": {
        "id": "ka9VaIh31rsE"
      },
      "outputs": [],
      "source": [
        "#@title Encode and Decode\n",
        "\n",
        "index = 0 #@param {type:\"integer\"}\n",
        "temperature = 0.2 #@param {type:\"slider\", min:0.01, max:1.5, step:0.01}\n",
        "\n",
        "z, _, _ = model.encode([uploaded_seqs[index]])\n",
        "reconstructed_seq = model.decode(z, length=TOTAL_STEPS,\n",
        "                                 temperature=temperature)[0]\n",
        "\n",
        "trim_sequences([reconstructed_seq])\n",
        "\n",
        "print('Original')\n",
        "play(uploaded_seqs[index])\n",
        "mm.plot_sequence(uploaded_seqs[index])\n",
        "\n",
        "print('Reconstructed')\n",
        "play(reconstructed_seq)\n",
        "mm.plot_sequence(reconstructed_seq)\n"
      ]
    },
    {
      "cell_type": "code",
      "execution_count": null,
      "metadata": {
        "id": "PvDLoDwPgeNV"
      },
      "outputs": [],
      "source": [
        "#@title Interpolation Between Encodings\n",
        "\n",
        "index_1 = 0 #@param {type:\"integer\"}\n",
        "index_2 = 1 #@param {type:\"integer\"}\n",
        "\n",
        "num_bars = 32 #@param {type:\"slider\", min:4, max:64, step:4}\n",
        "temperature = 0.2 #@param {type:\"slider\", min:0.01, max:1.5, step:0.01}\n",
        "\n",
        "z1, _, _ = model.encode([uploaded_seqs[index_1]])\n",
        "z2, _, _ = model.encode([uploaded_seqs[index_2]])\n",
        "z = np.array([slerp(np.squeeze(z1), np.squeeze(z2), t)\n",
        "              for t in np.linspace(0, 1, num_bars)])\n",
        "\n",
        "seqs = model.decode(length=TOTAL_STEPS, z=z, temperature=temperature)\n",
        "\n",
        "trim_sequences(seqs)\n",
        "fix_instruments_for_concatenation(seqs)\n",
        "recon_interp_ns = concatenate_sequences(seqs)\n",
        "\n",
        "play(recon_interp_ns)\n",
        "mm.plot_sequence(recon_interp_ns)\n"
      ]
    },
    {
      "cell_type": "code",
      "execution_count": null,
      "metadata": {
        "id": "G7eLLp3q5WCB"
      },
      "outputs": [],
      "source": [
        "#@title (Optional) Save to MIDI\n",
        "download(recon_interp_ns, 'recon_interp.mid')"
      ]
    }
  ],
  "metadata": {
    "accelerator": "GPU",
    "colab": {
      "name": "Multitrack MusicVAE.ipynb",
      "provenance": [],
      "toc_visible": true
    },
    "kernelspec": {
      "display_name": "project-venv",
      "language": "python",
      "name": "python3"
    },
    "language_info": {
      "codemirror_mode": {
        "name": "ipython",
        "version": 3
      },
      "file_extension": ".py",
      "mimetype": "text/x-python",
      "name": "python",
      "nbconvert_exporter": "python",
      "pygments_lexer": "ipython3",
      "version": "3.7.9"
    },
    "vscode": {
      "interpreter": {
        "hash": "464f5ef9209adec1b7bf0795f9eb15d0b8fd869ea9d83db0eac410ac948bdd96"
      }
    }
  },
  "nbformat": 4,
  "nbformat_minor": 0
}
