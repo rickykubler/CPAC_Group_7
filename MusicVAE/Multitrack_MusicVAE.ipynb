{
  "cells": [
    {
      "attachments": {},
      "cell_type": "markdown",
      "metadata": {
        "id": "QI5g-x4foZls"
      },
      "source": [
        "# Multitrack MusicVAE: Learning a Latent Space of Multitrack Measures\n",
        "### ___Ian Simon, Adam Roberts, Colin Raffel, Jesse Engel, Curtis Hawthorne, Douglas Eck___\n",
        "\n",
        "[MusicVAE](https://g.co/magenta/music-vae) learns a latent space of musical sequences.  Here we apply the MusicVAE framework to single measures of multi-instrument General MIDI, a symbolic music representation that uses a standard set of 128 instrument sounds.\n",
        "\n",
        "The models in this notebook are capable of encoding and decoding single measures of up to 8 tracks, optionally conditioned on an underlying chord.  Encoding transforms a single measure into a vector in a latent space, and decoding transforms a latent vector back into a measure.  Both encoding and decoding are performed hierarchically, with one level operating on tracks and another operating on the notes (and choice of instrument) in each track.\n",
        "\n",
        "See our [arXiv paper](https://arxiv.org/abs/1806.00195) for more details, along with our [blog post](http://g.co/magenta/multitrack) with links to JavaScript CodePens."
      ]
    },
    {
      "attachments": {},
      "cell_type": "markdown",
      "metadata": {
        "id": "rDMQbHPYVKmV"
      },
      "source": [
        "# Environment Setup"
      ]
    },
    {
      "cell_type": "code",
      "execution_count": 1,
      "metadata": {},
      "outputs": [
        {
          "name": "stderr",
          "output_type": "stream",
          "text": [
            "c:\\Users\\rikyd\\Documents\\GitHub\\CPAC_Group_7\\magenta-env\\lib\\site-packages\\tqdm\\auto.py:21: TqdmWarning: IProgress not found. Please update jupyter and ipywidgets. See https://ipywidgets.readthedocs.io/en/stable/user_install.html\n",
            "  from .autonotebook import tqdm as notebook_tqdm\n"
          ]
        },
        {
          "name": "stdout",
          "output_type": "stream",
          "text": [
            "WARNING:tensorflow:From c:\\Users\\rikyd\\Documents\\GitHub\\CPAC_Group_7\\magenta-env\\lib\\site-packages\\tensorflow\\python\\compat\\v2_compat.py:107: disable_resource_variables (from tensorflow.python.ops.variable_scope) is deprecated and will be removed in a future version.\n",
            "Instructions for updating:\n",
            "non-resource variables are not supported in the long term\n",
            "Done!\n"
          ]
        }
      ],
      "source": [
        "import numpy as np\n",
        "import os\n",
        "import tensorflow.compat.v1 as tf\n",
        "import magenta.music as mm\n",
        "from magenta.music.sequences_lib import concatenate_sequences\n",
        "from magenta.models.music_vae import configs\n",
        "from magenta.models.music_vae.trained_model import TrainedModel\n",
        "#from google.colab import files\n",
        "\n",
        "tf.disable_v2_behavior()\n",
        "print('Done!')"
      ]
    },
    {
      "attachments": {},
      "cell_type": "markdown",
      "metadata": {},
      "source": [
        "# ex list"
      ]
    },
    {
      "cell_type": "code",
      "execution_count": null,
      "metadata": {
        "colab": {
          "base_uri": "https://localhost:8080/"
        },
        "id": "tciXVi5eWG_1",
        "outputId": "54d49b1b-d44f-4c25-875c-e12602ff383a"
      },
      "outputs": [],
      "source": [
        "#@title Setup Environment\n",
        "\n",
        "print('Copying checkpoints and modified SGM SoundFont (https://sites.google.com/site/soundfonts4u) from GCS.')\n",
        "print('This will take a few minutes...')\n",
        "!gsutil -q -m cp gs://download.magenta.tensorflow.org/models/music_vae/multitrack/* /content/\n",
        "!gsutil -q -m cp gs://download.magenta.tensorflow.org/soundfonts/SGM-v2.01-Sal-Guit-Bass-V1.3.sf2 /content/\n",
        "\n",
        "print('Installing dependencies...')\n",
        "!apt-get update -qq && apt-get install -qq libfluidsynth1 build-essential libasound2-dev libjack-dev\n",
        "#!pip install -qU magenta pyfluidsynth pretty_midi\n",
        "\n",
        "print('Importing libraries...')\n",
        "\n",
        "import numpy as np\n",
        "import os\n",
        "import tensorflow.compat.v1 as tf\n",
        "\n",
        "#from google.colab import files\n",
        "\n",
        "import magenta.music as mm\n",
        "from magenta.music.sequences_lib import concatenate_sequences\n",
        "from magenta.models.music_vae import configs\n",
        "from magenta.models.music_vae.trained_model import TrainedModel\n",
        "\n",
        "tf.disable_v2_behavior()\n",
        "print('Done!')"
      ]
    },
    {
      "attachments": {},
      "cell_type": "markdown",
      "metadata": {},
      "source": [
        "# def functions"
      ]
    },
    {
      "cell_type": "code",
      "execution_count": 62,
      "metadata": {
        "id": "3URxzTQyXfdO"
      },
      "outputs": [],
      "source": [
        "#@title Definitions\n",
        "\n",
        "BATCH_SIZE = 4\n",
        "Z_SIZE = 512\n",
        "TOTAL_STEPS = 512*2\n",
        "BAR_SECONDS = 2.0*2\n",
        "CHORD_DEPTH = 49\n",
        "\n",
        "SAMPLE_RATE = 44100\n",
        "SF2_PATH = '/content/SGM-v2.01-Sal-Guit-Bass-V1.3.sf2'\n",
        "\n",
        "# Play sequence using SoundFont.\n",
        "def play(note_sequences):\n",
        "  if not isinstance(note_sequences, list):\n",
        "    note_sequences = [note_sequences]\n",
        "  for ns in note_sequences:\n",
        "    mm.play_sequence(ns, synth=mm.fluidsynth, sf2_path=SF2_PATH)\n",
        "  \n",
        "# Spherical linear interpolation.\n",
        "def slerp(p0, p1, t):\n",
        "  \"\"\"Spherical linear interpolation.\"\"\"\n",
        "  omega = np.arccos(np.dot(np.squeeze(p0/np.linalg.norm(p0)), np.squeeze(p1/np.linalg.norm(p1))))\n",
        "  so = np.sin(omega)\n",
        "  return np.sin((1.0-t)*omega) / so * p0 + np.sin(t*omega)/so * p1\n",
        "\n",
        "# Download sequence.\n",
        "def download(note_sequence, filename):\n",
        "  mm.sequence_proto_to_midi_file(note_sequence, filename)\n",
        "  files.download(filename)\n",
        "\n",
        "# Chord encoding tensor.\n",
        "def chord_encoding(chord):\n",
        "  index = mm.TriadChordOneHotEncoding().encode_event(chord)\n",
        "  c = np.zeros([TOTAL_STEPS, CHORD_DEPTH])\n",
        "  c[0,0] = 1.0\n",
        "  c[1:,index] = 1.0\n",
        "  return c\n",
        "\n",
        "# Trim sequences to exactly one bar.\n",
        "def trim_sequences(seqs, num_seconds=BAR_SECONDS):\n",
        "  for i in range(len(seqs)):\n",
        "    seqs[i] = mm.extract_subsequence(seqs[i], 0.0, num_seconds)\n",
        "    seqs[i].total_time = num_seconds\n",
        "\n",
        "# Consolidate instrument numbers by MIDI program.\n",
        "def fix_instruments_for_concatenation(note_sequences):\n",
        "  instruments = {}\n",
        "  for i in range(len(note_sequences)):\n",
        "    for note in note_sequences[i].notes:\n",
        "      if not note.is_drum:\n",
        "        if note.program not in instruments:\n",
        "          if len(instruments) >= 8:\n",
        "            instruments[note.program] = len(instruments) + 2\n",
        "          else:\n",
        "            instruments[note.program] = len(instruments) + 1\n",
        "        note.instrument = instruments[note.program]\n",
        "      else:\n",
        "        note.instrument = 9\n"
      ]
    },
    {
      "attachments": {},
      "cell_type": "markdown",
      "metadata": {
        "id": "pl3oY0w8gBJh"
      },
      "source": [
        "# Chord-Conditioned Model"
      ]
    },
    {
      "cell_type": "code",
      "execution_count": 59,
      "metadata": {
        "colab": {
          "base_uri": "https://localhost:8080/"
        },
        "id": "n8z2zwC9gF2i",
        "outputId": "f4b0b79b-1c55-4d58-954f-40bf85673f5d"
      },
      "outputs": [
        {
          "name": "stdout",
          "output_type": "stream",
          "text": [
            "INFO:tensorflow:Building MusicVAE model with HierarchicalLstmEncoder, HierarchicalLstmDecoder, and hparams:\n",
            "{'max_seq_len': 512, 'z_size': 512, 'free_bits': 0.0, 'max_beta': 1.0, 'beta_rate': 0.0, 'batch_size': 4, 'grad_clip': 1.0, 'clip_mode': 'global_norm', 'grad_norm_clip_to_zero': 10000, 'learning_rate': 0.001, 'decay_rate': 0.9999, 'min_learning_rate': 1e-05, 'conditional': True, 'dec_rnn_size': [512, 512, 512], 'enc_rnn_size': [1024], 'dropout_keep_prob': 1.0, 'sampling_schedule': 'constant', 'sampling_rate': 0.0, 'use_cudnn': False, 'residual_encoder': False, 'residual_decoder': False, 'control_preprocessing_rnn_size': [256]}\n",
            "INFO:tensorflow:\n",
            "Hierarchical Encoder:\n",
            "  input length: 512\n",
            "  level lengths: [64, 8]\n",
            "\n",
            "INFO:tensorflow:Level 0 splits: 8\n",
            "INFO:tensorflow:\n",
            "Encoder Cells (bidirectional):\n",
            "  units: [1024]\n",
            "\n",
            "WARNING:tensorflow:`tf.nn.rnn_cell.MultiRNNCell` is deprecated. This class is equivalent as `tf.keras.layers.StackedRNNCells`, and will be replaced by that in Tensorflow 2.0.\n",
            "WARNING:tensorflow:`tf.nn.rnn_cell.MultiRNNCell` is deprecated. This class is equivalent as `tf.keras.layers.StackedRNNCells`, and will be replaced by that in Tensorflow 2.0.\n",
            "INFO:tensorflow:Level 1 splits: 1\n",
            "INFO:tensorflow:\n",
            "Encoder Cells (bidirectional):\n",
            "  units: [1024]\n",
            "\n",
            "WARNING:tensorflow:`tf.nn.rnn_cell.MultiRNNCell` is deprecated. This class is equivalent as `tf.keras.layers.StackedRNNCells`, and will be replaced by that in Tensorflow 2.0.\n",
            "WARNING:tensorflow:`tf.nn.rnn_cell.MultiRNNCell` is deprecated. This class is equivalent as `tf.keras.layers.StackedRNNCells`, and will be replaced by that in Tensorflow 2.0.\n",
            "INFO:tensorflow:\n",
            "Hierarchical Decoder:\n",
            "  input length: 512\n",
            "  level output lengths: [8, 64]\n",
            "\n",
            "WARNING:tensorflow:`tf.nn.rnn_cell.MultiRNNCell` is deprecated. This class is equivalent as `tf.keras.layers.StackedRNNCells`, and will be replaced by that in Tensorflow 2.0.\n",
            "INFO:tensorflow:\n",
            "Decoder Cells:\n",
            "  units: [512, 512, 512]\n",
            "\n",
            "WARNING:tensorflow:`tf.nn.rnn_cell.MultiRNNCell` is deprecated. This class is equivalent as `tf.keras.layers.StackedRNNCells`, and will be replaced by that in Tensorflow 2.0.\n"
          ]
        },
        {
          "name": "stderr",
          "output_type": "stream",
          "text": [
            "c:\\Users\\rikyd\\Documents\\GitHub\\CPAC_Group_7\\magenta-env\\lib\\site-packages\\magenta\\models\\music_vae\\lstm_utils.py:99: UserWarning: `tf.layers.dense` is deprecated and will be removed in a future version. Please use `tf.keras.layers.Dense` instead.\n",
            "  name=name),\n",
            "c:\\Users\\rikyd\\Documents\\GitHub\\CPAC_Group_7\\magenta-env\\lib\\site-packages\\magenta\\contrib\\rnn.py:750: UserWarning: `layer.add_variable` is deprecated and will be removed in a future version. Please use the `layer.add_weight()` method instead.\n",
            "  self._names[\"W\"], [input_size + self._num_units, self._num_units * 4])\n",
            "c:\\Users\\rikyd\\Documents\\GitHub\\CPAC_Group_7\\magenta-env\\lib\\site-packages\\magenta\\contrib\\rnn.py:753: UserWarning: `layer.add_variable` is deprecated and will be removed in a future version. Please use the `layer.add_weight()` method instead.\n",
            "  initializer=tf.constant_initializer(0.0))\n"
          ]
        },
        {
          "name": "stdout",
          "output_type": "stream",
          "text": [
            "INFO:tensorflow:Restoring parameters from content/model_chords_fb64.ckpt\n"
          ]
        },
        {
          "name": "stderr",
          "output_type": "stream",
          "text": [
            "c:\\Users\\rikyd\\Documents\\GitHub\\CPAC_Group_7\\magenta-env\\lib\\site-packages\\magenta\\models\\music_vae\\base_model.py:199: UserWarning: `tf.layers.dense` is deprecated and will be removed in a future version. Please use `tf.keras.layers.Dense` instead.\n",
            "  kernel_initializer=tf.random_normal_initializer(stddev=0.001))\n",
            "c:\\Users\\rikyd\\Documents\\GitHub\\CPAC_Group_7\\magenta-env\\lib\\site-packages\\magenta\\models\\music_vae\\base_model.py:205: UserWarning: `tf.layers.dense` is deprecated and will be removed in a future version. Please use `tf.keras.layers.Dense` instead.\n",
            "  kernel_initializer=tf.random_normal_initializer(stddev=0.001))\n"
          ]
        }
      ],
      "source": [
        "#@title Load Checkpoint\n",
        "\n",
        "config = configs.CONFIG_MAP['hier-multiperf_vel_1bar_med_chords']\n",
        "model = TrainedModel(\n",
        "    config, \n",
        "    batch_size=BATCH_SIZE,\n",
        "    checkpoint_dir_or_path='content/model_chords_fb64.ckpt')"
      ]
    },
    {
      "cell_type": "code",
      "execution_count": 67,
      "metadata": {
        "colab": {
          "base_uri": "https://localhost:8080/",
          "height": 500
        },
        "id": "_1ybYgKSgIt-",
        "outputId": "850c2659-0446-468f-fc4f-5186484e6150"
      },
      "outputs": [],
      "source": [
        "#@title Same Chord, Random Styles\n",
        "\n",
        "chord = 'C' #@param {type:\"string\"}\n",
        "temperature = 0.2 #@param {type:\"slider\", min:0.01, max:1.5, step:0.01}\n",
        "seqs = model.sample(n=BATCH_SIZE, length=TOTAL_STEPS, temperature=temperature,\n",
        "                    c_input=chord_encoding(chord), same_z=True)\n",
        "\n"
      ]
    },
    {
      "cell_type": "code",
      "execution_count": 68,
      "metadata": {},
      "outputs": [
        {
          "data": {
            "text/html": [
              "<div class=\"bk-root\">\n",
              "        <a href=\"https://bokeh.org\" target=\"_blank\" class=\"bk-logo bk-logo-small bk-logo-notebook\"></a>\n",
              "        <span id=\"12576\">Loading BokehJS ...</span>\n",
              "    </div>\n"
            ]
          },
          "metadata": {},
          "output_type": "display_data"
        },
        {
          "data": {
            "application/javascript": "(function(root) {\n  function now() {\n    return new Date();\n  }\n\n  const force = true;\n\n  if (typeof root._bokeh_onload_callbacks === \"undefined\" || force === true) {\n    root._bokeh_onload_callbacks = [];\n    root._bokeh_is_loading = undefined;\n  }\n\nconst JS_MIME_TYPE = 'application/javascript';\n  const HTML_MIME_TYPE = 'text/html';\n  const EXEC_MIME_TYPE = 'application/vnd.bokehjs_exec.v0+json';\n  const CLASS_NAME = 'output_bokeh rendered_html';\n\n  /**\n   * Render data to the DOM node\n   */\n  function render(props, node) {\n    const script = document.createElement(\"script\");\n    node.appendChild(script);\n  }\n\n  /**\n   * Handle when an output is cleared or removed\n   */\n  function handleClearOutput(event, handle) {\n    const cell = handle.cell;\n\n    const id = cell.output_area._bokeh_element_id;\n    const server_id = cell.output_area._bokeh_server_id;\n    // Clean up Bokeh references\n    if (id != null && id in Bokeh.index) {\n      Bokeh.index[id].model.document.clear();\n      delete Bokeh.index[id];\n    }\n\n    if (server_id !== undefined) {\n      // Clean up Bokeh references\n      const cmd_clean = \"from bokeh.io.state import curstate; print(curstate().uuid_to_server['\" + server_id + \"'].get_sessions()[0].document.roots[0]._id)\";\n      cell.notebook.kernel.execute(cmd_clean, {\n        iopub: {\n          output: function(msg) {\n            const id = msg.content.text.trim();\n            if (id in Bokeh.index) {\n              Bokeh.index[id].model.document.clear();\n              delete Bokeh.index[id];\n            }\n          }\n        }\n      });\n      // Destroy server and session\n      const cmd_destroy = \"import bokeh.io.notebook as ion; ion.destroy_server('\" + server_id + \"')\";\n      cell.notebook.kernel.execute(cmd_destroy);\n    }\n  }\n\n  /**\n   * Handle when a new output is added\n   */\n  function handleAddOutput(event, handle) {\n    const output_area = handle.output_area;\n    const output = handle.output;\n\n    // limit handleAddOutput to display_data with EXEC_MIME_TYPE content only\n    if ((output.output_type != \"display_data\") || (!Object.prototype.hasOwnProperty.call(output.data, EXEC_MIME_TYPE))) {\n      return\n    }\n\n    const toinsert = output_area.element.find(\".\" + CLASS_NAME.split(' ')[0]);\n\n    if (output.metadata[EXEC_MIME_TYPE][\"id\"] !== undefined) {\n      toinsert[toinsert.length - 1].firstChild.textContent = output.data[JS_MIME_TYPE];\n      // store reference to embed id on output_area\n      output_area._bokeh_element_id = output.metadata[EXEC_MIME_TYPE][\"id\"];\n    }\n    if (output.metadata[EXEC_MIME_TYPE][\"server_id\"] !== undefined) {\n      const bk_div = document.createElement(\"div\");\n      bk_div.innerHTML = output.data[HTML_MIME_TYPE];\n      const script_attrs = bk_div.children[0].attributes;\n      for (let i = 0; i < script_attrs.length; i++) {\n        toinsert[toinsert.length - 1].firstChild.setAttribute(script_attrs[i].name, script_attrs[i].value);\n        toinsert[toinsert.length - 1].firstChild.textContent = bk_div.children[0].textContent\n      }\n      // store reference to server id on output_area\n      output_area._bokeh_server_id = output.metadata[EXEC_MIME_TYPE][\"server_id\"];\n    }\n  }\n\n  function register_renderer(events, OutputArea) {\n\n    function append_mime(data, metadata, element) {\n      // create a DOM node to render to\n      const toinsert = this.create_output_subarea(\n        metadata,\n        CLASS_NAME,\n        EXEC_MIME_TYPE\n      );\n      this.keyboard_manager.register_events(toinsert);\n      // Render to node\n      const props = {data: data, metadata: metadata[EXEC_MIME_TYPE]};\n      render(props, toinsert[toinsert.length - 1]);\n      element.append(toinsert);\n      return toinsert\n    }\n\n    /* Handle when an output is cleared or removed */\n    events.on('clear_output.CodeCell', handleClearOutput);\n    events.on('delete.Cell', handleClearOutput);\n\n    /* Handle when a new output is added */\n    events.on('output_added.OutputArea', handleAddOutput);\n\n    /**\n     * Register the mime type and append_mime function with output_area\n     */\n    OutputArea.prototype.register_mime_type(EXEC_MIME_TYPE, append_mime, {\n      /* Is output safe? */\n      safe: true,\n      /* Index of renderer in `output_area.display_order` */\n      index: 0\n    });\n  }\n\n  // register the mime type if in Jupyter Notebook environment and previously unregistered\n  if (root.Jupyter !== undefined) {\n    const events = require('base/js/events');\n    const OutputArea = require('notebook/js/outputarea').OutputArea;\n\n    if (OutputArea.prototype.mime_types().indexOf(EXEC_MIME_TYPE) == -1) {\n      register_renderer(events, OutputArea);\n    }\n  }\n  if (typeof (root._bokeh_timeout) === \"undefined\" || force === true) {\n    root._bokeh_timeout = Date.now() + 5000;\n    root._bokeh_failed_load = false;\n  }\n\n  const NB_LOAD_WARNING = {'data': {'text/html':\n     \"<div style='background-color: #fdd'>\\n\"+\n     \"<p>\\n\"+\n     \"BokehJS does not appear to have successfully loaded. If loading BokehJS from CDN, this \\n\"+\n     \"may be due to a slow or bad network connection. Possible fixes:\\n\"+\n     \"</p>\\n\"+\n     \"<ul>\\n\"+\n     \"<li>re-rerun `output_notebook()` to attempt to load from CDN again, or</li>\\n\"+\n     \"<li>use INLINE resources instead, as so:</li>\\n\"+\n     \"</ul>\\n\"+\n     \"<code>\\n\"+\n     \"from bokeh.resources import INLINE\\n\"+\n     \"output_notebook(resources=INLINE)\\n\"+\n     \"</code>\\n\"+\n     \"</div>\"}};\n\n  function display_loaded() {\n    const el = document.getElementById(\"12576\");\n    if (el != null) {\n      el.textContent = \"BokehJS is loading...\";\n    }\n    if (root.Bokeh !== undefined) {\n      if (el != null) {\n        el.textContent = \"BokehJS \" + root.Bokeh.version + \" successfully loaded.\";\n      }\n    } else if (Date.now() < root._bokeh_timeout) {\n      setTimeout(display_loaded, 100)\n    }\n  }\n\n  function run_callbacks() {\n    try {\n      root._bokeh_onload_callbacks.forEach(function(callback) {\n        if (callback != null)\n          callback();\n      });\n    } finally {\n      delete root._bokeh_onload_callbacks\n    }\n    console.debug(\"Bokeh: all callbacks have finished\");\n  }\n\n  function load_libs(css_urls, js_urls, callback) {\n    if (css_urls == null) css_urls = [];\n    if (js_urls == null) js_urls = [];\n\n    root._bokeh_onload_callbacks.push(callback);\n    if (root._bokeh_is_loading > 0) {\n      console.debug(\"Bokeh: BokehJS is being loaded, scheduling callback at\", now());\n      return null;\n    }\n    if (js_urls == null || js_urls.length === 0) {\n      run_callbacks();\n      return null;\n    }\n    console.debug(\"Bokeh: BokehJS not loaded, scheduling load and callback at\", now());\n    root._bokeh_is_loading = css_urls.length + js_urls.length;\n\n    function on_load() {\n      root._bokeh_is_loading--;\n      if (root._bokeh_is_loading === 0) {\n        console.debug(\"Bokeh: all BokehJS libraries/stylesheets loaded\");\n        run_callbacks()\n      }\n    }\n\n    function on_error(url) {\n      console.error(\"failed to load \" + url);\n    }\n\n    for (let i = 0; i < css_urls.length; i++) {\n      const url = css_urls[i];\n      const element = document.createElement(\"link\");\n      element.onload = on_load;\n      element.onerror = on_error.bind(null, url);\n      element.rel = \"stylesheet\";\n      element.type = \"text/css\";\n      element.href = url;\n      console.debug(\"Bokeh: injecting link tag for BokehJS stylesheet: \", url);\n      document.body.appendChild(element);\n    }\n\n    for (let i = 0; i < js_urls.length; i++) {\n      const url = js_urls[i];\n      const element = document.createElement('script');\n      element.onload = on_load;\n      element.onerror = on_error.bind(null, url);\n      element.async = false;\n      element.src = url;\n      console.debug(\"Bokeh: injecting script tag for BokehJS library: \", url);\n      document.head.appendChild(element);\n    }\n  };\n\n  function inject_raw_css(css) {\n    const element = document.createElement(\"style\");\n    element.appendChild(document.createTextNode(css));\n    document.body.appendChild(element);\n  }\n\n  const js_urls = [\"https://cdn.bokeh.org/bokeh/release/bokeh-2.4.3.min.js\", \"https://cdn.bokeh.org/bokeh/release/bokeh-gl-2.4.3.min.js\", \"https://cdn.bokeh.org/bokeh/release/bokeh-widgets-2.4.3.min.js\", \"https://cdn.bokeh.org/bokeh/release/bokeh-tables-2.4.3.min.js\", \"https://cdn.bokeh.org/bokeh/release/bokeh-mathjax-2.4.3.min.js\"];\n  const css_urls = [];\n\n  const inline_js = [    function(Bokeh) {\n      Bokeh.set_log_level(\"info\");\n    },\nfunction(Bokeh) {\n    }\n  ];\n\n  function run_inline_js() {\n    if (root.Bokeh !== undefined || force === true) {\n          for (let i = 0; i < inline_js.length; i++) {\n      inline_js[i].call(root, root.Bokeh);\n    }\nif (force === true) {\n        display_loaded();\n      }} else if (Date.now() < root._bokeh_timeout) {\n      setTimeout(run_inline_js, 100);\n    } else if (!root._bokeh_failed_load) {\n      console.log(\"Bokeh: BokehJS failed to load within specified timeout.\");\n      root._bokeh_failed_load = true;\n    } else if (force !== true) {\n      const cell = $(document.getElementById(\"12576\")).parents('.cell').data().cell;\n      cell.output_area.append_execute_result(NB_LOAD_WARNING)\n    }\n  }\n\n  if (root._bokeh_is_loading === 0) {\n    console.debug(\"Bokeh: BokehJS loaded, going straight to plotting\");\n    run_inline_js();\n  } else {\n    load_libs(css_urls, js_urls, function() {\n      console.debug(\"Bokeh: BokehJS plotting callback run at\", now());\n      run_inline_js();\n    });\n  }\n}(window));",
            "application/vnd.bokehjs_load.v0+json": ""
          },
          "metadata": {},
          "output_type": "display_data"
        },
        {
          "data": {
            "text/html": [
              "\n",
              "  <div class=\"bk-root\" id=\"7d377040-198f-44ca-9848-b598208ab557\" data-root-id=\"12482\"></div>\n"
            ]
          },
          "metadata": {},
          "output_type": "display_data"
        },
        {
          "data": {
            "application/javascript": "(function(root) {\n  function embed_document(root) {\n  const docs_json = {\"b24ae74d-9cec-481e-b674-7edc435ed094\":{\"defs\":[],\"roots\":{\"references\":[{\"attributes\":{\"below\":[{\"id\":\"12491\"}],\"center\":[{\"id\":\"12494\"},{\"id\":\"12498\"}],\"height\":200,\"left\":[{\"id\":\"12495\"}],\"renderers\":[{\"id\":\"12519\"},{\"id\":\"12526\"},{\"id\":\"12533\"},{\"id\":\"12540\"},{\"id\":\"12547\"},{\"id\":\"12554\"}],\"title\":{\"id\":\"12556\"},\"toolbar\":{\"id\":\"12505\"},\"width\":500,\"x_range\":{\"id\":\"12483\"},\"x_scale\":{\"id\":\"12487\"},\"y_range\":{\"id\":\"12485\"},\"y_scale\":{\"id\":\"12489\"}},\"id\":\"12482\",\"subtype\":\"Figure\",\"type\":\"Plot\"},{\"attributes\":{},\"id\":\"12564\",\"type\":\"Selection\"},{\"attributes\":{\"axis_label\":\"time (sec)\",\"coordinates\":null,\"formatter\":{\"id\":\"12561\"},\"group\":null,\"major_label_policy\":{\"id\":\"12562\"},\"ticker\":{\"id\":\"12492\"}},\"id\":\"12491\",\"type\":\"LinearAxis\"},{\"attributes\":{},\"id\":\"12503\",\"type\":\"SaveTool\"},{\"attributes\":{},\"id\":\"12483\",\"type\":\"DataRange1d\"},{\"attributes\":{\"bottom\":{\"field\":\"bottom\"},\"fill_alpha\":{\"value\":0.2},\"fill_color\":{\"value\":\"#f46d43\"},\"hatch_alpha\":{\"value\":0.2},\"left\":{\"field\":\"start_time\"},\"line_alpha\":{\"value\":0.2},\"right\":{\"field\":\"end_time\"},\"top\":{\"field\":\"top\"}},\"id\":\"12532\",\"type\":\"Quad\"},{\"attributes\":{},\"id\":\"12492\",\"type\":\"BasicTicker\"},{\"attributes\":{\"bottom\":{\"field\":\"bottom\"},\"fill_alpha\":{\"value\":0.1},\"fill_color\":{\"value\":\"#3288bd\"},\"hatch_alpha\":{\"value\":0.1},\"left\":{\"field\":\"start_time\"},\"line_alpha\":{\"value\":0.1},\"right\":{\"field\":\"end_time\"},\"top\":{\"field\":\"top\"}},\"id\":\"12524\",\"type\":\"Quad\"},{\"attributes\":{},\"id\":\"12502\",\"type\":\"ResetTool\"},{\"attributes\":{},\"id\":\"12562\",\"type\":\"AllLabels\"},{\"attributes\":{\"bottom\":{\"field\":\"bottom\"},\"fill_alpha\":{\"value\":0.2},\"fill_color\":{\"value\":\"#66c2a5\"},\"hatch_alpha\":{\"value\":0.2},\"left\":{\"field\":\"start_time\"},\"line_alpha\":{\"value\":0.2},\"right\":{\"field\":\"end_time\"},\"top\":{\"field\":\"top\"}},\"id\":\"12539\",\"type\":\"Quad\"},{\"attributes\":{},\"id\":\"12569\",\"type\":\"UnionRenderers\"},{\"attributes\":{},\"id\":\"12571\",\"type\":\"UnionRenderers\"},{\"attributes\":{\"coordinates\":null,\"data_source\":{\"id\":\"12542\"},\"glyph\":{\"id\":\"12544\"},\"group\":null,\"hover_glyph\":null,\"muted_glyph\":{\"id\":\"12546\"},\"nonselection_glyph\":{\"id\":\"12545\"},\"view\":{\"id\":\"12548\"}},\"id\":\"12547\",\"type\":\"GlyphRenderer\"},{\"attributes\":{},\"id\":\"12485\",\"type\":\"DataRange1d\"},{\"attributes\":{\"data\":{\"bottom\":{\"__ndarray__\":\"ZmZmZmbmUUBmZmZmZuZSQGZmZmZm5lFAZmZmZmbmUUA=\",\"dtype\":\"float64\",\"order\":\"little\",\"shape\":[4]},\"duration\":{\"__ndarray__\":\"VlVVVVVV8D9WVVVVVVXwP1RVVVVVVfA/WFVVVVVV8D8=\",\"dtype\":\"float64\",\"order\":\"little\",\"shape\":[4]},\"end_time\":{\"__ndarray__\":\"AAAAAAAAAEAAAAAAAAAAQAAAAAAAABhAAAAAAAAALEA=\",\"dtype\":\"float64\",\"order\":\"little\",\"shape\":[4]},\"fill_alpha\":{\"__ndarray__\":\"AAAAAACA2D8AAAAAAEDgPwAAAAAAgNg/AAAAAACA2D8=\",\"dtype\":\"float64\",\"order\":\"little\",\"shape\":[4]},\"index\":[3,4,13,36],\"instrument\":[2,2,2,2],\"pitch\":[72,76,72,72],\"program\":[21,21,21,21],\"start_time\":{\"__ndarray__\":\"VVVVVVVV7z9VVVVVVVXvP6uqqqqq6hNAVVVVVVX1KUA=\",\"dtype\":\"float64\",\"order\":\"little\",\"shape\":[4]},\"top\":{\"__ndarray__\":\"mpmZmZkZUkCamZmZmRlTQJqZmZmZGVJAmpmZmZkZUkA=\",\"dtype\":\"float64\",\"order\":\"little\",\"shape\":[4]},\"velocity\":[49,65,49,49]},\"selected\":{\"id\":\"12566\"},\"selection_policy\":{\"id\":\"12565\"}},\"id\":\"12521\",\"type\":\"ColumnDataSource\"},{\"attributes\":{\"bottom\":{\"field\":\"bottom\"},\"fill_alpha\":{\"field\":\"fill_alpha\"},\"fill_color\":{\"value\":\"#f46d43\"},\"left\":{\"field\":\"start_time\"},\"right\":{\"field\":\"end_time\"},\"top\":{\"field\":\"top\"}},\"id\":\"12530\",\"type\":\"Quad\"},{\"attributes\":{\"axis\":{\"id\":\"12491\"},\"coordinates\":null,\"group\":null,\"ticker\":null},\"id\":\"12494\",\"type\":\"Grid\"},{\"attributes\":{\"data\":{\"bottom\":{\"__ndarray__\":\"zczMzMzMT0DNzMzMzMxPQGZmZmZmplBAZmZmZmbmUUA=\",\"dtype\":\"float64\",\"order\":\"little\",\"shape\":[4]},\"duration\":{\"__ndarray__\":\"VlVVVVVV8D9UVVVVVVXwP1hVVVVVVfA/WFVVVVVV8D8=\",\"dtype\":\"float64\",\"order\":\"little\",\"shape\":[4]},\"end_time\":{\"__ndarray__\":\"AAAAAAAAAEAAAAAAAAAYQAAAAAAAACRAAAAAAAAALEA=\",\"dtype\":\"float64\",\"order\":\"little\",\"shape\":[4]},\"fill_alpha\":{\"__ndarray__\":\"AAAAAACA2D8AAAAAAIDYPwAAAAAAgNg/AAAAAACA2D8=\",\"dtype\":\"float64\",\"order\":\"little\",\"shape\":[4]},\"index\":[6,15,28,38],\"instrument\":[4,4,4,4],\"pitch\":[64,64,67,72],\"program\":[49,49,49,49],\"start_time\":{\"__ndarray__\":\"VVVVVVVV7z+rqqqqquoTQFVVVVVV9SFAVVVVVVX1KUA=\",\"dtype\":\"float64\",\"order\":\"little\",\"shape\":[4]},\"top\":{\"__ndarray__\":\"mpmZmZkZUECamZmZmRlQQJqZmZmZ2VBAmpmZmZkZUkA=\",\"dtype\":\"float64\",\"order\":\"little\",\"shape\":[4]},\"velocity\":[49,49,49,49]},\"selected\":{\"id\":\"12570\"},\"selection_policy\":{\"id\":\"12569\"}},\"id\":\"12535\",\"type\":\"ColumnDataSource\"},{\"attributes\":{\"bottom\":{\"field\":\"bottom\"},\"fill_alpha\":{\"value\":0.1},\"fill_color\":{\"value\":\"#66c2a5\"},\"hatch_alpha\":{\"value\":0.1},\"left\":{\"field\":\"start_time\"},\"line_alpha\":{\"value\":0.1},\"right\":{\"field\":\"end_time\"},\"top\":{\"field\":\"top\"}},\"id\":\"12538\",\"type\":\"Quad\"},{\"attributes\":{\"coordinates\":null,\"data_source\":{\"id\":\"12535\"},\"glyph\":{\"id\":\"12537\"},\"group\":null,\"hover_glyph\":null,\"muted_glyph\":{\"id\":\"12539\"},\"nonselection_glyph\":{\"id\":\"12538\"},\"view\":{\"id\":\"12541\"}},\"id\":\"12540\",\"type\":\"GlyphRenderer\"},{\"attributes\":{\"axis\":{\"id\":\"12495\"},\"coordinates\":null,\"dimension\":1,\"group\":null,\"ticker\":{\"id\":\"12513\"}},\"id\":\"12498\",\"type\":\"Grid\"},{\"attributes\":{\"axis_label\":\"pitch (MIDI)\",\"coordinates\":null,\"formatter\":{\"id\":\"12558\"},\"group\":null,\"major_label_policy\":{\"id\":\"12559\"},\"ticker\":{\"id\":\"12511\"}},\"id\":\"12495\",\"type\":\"LinearAxis\"},{\"attributes\":{\"bottom\":{\"field\":\"bottom\"},\"fill_alpha\":{\"field\":\"fill_alpha\"},\"fill_color\":{\"value\":\"#d53e4f\"},\"left\":{\"field\":\"start_time\"},\"right\":{\"field\":\"end_time\"},\"top\":{\"field\":\"top\"}},\"id\":\"12516\",\"type\":\"Quad\"},{\"attributes\":{\"source\":{\"id\":\"12528\"}},\"id\":\"12534\",\"type\":\"CDSView\"},{\"attributes\":{\"data\":{\"bottom\":{\"__ndarray__\":\"ZmZmZmbmUUBmZmZmZuZSQA==\",\"dtype\":\"float64\",\"order\":\"little\",\"shape\":[2]},\"duration\":{\"__ndarray__\":\"WFVVVVVV8D9YVVVVVVXwPw==\",\"dtype\":\"float64\",\"order\":\"little\",\"shape\":[2]},\"end_time\":{\"__ndarray__\":\"AAAAAAAAJEAAAAAAAAAkQA==\",\"dtype\":\"float64\",\"order\":\"little\",\"shape\":[2]},\"fill_alpha\":{\"__ndarray__\":\"AAAAAACA2D8AAAAAAEDgPw==\",\"dtype\":\"float64\",\"order\":\"little\",\"shape\":[2]},\"index\":[25,26],\"instrument\":[5,5],\"pitch\":[72,76],\"program\":[17,17],\"start_time\":{\"__ndarray__\":\"VVVVVVX1IUBVVVVVVfUhQA==\",\"dtype\":\"float64\",\"order\":\"little\",\"shape\":[2]},\"top\":{\"__ndarray__\":\"mpmZmZkZUkCamZmZmRlTQA==\",\"dtype\":\"float64\",\"order\":\"little\",\"shape\":[2]},\"velocity\":[49,65]},\"selected\":{\"id\":\"12572\"},\"selection_policy\":{\"id\":\"12571\"}},\"id\":\"12542\",\"type\":\"ColumnDataSource\"},{\"attributes\":{\"coordinates\":null,\"group\":null},\"id\":\"12556\",\"type\":\"Title\"},{\"attributes\":{\"bottom\":{\"field\":\"bottom\"},\"fill_alpha\":{\"value\":0.1},\"fill_color\":{\"value\":\"#f46d43\"},\"hatch_alpha\":{\"value\":0.1},\"left\":{\"field\":\"start_time\"},\"line_alpha\":{\"value\":0.1},\"right\":{\"field\":\"end_time\"},\"top\":{\"field\":\"top\"}},\"id\":\"12531\",\"type\":\"Quad\"},{\"attributes\":{},\"id\":\"12561\",\"type\":\"BasicTickFormatter\"},{\"attributes\":{},\"id\":\"12572\",\"type\":\"Selection\"},{\"attributes\":{},\"id\":\"12489\",\"type\":\"LinearScale\"},{\"attributes\":{\"data\":{\"bottom\":{\"__ndarray__\":\"zczMzMzMQkDNzMzMzMxCQM3MzMzMzEJAzczMzMzMQkDNzMzMzMxFQM3MzMzMTEFAzczMzMzMRUDNzMzMzMxFQM3MzMzMTEFAzczMzMzMRUDNzMzMzMxDQM3MzMzMzENAzczMzMzMQ0DNzMzMzExBQM3MzMzMTEhAzczMzMzMQkDNzMzMzMxCQM3MzMzMzEJAzczMzMzMQkA=\",\"dtype\":\"float64\",\"order\":\"little\",\"shape\":[19]},\"duration\":{\"__ndarray__\":\"YFVVVVVVlT9AVVVVVVWVP0BVVVVVVZU/QFVVVVVVlT8AVVVVVVWVPwBVVVVVVZU/AFVVVVVVlT8AVlVVVVWVPwBWVVVVVZU/AFZVVVVVlT8AVlVVVVWVPwBWVVVVVZU/AFZVVVVVlT8AVlVVVVWVPwBWVVVVVZU/AFZVVVVVlT8AVlVVVVWVPwBWVVVVVZU/AFZVVVVVlT8=\",\"dtype\":\"float64\",\"order\":\"little\",\"shape\":[19]},\"end_time\":{\"__ndarray__\":\"AAAAAAAA4D+qqqqqqqrgP1VVVVVVVfA/VVVVVVVV+D8AAAAAAAASQAAAAAAAABRAAAAAAAAAFEAAAAAAAAAWQAAAAAAAABhAAAAAAAAAGEAAAAAAAAAhQKuqqqqqCiFAq6qqqqoKIkCrqqqqqgojQKuqqqqqCiNAAAAAAAAAKUCrqqqqqgopQKuqqqqqCipAq6qqqqoKK0A=\",\"dtype\":\"float64\",\"order\":\"little\",\"shape\":[19]},\"fill_alpha\":{\"__ndarray__\":\"AAAAAABA4D8AAAAAAIDYPwAAAAAAQOA/AAAAAACA2D8AAAAAAIDYPwAAAAAAQOQ/AAAAAACA2D8AAAAAAIDYPwAAAAAAQOQ/AAAAAACA2D8AAAAAAEDgPwAAAAAAQOQ/AAAAAABA4D8AAAAAAEDkPwAAAAAAQOA/AAAAAACA2D8AAAAAAEDgPwAAAAAAgNg/AAAAAABA4D8=\",\"dtype\":\"float64\",\"order\":\"little\",\"shape\":[19]},\"index\":[1,2,8,9,11,16,17,19,20,21,23,24,30,31,32,34,35,39,40],\"instrument\":[9,9,9,9,9,9,9,9,9,9,9,9,9,9,9,9,9,9,9],\"pitch\":[38,38,38,38,44,35,44,44,35,44,40,40,40,35,49,38,38,38,38],\"program\":[0,0,0,0,0,0,0,0,0,0,0,0,0,0,0,0,0,0,0],\"start_time\":{\"__ndarray__\":\"qqqqqqqq3j8AAAAAAADgPwAAAAAAAPA/AAAAAAAA+D+rqqqqquoRQKuqqqqq6hNAq6qqqqrqE0CqqqqqquoVQKqqqqqq6hdAqqqqqqrqF0BVVVVVVfUgQAAAAAAAACFAAAAAAAAAIkAAAAAAAAAjQAAAAAAAACNAVVVVVVX1KEAAAAAAAAApQAAAAAAAACpAAAAAAAAAK0A=\",\"dtype\":\"float64\",\"order\":\"little\",\"shape\":[19]},\"top\":{\"__ndarray__\":\"MzMzMzMzQ0AzMzMzMzNDQDMzMzMzM0NAMzMzMzMzQ0AzMzMzMzNGQDMzMzMzs0FAMzMzMzMzRkAzMzMzMzNGQDMzMzMzs0FAMzMzMzMzRkAzMzMzMzNEQDMzMzMzM0RAMzMzMzMzREAzMzMzM7NBQDMzMzMzs0hAMzMzMzMzQ0AzMzMzMzNDQDMzMzMzM0NAMzMzMzMzQ0A=\",\"dtype\":\"float64\",\"order\":\"little\",\"shape\":[19]},\"velocity\":[65,49,65,49,49,81,49,49,81,49,65,81,65,81,65,49,65,49,65]},\"selected\":{\"id\":\"12574\"},\"selection_policy\":{\"id\":\"12573\"}},\"id\":\"12549\",\"type\":\"ColumnDataSource\"},{\"attributes\":{},\"id\":\"12559\",\"type\":\"AllLabels\"},{\"attributes\":{\"tools\":[{\"id\":\"12499\"},{\"id\":\"12500\"},{\"id\":\"12501\"},{\"id\":\"12502\"},{\"id\":\"12503\"}]},\"id\":\"12505\",\"type\":\"Toolbar\"},{\"attributes\":{\"bottom\":{\"field\":\"bottom\"},\"fill_alpha\":{\"value\":0.1},\"fill_color\":{\"value\":\"#abdda4\"},\"hatch_alpha\":{\"value\":0.1},\"left\":{\"field\":\"start_time\"},\"line_alpha\":{\"value\":0.1},\"right\":{\"field\":\"end_time\"},\"top\":{\"field\":\"top\"}},\"id\":\"12552\",\"type\":\"Quad\"},{\"attributes\":{\"bottom\":{\"field\":\"bottom\"},\"fill_alpha\":{\"value\":0.1},\"fill_color\":{\"value\":\"#d53e4f\"},\"hatch_alpha\":{\"value\":0.1},\"left\":{\"field\":\"start_time\"},\"line_alpha\":{\"value\":0.1},\"right\":{\"field\":\"end_time\"},\"top\":{\"field\":\"top\"}},\"id\":\"12517\",\"type\":\"Quad\"},{\"attributes\":{\"bottom\":{\"field\":\"bottom\"},\"fill_alpha\":{\"value\":0.2},\"fill_color\":{\"value\":\"#abdda4\"},\"hatch_alpha\":{\"value\":0.2},\"left\":{\"field\":\"start_time\"},\"line_alpha\":{\"value\":0.2},\"right\":{\"field\":\"end_time\"},\"top\":{\"field\":\"top\"}},\"id\":\"12553\",\"type\":\"Quad\"},{\"attributes\":{},\"id\":\"12565\",\"type\":\"UnionRenderers\"},{\"attributes\":{\"coordinates\":null,\"data_source\":{\"id\":\"12521\"},\"glyph\":{\"id\":\"12523\"},\"group\":null,\"hover_glyph\":null,\"muted_glyph\":{\"id\":\"12525\"},\"nonselection_glyph\":{\"id\":\"12524\"},\"view\":{\"id\":\"12527\"}},\"id\":\"12526\",\"type\":\"GlyphRenderer\"},{\"attributes\":{\"bottom\":{\"field\":\"bottom\"},\"fill_alpha\":{\"field\":\"fill_alpha\"},\"fill_color\":{\"value\":\"#3288bd\"},\"left\":{\"field\":\"start_time\"},\"right\":{\"field\":\"end_time\"},\"top\":{\"field\":\"top\"}},\"id\":\"12523\",\"type\":\"Quad\"},{\"attributes\":{},\"id\":\"12487\",\"type\":\"LinearScale\"},{\"attributes\":{\"data\":{\"bottom\":{\"__ndarray__\":\"zczMzMzMT0DNzMzMzMxPQM3MzMzMzE1AzczMzMzMTUDNzMzMzMxNQM3MzMzMzE1AzczMzMzMTUA=\",\"dtype\":\"float64\",\"order\":\"little\",\"shape\":[7]},\"duration\":{\"__ndarray__\":\"qqqqqqqq3j9VVVVVVVXvP8CqqqqqqsI/AAAAAAAA8D8AAAAAAADgPwAAAAAAAPA/AAAAAAAA4D8=\",\"dtype\":\"float64\",\"order\":\"little\",\"shape\":[7]},\"end_time\":{\"__ndarray__\":\"qqqqqqqq7j9VVVVVVVX/P6uqqqqq6hNAAAAAAAAAGEBVVVVVVfUhQAAAAAAAACRAVVVVVVX1KUA=\",\"dtype\":\"float64\",\"order\":\"little\",\"shape\":[7]},\"fill_alpha\":{\"__ndarray__\":\"AAAAAABA6D8AAAAAAEDsPwAAAAAAQOw/AAAAAABA6D8AAAAAAEDoPwAAAAAAQOw/AAAAAABA7D8=\",\"dtype\":\"float64\",\"order\":\"little\",\"shape\":[7]},\"index\":[0,7,12,18,22,29,33],\"instrument\":[1,1,1,1,1,1,1],\"pitch\":[64,64,60,60,60,60,60],\"program\":[65,65,65,65,65,65,65],\"start_time\":{\"__ndarray__\":\"qqqqqqqq3j9VVVVVVVXvP1VVVVVVVRNAAAAAAAAAFEBVVVVVVfUgQAAAAAAAACJAVVVVVVX1KEA=\",\"dtype\":\"float64\",\"order\":\"little\",\"shape\":[7]},\"top\":{\"__ndarray__\":\"mpmZmZkZUECamZmZmRlQQDMzMzMzM05AMzMzMzMzTkAzMzMzMzNOQDMzMzMzM05AMzMzMzMzTkA=\",\"dtype\":\"float64\",\"order\":\"little\",\"shape\":[7]},\"velocity\":[97,113,113,97,97,113,113]},\"selected\":{\"id\":\"12564\"},\"selection_policy\":{\"id\":\"12563\"}},\"id\":\"12514\",\"type\":\"ColumnDataSource\"},{\"attributes\":{\"bottom\":{\"field\":\"bottom\"},\"fill_alpha\":{\"value\":0.1},\"fill_color\":{\"value\":\"#fdae61\"},\"hatch_alpha\":{\"value\":0.1},\"left\":{\"field\":\"start_time\"},\"line_alpha\":{\"value\":0.1},\"right\":{\"field\":\"end_time\"},\"top\":{\"field\":\"top\"}},\"id\":\"12545\",\"type\":\"Quad\"},{\"attributes\":{},\"id\":\"12568\",\"type\":\"Selection\"},{\"attributes\":{\"interval\":12},\"id\":\"12513\",\"type\":\"SingleIntervalTicker\"},{\"attributes\":{},\"id\":\"12574\",\"type\":\"Selection\"},{\"attributes\":{\"bottom\":{\"field\":\"bottom\"},\"fill_alpha\":{\"value\":0.2},\"fill_color\":{\"value\":\"#3288bd\"},\"hatch_alpha\":{\"value\":0.2},\"left\":{\"field\":\"start_time\"},\"line_alpha\":{\"value\":0.2},\"right\":{\"field\":\"end_time\"},\"top\":{\"field\":\"top\"}},\"id\":\"12525\",\"type\":\"Quad\"},{\"attributes\":{\"source\":{\"id\":\"12535\"}},\"id\":\"12541\",\"type\":\"CDSView\"},{\"attributes\":{\"coordinates\":null,\"data_source\":{\"id\":\"12514\"},\"glyph\":{\"id\":\"12516\"},\"group\":null,\"hover_glyph\":null,\"muted_glyph\":{\"id\":\"12518\"},\"nonselection_glyph\":{\"id\":\"12517\"},\"view\":{\"id\":\"12520\"}},\"id\":\"12519\",\"type\":\"GlyphRenderer\"},{\"attributes\":{\"coordinates\":null,\"data_source\":{\"id\":\"12549\"},\"glyph\":{\"id\":\"12551\"},\"group\":null,\"hover_glyph\":null,\"muted_glyph\":{\"id\":\"12553\"},\"nonselection_glyph\":{\"id\":\"12552\"},\"view\":{\"id\":\"12555\"}},\"id\":\"12554\",\"type\":\"GlyphRenderer\"},{\"attributes\":{\"source\":{\"id\":\"12542\"}},\"id\":\"12548\",\"type\":\"CDSView\"},{\"attributes\":{\"bottom\":{\"field\":\"bottom\"},\"fill_alpha\":{\"field\":\"fill_alpha\"},\"fill_color\":{\"value\":\"#fdae61\"},\"left\":{\"field\":\"start_time\"},\"right\":{\"field\":\"end_time\"},\"top\":{\"field\":\"top\"}},\"id\":\"12544\",\"type\":\"Quad\"},{\"attributes\":{\"callback\":null,\"tooltips\":[[\"pitch\",\"@pitch\"],[\"program\",\"@program\"],[\"velo\",\"@velocity\"],[\"duration\",\"@duration\"],[\"start_time\",\"@start_time\"],[\"end_time\",\"@end_time\"],[\"velocity\",\"@velocity\"],[\"fill_alpha\",\"@fill_alpha\"]]},\"id\":\"12499\",\"type\":\"HoverTool\"},{\"attributes\":{},\"id\":\"12567\",\"type\":\"UnionRenderers\"},{\"attributes\":{},\"id\":\"12570\",\"type\":\"Selection\"},{\"attributes\":{},\"id\":\"12566\",\"type\":\"Selection\"},{\"attributes\":{\"coordinates\":null,\"data_source\":{\"id\":\"12528\"},\"glyph\":{\"id\":\"12530\"},\"group\":null,\"hover_glyph\":null,\"muted_glyph\":{\"id\":\"12532\"},\"nonselection_glyph\":{\"id\":\"12531\"},\"view\":{\"id\":\"12534\"}},\"id\":\"12533\",\"type\":\"GlyphRenderer\"},{\"attributes\":{\"source\":{\"id\":\"12521\"}},\"id\":\"12527\",\"type\":\"CDSView\"},{\"attributes\":{\"bottom\":{\"field\":\"bottom\"},\"fill_alpha\":{\"field\":\"fill_alpha\"},\"fill_color\":{\"value\":\"#abdda4\"},\"left\":{\"field\":\"start_time\"},\"right\":{\"field\":\"end_time\"},\"top\":{\"field\":\"top\"}},\"id\":\"12551\",\"type\":\"Quad\"},{\"attributes\":{},\"id\":\"12558\",\"type\":\"BasicTickFormatter\"},{\"attributes\":{},\"id\":\"12563\",\"type\":\"UnionRenderers\"},{\"attributes\":{\"source\":{\"id\":\"12514\"}},\"id\":\"12520\",\"type\":\"CDSView\"},{\"attributes\":{\"bottom\":{\"field\":\"bottom\"},\"fill_alpha\":{\"value\":0.2},\"fill_color\":{\"value\":\"#d53e4f\"},\"hatch_alpha\":{\"value\":0.2},\"left\":{\"field\":\"start_time\"},\"line_alpha\":{\"value\":0.2},\"right\":{\"field\":\"end_time\"},\"top\":{\"field\":\"top\"}},\"id\":\"12518\",\"type\":\"Quad\"},{\"attributes\":{\"source\":{\"id\":\"12549\"}},\"id\":\"12555\",\"type\":\"CDSView\"},{\"attributes\":{\"interval\":12},\"id\":\"12511\",\"type\":\"SingleIntervalTicker\"},{\"attributes\":{\"bottom\":{\"field\":\"bottom\"},\"fill_alpha\":{\"field\":\"fill_alpha\"},\"fill_color\":{\"value\":\"#66c2a5\"},\"left\":{\"field\":\"start_time\"},\"right\":{\"field\":\"end_time\"},\"top\":{\"field\":\"top\"}},\"id\":\"12537\",\"type\":\"Quad\"},{\"attributes\":{\"bottom\":{\"field\":\"bottom\"},\"fill_alpha\":{\"value\":0.2},\"fill_color\":{\"value\":\"#fdae61\"},\"hatch_alpha\":{\"value\":0.2},\"left\":{\"field\":\"start_time\"},\"line_alpha\":{\"value\":0.2},\"right\":{\"field\":\"end_time\"},\"top\":{\"field\":\"top\"}},\"id\":\"12546\",\"type\":\"Quad\"},{\"attributes\":{},\"id\":\"12500\",\"type\":\"PanTool\"},{\"attributes\":{},\"id\":\"12573\",\"type\":\"UnionRenderers\"},{\"attributes\":{\"overlay\":{\"id\":\"12504\"}},\"id\":\"12501\",\"type\":\"BoxZoomTool\"},{\"attributes\":{\"bottom_units\":\"screen\",\"coordinates\":null,\"fill_alpha\":0.5,\"fill_color\":\"lightgrey\",\"group\":null,\"left_units\":\"screen\",\"level\":\"overlay\",\"line_alpha\":1.0,\"line_color\":\"black\",\"line_dash\":[4,4],\"line_width\":2,\"right_units\":\"screen\",\"syncable\":false,\"top_units\":\"screen\"},\"id\":\"12504\",\"type\":\"BoxAnnotation\"},{\"attributes\":{\"data\":{\"bottom\":{\"__ndarray__\":\"zczMzMxMRUDNzMzMzExFQM3MzMzMTEVAzczMzMxMRUDNzMzMzExFQA==\",\"dtype\":\"float64\",\"order\":\"little\",\"shape\":[5]},\"duration\":{\"__ndarray__\":\"YFVVVVVVlT+AVVVVVVWVPwBVVVVVVZU/AFZVVVVVlT8AVlVVVVWVPw==\",\"dtype\":\"float64\",\"order\":\"little\",\"shape\":[5]},\"end_time\":{\"__ndarray__\":\"AAAAAAAA8D8AAAAAAAAAQAAAAAAAABRAAAAAAAAAIkAAAAAAAAAqQA==\",\"dtype\":\"float64\",\"order\":\"little\",\"shape\":[5]},\"fill_alpha\":{\"__ndarray__\":\"AAAAAABA4D8AAAAAAEDkPwAAAAAAQOA/AAAAAABA4D8AAAAAAEDgPw==\",\"dtype\":\"float64\",\"order\":\"little\",\"shape\":[5]},\"index\":[5,10,14,27,37],\"instrument\":[3,3,3,3,3],\"pitch\":[43,43,43,43,43],\"program\":[32,32,32,32,32],\"start_time\":{\"__ndarray__\":\"VVVVVVVV7z+qqqqqqqr/P6uqqqqq6hNAVVVVVVX1IUBVVVVVVfUpQA==\",\"dtype\":\"float64\",\"order\":\"little\",\"shape\":[5]},\"top\":{\"__ndarray__\":\"MzMzMzOzRUAzMzMzM7NFQDMzMzMzs0VAMzMzMzOzRUAzMzMzM7NFQA==\",\"dtype\":\"float64\",\"order\":\"little\",\"shape\":[5]},\"velocity\":[65,81,65,65,65]},\"selected\":{\"id\":\"12568\"},\"selection_policy\":{\"id\":\"12567\"}},\"id\":\"12528\",\"type\":\"ColumnDataSource\"}],\"root_ids\":[\"12482\"]},\"title\":\"Bokeh Application\",\"version\":\"2.4.3\"}};\n  const render_items = [{\"docid\":\"b24ae74d-9cec-481e-b674-7edc435ed094\",\"root_ids\":[\"12482\"],\"roots\":{\"12482\":\"7d377040-198f-44ca-9848-b598208ab557\"}}];\n  root.Bokeh.embed.embed_items_notebook(docs_json, render_items);\n  }\n  if (root.Bokeh !== undefined) {\n    embed_document(root);\n  } else {\n    let attempts = 0;\n    const timer = setInterval(function(root) {\n      if (root.Bokeh !== undefined) {\n        clearInterval(timer);\n        embed_document(root);\n      } else {\n        attempts++;\n        if (attempts > 100) {\n          clearInterval(timer);\n          console.log(\"Bokeh: ERROR: Unable to run BokehJS code because BokehJS library is missing\");\n        }\n      }\n    }, 10, root)\n  }\n})(window);",
            "application/vnd.bokehjs_exec.v0+json": ""
          },
          "metadata": {
            "application/vnd.bokehjs_exec.v0+json": {
              "id": "12482"
            }
          },
          "output_type": "display_data"
        }
      ],
      "source": [
        "trim_sequences(seqs)\n",
        "fix_instruments_for_concatenation(seqs)\n",
        "prog_ns = concatenate_sequences(seqs)\n",
        "\n",
        "#play(prog_ns)\n",
        "mm.plot_sequence(prog_ns)"
      ]
    },
    {
      "cell_type": "code",
      "execution_count": 148,
      "metadata": {
        "colab": {
          "base_uri": "https://localhost:8080/",
          "height": 518
        },
        "id": "qSmhyk6PgQbI",
        "outputId": "61dab5a4-76d4-4ac6-b83d-b020f76824a3"
      },
      "outputs": [],
      "source": [
        "#@title Same Style, Chord Progression\n",
        "\n",
        "chord_1 = 'C' #@param {type:\"string\"}\n",
        "#chord_2 = 'Caug' #@param {type:\"string\"}\n",
        "#chord_3 = 'Am' #@param {type:\"string\"}\n",
        "#chord_4 = 'E' #@param {type:\"string\"}\n",
        "chords = [chord_1]\n",
        "\n",
        "temperature = 0.2 #@param {type:\"slider\", min:0.01, max:1.5, step:0.01}\n",
        "z = np.random.normal(size=[1, Z_SIZE])\n",
        "seqs = [\n",
        "    model.decode(length=TOTAL_STEPS, z=z, temperature=temperature,\n",
        "                 c_input=chord_encoding(c))[0]\n",
        "    for c in chords\n",
        "]\n"
      ]
    },
    {
      "cell_type": "code",
      "execution_count": 149,
      "metadata": {},
      "outputs": [
        {
          "data": {
            "text/html": [
              "<div class=\"bk-root\">\n",
              "        <a href=\"https://bokeh.org\" target=\"_blank\" class=\"bk-logo bk-logo-small bk-logo-notebook\"></a>\n",
              "        <span id=\"54808\">Loading BokehJS ...</span>\n",
              "    </div>\n"
            ]
          },
          "metadata": {},
          "output_type": "display_data"
        },
        {
          "data": {
            "application/javascript": "(function(root) {\n  function now() {\n    return new Date();\n  }\n\n  const force = true;\n\n  if (typeof root._bokeh_onload_callbacks === \"undefined\" || force === true) {\n    root._bokeh_onload_callbacks = [];\n    root._bokeh_is_loading = undefined;\n  }\n\nconst JS_MIME_TYPE = 'application/javascript';\n  const HTML_MIME_TYPE = 'text/html';\n  const EXEC_MIME_TYPE = 'application/vnd.bokehjs_exec.v0+json';\n  const CLASS_NAME = 'output_bokeh rendered_html';\n\n  /**\n   * Render data to the DOM node\n   */\n  function render(props, node) {\n    const script = document.createElement(\"script\");\n    node.appendChild(script);\n  }\n\n  /**\n   * Handle when an output is cleared or removed\n   */\n  function handleClearOutput(event, handle) {\n    const cell = handle.cell;\n\n    const id = cell.output_area._bokeh_element_id;\n    const server_id = cell.output_area._bokeh_server_id;\n    // Clean up Bokeh references\n    if (id != null && id in Bokeh.index) {\n      Bokeh.index[id].model.document.clear();\n      delete Bokeh.index[id];\n    }\n\n    if (server_id !== undefined) {\n      // Clean up Bokeh references\n      const cmd_clean = \"from bokeh.io.state import curstate; print(curstate().uuid_to_server['\" + server_id + \"'].get_sessions()[0].document.roots[0]._id)\";\n      cell.notebook.kernel.execute(cmd_clean, {\n        iopub: {\n          output: function(msg) {\n            const id = msg.content.text.trim();\n            if (id in Bokeh.index) {\n              Bokeh.index[id].model.document.clear();\n              delete Bokeh.index[id];\n            }\n          }\n        }\n      });\n      // Destroy server and session\n      const cmd_destroy = \"import bokeh.io.notebook as ion; ion.destroy_server('\" + server_id + \"')\";\n      cell.notebook.kernel.execute(cmd_destroy);\n    }\n  }\n\n  /**\n   * Handle when a new output is added\n   */\n  function handleAddOutput(event, handle) {\n    const output_area = handle.output_area;\n    const output = handle.output;\n\n    // limit handleAddOutput to display_data with EXEC_MIME_TYPE content only\n    if ((output.output_type != \"display_data\") || (!Object.prototype.hasOwnProperty.call(output.data, EXEC_MIME_TYPE))) {\n      return\n    }\n\n    const toinsert = output_area.element.find(\".\" + CLASS_NAME.split(' ')[0]);\n\n    if (output.metadata[EXEC_MIME_TYPE][\"id\"] !== undefined) {\n      toinsert[toinsert.length - 1].firstChild.textContent = output.data[JS_MIME_TYPE];\n      // store reference to embed id on output_area\n      output_area._bokeh_element_id = output.metadata[EXEC_MIME_TYPE][\"id\"];\n    }\n    if (output.metadata[EXEC_MIME_TYPE][\"server_id\"] !== undefined) {\n      const bk_div = document.createElement(\"div\");\n      bk_div.innerHTML = output.data[HTML_MIME_TYPE];\n      const script_attrs = bk_div.children[0].attributes;\n      for (let i = 0; i < script_attrs.length; i++) {\n        toinsert[toinsert.length - 1].firstChild.setAttribute(script_attrs[i].name, script_attrs[i].value);\n        toinsert[toinsert.length - 1].firstChild.textContent = bk_div.children[0].textContent\n      }\n      // store reference to server id on output_area\n      output_area._bokeh_server_id = output.metadata[EXEC_MIME_TYPE][\"server_id\"];\n    }\n  }\n\n  function register_renderer(events, OutputArea) {\n\n    function append_mime(data, metadata, element) {\n      // create a DOM node to render to\n      const toinsert = this.create_output_subarea(\n        metadata,\n        CLASS_NAME,\n        EXEC_MIME_TYPE\n      );\n      this.keyboard_manager.register_events(toinsert);\n      // Render to node\n      const props = {data: data, metadata: metadata[EXEC_MIME_TYPE]};\n      render(props, toinsert[toinsert.length - 1]);\n      element.append(toinsert);\n      return toinsert\n    }\n\n    /* Handle when an output is cleared or removed */\n    events.on('clear_output.CodeCell', handleClearOutput);\n    events.on('delete.Cell', handleClearOutput);\n\n    /* Handle when a new output is added */\n    events.on('output_added.OutputArea', handleAddOutput);\n\n    /**\n     * Register the mime type and append_mime function with output_area\n     */\n    OutputArea.prototype.register_mime_type(EXEC_MIME_TYPE, append_mime, {\n      /* Is output safe? */\n      safe: true,\n      /* Index of renderer in `output_area.display_order` */\n      index: 0\n    });\n  }\n\n  // register the mime type if in Jupyter Notebook environment and previously unregistered\n  if (root.Jupyter !== undefined) {\n    const events = require('base/js/events');\n    const OutputArea = require('notebook/js/outputarea').OutputArea;\n\n    if (OutputArea.prototype.mime_types().indexOf(EXEC_MIME_TYPE) == -1) {\n      register_renderer(events, OutputArea);\n    }\n  }\n  if (typeof (root._bokeh_timeout) === \"undefined\" || force === true) {\n    root._bokeh_timeout = Date.now() + 5000;\n    root._bokeh_failed_load = false;\n  }\n\n  const NB_LOAD_WARNING = {'data': {'text/html':\n     \"<div style='background-color: #fdd'>\\n\"+\n     \"<p>\\n\"+\n     \"BokehJS does not appear to have successfully loaded. If loading BokehJS from CDN, this \\n\"+\n     \"may be due to a slow or bad network connection. Possible fixes:\\n\"+\n     \"</p>\\n\"+\n     \"<ul>\\n\"+\n     \"<li>re-rerun `output_notebook()` to attempt to load from CDN again, or</li>\\n\"+\n     \"<li>use INLINE resources instead, as so:</li>\\n\"+\n     \"</ul>\\n\"+\n     \"<code>\\n\"+\n     \"from bokeh.resources import INLINE\\n\"+\n     \"output_notebook(resources=INLINE)\\n\"+\n     \"</code>\\n\"+\n     \"</div>\"}};\n\n  function display_loaded() {\n    const el = document.getElementById(\"54808\");\n    if (el != null) {\n      el.textContent = \"BokehJS is loading...\";\n    }\n    if (root.Bokeh !== undefined) {\n      if (el != null) {\n        el.textContent = \"BokehJS \" + root.Bokeh.version + \" successfully loaded.\";\n      }\n    } else if (Date.now() < root._bokeh_timeout) {\n      setTimeout(display_loaded, 100)\n    }\n  }\n\n  function run_callbacks() {\n    try {\n      root._bokeh_onload_callbacks.forEach(function(callback) {\n        if (callback != null)\n          callback();\n      });\n    } finally {\n      delete root._bokeh_onload_callbacks\n    }\n    console.debug(\"Bokeh: all callbacks have finished\");\n  }\n\n  function load_libs(css_urls, js_urls, callback) {\n    if (css_urls == null) css_urls = [];\n    if (js_urls == null) js_urls = [];\n\n    root._bokeh_onload_callbacks.push(callback);\n    if (root._bokeh_is_loading > 0) {\n      console.debug(\"Bokeh: BokehJS is being loaded, scheduling callback at\", now());\n      return null;\n    }\n    if (js_urls == null || js_urls.length === 0) {\n      run_callbacks();\n      return null;\n    }\n    console.debug(\"Bokeh: BokehJS not loaded, scheduling load and callback at\", now());\n    root._bokeh_is_loading = css_urls.length + js_urls.length;\n\n    function on_load() {\n      root._bokeh_is_loading--;\n      if (root._bokeh_is_loading === 0) {\n        console.debug(\"Bokeh: all BokehJS libraries/stylesheets loaded\");\n        run_callbacks()\n      }\n    }\n\n    function on_error(url) {\n      console.error(\"failed to load \" + url);\n    }\n\n    for (let i = 0; i < css_urls.length; i++) {\n      const url = css_urls[i];\n      const element = document.createElement(\"link\");\n      element.onload = on_load;\n      element.onerror = on_error.bind(null, url);\n      element.rel = \"stylesheet\";\n      element.type = \"text/css\";\n      element.href = url;\n      console.debug(\"Bokeh: injecting link tag for BokehJS stylesheet: \", url);\n      document.body.appendChild(element);\n    }\n\n    for (let i = 0; i < js_urls.length; i++) {\n      const url = js_urls[i];\n      const element = document.createElement('script');\n      element.onload = on_load;\n      element.onerror = on_error.bind(null, url);\n      element.async = false;\n      element.src = url;\n      console.debug(\"Bokeh: injecting script tag for BokehJS library: \", url);\n      document.head.appendChild(element);\n    }\n  };\n\n  function inject_raw_css(css) {\n    const element = document.createElement(\"style\");\n    element.appendChild(document.createTextNode(css));\n    document.body.appendChild(element);\n  }\n\n  const js_urls = [\"https://cdn.bokeh.org/bokeh/release/bokeh-2.4.3.min.js\", \"https://cdn.bokeh.org/bokeh/release/bokeh-gl-2.4.3.min.js\", \"https://cdn.bokeh.org/bokeh/release/bokeh-widgets-2.4.3.min.js\", \"https://cdn.bokeh.org/bokeh/release/bokeh-tables-2.4.3.min.js\", \"https://cdn.bokeh.org/bokeh/release/bokeh-mathjax-2.4.3.min.js\"];\n  const css_urls = [];\n\n  const inline_js = [    function(Bokeh) {\n      Bokeh.set_log_level(\"info\");\n    },\nfunction(Bokeh) {\n    }\n  ];\n\n  function run_inline_js() {\n    if (root.Bokeh !== undefined || force === true) {\n          for (let i = 0; i < inline_js.length; i++) {\n      inline_js[i].call(root, root.Bokeh);\n    }\nif (force === true) {\n        display_loaded();\n      }} else if (Date.now() < root._bokeh_timeout) {\n      setTimeout(run_inline_js, 100);\n    } else if (!root._bokeh_failed_load) {\n      console.log(\"Bokeh: BokehJS failed to load within specified timeout.\");\n      root._bokeh_failed_load = true;\n    } else if (force !== true) {\n      const cell = $(document.getElementById(\"54808\")).parents('.cell').data().cell;\n      cell.output_area.append_execute_result(NB_LOAD_WARNING)\n    }\n  }\n\n  if (root._bokeh_is_loading === 0) {\n    console.debug(\"Bokeh: BokehJS loaded, going straight to plotting\");\n    run_inline_js();\n  } else {\n    load_libs(css_urls, js_urls, function() {\n      console.debug(\"Bokeh: BokehJS plotting callback run at\", now());\n      run_inline_js();\n    });\n  }\n}(window));",
            "application/vnd.bokehjs_load.v0+json": ""
          },
          "metadata": {},
          "output_type": "display_data"
        },
        {
          "data": {
            "text/html": [
              "\n",
              "  <div class=\"bk-root\" id=\"e239c332-2586-4616-a741-8b16a67beed9\" data-root-id=\"54732\"></div>\n"
            ]
          },
          "metadata": {},
          "output_type": "display_data"
        },
        {
          "data": {
            "application/javascript": "(function(root) {\n  function embed_document(root) {\n  const docs_json = {\"179b18e5-4c77-4e49-82f1-ba6ab412ba5a\":{\"defs\":[],\"roots\":{\"references\":[{\"attributes\":{\"below\":[{\"id\":\"54741\"}],\"center\":[{\"id\":\"54744\"},{\"id\":\"54748\"}],\"height\":200,\"left\":[{\"id\":\"54745\"}],\"renderers\":[{\"id\":\"54769\"},{\"id\":\"54776\"},{\"id\":\"54783\"},{\"id\":\"54790\"}],\"title\":{\"id\":\"54792\"},\"toolbar\":{\"id\":\"54755\"},\"width\":500,\"x_range\":{\"id\":\"54733\"},\"x_scale\":{\"id\":\"54737\"},\"y_range\":{\"id\":\"54735\"},\"y_scale\":{\"id\":\"54739\"}},\"id\":\"54732\",\"subtype\":\"Figure\",\"type\":\"Plot\"},{\"attributes\":{},\"id\":\"54797\",\"type\":\"BasicTickFormatter\"},{\"attributes\":{},\"id\":\"54735\",\"type\":\"DataRange1d\"},{\"attributes\":{},\"id\":\"54753\",\"type\":\"SaveTool\"},{\"attributes\":{},\"id\":\"54794\",\"type\":\"BasicTickFormatter\"},{\"attributes\":{\"axis_label\":\"pitch (MIDI)\",\"coordinates\":null,\"formatter\":{\"id\":\"54794\"},\"group\":null,\"major_label_policy\":{\"id\":\"54795\"},\"ticker\":{\"id\":\"54761\"}},\"id\":\"54745\",\"type\":\"LinearAxis\"},{\"attributes\":{\"data\":{\"bottom\":{\"__ndarray__\":\"zczMzMxMS0DNzMzMzMxNQM3MzMzMzE9AzczMzMxMS0DNzMzMzMxNQM3MzMzMzE9A\",\"dtype\":\"float64\",\"order\":\"little\",\"shape\":[6]},\"duration\":{\"__ndarray__\":\"AAAAAAAA4D8AAAAAAADgPwAAAAAAAOA/AAAAAAAA4D8AAAAAAADgPwAAAAAAAOA/\",\"dtype\":\"float64\",\"order\":\"little\",\"shape\":[6]},\"end_time\":{\"__ndarray__\":\"AAAAAAAA8D8AAAAAAADwPwAAAAAAAPA/AAAAAAAAAEAAAAAAAAAAQAAAAAAAAABA\",\"dtype\":\"float64\",\"order\":\"little\",\"shape\":[6]},\"fill_alpha\":{\"__ndarray__\":\"AAAAAABA4D8AAAAAAEDgPwAAAAAAQOA/AAAAAABA4D8AAAAAAEDgPwAAAAAAQOA/\",\"dtype\":\"float64\",\"order\":\"little\",\"shape\":[6]},\"index\":[2,3,4,19,20,21],\"instrument\":[2,2,2,2,2,2],\"pitch\":[55,60,64,55,60,64],\"program\":[25,25,25,25,25,25],\"start_time\":{\"__ndarray__\":\"AAAAAAAA4D8AAAAAAADgPwAAAAAAAOA/AAAAAAAA+D8AAAAAAAD4PwAAAAAAAPg/\",\"dtype\":\"float64\",\"order\":\"little\",\"shape\":[6]},\"top\":{\"__ndarray__\":\"MzMzMzOzS0AzMzMzMzNOQJqZmZmZGVBAMzMzMzOzS0AzMzMzMzNOQJqZmZmZGVBA\",\"dtype\":\"float64\",\"order\":\"little\",\"shape\":[6]},\"velocity\":[65,65,65,65,65,65]},\"selected\":{\"id\":\"54802\"},\"selection_policy\":{\"id\":\"54801\"}},\"id\":\"54771\",\"type\":\"ColumnDataSource\"},{\"attributes\":{\"overlay\":{\"id\":\"54754\"}},\"id\":\"54751\",\"type\":\"BoxZoomTool\"},{\"attributes\":{},\"id\":\"54803\",\"type\":\"UnionRenderers\"},{\"attributes\":{\"bottom\":{\"field\":\"bottom\"},\"fill_alpha\":{\"value\":0.2},\"fill_color\":{\"value\":\"#d53e4f\"},\"hatch_alpha\":{\"value\":0.2},\"left\":{\"field\":\"start_time\"},\"line_alpha\":{\"value\":0.2},\"right\":{\"field\":\"end_time\"},\"top\":{\"field\":\"top\"}},\"id\":\"54768\",\"type\":\"Quad\"},{\"attributes\":{\"bottom\":{\"field\":\"bottom\"},\"fill_alpha\":{\"value\":0.1},\"fill_color\":{\"value\":\"#3288bd\"},\"hatch_alpha\":{\"value\":0.1},\"left\":{\"field\":\"start_time\"},\"line_alpha\":{\"value\":0.1},\"right\":{\"field\":\"end_time\"},\"top\":{\"field\":\"top\"}},\"id\":\"54774\",\"type\":\"Quad\"},{\"attributes\":{\"bottom\":{\"field\":\"bottom\"},\"fill_alpha\":{\"value\":0.2},\"fill_color\":{\"value\":\"#66c2a5\"},\"hatch_alpha\":{\"value\":0.2},\"left\":{\"field\":\"start_time\"},\"line_alpha\":{\"value\":0.2},\"right\":{\"field\":\"end_time\"},\"top\":{\"field\":\"top\"}},\"id\":\"54789\",\"type\":\"Quad\"},{\"attributes\":{},\"id\":\"54801\",\"type\":\"UnionRenderers\"},{\"attributes\":{},\"id\":\"54795\",\"type\":\"AllLabels\"},{\"attributes\":{},\"id\":\"54739\",\"type\":\"LinearScale\"},{\"attributes\":{\"source\":{\"id\":\"54785\"}},\"id\":\"54791\",\"type\":\"CDSView\"},{\"attributes\":{\"axis\":{\"id\":\"54741\"},\"coordinates\":null,\"group\":null,\"ticker\":null},\"id\":\"54744\",\"type\":\"Grid\"},{\"attributes\":{\"data\":{\"bottom\":{\"__ndarray__\":\"zczMzMxMRUDNzMzMzExLQM3MzMzMTEVAzczMzMxMS0A=\",\"dtype\":\"float64\",\"order\":\"little\",\"shape\":[4]},\"duration\":{\"__ndarray__\":\"AAAAAAAA0D8AAAAAAADQPwAAAAAAANA/AAAAAAAA0D8=\",\"dtype\":\"float64\",\"order\":\"little\",\"shape\":[4]},\"end_time\":{\"__ndarray__\":\"AAAAAAAA6D8AAAAAAADoPwAAAAAAAPw/AAAAAAAA/D8=\",\"dtype\":\"float64\",\"order\":\"little\",\"shape\":[4]},\"fill_alpha\":{\"__ndarray__\":\"AAAAAABA4D8AAAAAAEDgPwAAAAAAQOA/AAAAAABA4D8=\",\"dtype\":\"float64\",\"order\":\"little\",\"shape\":[4]},\"index\":[0,1,17,18],\"instrument\":[1,1,1,1],\"pitch\":[43,55,43,55],\"program\":[0,0,0,0],\"start_time\":{\"__ndarray__\":\"AAAAAAAA4D8AAAAAAADgPwAAAAAAAPg/AAAAAAAA+D8=\",\"dtype\":\"float64\",\"order\":\"little\",\"shape\":[4]},\"top\":{\"__ndarray__\":\"MzMzMzOzRUAzMzMzM7NLQDMzMzMzs0VAMzMzMzOzS0A=\",\"dtype\":\"float64\",\"order\":\"little\",\"shape\":[4]},\"velocity\":[65,65,65,65]},\"selected\":{\"id\":\"54800\"},\"selection_policy\":{\"id\":\"54799\"}},\"id\":\"54764\",\"type\":\"ColumnDataSource\"},{\"attributes\":{\"source\":{\"id\":\"54764\"}},\"id\":\"54770\",\"type\":\"CDSView\"},{\"attributes\":{\"bottom\":{\"field\":\"bottom\"},\"fill_alpha\":{\"value\":0.2},\"fill_color\":{\"value\":\"#f46d43\"},\"hatch_alpha\":{\"value\":0.2},\"left\":{\"field\":\"start_time\"},\"line_alpha\":{\"value\":0.2},\"right\":{\"field\":\"end_time\"},\"top\":{\"field\":\"top\"}},\"id\":\"54782\",\"type\":\"Quad\"},{\"attributes\":{\"coordinates\":null,\"data_source\":{\"id\":\"54785\"},\"glyph\":{\"id\":\"54787\"},\"group\":null,\"hover_glyph\":null,\"muted_glyph\":{\"id\":\"54789\"},\"nonselection_glyph\":{\"id\":\"54788\"},\"view\":{\"id\":\"54791\"}},\"id\":\"54790\",\"type\":\"GlyphRenderer\"},{\"attributes\":{},\"id\":\"54800\",\"type\":\"Selection\"},{\"attributes\":{\"axis_label\":\"time (sec)\",\"coordinates\":null,\"formatter\":{\"id\":\"54797\"},\"group\":null,\"major_label_policy\":{\"id\":\"54798\"},\"ticker\":{\"id\":\"54742\"}},\"id\":\"54741\",\"type\":\"LinearAxis\"},{\"attributes\":{},\"id\":\"54806\",\"type\":\"Selection\"},{\"attributes\":{\"coordinates\":null,\"group\":null},\"id\":\"54792\",\"type\":\"Title\"},{\"attributes\":{\"axis\":{\"id\":\"54745\"},\"coordinates\":null,\"dimension\":1,\"group\":null,\"ticker\":{\"id\":\"54763\"}},\"id\":\"54748\",\"type\":\"Grid\"},{\"attributes\":{\"bottom\":{\"field\":\"bottom\"},\"fill_alpha\":{\"value\":0.1},\"fill_color\":{\"value\":\"#d53e4f\"},\"hatch_alpha\":{\"value\":0.1},\"left\":{\"field\":\"start_time\"},\"line_alpha\":{\"value\":0.1},\"right\":{\"field\":\"end_time\"},\"top\":{\"field\":\"top\"}},\"id\":\"54767\",\"type\":\"Quad\"},{\"attributes\":{\"bottom\":{\"field\":\"bottom\"},\"fill_alpha\":{\"field\":\"fill_alpha\"},\"fill_color\":{\"value\":\"#f46d43\"},\"left\":{\"field\":\"start_time\"},\"right\":{\"field\":\"end_time\"},\"top\":{\"field\":\"top\"}},\"id\":\"54780\",\"type\":\"Quad\"},{\"attributes\":{},\"id\":\"54737\",\"type\":\"LinearScale\"},{\"attributes\":{\"data\":{\"bottom\":{\"__ndarray__\":\"zczMzMxMS0DNzMzMzMxNQM3MzMzMzE9AZmZmZmamUEDNzMzMzExLQM3MzMzMzE1AzczMzMzMT0BmZmZmZqZQQM3MzMzMTEtAzczMzMzMTUDNzMzMzMxPQGZmZmZmplBA\",\"dtype\":\"float64\",\"order\":\"little\",\"shape\":[12]},\"duration\":{\"__ndarray__\":\"qKqqqqqquj+oqqqqqqq6P6iqqqqqqro/qKqqqqqquj+gqqqqqqq6P6Cqqqqqqro/oKqqqqqquj+gqqqqqqq6P6Cqqqqqqro/oKqqqqqquj+gqqqqqqq6P6Cqqqqqqro/\",\"dtype\":\"float64\",\"order\":\"little\",\"shape\":[12]},\"end_time\":{\"__ndarray__\":\"VVVVVVVV4z9VVVVVVVXjP1VVVVVVVeM/VVVVVVVV4z+qqqqqqqrxP6qqqqqqqvE/qqqqqqqq8T+qqqqqqqrxP6qqqqqqqvk/qqqqqqqq+T+qqqqqqqr5P6qqqqqqqvk/\",\"dtype\":\"float64\",\"order\":\"little\",\"shape\":[12]},\"fill_alpha\":{\"__ndarray__\":\"AAAAAABA5D8AAAAAAEDkPwAAAAAAQOQ/AAAAAABA5D8AAAAAAEDkPwAAAAAAQOQ/AAAAAABA5D8AAAAAAEDkPwAAAAAAQOQ/AAAAAABA5D8AAAAAAEDkPwAAAAAAQOQ/\",\"dtype\":\"float64\",\"order\":\"little\",\"shape\":[12]},\"index\":[5,6,7,8,11,12,13,14,22,23,24,25],\"instrument\":[3,3,3,3,3,3,3,3,3,3,3,3],\"pitch\":[55,60,64,67,55,60,64,67,55,60,64,67],\"program\":[105,105,105,105,105,105,105,105,105,105,105,105],\"start_time\":{\"__ndarray__\":\"AAAAAAAA4D8AAAAAAADgPwAAAAAAAOA/AAAAAAAA4D8AAAAAAADwPwAAAAAAAPA/AAAAAAAA8D8AAAAAAADwPwAAAAAAAPg/AAAAAAAA+D8AAAAAAAD4PwAAAAAAAPg/\",\"dtype\":\"float64\",\"order\":\"little\",\"shape\":[12]},\"top\":{\"__ndarray__\":\"MzMzMzOzS0AzMzMzMzNOQJqZmZmZGVBAmpmZmZnZUEAzMzMzM7NLQDMzMzMzM05AmpmZmZkZUECamZmZmdlQQDMzMzMzs0tAMzMzMzMzTkCamZmZmRlQQJqZmZmZ2VBA\",\"dtype\":\"float64\",\"order\":\"little\",\"shape\":[12]},\"velocity\":[81,81,81,81,81,81,81,81,81,81,81,81]},\"selected\":{\"id\":\"54804\"},\"selection_policy\":{\"id\":\"54803\"}},\"id\":\"54778\",\"type\":\"ColumnDataSource\"},{\"attributes\":{},\"id\":\"54799\",\"type\":\"UnionRenderers\"},{\"attributes\":{},\"id\":\"54805\",\"type\":\"UnionRenderers\"},{\"attributes\":{},\"id\":\"54733\",\"type\":\"DataRange1d\"},{\"attributes\":{\"bottom\":{\"field\":\"bottom\"},\"fill_alpha\":{\"field\":\"fill_alpha\"},\"fill_color\":{\"value\":\"#66c2a5\"},\"left\":{\"field\":\"start_time\"},\"right\":{\"field\":\"end_time\"},\"top\":{\"field\":\"top\"}},\"id\":\"54787\",\"type\":\"Quad\"},{\"attributes\":{},\"id\":\"54798\",\"type\":\"AllLabels\"},{\"attributes\":{\"bottom_units\":\"screen\",\"coordinates\":null,\"fill_alpha\":0.5,\"fill_color\":\"lightgrey\",\"group\":null,\"left_units\":\"screen\",\"level\":\"overlay\",\"line_alpha\":1.0,\"line_color\":\"black\",\"line_dash\":[4,4],\"line_width\":2,\"right_units\":\"screen\",\"syncable\":false,\"top_units\":\"screen\"},\"id\":\"54754\",\"type\":\"BoxAnnotation\"},{\"attributes\":{\"data\":{\"bottom\":{\"__ndarray__\":\"ZmZmZmamU0BmZmZmZqZTQGZmZmZmplNAZmZmZmamU0BmZmZmZqZTQGZmZmZmplNA\",\"dtype\":\"float64\",\"order\":\"little\",\"shape\":[6]},\"duration\":{\"__ndarray__\":\"QFVVVVVVlT9AVVVVVVWVP0BVVVVVVZU/QFVVVVVVlT9AVVVVVVWVP0BVVVVVVZU/\",\"dtype\":\"float64\",\"order\":\"little\",\"shape\":[6]},\"end_time\":{\"__ndarray__\":\"qqqqqqqq4D+qqqqqqqroP1VVVVVVVfA/VVVVVVVV9D9VVVVVVVX4P1VVVVVVVfw/\",\"dtype\":\"float64\",\"order\":\"little\",\"shape\":[6]},\"fill_alpha\":{\"__ndarray__\":\"AAAAAABA5D8AAAAAAEDkPwAAAAAAQOQ/AAAAAABA5D8AAAAAAEDkPwAAAAAAQOQ/\",\"dtype\":\"float64\",\"order\":\"little\",\"shape\":[6]},\"index\":[9,10,15,16,26,27],\"instrument\":[4,4,4,4,4,4],\"pitch\":[79,79,79,79,79,79],\"program\":[110,110,110,110,110,110],\"start_time\":{\"__ndarray__\":\"AAAAAAAA4D8AAAAAAADoPwAAAAAAAPA/AAAAAAAA9D8AAAAAAAD4PwAAAAAAAPw/\",\"dtype\":\"float64\",\"order\":\"little\",\"shape\":[6]},\"top\":{\"__ndarray__\":\"mpmZmZnZU0CamZmZmdlTQJqZmZmZ2VNAmpmZmZnZU0CamZmZmdlTQJqZmZmZ2VNA\",\"dtype\":\"float64\",\"order\":\"little\",\"shape\":[6]},\"velocity\":[81,81,81,81,81,81]},\"selected\":{\"id\":\"54806\"},\"selection_policy\":{\"id\":\"54805\"}},\"id\":\"54785\",\"type\":\"ColumnDataSource\"},{\"attributes\":{},\"id\":\"54750\",\"type\":\"PanTool\"},{\"attributes\":{\"interval\":12},\"id\":\"54761\",\"type\":\"SingleIntervalTicker\"},{\"attributes\":{\"source\":{\"id\":\"54778\"}},\"id\":\"54784\",\"type\":\"CDSView\"},{\"attributes\":{\"bottom\":{\"field\":\"bottom\"},\"fill_alpha\":{\"value\":0.1},\"fill_color\":{\"value\":\"#f46d43\"},\"hatch_alpha\":{\"value\":0.1},\"left\":{\"field\":\"start_time\"},\"line_alpha\":{\"value\":0.1},\"right\":{\"field\":\"end_time\"},\"top\":{\"field\":\"top\"}},\"id\":\"54781\",\"type\":\"Quad\"},{\"attributes\":{\"interval\":12},\"id\":\"54763\",\"type\":\"SingleIntervalTicker\"},{\"attributes\":{\"bottom\":{\"field\":\"bottom\"},\"fill_alpha\":{\"field\":\"fill_alpha\"},\"fill_color\":{\"value\":\"#d53e4f\"},\"left\":{\"field\":\"start_time\"},\"right\":{\"field\":\"end_time\"},\"top\":{\"field\":\"top\"}},\"id\":\"54766\",\"type\":\"Quad\"},{\"attributes\":{},\"id\":\"54752\",\"type\":\"ResetTool\"},{\"attributes\":{\"bottom\":{\"field\":\"bottom\"},\"fill_alpha\":{\"field\":\"fill_alpha\"},\"fill_color\":{\"value\":\"#3288bd\"},\"left\":{\"field\":\"start_time\"},\"right\":{\"field\":\"end_time\"},\"top\":{\"field\":\"top\"}},\"id\":\"54773\",\"type\":\"Quad\"},{\"attributes\":{\"coordinates\":null,\"data_source\":{\"id\":\"54771\"},\"glyph\":{\"id\":\"54773\"},\"group\":null,\"hover_glyph\":null,\"muted_glyph\":{\"id\":\"54775\"},\"nonselection_glyph\":{\"id\":\"54774\"},\"view\":{\"id\":\"54777\"}},\"id\":\"54776\",\"type\":\"GlyphRenderer\"},{\"attributes\":{},\"id\":\"54802\",\"type\":\"Selection\"},{\"attributes\":{\"source\":{\"id\":\"54771\"}},\"id\":\"54777\",\"type\":\"CDSView\"},{\"attributes\":{\"bottom\":{\"field\":\"bottom\"},\"fill_alpha\":{\"value\":0.2},\"fill_color\":{\"value\":\"#3288bd\"},\"hatch_alpha\":{\"value\":0.2},\"left\":{\"field\":\"start_time\"},\"line_alpha\":{\"value\":0.2},\"right\":{\"field\":\"end_time\"},\"top\":{\"field\":\"top\"}},\"id\":\"54775\",\"type\":\"Quad\"},{\"attributes\":{\"callback\":null,\"tooltips\":[[\"pitch\",\"@pitch\"],[\"program\",\"@program\"],[\"velo\",\"@velocity\"],[\"duration\",\"@duration\"],[\"start_time\",\"@start_time\"],[\"end_time\",\"@end_time\"],[\"velocity\",\"@velocity\"],[\"fill_alpha\",\"@fill_alpha\"]]},\"id\":\"54749\",\"type\":\"HoverTool\"},{\"attributes\":{},\"id\":\"54742\",\"type\":\"BasicTicker\"},{\"attributes\":{},\"id\":\"54804\",\"type\":\"Selection\"},{\"attributes\":{\"tools\":[{\"id\":\"54749\"},{\"id\":\"54750\"},{\"id\":\"54751\"},{\"id\":\"54752\"},{\"id\":\"54753\"}]},\"id\":\"54755\",\"type\":\"Toolbar\"},{\"attributes\":{\"bottom\":{\"field\":\"bottom\"},\"fill_alpha\":{\"value\":0.1},\"fill_color\":{\"value\":\"#66c2a5\"},\"hatch_alpha\":{\"value\":0.1},\"left\":{\"field\":\"start_time\"},\"line_alpha\":{\"value\":0.1},\"right\":{\"field\":\"end_time\"},\"top\":{\"field\":\"top\"}},\"id\":\"54788\",\"type\":\"Quad\"},{\"attributes\":{\"coordinates\":null,\"data_source\":{\"id\":\"54764\"},\"glyph\":{\"id\":\"54766\"},\"group\":null,\"hover_glyph\":null,\"muted_glyph\":{\"id\":\"54768\"},\"nonselection_glyph\":{\"id\":\"54767\"},\"view\":{\"id\":\"54770\"}},\"id\":\"54769\",\"type\":\"GlyphRenderer\"},{\"attributes\":{\"coordinates\":null,\"data_source\":{\"id\":\"54778\"},\"glyph\":{\"id\":\"54780\"},\"group\":null,\"hover_glyph\":null,\"muted_glyph\":{\"id\":\"54782\"},\"nonselection_glyph\":{\"id\":\"54781\"},\"view\":{\"id\":\"54784\"}},\"id\":\"54783\",\"type\":\"GlyphRenderer\"}],\"root_ids\":[\"54732\"]},\"title\":\"Bokeh Application\",\"version\":\"2.4.3\"}};\n  const render_items = [{\"docid\":\"179b18e5-4c77-4e49-82f1-ba6ab412ba5a\",\"root_ids\":[\"54732\"],\"roots\":{\"54732\":\"e239c332-2586-4616-a741-8b16a67beed9\"}}];\n  root.Bokeh.embed.embed_items_notebook(docs_json, render_items);\n  }\n  if (root.Bokeh !== undefined) {\n    embed_document(root);\n  } else {\n    let attempts = 0;\n    const timer = setInterval(function(root) {\n      if (root.Bokeh !== undefined) {\n        clearInterval(timer);\n        embed_document(root);\n      } else {\n        attempts++;\n        if (attempts > 100) {\n          clearInterval(timer);\n          console.log(\"Bokeh: ERROR: Unable to run BokehJS code because BokehJS library is missing\");\n        }\n      }\n    }, 10, root)\n  }\n})(window);",
            "application/vnd.bokehjs_exec.v0+json": ""
          },
          "metadata": {
            "application/vnd.bokehjs_exec.v0+json": {
              "id": "54732"
            }
          },
          "output_type": "display_data"
        }
      ],
      "source": [
        "trim_sequences(seqs)\n",
        "fix_instruments_for_concatenation(seqs)\n",
        "prog_ns = concatenate_sequences(seqs)\n",
        "\n",
        "#play(prog_ns)\n",
        "mm.plot_sequence(prog_ns)"
      ]
    },
    {
      "cell_type": "code",
      "execution_count": 12,
      "metadata": {},
      "outputs": [],
      "source": [
        "seqs = [\n",
        "    model.decode(length=TOTAL_STEPS, z=z, temperature=temperature,\n",
        "                 c_input=chord_encoding(c))[0]\n",
        "    for c in chords\n",
        "]"
      ]
    },
    {
      "cell_type": "code",
      "execution_count": null,
      "metadata": {
        "id": "xwQyOx8E4NLK"
      },
      "outputs": [],
      "source": [
        "#@title (Optional) Save Arrangement to MIDI\n",
        "download(prog_ns, '_'.join(chords) + '.mid')"
      ]
    },
    {
      "cell_type": "code",
      "execution_count": 29,
      "metadata": {
        "id": "2bXqnFz9gAya"
      },
      "outputs": [
        {
          "data": {
            "text/html": [
              "<div class=\"bk-root\">\n",
              "        <a href=\"https://bokeh.org\" target=\"_blank\" class=\"bk-logo bk-logo-small bk-logo-notebook\"></a>\n",
              "        <span id=\"5690\">Loading BokehJS ...</span>\n",
              "    </div>\n"
            ]
          },
          "metadata": {},
          "output_type": "display_data"
        },
        {
          "data": {
            "application/javascript": "(function(root) {\n  function now() {\n    return new Date();\n  }\n\n  const force = true;\n\n  if (typeof root._bokeh_onload_callbacks === \"undefined\" || force === true) {\n    root._bokeh_onload_callbacks = [];\n    root._bokeh_is_loading = undefined;\n  }\n\nconst JS_MIME_TYPE = 'application/javascript';\n  const HTML_MIME_TYPE = 'text/html';\n  const EXEC_MIME_TYPE = 'application/vnd.bokehjs_exec.v0+json';\n  const CLASS_NAME = 'output_bokeh rendered_html';\n\n  /**\n   * Render data to the DOM node\n   */\n  function render(props, node) {\n    const script = document.createElement(\"script\");\n    node.appendChild(script);\n  }\n\n  /**\n   * Handle when an output is cleared or removed\n   */\n  function handleClearOutput(event, handle) {\n    const cell = handle.cell;\n\n    const id = cell.output_area._bokeh_element_id;\n    const server_id = cell.output_area._bokeh_server_id;\n    // Clean up Bokeh references\n    if (id != null && id in Bokeh.index) {\n      Bokeh.index[id].model.document.clear();\n      delete Bokeh.index[id];\n    }\n\n    if (server_id !== undefined) {\n      // Clean up Bokeh references\n      const cmd_clean = \"from bokeh.io.state import curstate; print(curstate().uuid_to_server['\" + server_id + \"'].get_sessions()[0].document.roots[0]._id)\";\n      cell.notebook.kernel.execute(cmd_clean, {\n        iopub: {\n          output: function(msg) {\n            const id = msg.content.text.trim();\n            if (id in Bokeh.index) {\n              Bokeh.index[id].model.document.clear();\n              delete Bokeh.index[id];\n            }\n          }\n        }\n      });\n      // Destroy server and session\n      const cmd_destroy = \"import bokeh.io.notebook as ion; ion.destroy_server('\" + server_id + \"')\";\n      cell.notebook.kernel.execute(cmd_destroy);\n    }\n  }\n\n  /**\n   * Handle when a new output is added\n   */\n  function handleAddOutput(event, handle) {\n    const output_area = handle.output_area;\n    const output = handle.output;\n\n    // limit handleAddOutput to display_data with EXEC_MIME_TYPE content only\n    if ((output.output_type != \"display_data\") || (!Object.prototype.hasOwnProperty.call(output.data, EXEC_MIME_TYPE))) {\n      return\n    }\n\n    const toinsert = output_area.element.find(\".\" + CLASS_NAME.split(' ')[0]);\n\n    if (output.metadata[EXEC_MIME_TYPE][\"id\"] !== undefined) {\n      toinsert[toinsert.length - 1].firstChild.textContent = output.data[JS_MIME_TYPE];\n      // store reference to embed id on output_area\n      output_area._bokeh_element_id = output.metadata[EXEC_MIME_TYPE][\"id\"];\n    }\n    if (output.metadata[EXEC_MIME_TYPE][\"server_id\"] !== undefined) {\n      const bk_div = document.createElement(\"div\");\n      bk_div.innerHTML = output.data[HTML_MIME_TYPE];\n      const script_attrs = bk_div.children[0].attributes;\n      for (let i = 0; i < script_attrs.length; i++) {\n        toinsert[toinsert.length - 1].firstChild.setAttribute(script_attrs[i].name, script_attrs[i].value);\n        toinsert[toinsert.length - 1].firstChild.textContent = bk_div.children[0].textContent\n      }\n      // store reference to server id on output_area\n      output_area._bokeh_server_id = output.metadata[EXEC_MIME_TYPE][\"server_id\"];\n    }\n  }\n\n  function register_renderer(events, OutputArea) {\n\n    function append_mime(data, metadata, element) {\n      // create a DOM node to render to\n      const toinsert = this.create_output_subarea(\n        metadata,\n        CLASS_NAME,\n        EXEC_MIME_TYPE\n      );\n      this.keyboard_manager.register_events(toinsert);\n      // Render to node\n      const props = {data: data, metadata: metadata[EXEC_MIME_TYPE]};\n      render(props, toinsert[toinsert.length - 1]);\n      element.append(toinsert);\n      return toinsert\n    }\n\n    /* Handle when an output is cleared or removed */\n    events.on('clear_output.CodeCell', handleClearOutput);\n    events.on('delete.Cell', handleClearOutput);\n\n    /* Handle when a new output is added */\n    events.on('output_added.OutputArea', handleAddOutput);\n\n    /**\n     * Register the mime type and append_mime function with output_area\n     */\n    OutputArea.prototype.register_mime_type(EXEC_MIME_TYPE, append_mime, {\n      /* Is output safe? */\n      safe: true,\n      /* Index of renderer in `output_area.display_order` */\n      index: 0\n    });\n  }\n\n  // register the mime type if in Jupyter Notebook environment and previously unregistered\n  if (root.Jupyter !== undefined) {\n    const events = require('base/js/events');\n    const OutputArea = require('notebook/js/outputarea').OutputArea;\n\n    if (OutputArea.prototype.mime_types().indexOf(EXEC_MIME_TYPE) == -1) {\n      register_renderer(events, OutputArea);\n    }\n  }\n  if (typeof (root._bokeh_timeout) === \"undefined\" || force === true) {\n    root._bokeh_timeout = Date.now() + 5000;\n    root._bokeh_failed_load = false;\n  }\n\n  const NB_LOAD_WARNING = {'data': {'text/html':\n     \"<div style='background-color: #fdd'>\\n\"+\n     \"<p>\\n\"+\n     \"BokehJS does not appear to have successfully loaded. If loading BokehJS from CDN, this \\n\"+\n     \"may be due to a slow or bad network connection. Possible fixes:\\n\"+\n     \"</p>\\n\"+\n     \"<ul>\\n\"+\n     \"<li>re-rerun `output_notebook()` to attempt to load from CDN again, or</li>\\n\"+\n     \"<li>use INLINE resources instead, as so:</li>\\n\"+\n     \"</ul>\\n\"+\n     \"<code>\\n\"+\n     \"from bokeh.resources import INLINE\\n\"+\n     \"output_notebook(resources=INLINE)\\n\"+\n     \"</code>\\n\"+\n     \"</div>\"}};\n\n  function display_loaded() {\n    const el = document.getElementById(\"5690\");\n    if (el != null) {\n      el.textContent = \"BokehJS is loading...\";\n    }\n    if (root.Bokeh !== undefined) {\n      if (el != null) {\n        el.textContent = \"BokehJS \" + root.Bokeh.version + \" successfully loaded.\";\n      }\n    } else if (Date.now() < root._bokeh_timeout) {\n      setTimeout(display_loaded, 100)\n    }\n  }\n\n  function run_callbacks() {\n    try {\n      root._bokeh_onload_callbacks.forEach(function(callback) {\n        if (callback != null)\n          callback();\n      });\n    } finally {\n      delete root._bokeh_onload_callbacks\n    }\n    console.debug(\"Bokeh: all callbacks have finished\");\n  }\n\n  function load_libs(css_urls, js_urls, callback) {\n    if (css_urls == null) css_urls = [];\n    if (js_urls == null) js_urls = [];\n\n    root._bokeh_onload_callbacks.push(callback);\n    if (root._bokeh_is_loading > 0) {\n      console.debug(\"Bokeh: BokehJS is being loaded, scheduling callback at\", now());\n      return null;\n    }\n    if (js_urls == null || js_urls.length === 0) {\n      run_callbacks();\n      return null;\n    }\n    console.debug(\"Bokeh: BokehJS not loaded, scheduling load and callback at\", now());\n    root._bokeh_is_loading = css_urls.length + js_urls.length;\n\n    function on_load() {\n      root._bokeh_is_loading--;\n      if (root._bokeh_is_loading === 0) {\n        console.debug(\"Bokeh: all BokehJS libraries/stylesheets loaded\");\n        run_callbacks()\n      }\n    }\n\n    function on_error(url) {\n      console.error(\"failed to load \" + url);\n    }\n\n    for (let i = 0; i < css_urls.length; i++) {\n      const url = css_urls[i];\n      const element = document.createElement(\"link\");\n      element.onload = on_load;\n      element.onerror = on_error.bind(null, url);\n      element.rel = \"stylesheet\";\n      element.type = \"text/css\";\n      element.href = url;\n      console.debug(\"Bokeh: injecting link tag for BokehJS stylesheet: \", url);\n      document.body.appendChild(element);\n    }\n\n    for (let i = 0; i < js_urls.length; i++) {\n      const url = js_urls[i];\n      const element = document.createElement('script');\n      element.onload = on_load;\n      element.onerror = on_error.bind(null, url);\n      element.async = false;\n      element.src = url;\n      console.debug(\"Bokeh: injecting script tag for BokehJS library: \", url);\n      document.head.appendChild(element);\n    }\n  };\n\n  function inject_raw_css(css) {\n    const element = document.createElement(\"style\");\n    element.appendChild(document.createTextNode(css));\n    document.body.appendChild(element);\n  }\n\n  const js_urls = [\"https://cdn.bokeh.org/bokeh/release/bokeh-2.4.3.min.js\", \"https://cdn.bokeh.org/bokeh/release/bokeh-gl-2.4.3.min.js\", \"https://cdn.bokeh.org/bokeh/release/bokeh-widgets-2.4.3.min.js\", \"https://cdn.bokeh.org/bokeh/release/bokeh-tables-2.4.3.min.js\", \"https://cdn.bokeh.org/bokeh/release/bokeh-mathjax-2.4.3.min.js\"];\n  const css_urls = [];\n\n  const inline_js = [    function(Bokeh) {\n      Bokeh.set_log_level(\"info\");\n    },\nfunction(Bokeh) {\n    }\n  ];\n\n  function run_inline_js() {\n    if (root.Bokeh !== undefined || force === true) {\n          for (let i = 0; i < inline_js.length; i++) {\n      inline_js[i].call(root, root.Bokeh);\n    }\nif (force === true) {\n        display_loaded();\n      }} else if (Date.now() < root._bokeh_timeout) {\n      setTimeout(run_inline_js, 100);\n    } else if (!root._bokeh_failed_load) {\n      console.log(\"Bokeh: BokehJS failed to load within specified timeout.\");\n      root._bokeh_failed_load = true;\n    } else if (force !== true) {\n      const cell = $(document.getElementById(\"5690\")).parents('.cell').data().cell;\n      cell.output_area.append_execute_result(NB_LOAD_WARNING)\n    }\n  }\n\n  if (root._bokeh_is_loading === 0) {\n    console.debug(\"Bokeh: BokehJS loaded, going straight to plotting\");\n    run_inline_js();\n  } else {\n    load_libs(css_urls, js_urls, function() {\n      console.debug(\"Bokeh: BokehJS plotting callback run at\", now());\n      run_inline_js();\n    });\n  }\n}(window));",
            "application/vnd.bokehjs_load.v0+json": ""
          },
          "metadata": {},
          "output_type": "display_data"
        },
        {
          "data": {
            "text/html": [
              "\n",
              "  <div class=\"bk-root\" id=\"bf0a072a-ece6-41c3-b703-42a101402242\" data-root-id=\"5551\"></div>\n"
            ]
          },
          "metadata": {},
          "output_type": "display_data"
        },
        {
          "data": {
            "application/javascript": "(function(root) {\n  function embed_document(root) {\n  const docs_json = {\"89ecfa72-218a-48a0-98c2-ad4c661f2a57\":{\"defs\":[],\"roots\":{\"references\":[{\"attributes\":{\"below\":[{\"id\":\"5560\"}],\"center\":[{\"id\":\"5563\"},{\"id\":\"5567\"}],\"height\":200,\"left\":[{\"id\":\"5564\"}],\"renderers\":[{\"id\":\"5588\"},{\"id\":\"5595\"},{\"id\":\"5602\"},{\"id\":\"5609\"},{\"id\":\"5616\"},{\"id\":\"5623\"},{\"id\":\"5630\"},{\"id\":\"5637\"},{\"id\":\"5644\"},{\"id\":\"5651\"},{\"id\":\"5658\"}],\"title\":{\"id\":\"5660\"},\"toolbar\":{\"id\":\"5574\"},\"width\":500,\"x_range\":{\"id\":\"5552\"},\"x_scale\":{\"id\":\"5556\"},\"y_range\":{\"id\":\"5554\"},\"y_scale\":{\"id\":\"5558\"}},\"id\":\"5551\",\"subtype\":\"Figure\",\"type\":\"Plot\"},{\"attributes\":{\"bottom\":{\"field\":\"bottom\"},\"fill_alpha\":{\"value\":0.2},\"fill_color\":{\"value\":\"#d53e4f\"},\"hatch_alpha\":{\"value\":0.2},\"left\":{\"field\":\"start_time\"},\"line_alpha\":{\"value\":0.2},\"right\":{\"field\":\"end_time\"},\"top\":{\"field\":\"top\"}},\"id\":\"5587\",\"type\":\"Quad\"},{\"attributes\":{\"data\":{\"bottom\":{\"__ndarray__\":\"ZmZmZmYmUEBmZmZmZiZRQGZmZmZmZlJA\",\"dtype\":\"float64\",\"order\":\"little\",\"shape\":[3]},\"duration\":{\"__ndarray__\":\"AAAAAAAAAEAAAAAAAAAAQAAAAAAAAABA\",\"dtype\":\"float64\",\"order\":\"little\",\"shape\":[3]},\"end_time\":{\"__ndarray__\":\"AAAAAAAAEEAAAAAAAAAQQAAAAAAAABBA\",\"dtype\":\"float64\",\"order\":\"little\",\"shape\":[3]},\"fill_alpha\":{\"__ndarray__\":\"AAAAAACA2D8AAAAAAIDYPwAAAAAAgNg/\",\"dtype\":\"float64\",\"order\":\"little\",\"shape\":[3]},\"index\":[52,53,54],\"instrument\":[11,11,11],\"pitch\":[65,69,74],\"program\":[49,49,49],\"start_time\":{\"__ndarray__\":\"AAAAAAAAAEAAAAAAAAAAQAAAAAAAAABA\",\"dtype\":\"float64\",\"order\":\"little\",\"shape\":[3]},\"top\":{\"__ndarray__\":\"mpmZmZlZUECamZmZmVlRQJqZmZmZmVJA\",\"dtype\":\"float64\",\"order\":\"little\",\"shape\":[3]},\"velocity\":[49,49,49]},\"selected\":{\"id\":\"5688\"},\"selection_policy\":{\"id\":\"5687\"}},\"id\":\"5653\",\"type\":\"ColumnDataSource\"},{\"attributes\":{\"source\":{\"id\":\"5604\"}},\"id\":\"5610\",\"type\":\"CDSView\"},{\"attributes\":{\"bottom\":{\"field\":\"bottom\"},\"fill_alpha\":{\"field\":\"fill_alpha\"},\"fill_color\":{\"value\":\"#d53e4f\"},\"left\":{\"field\":\"start_time\"},\"right\":{\"field\":\"end_time\"},\"top\":{\"field\":\"top\"}},\"id\":\"5634\",\"type\":\"Quad\"},{\"attributes\":{\"bottom\":{\"field\":\"bottom\"},\"fill_alpha\":{\"field\":\"fill_alpha\"},\"fill_color\":{\"value\":\"#fdae61\"},\"left\":{\"field\":\"start_time\"},\"right\":{\"field\":\"end_time\"},\"top\":{\"field\":\"top\"}},\"id\":\"5613\",\"type\":\"Quad\"},{\"attributes\":{\"bottom\":{\"field\":\"bottom\"},\"fill_alpha\":{\"value\":0.2},\"fill_color\":{\"value\":\"#fdae61\"},\"hatch_alpha\":{\"value\":0.2},\"left\":{\"field\":\"start_time\"},\"line_alpha\":{\"value\":0.2},\"right\":{\"field\":\"end_time\"},\"top\":{\"field\":\"top\"}},\"id\":\"5615\",\"type\":\"Quad\"},{\"attributes\":{\"coordinates\":null,\"data_source\":{\"id\":\"5583\"},\"glyph\":{\"id\":\"5585\"},\"group\":null,\"hover_glyph\":null,\"muted_glyph\":{\"id\":\"5587\"},\"nonselection_glyph\":{\"id\":\"5586\"},\"view\":{\"id\":\"5589\"}},\"id\":\"5588\",\"type\":\"GlyphRenderer\"},{\"attributes\":{\"data\":{\"bottom\":{\"__ndarray__\":\"ZmZmZmYmVEBmZmZmZiZUQGZmZmZmJlRAZmZmZmYmVEBmZmZmZiZUQGZmZmZmJlRAZmZmZmYmVEBmZmZmZiZUQA==\",\"dtype\":\"float64\",\"order\":\"little\",\"shape\":[8]},\"duration\":{\"__ndarray__\":\"AAAAAAAAwD8AAAAAAADAPwAAAAAAAMA/AAAAAAAAwD8AAAAAAADAPwAAAAAAAMA/AAAAAAAAwD+wqqqqqqrCPw==\",\"dtype\":\"float64\",\"order\":\"little\",\"shape\":[8]},\"end_time\":{\"__ndarray__\":\"VVVVVVVVzT+qqqqqqqreP1VVVVVVVec/VVVVVVVV7z+qqqqqqqrzP6qqqqqqqvc/qqqqqqqq+z8AAAAAAAAAQA==\",\"dtype\":\"float64\",\"order\":\"little\",\"shape\":[8]},\"fill_alpha\":{\"__ndarray__\":\"AAAAAABA5D8AAAAAAEDoPwAAAAAAQOg/AAAAAABA6D8AAAAAAEDoPwAAAAAAQOg/AAAAAABA6D8AAAAAAEDoPw==\",\"dtype\":\"float64\",\"order\":\"little\",\"shape\":[8]},\"index\":[2,19,24,29,31,36,38,43],\"instrument\":[2,2,2,2,2,2,2,2],\"pitch\":[81,81,81,81,81,81,81,81],\"program\":[73,73,73,73,73,73,73,73],\"start_time\":{\"__ndarray__\":\"qqqqqqqquj+qqqqqqqrWP1VVVVVVVeM/VVVVVVVV6z+qqqqqqqrxP6qqqqqqqvU/qqqqqqqq+T+qqqqqqqr9Pw==\",\"dtype\":\"float64\",\"order\":\"little\",\"shape\":[8]},\"top\":{\"__ndarray__\":\"mpmZmZlZVECamZmZmVlUQJqZmZmZWVRAmpmZmZlZVECamZmZmVlUQJqZmZmZWVRAmpmZmZlZVECamZmZmVlUQA==\",\"dtype\":\"float64\",\"order\":\"little\",\"shape\":[8]},\"velocity\":[81,97,97,97,97,97,97,97]},\"selected\":{\"id\":\"5670\"},\"selection_policy\":{\"id\":\"5669\"}},\"id\":\"5590\",\"type\":\"ColumnDataSource\"},{\"attributes\":{\"bottom\":{\"field\":\"bottom\"},\"fill_alpha\":{\"field\":\"fill_alpha\"},\"fill_color\":{\"value\":\"#3288bd\"},\"left\":{\"field\":\"start_time\"},\"right\":{\"field\":\"end_time\"},\"top\":{\"field\":\"top\"}},\"id\":\"5592\",\"type\":\"Quad\"},{\"attributes\":{\"bottom\":{\"field\":\"bottom\"},\"fill_alpha\":{\"field\":\"fill_alpha\"},\"fill_color\":{\"value\":\"#66c2a5\"},\"left\":{\"field\":\"start_time\"},\"right\":{\"field\":\"end_time\"},\"top\":{\"field\":\"top\"}},\"id\":\"5655\",\"type\":\"Quad\"},{\"attributes\":{\"bottom\":{\"field\":\"bottom\"},\"fill_alpha\":{\"field\":\"fill_alpha\"},\"fill_color\":{\"value\":\"#abdda4\"},\"left\":{\"field\":\"start_time\"},\"right\":{\"field\":\"end_time\"},\"top\":{\"field\":\"top\"}},\"id\":\"5620\",\"type\":\"Quad\"},{\"attributes\":{\"source\":{\"id\":\"5583\"}},\"id\":\"5589\",\"type\":\"CDSView\"},{\"attributes\":{\"data\":{\"bottom\":{\"__ndarray__\":\"zczMzMzMTkBmZmZmZiZQQGZmZmZmJlFAzczMzMzMTkBmZmZmZiZQQGZmZmZmJlFAzczMzMzMTkBmZmZmZiZQQGZmZmZmJlFAzczMzMzMTkBmZmZmZiZQQGZmZmZmJlFA\",\"dtype\":\"float64\",\"order\":\"little\",\"shape\":[12]},\"duration\":{\"__ndarray__\":\"AAAAAAAAsD8AAAAAAACwPwAAAAAAALA/AAAAAAAAsD8AAAAAAACwPwAAAAAAALA/AAAAAAAAsD8AAAAAAACwPwAAAAAAALA/AAAAAAAAsD8AAAAAAACwPwAAAAAAALA/\",\"dtype\":\"float64\",\"order\":\"little\",\"shape\":[12]},\"end_time\":{\"__ndarray__\":\"AAAAAAAAyD8AAAAAAADIPwAAAAAAAMg/AAAAAAAA5j8AAAAAAADmPwAAAAAAAOY/AAAAAAAA8z8AAAAAAADzPwAAAAAAAPM/AAAAAAAA+z8AAAAAAAD7PwAAAAAAAPs/\",\"dtype\":\"float64\",\"order\":\"little\",\"shape\":[12]},\"fill_alpha\":{\"__ndarray__\":\"AAAAAABA4D8AAAAAAEDkPwAAAAAAQOA/AAAAAABA4D8AAAAAAEDkPwAAAAAAQOA/AAAAAABA4D8AAAAAAEDkPwAAAAAAQOA/AAAAAABA4D8AAAAAAEDkPwAAAAAAQOA/\",\"dtype\":\"float64\",\"order\":\"little\",\"shape\":[12]},\"index\":[4,5,6,26,27,28,33,34,35,40,41,42],\"instrument\":[4,4,4,4,4,4,4,4,4,4,4,4],\"pitch\":[62,65,69,62,65,69,62,65,69,62,65,69],\"program\":[45,45,45,45,45,45,45,45,45,45,45,45],\"start_time\":{\"__ndarray__\":\"AAAAAAAAwD8AAAAAAADAPwAAAAAAAMA/AAAAAAAA5D8AAAAAAADkPwAAAAAAAOQ/AAAAAAAA8j8AAAAAAADyPwAAAAAAAPI/AAAAAAAA+j8AAAAAAAD6PwAAAAAAAPo/\",\"dtype\":\"float64\",\"order\":\"little\",\"shape\":[12]},\"top\":{\"__ndarray__\":\"MzMzMzMzT0CamZmZmVlQQJqZmZmZWVFAMzMzMzMzT0CamZmZmVlQQJqZmZmZWVFAMzMzMzMzT0CamZmZmVlQQJqZmZmZWVFAMzMzMzMzT0CamZmZmVlQQJqZmZmZWVFA\",\"dtype\":\"float64\",\"order\":\"little\",\"shape\":[12]},\"velocity\":[65,81,65,65,81,65,65,81,65,65,81,65]},\"selected\":{\"id\":\"5674\"},\"selection_policy\":{\"id\":\"5673\"}},\"id\":\"5604\",\"type\":\"ColumnDataSource\"},{\"attributes\":{\"bottom\":{\"field\":\"bottom\"},\"fill_alpha\":{\"value\":0.1},\"fill_color\":{\"value\":\"#fdae61\"},\"hatch_alpha\":{\"value\":0.1},\"left\":{\"field\":\"start_time\"},\"line_alpha\":{\"value\":0.1},\"right\":{\"field\":\"end_time\"},\"top\":{\"field\":\"top\"}},\"id\":\"5614\",\"type\":\"Quad\"},{\"attributes\":{\"data\":{\"bottom\":{\"__ndarray__\":\"zczMzMzMSEDNzMzMzMxOQGZmZmZmJlBAzczMzMxMTEDNzMzMzExMQM3MzMzMzE1AzczMzMxMSkDNzMzMzMxIQA==\",\"dtype\":\"float64\",\"order\":\"little\",\"shape\":[8]},\"duration\":{\"__ndarray__\":\"qqqqqqqq8D+qqqqqqqrwP6qqqqqqqvA/VFVVVVVV4T8AAAAAAADwPwAAAAAAAPA/AAAAAAAA8D8AAAAAAADgPw==\",\"dtype\":\"float64\",\"order\":\"little\",\"shape\":[8]},\"end_time\":{\"__ndarray__\":\"VVVVVVVVCEBVVVVVVVUIQFVVVVVVVQhAVVVVVVVVCEAAAAAAAAAQQAAAAAAAABBAAAAAAAAAEEAAAAAAAAAQQA==\",\"dtype\":\"float64\",\"order\":\"little\",\"shape\":[8]},\"fill_alpha\":{\"__ndarray__\":\"AAAAAACA0D8AAAAAAIDYPwAAAAAAQOA/AAAAAACA2D8AAAAAAIDYPwAAAAAAQOA/AAAAAABA4D8AAAAAAIDYPw==\",\"dtype\":\"float64\",\"order\":\"little\",\"shape\":[8]},\"index\":[46,47,48,61,69,70,71,78],\"instrument\":[7,7,7,7,7,7,7,7],\"pitch\":[50,62,65,57,57,60,53,50],\"program\":[25,25,25,25,25,25,25,25],\"start_time\":{\"__ndarray__\":\"AAAAAAAAAEAAAAAAAAAAQAAAAAAAAABAAAAAAAAABEAAAAAAAAAIQAAAAAAAAAhAAAAAAAAACEAAAAAAAAAMQA==\",\"dtype\":\"float64\",\"order\":\"little\",\"shape\":[8]},\"top\":{\"__ndarray__\":\"MzMzMzMzSUAzMzMzMzNPQJqZmZmZWVBAMzMzMzOzTEAzMzMzM7NMQDMzMzMzM05AMzMzMzOzSkAzMzMzMzNJQA==\",\"dtype\":\"float64\",\"order\":\"little\",\"shape\":[8]},\"velocity\":[33,49,65,49,49,65,65,49]},\"selected\":{\"id\":\"5680\"},\"selection_policy\":{\"id\":\"5679\"}},\"id\":\"5625\",\"type\":\"ColumnDataSource\"},{\"attributes\":{\"bottom\":{\"field\":\"bottom\"},\"fill_alpha\":{\"value\":0.1},\"fill_color\":{\"value\":\"#f46d43\"},\"hatch_alpha\":{\"value\":0.1},\"left\":{\"field\":\"start_time\"},\"line_alpha\":{\"value\":0.1},\"right\":{\"field\":\"end_time\"},\"top\":{\"field\":\"top\"}},\"id\":\"5649\",\"type\":\"Quad\"},{\"attributes\":{\"data\":{\"bottom\":{\"__ndarray__\":\"zczMzMzMTkDNzMzMzMxOQM3MzMzMzE5AzczMzMzMTkDNzMzMzMxOQM3MzMzMzE5AzczMzMzMTkDNzMzMzMxOQA==\",\"dtype\":\"float64\",\"order\":\"little\",\"shape\":[8]},\"duration\":{\"__ndarray__\":\"AAAAAAAAwD8AAAAAAADAPwAAAAAAAMA/AAAAAAAAwD8AAAAAAADAPwAAAAAAAMA/AAAAAAAAwD8AAAAAAADAPw==\",\"dtype\":\"float64\",\"order\":\"little\",\"shape\":[8]},\"end_time\":{\"__ndarray__\":\"AAAAAAAA0D8AAAAAAADgPwAAAAAAAOg/AAAAAAAA8D8AAAAAAAD0PwAAAAAAAPg/AAAAAAAA/D8AAAAAAAAAQA==\",\"dtype\":\"float64\",\"order\":\"little\",\"shape\":[8]},\"fill_alpha\":{\"__ndarray__\":\"AAAAAACA0D8AAAAAAEDgPwAAAAAAQOA/AAAAAABA4D8AAAAAAEDgPwAAAAAAQOA/AAAAAABA4D8AAAAAAEDgPw==\",\"dtype\":\"float64\",\"order\":\"little\",\"shape\":[8]},\"index\":[3,20,25,30,32,37,39,44],\"instrument\":[3,3,3,3,3,3,3,3],\"pitch\":[62,62,62,62,62,62,62,62],\"program\":[0,0,0,0,0,0,0,0],\"start_time\":{\"__ndarray__\":\"AAAAAAAAwD8AAAAAAADYPwAAAAAAAOQ/AAAAAAAA7D8AAAAAAADyPwAAAAAAAPY/AAAAAAAA+j8AAAAAAAD+Pw==\",\"dtype\":\"float64\",\"order\":\"little\",\"shape\":[8]},\"top\":{\"__ndarray__\":\"MzMzMzMzT0AzMzMzMzNPQDMzMzMzM09AMzMzMzMzT0AzMzMzMzNPQDMzMzMzM09AMzMzMzMzT0AzMzMzMzNPQA==\",\"dtype\":\"float64\",\"order\":\"little\",\"shape\":[8]},\"velocity\":[33,65,65,65,65,65,65,65]},\"selected\":{\"id\":\"5672\"},\"selection_policy\":{\"id\":\"5671\"}},\"id\":\"5597\",\"type\":\"ColumnDataSource\"},{\"attributes\":{\"bottom\":{\"field\":\"bottom\"},\"fill_alpha\":{\"value\":0.1},\"fill_color\":{\"value\":\"#e6f598\"},\"hatch_alpha\":{\"value\":0.1},\"left\":{\"field\":\"start_time\"},\"line_alpha\":{\"value\":0.1},\"right\":{\"field\":\"end_time\"},\"top\":{\"field\":\"top\"}},\"id\":\"5628\",\"type\":\"Quad\"},{\"attributes\":{},\"id\":\"5684\",\"type\":\"Selection\"},{\"attributes\":{\"coordinates\":null,\"data_source\":{\"id\":\"5604\"},\"glyph\":{\"id\":\"5606\"},\"group\":null,\"hover_glyph\":null,\"muted_glyph\":{\"id\":\"5608\"},\"nonselection_glyph\":{\"id\":\"5607\"},\"view\":{\"id\":\"5610\"}},\"id\":\"5609\",\"type\":\"GlyphRenderer\"},{\"attributes\":{\"source\":{\"id\":\"5611\"}},\"id\":\"5617\",\"type\":\"CDSView\"},{\"attributes\":{\"coordinates\":null,\"data_source\":{\"id\":\"5625\"},\"glyph\":{\"id\":\"5627\"},\"group\":null,\"hover_glyph\":null,\"muted_glyph\":{\"id\":\"5629\"},\"nonselection_glyph\":{\"id\":\"5628\"},\"view\":{\"id\":\"5631\"}},\"id\":\"5630\",\"type\":\"GlyphRenderer\"},{\"attributes\":{},\"id\":\"5673\",\"type\":\"UnionRenderers\"},{\"attributes\":{\"bottom\":{\"field\":\"bottom\"},\"fill_alpha\":{\"field\":\"fill_alpha\"},\"fill_color\":{\"value\":\"#d53e4f\"},\"left\":{\"field\":\"start_time\"},\"right\":{\"field\":\"end_time\"},\"top\":{\"field\":\"top\"}},\"id\":\"5585\",\"type\":\"Quad\"},{\"attributes\":{\"bottom\":{\"field\":\"bottom\"},\"fill_alpha\":{\"value\":0.1},\"fill_color\":{\"value\":\"#f46d43\"},\"hatch_alpha\":{\"value\":0.1},\"left\":{\"field\":\"start_time\"},\"line_alpha\":{\"value\":0.1},\"right\":{\"field\":\"end_time\"},\"top\":{\"field\":\"top\"}},\"id\":\"5600\",\"type\":\"Quad\"},{\"attributes\":{\"source\":{\"id\":\"5625\"}},\"id\":\"5631\",\"type\":\"CDSView\"},{\"attributes\":{\"bottom\":{\"field\":\"bottom\"},\"fill_alpha\":{\"field\":\"fill_alpha\"},\"fill_color\":{\"value\":\"#f46d43\"},\"left\":{\"field\":\"start_time\"},\"right\":{\"field\":\"end_time\"},\"top\":{\"field\":\"top\"}},\"id\":\"5599\",\"type\":\"Quad\"},{\"attributes\":{\"bottom\":{\"field\":\"bottom\"},\"fill_alpha\":{\"value\":0.1},\"fill_color\":{\"value\":\"#d53e4f\"},\"hatch_alpha\":{\"value\":0.1},\"left\":{\"field\":\"start_time\"},\"line_alpha\":{\"value\":0.1},\"right\":{\"field\":\"end_time\"},\"top\":{\"field\":\"top\"}},\"id\":\"5635\",\"type\":\"Quad\"},{\"attributes\":{\"bottom\":{\"field\":\"bottom\"},\"fill_alpha\":{\"field\":\"fill_alpha\"},\"fill_color\":{\"value\":\"#3288bd\"},\"left\":{\"field\":\"start_time\"},\"right\":{\"field\":\"end_time\"},\"top\":{\"field\":\"top\"}},\"id\":\"5641\",\"type\":\"Quad\"},{\"attributes\":{\"coordinates\":null,\"data_source\":{\"id\":\"5618\"},\"glyph\":{\"id\":\"5620\"},\"group\":null,\"hover_glyph\":null,\"muted_glyph\":{\"id\":\"5622\"},\"nonselection_glyph\":{\"id\":\"5621\"},\"view\":{\"id\":\"5624\"}},\"id\":\"5623\",\"type\":\"GlyphRenderer\"},{\"attributes\":{\"bottom\":{\"field\":\"bottom\"},\"fill_alpha\":{\"value\":0.2},\"fill_color\":{\"value\":\"#f46d43\"},\"hatch_alpha\":{\"value\":0.2},\"left\":{\"field\":\"start_time\"},\"line_alpha\":{\"value\":0.2},\"right\":{\"field\":\"end_time\"},\"top\":{\"field\":\"top\"}},\"id\":\"5601\",\"type\":\"Quad\"},{\"attributes\":{\"bottom\":{\"field\":\"bottom\"},\"fill_alpha\":{\"value\":0.2},\"fill_color\":{\"value\":\"#e6f598\"},\"hatch_alpha\":{\"value\":0.2},\"left\":{\"field\":\"start_time\"},\"line_alpha\":{\"value\":0.2},\"right\":{\"field\":\"end_time\"},\"top\":{\"field\":\"top\"}},\"id\":\"5629\",\"type\":\"Quad\"},{\"attributes\":{\"bottom\":{\"field\":\"bottom\"},\"fill_alpha\":{\"value\":0.2},\"fill_color\":{\"value\":\"#d53e4f\"},\"hatch_alpha\":{\"value\":0.2},\"left\":{\"field\":\"start_time\"},\"line_alpha\":{\"value\":0.2},\"right\":{\"field\":\"end_time\"},\"top\":{\"field\":\"top\"}},\"id\":\"5636\",\"type\":\"Quad\"},{\"attributes\":{\"coordinates\":null,\"data_source\":{\"id\":\"5590\"},\"glyph\":{\"id\":\"5592\"},\"group\":null,\"hover_glyph\":null,\"muted_glyph\":{\"id\":\"5594\"},\"nonselection_glyph\":{\"id\":\"5593\"},\"view\":{\"id\":\"5596\"}},\"id\":\"5595\",\"type\":\"GlyphRenderer\"},{\"attributes\":{\"coordinates\":null,\"data_source\":{\"id\":\"5597\"},\"glyph\":{\"id\":\"5599\"},\"group\":null,\"hover_glyph\":null,\"muted_glyph\":{\"id\":\"5601\"},\"nonselection_glyph\":{\"id\":\"5600\"},\"view\":{\"id\":\"5603\"}},\"id\":\"5602\",\"type\":\"GlyphRenderer\"},{\"attributes\":{\"source\":{\"id\":\"5639\"}},\"id\":\"5645\",\"type\":\"CDSView\"},{\"attributes\":{\"data\":{\"bottom\":{\"__ndarray__\":\"zczMzMxMQUDNzMzMzMxEQM3MzMzMTEJAzczMzMzMREDNzMzMzMxEQM3MzMzMTEFAzczMzMzMREDNzMzMzExCQM3MzMzMzERAzczMzMzMREA=\",\"dtype\":\"float64\",\"order\":\"little\",\"shape\":[10]},\"duration\":{\"__ndarray__\":\"gFVVVVVVlT+AVVVVVVWVPwBVVVVVVZU/AFVVVVVVlT+AVVVVVVWVPwBVVVVVVZU/AFVVVVVVlT8AVVVVVVWVPwBVVVVVVZU/gFVVVVVVlT8=\",\"dtype\":\"float64\",\"order\":\"little\",\"shape\":[10]},\"end_time\":{\"__ndarray__\":\"q6qqqqoqAECrqqqqqioAQKqqqqqqKgRAqqqqqqoqBEBVVVVVVdUGQKqqqqqqKghAqqqqqqoqCECqqqqqqioMQKqqqqqqKgxAVVVVVVXVDkA=\",\"dtype\":\"float64\",\"order\":\"little\",\"shape\":[10]},\"fill_alpha\":{\"__ndarray__\":\"AAAAAABA4D8AAAAAAEDgPwAAAAAAQOA/AAAAAABA4D8AAAAAAIDQPwAAAAAAQOA/AAAAAABA4D8AAAAAAEDgPwAAAAAAQOA/AAAAAAAAwT8=\",\"dtype\":\"float64\",\"order\":\"little\",\"shape\":[10]},\"index\":[55,56,63,64,67,74,75,80,81,83],\"instrument\":[9,9,9,9,9,9,9,9,9,9],\"pitch\":[35,42,37,42,42,35,42,37,42,42],\"program\":[0,0,0,0,0,0,0,0,0,0],\"start_time\":{\"__ndarray__\":\"AAAAAAAAAEAAAAAAAAAAQAAAAAAAAARAAAAAAAAABECqqqqqqqoGQAAAAAAAAAhAAAAAAAAACEAAAAAAAAAMQAAAAAAAAAxAqqqqqqqqDkA=\",\"dtype\":\"float64\",\"order\":\"little\",\"shape\":[10]},\"top\":{\"__ndarray__\":\"MzMzMzOzQUAzMzMzMzNFQDMzMzMzs0JAMzMzMzMzRUAzMzMzMzNFQDMzMzMzs0FAMzMzMzMzRUAzMzMzM7NCQDMzMzMzM0VAMzMzMzMzRUA=\",\"dtype\":\"float64\",\"order\":\"little\",\"shape\":[10]},\"velocity\":[65,65,65,65,33,65,65,65,65,17]},\"selected\":{\"id\":\"5684\"},\"selection_policy\":{\"id\":\"5683\"}},\"id\":\"5639\",\"type\":\"ColumnDataSource\"},{\"attributes\":{},\"id\":\"5683\",\"type\":\"UnionRenderers\"},{\"attributes\":{\"source\":{\"id\":\"5597\"}},\"id\":\"5603\",\"type\":\"CDSView\"},{\"attributes\":{\"bottom\":{\"field\":\"bottom\"},\"fill_alpha\":{\"field\":\"fill_alpha\"},\"fill_color\":{\"value\":\"#e6f598\"},\"left\":{\"field\":\"start_time\"},\"right\":{\"field\":\"end_time\"},\"top\":{\"field\":\"top\"}},\"id\":\"5627\",\"type\":\"Quad\"},{\"attributes\":{\"coordinates\":null,\"data_source\":{\"id\":\"5632\"},\"glyph\":{\"id\":\"5634\"},\"group\":null,\"hover_glyph\":null,\"muted_glyph\":{\"id\":\"5636\"},\"nonselection_glyph\":{\"id\":\"5635\"},\"view\":{\"id\":\"5638\"}},\"id\":\"5637\",\"type\":\"GlyphRenderer\"},{\"attributes\":{\"bottom\":{\"field\":\"bottom\"},\"fill_alpha\":{\"value\":0.2},\"fill_color\":{\"value\":\"#abdda4\"},\"hatch_alpha\":{\"value\":0.2},\"left\":{\"field\":\"start_time\"},\"line_alpha\":{\"value\":0.2},\"right\":{\"field\":\"end_time\"},\"top\":{\"field\":\"top\"}},\"id\":\"5622\",\"type\":\"Quad\"},{\"attributes\":{\"bottom\":{\"field\":\"bottom\"},\"fill_alpha\":{\"value\":0.2},\"fill_color\":{\"value\":\"#3288bd\"},\"hatch_alpha\":{\"value\":0.2},\"left\":{\"field\":\"start_time\"},\"line_alpha\":{\"value\":0.2},\"right\":{\"field\":\"end_time\"},\"top\":{\"field\":\"top\"}},\"id\":\"5643\",\"type\":\"Quad\"},{\"attributes\":{\"bottom\":{\"field\":\"bottom\"},\"fill_alpha\":{\"field\":\"fill_alpha\"},\"fill_color\":{\"value\":\"#f46d43\"},\"left\":{\"field\":\"start_time\"},\"right\":{\"field\":\"end_time\"},\"top\":{\"field\":\"top\"}},\"id\":\"5648\",\"type\":\"Quad\"},{\"attributes\":{\"bottom\":{\"field\":\"bottom\"},\"fill_alpha\":{\"value\":0.2},\"fill_color\":{\"value\":\"#f46d43\"},\"hatch_alpha\":{\"value\":0.2},\"left\":{\"field\":\"start_time\"},\"line_alpha\":{\"value\":0.2},\"right\":{\"field\":\"end_time\"},\"top\":{\"field\":\"top\"}},\"id\":\"5650\",\"type\":\"Quad\"},{\"attributes\":{\"data\":{\"bottom\":{\"__ndarray__\":\"zczMzMzMTkBmZmZmZiZQQGZmZmZmJlFAZmZmZmbmUUBmZmZmZiZRQGZmZmZmJlBAZmZmZmYmUUBmZmZmZiZQQA==\",\"dtype\":\"float64\",\"order\":\"little\",\"shape\":[8]},\"duration\":{\"__ndarray__\":\"AAAAAAAAAEBUVVVVVVXpP1BVVVVVVdU/AAAAAAAA9D8AAAAAAADUPwAAAAAAANQ/AAAAAAAA1D8AAAAAAADQPw==\",\"dtype\":\"float64\",\"order\":\"little\",\"shape\":[8]},\"end_time\":{\"__ndarray__\":\"AAAAAAAAEEBVVVVVVVUIQKqqqqqqqgZAAAAAAAAAEEAAAAAAAIAKQAAAAAAAgAxAAAAAAACADkAAAAAAAAAQQA==\",\"dtype\":\"float64\",\"order\":\"little\",\"shape\":[8]},\"fill_alpha\":{\"__ndarray__\":\"AAAAAABA5D8AAAAAAEDgPwAAAAAAQOQ/AAAAAABA4D8AAAAAAEDkPwAAAAAAQOA/AAAAAABA4D8AAAAAAEDkPw==\",\"dtype\":\"float64\",\"order\":\"little\",\"shape\":[8]},\"index\":[45,59,60,65,68,76,77,82],\"instrument\":[6,6,6,6,6,6,6,6],\"pitch\":[62,65,69,72,69,65,69,65],\"program\":[1,1,1,1,1,1,1,1],\"start_time\":{\"__ndarray__\":\"AAAAAAAAAEAAAAAAAAACQAAAAAAAAARAAAAAAAAABkAAAAAAAAAIQAAAAAAAAApAAAAAAAAADEAAAAAAAAAOQA==\",\"dtype\":\"float64\",\"order\":\"little\",\"shape\":[8]},\"top\":{\"__ndarray__\":\"MzMzMzMzT0CamZmZmVlQQJqZmZmZWVFAmpmZmZkZUkCamZmZmVlRQJqZmZmZWVBAmpmZmZlZUUCamZmZmVlQQA==\",\"dtype\":\"float64\",\"order\":\"little\",\"shape\":[8]},\"velocity\":[81,65,81,65,81,65,65,81]},\"selected\":{\"id\":\"5678\"},\"selection_policy\":{\"id\":\"5677\"}},\"id\":\"5618\",\"type\":\"ColumnDataSource\"},{\"attributes\":{\"bottom\":{\"field\":\"bottom\"},\"fill_alpha\":{\"value\":0.2},\"fill_color\":{\"value\":\"#3288bd\"},\"hatch_alpha\":{\"value\":0.2},\"left\":{\"field\":\"start_time\"},\"line_alpha\":{\"value\":0.2},\"right\":{\"field\":\"end_time\"},\"top\":{\"field\":\"top\"}},\"id\":\"5594\",\"type\":\"Quad\"},{\"attributes\":{\"data\":{\"bottom\":{\"__ndarray__\":\"zczMzMzMQkDNzMzMzMxCQM3MzMzMzEJA\",\"dtype\":\"float64\",\"order\":\"little\",\"shape\":[3]},\"duration\":{\"__ndarray__\":\"qKqqqqqq5j9QVVVVVVXFP1RVVVVVVe8/\",\"dtype\":\"float64\",\"order\":\"little\",\"shape\":[3]},\"end_time\":{\"__ndarray__\":\"qqqqqqqqBUBVVVVVVVUHQFVVVVVV1Q9A\",\"dtype\":\"float64\",\"order\":\"little\",\"shape\":[3]},\"fill_alpha\":{\"__ndarray__\":\"AAAAAABA5D8AAAAAAEDkPwAAAAAAQOQ/\",\"dtype\":\"float64\",\"order\":\"little\",\"shape\":[3]},\"index\":[50,66,73],\"instrument\":[10,10,10],\"pitch\":[38,38,38],\"program\":[35,35,35],\"start_time\":{\"__ndarray__\":\"AAAAAAAAAEAAAAAAAAAGQAAAAAAAAAhA\",\"dtype\":\"float64\",\"order\":\"little\",\"shape\":[3]},\"top\":{\"__ndarray__\":\"MzMzMzMzQ0AzMzMzMzNDQDMzMzMzM0NA\",\"dtype\":\"float64\",\"order\":\"little\",\"shape\":[3]},\"velocity\":[81,81,81]},\"selected\":{\"id\":\"5686\"},\"selection_policy\":{\"id\":\"5685\"}},\"id\":\"5646\",\"type\":\"ColumnDataSource\"},{\"attributes\":{\"coordinates\":null,\"data_source\":{\"id\":\"5611\"},\"glyph\":{\"id\":\"5613\"},\"group\":null,\"hover_glyph\":null,\"muted_glyph\":{\"id\":\"5615\"},\"nonselection_glyph\":{\"id\":\"5614\"},\"view\":{\"id\":\"5617\"}},\"id\":\"5616\",\"type\":\"GlyphRenderer\"},{\"attributes\":{\"data\":{\"bottom\":{\"__ndarray__\":\"zczMzMzMTkBmZmZmZiZQQGZmZmZmJlFAzczMzMxMTEDNzMzMzMxOQGZmZmZmJlBA\",\"dtype\":\"float64\",\"order\":\"little\",\"shape\":[6]},\"duration\":{\"__ndarray__\":\"AAAAAAAA/j8AAAAAAAD+PwAAAAAAAP4/AAAAAAAA/j8AAAAAAAD+PwAAAAAAAP4/\",\"dtype\":\"float64\",\"order\":\"little\",\"shape\":[6]},\"end_time\":{\"__ndarray__\":\"AAAAAAAAAEAAAAAAAAAAQAAAAAAAAABAAAAAAAAAAEAAAAAAAAAAQAAAAAAAAABA\",\"dtype\":\"float64\",\"order\":\"little\",\"shape\":[6]},\"fill_alpha\":{\"__ndarray__\":\"AAAAAABA4D8AAAAAAEDkPwAAAAAAQOA/AAAAAACA2D8AAAAAAEDgPwAAAAAAgNg/\",\"dtype\":\"float64\",\"order\":\"little\",\"shape\":[6]},\"index\":[8,9,10,11,12,13],\"instrument\":[5,5,5,5,5,5],\"pitch\":[62,65,69,57,62,65],\"program\":[89,89,89,89,89,89],\"start_time\":{\"__ndarray__\":\"AAAAAAAAwD8AAAAAAADAPwAAAAAAAMA/AAAAAAAAwD8AAAAAAADAPwAAAAAAAMA/\",\"dtype\":\"float64\",\"order\":\"little\",\"shape\":[6]},\"top\":{\"__ndarray__\":\"MzMzMzMzT0CamZmZmVlQQJqZmZmZWVFAMzMzMzOzTEAzMzMzMzNPQJqZmZmZWVBA\",\"dtype\":\"float64\",\"order\":\"little\",\"shape\":[6]},\"velocity\":[65,81,65,49,65,49]},\"selected\":{\"id\":\"5676\"},\"selection_policy\":{\"id\":\"5675\"}},\"id\":\"5611\",\"type\":\"ColumnDataSource\"},{\"attributes\":{\"bottom\":{\"field\":\"bottom\"},\"fill_alpha\":{\"value\":0.1},\"fill_color\":{\"value\":\"#3288bd\"},\"hatch_alpha\":{\"value\":0.1},\"left\":{\"field\":\"start_time\"},\"line_alpha\":{\"value\":0.1},\"right\":{\"field\":\"end_time\"},\"top\":{\"field\":\"top\"}},\"id\":\"5642\",\"type\":\"Quad\"},{\"attributes\":{\"source\":{\"id\":\"5618\"}},\"id\":\"5624\",\"type\":\"CDSView\"},{\"attributes\":{},\"id\":\"5676\",\"type\":\"Selection\"},{\"attributes\":{\"bottom\":{\"field\":\"bottom\"},\"fill_alpha\":{\"value\":0.1},\"fill_color\":{\"value\":\"#3288bd\"},\"hatch_alpha\":{\"value\":0.1},\"left\":{\"field\":\"start_time\"},\"line_alpha\":{\"value\":0.1},\"right\":{\"field\":\"end_time\"},\"top\":{\"field\":\"top\"}},\"id\":\"5593\",\"type\":\"Quad\"},{\"attributes\":{\"bottom\":{\"field\":\"bottom\"},\"fill_alpha\":{\"value\":0.1},\"fill_color\":{\"value\":\"#abdda4\"},\"hatch_alpha\":{\"value\":0.1},\"left\":{\"field\":\"start_time\"},\"line_alpha\":{\"value\":0.1},\"right\":{\"field\":\"end_time\"},\"top\":{\"field\":\"top\"}},\"id\":\"5621\",\"type\":\"Quad\"},{\"attributes\":{\"source\":{\"id\":\"5632\"}},\"id\":\"5638\",\"type\":\"CDSView\"},{\"attributes\":{\"source\":{\"id\":\"5590\"}},\"id\":\"5596\",\"type\":\"CDSView\"},{\"attributes\":{\"coordinates\":null,\"data_source\":{\"id\":\"5639\"},\"glyph\":{\"id\":\"5641\"},\"group\":null,\"hover_glyph\":null,\"muted_glyph\":{\"id\":\"5643\"},\"nonselection_glyph\":{\"id\":\"5642\"},\"view\":{\"id\":\"5645\"}},\"id\":\"5644\",\"type\":\"GlyphRenderer\"},{\"attributes\":{\"bottom\":{\"field\":\"bottom\"},\"fill_alpha\":{\"value\":0.2},\"fill_color\":{\"value\":\"#66c2a5\"},\"hatch_alpha\":{\"value\":0.2},\"left\":{\"field\":\"start_time\"},\"line_alpha\":{\"value\":0.2},\"right\":{\"field\":\"end_time\"},\"top\":{\"field\":\"top\"}},\"id\":\"5608\",\"type\":\"Quad\"},{\"attributes\":{},\"id\":\"5675\",\"type\":\"UnionRenderers\"},{\"attributes\":{\"bottom\":{\"field\":\"bottom\"},\"fill_alpha\":{\"value\":0.1},\"fill_color\":{\"value\":\"#d53e4f\"},\"hatch_alpha\":{\"value\":0.1},\"left\":{\"field\":\"start_time\"},\"line_alpha\":{\"value\":0.1},\"right\":{\"field\":\"end_time\"},\"top\":{\"field\":\"top\"}},\"id\":\"5586\",\"type\":\"Quad\"},{\"attributes\":{},\"id\":\"5677\",\"type\":\"UnionRenderers\"},{\"attributes\":{\"coordinates\":null,\"data_source\":{\"id\":\"5653\"},\"glyph\":{\"id\":\"5655\"},\"group\":null,\"hover_glyph\":null,\"muted_glyph\":{\"id\":\"5657\"},\"nonselection_glyph\":{\"id\":\"5656\"},\"view\":{\"id\":\"5659\"}},\"id\":\"5658\",\"type\":\"GlyphRenderer\"},{\"attributes\":{},\"id\":\"5665\",\"type\":\"BasicTickFormatter\"},{\"attributes\":{\"axis_label\":\"pitch (MIDI)\",\"coordinates\":null,\"formatter\":{\"id\":\"5662\"},\"group\":null,\"major_label_policy\":{\"id\":\"5663\"},\"ticker\":{\"id\":\"5580\"}},\"id\":\"5564\",\"type\":\"LinearAxis\"},{\"attributes\":{},\"id\":\"5669\",\"type\":\"UnionRenderers\"},{\"attributes\":{\"bottom\":{\"field\":\"bottom\"},\"fill_alpha\":{\"field\":\"fill_alpha\"},\"fill_color\":{\"value\":\"#66c2a5\"},\"left\":{\"field\":\"start_time\"},\"right\":{\"field\":\"end_time\"},\"top\":{\"field\":\"top\"}},\"id\":\"5606\",\"type\":\"Quad\"},{\"attributes\":{\"source\":{\"id\":\"5653\"}},\"id\":\"5659\",\"type\":\"CDSView\"},{\"attributes\":{\"bottom\":{\"field\":\"bottom\"},\"fill_alpha\":{\"value\":0.1},\"fill_color\":{\"value\":\"#66c2a5\"},\"hatch_alpha\":{\"value\":0.1},\"left\":{\"field\":\"start_time\"},\"line_alpha\":{\"value\":0.1},\"right\":{\"field\":\"end_time\"},\"top\":{\"field\":\"top\"}},\"id\":\"5656\",\"type\":\"Quad\"},{\"attributes\":{},\"id\":\"5666\",\"type\":\"AllLabels\"},{\"attributes\":{},\"id\":\"5678\",\"type\":\"Selection\"},{\"attributes\":{\"bottom\":{\"field\":\"bottom\"},\"fill_alpha\":{\"value\":0.1},\"fill_color\":{\"value\":\"#66c2a5\"},\"hatch_alpha\":{\"value\":0.1},\"left\":{\"field\":\"start_time\"},\"line_alpha\":{\"value\":0.1},\"right\":{\"field\":\"end_time\"},\"top\":{\"field\":\"top\"}},\"id\":\"5607\",\"type\":\"Quad\"},{\"attributes\":{},\"id\":\"5554\",\"type\":\"DataRange1d\"},{\"attributes\":{\"bottom\":{\"field\":\"bottom\"},\"fill_alpha\":{\"value\":0.2},\"fill_color\":{\"value\":\"#66c2a5\"},\"hatch_alpha\":{\"value\":0.2},\"left\":{\"field\":\"start_time\"},\"line_alpha\":{\"value\":0.2},\"right\":{\"field\":\"end_time\"},\"top\":{\"field\":\"top\"}},\"id\":\"5657\",\"type\":\"Quad\"},{\"attributes\":{},\"id\":\"5674\",\"type\":\"Selection\"},{\"attributes\":{\"axis\":{\"id\":\"5564\"},\"coordinates\":null,\"dimension\":1,\"group\":null,\"ticker\":{\"id\":\"5582\"}},\"id\":\"5567\",\"type\":\"Grid\"},{\"attributes\":{\"coordinates\":null,\"group\":null},\"id\":\"5660\",\"type\":\"Title\"},{\"attributes\":{},\"id\":\"5668\",\"type\":\"Selection\"},{\"attributes\":{},\"id\":\"5686\",\"type\":\"Selection\"},{\"attributes\":{},\"id\":\"5662\",\"type\":\"BasicTickFormatter\"},{\"attributes\":{},\"id\":\"5663\",\"type\":\"AllLabels\"},{\"attributes\":{},\"id\":\"5561\",\"type\":\"BasicTicker\"},{\"attributes\":{\"interval\":12},\"id\":\"5582\",\"type\":\"SingleIntervalTicker\"},{\"attributes\":{},\"id\":\"5682\",\"type\":\"Selection\"},{\"attributes\":{},\"id\":\"5681\",\"type\":\"UnionRenderers\"},{\"attributes\":{\"tools\":[{\"id\":\"5568\"},{\"id\":\"5569\"},{\"id\":\"5570\"},{\"id\":\"5571\"},{\"id\":\"5572\"}]},\"id\":\"5574\",\"type\":\"Toolbar\"},{\"attributes\":{},\"id\":\"5667\",\"type\":\"UnionRenderers\"},{\"attributes\":{\"data\":{\"bottom\":{\"__ndarray__\":\"zczMzMzMQkDNzMzMzMxCQM3MzMzMzEJAzczMzMzMQkA=\",\"dtype\":\"float64\",\"order\":\"little\",\"shape\":[4]},\"duration\":{\"__ndarray__\":\"AAAAAAAA4D8AAAAAAADgPwAAAAAAAOA/AAAAAAAA4D8=\",\"dtype\":\"float64\",\"order\":\"little\",\"shape\":[4]},\"end_time\":{\"__ndarray__\":\"AAAAAAAABEAAAAAAAAAIQAAAAAAAAAxAAAAAAAAAEEA=\",\"dtype\":\"float64\",\"order\":\"little\",\"shape\":[4]},\"fill_alpha\":{\"__ndarray__\":\"AAAAAABA5D8AAAAAAEDgPwAAAAAAQOQ/AAAAAABA4D8=\",\"dtype\":\"float64\",\"order\":\"little\",\"shape\":[4]},\"index\":[49,62,72,79],\"instrument\":[8,8,8,8],\"pitch\":[38,38,38,38],\"program\":[33,33,33,33],\"start_time\":{\"__ndarray__\":\"AAAAAAAAAEAAAAAAAAAEQAAAAAAAAAhAAAAAAAAADEA=\",\"dtype\":\"float64\",\"order\":\"little\",\"shape\":[4]},\"top\":{\"__ndarray__\":\"MzMzMzMzQ0AzMzMzMzNDQDMzMzMzM0NAMzMzMzMzQ0A=\",\"dtype\":\"float64\",\"order\":\"little\",\"shape\":[4]},\"velocity\":[81,65,81,65]},\"selected\":{\"id\":\"5682\"},\"selection_policy\":{\"id\":\"5681\"}},\"id\":\"5632\",\"type\":\"ColumnDataSource\"},{\"attributes\":{\"callback\":null,\"tooltips\":[[\"pitch\",\"@pitch\"],[\"program\",\"@program\"],[\"velo\",\"@velocity\"],[\"duration\",\"@duration\"],[\"start_time\",\"@start_time\"],[\"end_time\",\"@end_time\"],[\"velocity\",\"@velocity\"],[\"fill_alpha\",\"@fill_alpha\"]]},\"id\":\"5568\",\"type\":\"HoverTool\"},{\"attributes\":{},\"id\":\"5572\",\"type\":\"SaveTool\"},{\"attributes\":{},\"id\":\"5571\",\"type\":\"ResetTool\"},{\"attributes\":{\"coordinates\":null,\"data_source\":{\"id\":\"5646\"},\"glyph\":{\"id\":\"5648\"},\"group\":null,\"hover_glyph\":null,\"muted_glyph\":{\"id\":\"5650\"},\"nonselection_glyph\":{\"id\":\"5649\"},\"view\":{\"id\":\"5652\"}},\"id\":\"5651\",\"type\":\"GlyphRenderer\"},{\"attributes\":{\"source\":{\"id\":\"5646\"}},\"id\":\"5652\",\"type\":\"CDSView\"},{\"attributes\":{\"overlay\":{\"id\":\"5573\"}},\"id\":\"5570\",\"type\":\"BoxZoomTool\"},{\"attributes\":{\"axis\":{\"id\":\"5560\"},\"coordinates\":null,\"group\":null,\"ticker\":null},\"id\":\"5563\",\"type\":\"Grid\"},{\"attributes\":{},\"id\":\"5569\",\"type\":\"PanTool\"},{\"attributes\":{\"data\":{\"bottom\":{\"__ndarray__\":\"ZmZmZmZmUkBmZmZmZiZTQGZmZmZmZlJAZmZmZmZmUkBmZmZmZmZSQGZmZmZm5lFAZmZmZmZmUkBmZmZmZuZRQGZmZmZmZlJAZmZmZmbmUUBmZmZmZiZRQGZmZmZmZlJAZmZmZmYmUEBmZmZmZiZRQA==\",\"dtype\":\"float64\",\"order\":\"little\",\"shape\":[14]},\"duration\":{\"__ndarray__\":\"////////rz8AAAAAAACwP1RVVVVVVaU/UFVVVVVVlT9YVVVVVVWVP1BVVVVVVZU/UFVVVVVVlT9gVVVVVVWVP1BVVVVVVZU/UFVVVVVVlT9gVVVVVVWVP1RVVVVVVf8//v///////j/+///////+Pw==\",\"dtype\":\"float64\",\"order\":\"little\",\"shape\":[14]},\"end_time\":{\"__ndarray__\":\"qqqqqqqquj8AAAAAAADAP1VVVVVVVcU/qqqqqqqqyj8AAAAAAADQP6qqqqqqqtI/VVVVVVVV1T8AAAAAAADYP6qqqqqqqto/VVVVVVVV3T8AAAAAAADgP6qqqqqqqg9AqqqqqqqqD0CqqqqqqqoPQA==\",\"dtype\":\"float64\",\"order\":\"little\",\"shape\":[14]},\"fill_alpha\":{\"__ndarray__\":\"AAAAAABA4D8AAAAAAIDYPwAAAAAAQOA/AAAAAACA2D8AAAAAAEDgPwAAAAAAgNg/AAAAAABA4D8AAAAAAIDYPwAAAAAAQOA/AAAAAACA2D8AAAAAAIDYPwAAAAAAgNg/AAAAAACA0D8AAAAAAIDYPw==\",\"dtype\":\"float64\",\"order\":\"little\",\"shape\":[14]},\"index\":[0,1,7,14,15,16,17,18,21,22,23,51,57,58],\"instrument\":[1,1,1,1,1,1,1,1,1,1,1,1,1,1],\"pitch\":[74,77,74,74,74,72,74,72,74,72,69,74,65,69],\"program\":[48,48,48,48,48,48,48,48,48,48,48,48,48,48],\"start_time\":{\"__ndarray__\":\"VVVVVVVVpT8AAAAAAACwPwAAAAAAAMA/AAAAAAAAyD9VVVVVVVXNP1VVVVVVVdE/AAAAAAAA1D+qqqqqqqrWP1VVVVVVVdk/AAAAAAAA3D+qqqqqqqrePwAAAAAAAABAq6qqqqoqAECrqqqqqioAQA==\",\"dtype\":\"float64\",\"order\":\"little\",\"shape\":[14]},\"top\":{\"__ndarray__\":\"mpmZmZmZUkCamZmZmVlTQJqZmZmZmVJAmpmZmZmZUkCamZmZmZlSQJqZmZmZGVJAmpmZmZmZUkCamZmZmRlSQJqZmZmZmVJAmpmZmZkZUkCamZmZmVlRQJqZmZmZmVJAmpmZmZlZUECamZmZmVlRQA==\",\"dtype\":\"float64\",\"order\":\"little\",\"shape\":[14]},\"velocity\":[65,49,65,49,65,49,65,49,65,49,49,49,33,49]},\"selected\":{\"id\":\"5668\"},\"selection_policy\":{\"id\":\"5667\"}},\"id\":\"5583\",\"type\":\"ColumnDataSource\"},{\"attributes\":{},\"id\":\"5672\",\"type\":\"Selection\"},{\"attributes\":{},\"id\":\"5558\",\"type\":\"LinearScale\"},{\"attributes\":{},\"id\":\"5556\",\"type\":\"LinearScale\"},{\"attributes\":{},\"id\":\"5688\",\"type\":\"Selection\"},{\"attributes\":{},\"id\":\"5670\",\"type\":\"Selection\"},{\"attributes\":{},\"id\":\"5687\",\"type\":\"UnionRenderers\"},{\"attributes\":{},\"id\":\"5685\",\"type\":\"UnionRenderers\"},{\"attributes\":{},\"id\":\"5552\",\"type\":\"DataRange1d\"},{\"attributes\":{\"interval\":12},\"id\":\"5580\",\"type\":\"SingleIntervalTicker\"},{\"attributes\":{\"axis_label\":\"time (sec)\",\"coordinates\":null,\"formatter\":{\"id\":\"5665\"},\"group\":null,\"major_label_policy\":{\"id\":\"5666\"},\"ticker\":{\"id\":\"5561\"}},\"id\":\"5560\",\"type\":\"LinearAxis\"},{\"attributes\":{},\"id\":\"5680\",\"type\":\"Selection\"},{\"attributes\":{},\"id\":\"5671\",\"type\":\"UnionRenderers\"},{\"attributes\":{\"bottom_units\":\"screen\",\"coordinates\":null,\"fill_alpha\":0.5,\"fill_color\":\"lightgrey\",\"group\":null,\"left_units\":\"screen\",\"level\":\"overlay\",\"line_alpha\":1.0,\"line_color\":\"black\",\"line_dash\":[4,4],\"line_width\":2,\"right_units\":\"screen\",\"syncable\":false,\"top_units\":\"screen\"},\"id\":\"5573\",\"type\":\"BoxAnnotation\"},{\"attributes\":{},\"id\":\"5679\",\"type\":\"UnionRenderers\"}],\"root_ids\":[\"5551\"]},\"title\":\"Bokeh Application\",\"version\":\"2.4.3\"}};\n  const render_items = [{\"docid\":\"89ecfa72-218a-48a0-98c2-ad4c661f2a57\",\"root_ids\":[\"5551\"],\"roots\":{\"5551\":\"bf0a072a-ece6-41c3-b703-42a101402242\"}}];\n  root.Bokeh.embed.embed_items_notebook(docs_json, render_items);\n  }\n  if (root.Bokeh !== undefined) {\n    embed_document(root);\n  } else {\n    let attempts = 0;\n    const timer = setInterval(function(root) {\n      if (root.Bokeh !== undefined) {\n        clearInterval(timer);\n        embed_document(root);\n      } else {\n        attempts++;\n        if (attempts > 100) {\n          clearInterval(timer);\n          console.log(\"Bokeh: ERROR: Unable to run BokehJS code because BokehJS library is missing\");\n        }\n      }\n    }, 10, root)\n  }\n})(window);",
            "application/vnd.bokehjs_exec.v0+json": ""
          },
          "metadata": {
            "application/vnd.bokehjs_exec.v0+json": {
              "id": "5551"
            }
          },
          "output_type": "display_data"
        }
      ],
      "source": [
        "#@title Style Interpolation, Repeating Chord Progression\n",
        "\n",
        "chord_1 = 'Dm' #@param {type:\"string\"}\n",
        "chord_2 = 'F' #@param {type:\"string\"}\n",
        "chord_3 = 'Am' #@param {type:\"string\"}\n",
        "chord_4 = 'G' #@param {type:\"string\"}\n",
        "chords = [chord_1, chord_2, chord_3, chord_4]\n",
        "\n",
        "num_bars = 32 #@param {type:\"slider\", min:4, max:64, step:4}\n",
        "temperature = 0.2 #@param {type:\"slider\", min:0.01, max:1.5, step:0.01}\n",
        "\n",
        "z1 = np.random.normal(size=[Z_SIZE])\n",
        "z2 = np.random.normal(size=[Z_SIZE])\n",
        "z = np.array([slerp(z1, z2, t)\n",
        "              for t in np.linspace(0, 1, num_bars)])\n",
        "\n",
        "seqs = [\n",
        "    model.decode(length=TOTAL_STEPS, z=z[i:i+1, :], temperature=temperature,\n",
        "                 c_input=chord_encoding(chords[i % 4]))[0]\n",
        "    for i in range(num_bars)\n",
        "]\n",
        "\n",
        "trim_sequences(seqs)\n",
        "fix_instruments_for_concatenation(seqs)\n",
        "prog_interp_ns = concatenate_sequences(seqs)\n",
        "\n",
        "play(prog_interp_ns)\n",
        "mm.plot_sequence(prog_interp_ns)\n"
      ]
    },
    {
      "cell_type": "code",
      "execution_count": null,
      "metadata": {
        "id": "AsPJX7Lzfek5"
      },
      "outputs": [],
      "source": [
        "#@title (Optional) Save to MIDI\n",
        "download(prog_interp_ns, 'interp_' + '_'.join(chords) + '.mid')"
      ]
    },
    {
      "attachments": {},
      "cell_type": "markdown",
      "metadata": {
        "id": "loV8bwJ8fOR_"
      },
      "source": [
        "# Unconditioned Model"
      ]
    },
    {
      "cell_type": "code",
      "execution_count": null,
      "metadata": {
        "id": "Cao1ezEDfRQG"
      },
      "outputs": [],
      "source": [
        "#@title Load Checkpoint\n",
        "\n",
        "config = configs.CONFIG_MAP['hier-multiperf_vel_1bar_med']\n",
        "model = TrainedModel(\n",
        "    config, batch_size=BATCH_SIZE,\n",
        "    checkpoint_dir_or_path='/content/model_fb256.ckpt')\n",
        "model._config.data_converter._max_tensors_per_input = None"
      ]
    },
    {
      "cell_type": "code",
      "execution_count": null,
      "metadata": {
        "id": "WnAZsIYsfXWV"
      },
      "outputs": [],
      "source": [
        "#@title Random Samples\n",
        "\n",
        "temperature = 0.2 #@param {type:\"slider\", min:0.01, max:1.5, step:0.01}\n",
        "seqs = model.sample(n=BATCH_SIZE, length=TOTAL_STEPS, temperature=temperature)\n",
        "\n",
        "trim_sequences(seqs)\n",
        "play(seqs)\n"
      ]
    },
    {
      "cell_type": "code",
      "execution_count": null,
      "metadata": {
        "id": "glPwRID0fsC-"
      },
      "outputs": [],
      "source": [
        "#@title Interpolation Between Random Samples\n",
        "\n",
        "num_bars = 32 #@param {type:\"slider\", min:4, max:64, step:1}\n",
        "temperature = 0.2 #@param {type:\"slider\", min:0.01, max:1.5, step:0.01}\n",
        "\n",
        "z1 = np.random.normal(size=[Z_SIZE])\n",
        "z2 = np.random.normal(size=[Z_SIZE])\n",
        "z = np.array([slerp(z1, z2, t)\n",
        "              for t in np.linspace(0, 1, num_bars)])\n",
        "\n",
        "seqs = model.decode(length=TOTAL_STEPS, z=z, temperature=temperature)\n",
        "\n",
        "trim_sequences(seqs)\n",
        "fix_instruments_for_concatenation(seqs)\n",
        "interp_ns = concatenate_sequences(seqs)\n",
        "\n",
        "play(interp_ns)\n",
        "mm.plot_sequence(interp_ns)\n"
      ]
    },
    {
      "cell_type": "code",
      "execution_count": null,
      "metadata": {
        "id": "yyPUVh2cyZF2"
      },
      "outputs": [],
      "source": [
        "#@title (Optional) Save to MIDI\n",
        "download(interp_ns, 'interp.mid')"
      ]
    },
    {
      "cell_type": "code",
      "execution_count": null,
      "metadata": {
        "id": "TAs8Stysy640"
      },
      "outputs": [],
      "source": [
        "#@title Upload MIDI Files to Reconstruct\n",
        "midi_files = files.upload().values()\n",
        "seqs = [mm.midi_to_sequence_proto(midi) for midi in midi_files]\n",
        "\n",
        "uploaded_seqs = []\n",
        "for seq in seqs:\n",
        "  _, tensors, _, _ = model._config.data_converter.to_tensors(seq)\n",
        "  uploaded_seqs.extend(model._config.data_converter.from_tensors(tensors))\n",
        "  \n",
        "trim_sequences(uploaded_seqs)\n",
        "\n",
        "print('Parsed %d measures' % len(uploaded_seqs))"
      ]
    },
    {
      "cell_type": "code",
      "execution_count": null,
      "metadata": {
        "id": "ka9VaIh31rsE"
      },
      "outputs": [],
      "source": [
        "#@title Encode and Decode\n",
        "\n",
        "index = 0 #@param {type:\"integer\"}\n",
        "temperature = 0.2 #@param {type:\"slider\", min:0.01, max:1.5, step:0.01}\n",
        "\n",
        "z, _, _ = model.encode([uploaded_seqs[index]])\n",
        "reconstructed_seq = model.decode(z, length=TOTAL_STEPS,\n",
        "                                 temperature=temperature)[0]\n",
        "\n",
        "trim_sequences([reconstructed_seq])\n",
        "\n",
        "print('Original')\n",
        "play(uploaded_seqs[index])\n",
        "mm.plot_sequence(uploaded_seqs[index])\n",
        "\n",
        "print('Reconstructed')\n",
        "play(reconstructed_seq)\n",
        "mm.plot_sequence(reconstructed_seq)\n"
      ]
    },
    {
      "cell_type": "code",
      "execution_count": null,
      "metadata": {
        "id": "PvDLoDwPgeNV"
      },
      "outputs": [],
      "source": [
        "#@title Interpolation Between Encodings\n",
        "\n",
        "index_1 = 0 #@param {type:\"integer\"}\n",
        "index_2 = 1 #@param {type:\"integer\"}\n",
        "\n",
        "num_bars = 32 #@param {type:\"slider\", min:4, max:64, step:4}\n",
        "temperature = 0.2 #@param {type:\"slider\", min:0.01, max:1.5, step:0.01}\n",
        "\n",
        "z1, _, _ = model.encode([uploaded_seqs[index_1]])\n",
        "z2, _, _ = model.encode([uploaded_seqs[index_2]])\n",
        "z = np.array([slerp(np.squeeze(z1), np.squeeze(z2), t)\n",
        "              for t in np.linspace(0, 1, num_bars)])\n",
        "\n",
        "seqs = model.decode(length=TOTAL_STEPS, z=z, temperature=temperature)\n",
        "\n",
        "trim_sequences(seqs)\n",
        "fix_instruments_for_concatenation(seqs)\n",
        "recon_interp_ns = concatenate_sequences(seqs)\n",
        "\n",
        "play(recon_interp_ns)\n",
        "mm.plot_sequence(recon_interp_ns)\n"
      ]
    },
    {
      "cell_type": "code",
      "execution_count": null,
      "metadata": {
        "id": "G7eLLp3q5WCB"
      },
      "outputs": [],
      "source": [
        "#@title (Optional) Save to MIDI\n",
        "download(recon_interp_ns, 'recon_interp.mid')"
      ]
    }
  ],
  "metadata": {
    "accelerator": "GPU",
    "colab": {
      "name": "Multitrack MusicVAE.ipynb",
      "provenance": [],
      "toc_visible": true
    },
    "kernelspec": {
      "display_name": "project-venv",
      "language": "python",
      "name": "python3"
    },
    "language_info": {
      "codemirror_mode": {
        "name": "ipython",
        "version": 3
      },
      "file_extension": ".py",
      "mimetype": "text/x-python",
      "name": "python",
      "nbconvert_exporter": "python",
      "pygments_lexer": "ipython3",
      "version": "3.7.9"
    },
    "vscode": {
      "interpreter": {
        "hash": "464f5ef9209adec1b7bf0795f9eb15d0b8fd869ea9d83db0eac410ac948bdd96"
      }
    }
  },
  "nbformat": 4,
  "nbformat_minor": 0
}
