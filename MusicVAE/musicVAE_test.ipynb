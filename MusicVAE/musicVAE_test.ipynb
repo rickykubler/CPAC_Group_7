{
 "cells": [
  {
   "cell_type": "code",
   "execution_count": 2,
   "metadata": {},
   "outputs": [
    {
     "name": "stderr",
     "output_type": "stream",
     "text": [
      "c:\\Users\\rikyd\\Documents\\GitHub\\CPAC_Group_7\\magenta-env\\lib\\site-packages\\tqdm\\auto.py:21: TqdmWarning: IProgress not found. Please update jupyter and ipywidgets. See https://ipywidgets.readthedocs.io/en/stable/user_install.html\n",
      "  from .autonotebook import tqdm as notebook_tqdm\n"
     ]
    },
    {
     "name": "stdout",
     "output_type": "stream",
     "text": [
      "WARNING:tensorflow:From c:\\Users\\rikyd\\Documents\\GitHub\\CPAC_Group_7\\magenta-env\\lib\\site-packages\\tensorflow\\python\\compat\\v2_compat.py:107: disable_resource_variables (from tensorflow.python.ops.variable_scope) is deprecated and will be removed in a future version.\n",
      "Instructions for updating:\n",
      "non-resource variables are not supported in the long term\n"
     ]
    }
   ],
   "source": [
    "import numpy as np\n",
    "import os\n",
    "import tensorflow.compat.v1 as tf\n",
    "import magenta.music as mm\n",
    "from magenta.music.sequences_lib import concatenate_sequences\n",
    "from magenta.models.music_vae import configs\n",
    "from magenta.models.music_vae.trained_model import TrainedModel\n",
    "#from google.colab import files\n",
    "\n",
    "tf.disable_v2_behavior()"
   ]
  },
  {
   "cell_type": "code",
   "execution_count": 3,
   "metadata": {},
   "outputs": [],
   "source": [
    "import argparse\n",
    "from pythonosc import udp_client\n",
    "\n",
    "parser = argparse.ArgumentParser()\n",
    "# OSC server ip: '127.0.0.1'\n",
    "#parser.add_argument(\"--ip\", default='192.168.255.27', help=\"The ip of the OSC server\")\n",
    "parser.add_argument(\"--ip\", default='192.168.193.27') # if in the same machine\n",
    "parser.add_argument(\"--port\", type=int, default=7400)\n",
    "\n",
    "# Parse the arguments\n",
    "args, unknown = parser.parse_known_args()\n",
    "\n",
    "# Start the UDP Client\n",
    "client = udp_client.SimpleUDPClient(args.ip, args.port)"
   ]
  },
  {
   "cell_type": "code",
   "execution_count": 4,
   "metadata": {},
   "outputs": [],
   "source": [
    "# Parameters\n",
    "BATCH_SIZE = 4\n",
    "Z_SIZE = 512\n",
    "TOTAL_STEPS = 512\n",
    "BAR_SECONDS = 2.0\n",
    "CHORD_DEPTH = 49\n",
    "\n",
    "SAMPLE_RATE = 44100\n",
    "SF2_PATH = '/content/SGM-v2.01-Sal-Guit-Bass-V1.3.sf2'"
   ]
  },
  {
   "cell_type": "code",
   "execution_count": 5,
   "metadata": {},
   "outputs": [],
   "source": [
    "# Functions\n",
    "\n",
    "# Chord encoding tensor.\n",
    "def chord_encoding(chord):\n",
    "  index = mm.TriadChordOneHotEncoding().encode_event(chord)\n",
    "  c = np.zeros([TOTAL_STEPS, CHORD_DEPTH])\n",
    "  c[0,0] = 1.0\n",
    "  c[1:,index] = 1.0\n",
    "  return c\n",
    "\n",
    "# Trim sequences to exactly one bar.\n",
    "def trim_sequences(seqs, num_seconds=BAR_SECONDS):\n",
    "  for i in range(len(seqs)):\n",
    "    seqs[i] = mm.extract_subsequence(seqs[i], 0.0, num_seconds)\n",
    "    seqs[i].total_time = num_seconds\n",
    "\n",
    "# Consolidate instrument numbers by MIDI program.\n",
    "def fix_instruments_for_concatenation(note_sequences):\n",
    "  instruments = {}\n",
    "  for i in range(len(note_sequences)):\n",
    "    for note in note_sequences[i].notes:\n",
    "      if not note.is_drum:\n",
    "        if note.program not in instruments:\n",
    "          if len(instruments) >= 8:\n",
    "            instruments[note.program] = len(instruments) + 2\n",
    "          else:\n",
    "            instruments[note.program] = len(instruments) + 1\n",
    "        note.instrument = instruments[note.program]\n",
    "      else:\n",
    "        note.instrument = 9"
   ]
  },
  {
   "cell_type": "code",
   "execution_count": 6,
   "metadata": {},
   "outputs": [
    {
     "name": "stdout",
     "output_type": "stream",
     "text": [
      "INFO:tensorflow:Building MusicVAE model with HierarchicalLstmEncoder, HierarchicalLstmDecoder, and hparams:\n",
      "{'max_seq_len': 512, 'z_size': 512, 'free_bits': 0.0, 'max_beta': 1.0, 'beta_rate': 0.0, 'batch_size': 4, 'grad_clip': 1.0, 'clip_mode': 'global_norm', 'grad_norm_clip_to_zero': 10000, 'learning_rate': 0.001, 'decay_rate': 0.9999, 'min_learning_rate': 1e-05, 'conditional': True, 'dec_rnn_size': [512, 512, 512], 'enc_rnn_size': [1024], 'dropout_keep_prob': 1.0, 'sampling_schedule': 'constant', 'sampling_rate': 0.0, 'use_cudnn': False, 'residual_encoder': False, 'residual_decoder': False, 'control_preprocessing_rnn_size': [256]}\n"
     ]
    },
    {
     "name": "stdout",
     "output_type": "stream",
     "text": [
      "INFO:tensorflow:\n",
      "Hierarchical Encoder:\n",
      "  input length: 512\n",
      "  level lengths: [64, 8]\n",
      "\n",
      "INFO:tensorflow:Level 0 splits: 8\n",
      "INFO:tensorflow:\n",
      "Encoder Cells (bidirectional):\n",
      "  units: [1024]\n",
      "\n",
      "WARNING:tensorflow:`tf.nn.rnn_cell.MultiRNNCell` is deprecated. This class is equivalent as `tf.keras.layers.StackedRNNCells`, and will be replaced by that in Tensorflow 2.0.\n",
      "WARNING:tensorflow:`tf.nn.rnn_cell.MultiRNNCell` is deprecated. This class is equivalent as `tf.keras.layers.StackedRNNCells`, and will be replaced by that in Tensorflow 2.0.\n",
      "INFO:tensorflow:Level 1 splits: 1\n",
      "INFO:tensorflow:\n",
      "Encoder Cells (bidirectional):\n",
      "  units: [1024]\n",
      "\n",
      "WARNING:tensorflow:`tf.nn.rnn_cell.MultiRNNCell` is deprecated. This class is equivalent as `tf.keras.layers.StackedRNNCells`, and will be replaced by that in Tensorflow 2.0.\n",
      "WARNING:tensorflow:`tf.nn.rnn_cell.MultiRNNCell` is deprecated. This class is equivalent as `tf.keras.layers.StackedRNNCells`, and will be replaced by that in Tensorflow 2.0.\n",
      "INFO:tensorflow:\n",
      "Hierarchical Decoder:\n",
      "  input length: 512\n",
      "  level output lengths: [8, 64]\n",
      "\n",
      "WARNING:tensorflow:`tf.nn.rnn_cell.MultiRNNCell` is deprecated. This class is equivalent as `tf.keras.layers.StackedRNNCells`, and will be replaced by that in Tensorflow 2.0.\n",
      "INFO:tensorflow:\n",
      "Decoder Cells:\n",
      "  units: [512, 512, 512]\n",
      "\n",
      "WARNING:tensorflow:`tf.nn.rnn_cell.MultiRNNCell` is deprecated. This class is equivalent as `tf.keras.layers.StackedRNNCells`, and will be replaced by that in Tensorflow 2.0.\n"
     ]
    },
    {
     "name": "stderr",
     "output_type": "stream",
     "text": [
      "c:\\Users\\rikyd\\Documents\\GitHub\\CPAC_Group_7\\magenta-env\\lib\\site-packages\\magenta\\models\\music_vae\\lstm_utils.py:99: UserWarning: `tf.layers.dense` is deprecated and will be removed in a future version. Please use `tf.keras.layers.Dense` instead.\n",
      "  name=name),\n",
      "c:\\Users\\rikyd\\Documents\\GitHub\\CPAC_Group_7\\magenta-env\\lib\\site-packages\\magenta\\contrib\\rnn.py:750: UserWarning: `layer.add_variable` is deprecated and will be removed in a future version. Please use the `layer.add_weight()` method instead.\n",
      "  self._names[\"W\"], [input_size + self._num_units, self._num_units * 4])\n",
      "c:\\Users\\rikyd\\Documents\\GitHub\\CPAC_Group_7\\magenta-env\\lib\\site-packages\\magenta\\contrib\\rnn.py:753: UserWarning: `layer.add_variable` is deprecated and will be removed in a future version. Please use the `layer.add_weight()` method instead.\n",
      "  initializer=tf.constant_initializer(0.0))\n"
     ]
    },
    {
     "name": "stdout",
     "output_type": "stream",
     "text": [
      "WARNING:tensorflow:From c:\\Users\\rikyd\\Documents\\GitHub\\CPAC_Group_7\\magenta-env\\lib\\site-packages\\tensorflow\\python\\util\\dispatch.py:1082: to_float (from tensorflow.python.ops.math_ops) is deprecated and will be removed in a future version.\n",
      "Instructions for updating:\n",
      "Use `tf.cast` instead.\n",
      "WARNING:tensorflow:From c:\\Users\\rikyd\\Documents\\GitHub\\CPAC_Group_7\\magenta-env\\lib\\site-packages\\magenta\\contrib\\rnn.py:473: bidirectional_dynamic_rnn (from tensorflow.python.ops.rnn) is deprecated and will be removed in a future version.\n",
      "Instructions for updating:\n",
      "Please use `keras.layers.Bidirectional(keras.layers.RNN(cell))`, which is equivalent to this API\n",
      "WARNING:tensorflow:From c:\\Users\\rikyd\\Documents\\GitHub\\CPAC_Group_7\\magenta-env\\lib\\site-packages\\tensorflow\\python\\ops\\rnn.py:446: dynamic_rnn (from tensorflow.python.ops.rnn) is deprecated and will be removed in a future version.\n",
      "Instructions for updating:\n",
      "Please use `keras.layers.RNN(cell)`, which is equivalent to this API\n",
      "WARNING:tensorflow:From c:\\Users\\rikyd\\Documents\\GitHub\\CPAC_Group_7\\magenta-env\\lib\\site-packages\\tensorflow_probability\\python\\distributions\\distribution.py:342: calling MultivariateNormalDiag.__init__ (from tensorflow_probability.python.distributions.mvn_diag) with scale_identity_multiplier is deprecated and will be removed after 2020-01-01.\n",
      "Instructions for updating:\n",
      "`scale_identity_multiplier` is deprecated; please combine it into `scale_diag` directly instead.\n"
     ]
    },
    {
     "name": "stderr",
     "output_type": "stream",
     "text": [
      "c:\\Users\\rikyd\\Documents\\GitHub\\CPAC_Group_7\\magenta-env\\lib\\site-packages\\magenta\\models\\music_vae\\base_model.py:199: UserWarning: `tf.layers.dense` is deprecated and will be removed in a future version. Please use `tf.keras.layers.Dense` instead.\n",
      "  kernel_initializer=tf.random_normal_initializer(stddev=0.001))\n",
      "c:\\Users\\rikyd\\Documents\\GitHub\\CPAC_Group_7\\magenta-env\\lib\\site-packages\\magenta\\models\\music_vae\\base_model.py:205: UserWarning: `tf.layers.dense` is deprecated and will be removed in a future version. Please use `tf.keras.layers.Dense` instead.\n",
      "  kernel_initializer=tf.random_normal_initializer(stddev=0.001))\n"
     ]
    },
    {
     "name": "stdout",
     "output_type": "stream",
     "text": [
      "INFO:tensorflow:Restoring parameters from content/model_chords_fb64.ckpt\n"
     ]
    }
   ],
   "source": [
    "config = configs.CONFIG_MAP['hier-multiperf_vel_1bar_med_chords']\n",
    "model = TrainedModel(\n",
    "    config, \n",
    "    batch_size=BATCH_SIZE,\n",
    "    checkpoint_dir_or_path='content/model_chords_fb64.ckpt')"
   ]
  },
  {
   "cell_type": "code",
   "execution_count": 7,
   "metadata": {},
   "outputs": [],
   "source": [
    "double_seq = []\n",
    "chord_1 = 'C' #@param {type:\"string\"}\n",
    "#chord_2 = 'Caug' #@param {type:\"string\"}\n",
    "#chord_3 = 'Am' #@param {type:\"string\"}\n",
    "#chord_4 = 'E' #@param {type:\"string\"}\n",
    "chords = [chord_1]\n",
    "\n",
    "temperature = 0.2 #@param {type:\"slider\", min:0.01, max:1.5, step:0.01}\n",
    "z = np.random.normal(size=[1, Z_SIZE])\n",
    "seqs = [\n",
    "    model.decode(length=TOTAL_STEPS, z=z, temperature=temperature,\n",
    "                 c_input=chord_encoding(c))[0]\n",
    "    for c in chords\n",
    "]\n"
   ]
  },
  {
   "cell_type": "code",
   "execution_count": 8,
   "metadata": {},
   "outputs": [
    {
     "data": {
      "text/html": [
       "<div class=\"bk-root\">\n",
       "        <a href=\"https://bokeh.org\" target=\"_blank\" class=\"bk-logo bk-logo-small bk-logo-notebook\"></a>\n",
       "        <span id=\"1078\">Loading BokehJS ...</span>\n",
       "    </div>\n"
      ]
     },
     "metadata": {},
     "output_type": "display_data"
    },
    {
     "data": {
      "application/javascript": "(function(root) {\n  function now() {\n    return new Date();\n  }\n\n  const force = true;\n\n  if (typeof root._bokeh_onload_callbacks === \"undefined\" || force === true) {\n    root._bokeh_onload_callbacks = [];\n    root._bokeh_is_loading = undefined;\n  }\n\nconst JS_MIME_TYPE = 'application/javascript';\n  const HTML_MIME_TYPE = 'text/html';\n  const EXEC_MIME_TYPE = 'application/vnd.bokehjs_exec.v0+json';\n  const CLASS_NAME = 'output_bokeh rendered_html';\n\n  /**\n   * Render data to the DOM node\n   */\n  function render(props, node) {\n    const script = document.createElement(\"script\");\n    node.appendChild(script);\n  }\n\n  /**\n   * Handle when an output is cleared or removed\n   */\n  function handleClearOutput(event, handle) {\n    const cell = handle.cell;\n\n    const id = cell.output_area._bokeh_element_id;\n    const server_id = cell.output_area._bokeh_server_id;\n    // Clean up Bokeh references\n    if (id != null && id in Bokeh.index) {\n      Bokeh.index[id].model.document.clear();\n      delete Bokeh.index[id];\n    }\n\n    if (server_id !== undefined) {\n      // Clean up Bokeh references\n      const cmd_clean = \"from bokeh.io.state import curstate; print(curstate().uuid_to_server['\" + server_id + \"'].get_sessions()[0].document.roots[0]._id)\";\n      cell.notebook.kernel.execute(cmd_clean, {\n        iopub: {\n          output: function(msg) {\n            const id = msg.content.text.trim();\n            if (id in Bokeh.index) {\n              Bokeh.index[id].model.document.clear();\n              delete Bokeh.index[id];\n            }\n          }\n        }\n      });\n      // Destroy server and session\n      const cmd_destroy = \"import bokeh.io.notebook as ion; ion.destroy_server('\" + server_id + \"')\";\n      cell.notebook.kernel.execute(cmd_destroy);\n    }\n  }\n\n  /**\n   * Handle when a new output is added\n   */\n  function handleAddOutput(event, handle) {\n    const output_area = handle.output_area;\n    const output = handle.output;\n\n    // limit handleAddOutput to display_data with EXEC_MIME_TYPE content only\n    if ((output.output_type != \"display_data\") || (!Object.prototype.hasOwnProperty.call(output.data, EXEC_MIME_TYPE))) {\n      return\n    }\n\n    const toinsert = output_area.element.find(\".\" + CLASS_NAME.split(' ')[0]);\n\n    if (output.metadata[EXEC_MIME_TYPE][\"id\"] !== undefined) {\n      toinsert[toinsert.length - 1].firstChild.textContent = output.data[JS_MIME_TYPE];\n      // store reference to embed id on output_area\n      output_area._bokeh_element_id = output.metadata[EXEC_MIME_TYPE][\"id\"];\n    }\n    if (output.metadata[EXEC_MIME_TYPE][\"server_id\"] !== undefined) {\n      const bk_div = document.createElement(\"div\");\n      bk_div.innerHTML = output.data[HTML_MIME_TYPE];\n      const script_attrs = bk_div.children[0].attributes;\n      for (let i = 0; i < script_attrs.length; i++) {\n        toinsert[toinsert.length - 1].firstChild.setAttribute(script_attrs[i].name, script_attrs[i].value);\n        toinsert[toinsert.length - 1].firstChild.textContent = bk_div.children[0].textContent\n      }\n      // store reference to server id on output_area\n      output_area._bokeh_server_id = output.metadata[EXEC_MIME_TYPE][\"server_id\"];\n    }\n  }\n\n  function register_renderer(events, OutputArea) {\n\n    function append_mime(data, metadata, element) {\n      // create a DOM node to render to\n      const toinsert = this.create_output_subarea(\n        metadata,\n        CLASS_NAME,\n        EXEC_MIME_TYPE\n      );\n      this.keyboard_manager.register_events(toinsert);\n      // Render to node\n      const props = {data: data, metadata: metadata[EXEC_MIME_TYPE]};\n      render(props, toinsert[toinsert.length - 1]);\n      element.append(toinsert);\n      return toinsert\n    }\n\n    /* Handle when an output is cleared or removed */\n    events.on('clear_output.CodeCell', handleClearOutput);\n    events.on('delete.Cell', handleClearOutput);\n\n    /* Handle when a new output is added */\n    events.on('output_added.OutputArea', handleAddOutput);\n\n    /**\n     * Register the mime type and append_mime function with output_area\n     */\n    OutputArea.prototype.register_mime_type(EXEC_MIME_TYPE, append_mime, {\n      /* Is output safe? */\n      safe: true,\n      /* Index of renderer in `output_area.display_order` */\n      index: 0\n    });\n  }\n\n  // register the mime type if in Jupyter Notebook environment and previously unregistered\n  if (root.Jupyter !== undefined) {\n    const events = require('base/js/events');\n    const OutputArea = require('notebook/js/outputarea').OutputArea;\n\n    if (OutputArea.prototype.mime_types().indexOf(EXEC_MIME_TYPE) == -1) {\n      register_renderer(events, OutputArea);\n    }\n  }\n  if (typeof (root._bokeh_timeout) === \"undefined\" || force === true) {\n    root._bokeh_timeout = Date.now() + 5000;\n    root._bokeh_failed_load = false;\n  }\n\n  const NB_LOAD_WARNING = {'data': {'text/html':\n     \"<div style='background-color: #fdd'>\\n\"+\n     \"<p>\\n\"+\n     \"BokehJS does not appear to have successfully loaded. If loading BokehJS from CDN, this \\n\"+\n     \"may be due to a slow or bad network connection. Possible fixes:\\n\"+\n     \"</p>\\n\"+\n     \"<ul>\\n\"+\n     \"<li>re-rerun `output_notebook()` to attempt to load from CDN again, or</li>\\n\"+\n     \"<li>use INLINE resources instead, as so:</li>\\n\"+\n     \"</ul>\\n\"+\n     \"<code>\\n\"+\n     \"from bokeh.resources import INLINE\\n\"+\n     \"output_notebook(resources=INLINE)\\n\"+\n     \"</code>\\n\"+\n     \"</div>\"}};\n\n  function display_loaded() {\n    const el = document.getElementById(\"1078\");\n    if (el != null) {\n      el.textContent = \"BokehJS is loading...\";\n    }\n    if (root.Bokeh !== undefined) {\n      if (el != null) {\n        el.textContent = \"BokehJS \" + root.Bokeh.version + \" successfully loaded.\";\n      }\n    } else if (Date.now() < root._bokeh_timeout) {\n      setTimeout(display_loaded, 100)\n    }\n  }\n\n  function run_callbacks() {\n    try {\n      root._bokeh_onload_callbacks.forEach(function(callback) {\n        if (callback != null)\n          callback();\n      });\n    } finally {\n      delete root._bokeh_onload_callbacks\n    }\n    console.debug(\"Bokeh: all callbacks have finished\");\n  }\n\n  function load_libs(css_urls, js_urls, callback) {\n    if (css_urls == null) css_urls = [];\n    if (js_urls == null) js_urls = [];\n\n    root._bokeh_onload_callbacks.push(callback);\n    if (root._bokeh_is_loading > 0) {\n      console.debug(\"Bokeh: BokehJS is being loaded, scheduling callback at\", now());\n      return null;\n    }\n    if (js_urls == null || js_urls.length === 0) {\n      run_callbacks();\n      return null;\n    }\n    console.debug(\"Bokeh: BokehJS not loaded, scheduling load and callback at\", now());\n    root._bokeh_is_loading = css_urls.length + js_urls.length;\n\n    function on_load() {\n      root._bokeh_is_loading--;\n      if (root._bokeh_is_loading === 0) {\n        console.debug(\"Bokeh: all BokehJS libraries/stylesheets loaded\");\n        run_callbacks()\n      }\n    }\n\n    function on_error(url) {\n      console.error(\"failed to load \" + url);\n    }\n\n    for (let i = 0; i < css_urls.length; i++) {\n      const url = css_urls[i];\n      const element = document.createElement(\"link\");\n      element.onload = on_load;\n      element.onerror = on_error.bind(null, url);\n      element.rel = \"stylesheet\";\n      element.type = \"text/css\";\n      element.href = url;\n      console.debug(\"Bokeh: injecting link tag for BokehJS stylesheet: \", url);\n      document.body.appendChild(element);\n    }\n\n    for (let i = 0; i < js_urls.length; i++) {\n      const url = js_urls[i];\n      const element = document.createElement('script');\n      element.onload = on_load;\n      element.onerror = on_error.bind(null, url);\n      element.async = false;\n      element.src = url;\n      console.debug(\"Bokeh: injecting script tag for BokehJS library: \", url);\n      document.head.appendChild(element);\n    }\n  };\n\n  function inject_raw_css(css) {\n    const element = document.createElement(\"style\");\n    element.appendChild(document.createTextNode(css));\n    document.body.appendChild(element);\n  }\n\n  const js_urls = [\"https://cdn.bokeh.org/bokeh/release/bokeh-2.4.3.min.js\", \"https://cdn.bokeh.org/bokeh/release/bokeh-gl-2.4.3.min.js\", \"https://cdn.bokeh.org/bokeh/release/bokeh-widgets-2.4.3.min.js\", \"https://cdn.bokeh.org/bokeh/release/bokeh-tables-2.4.3.min.js\", \"https://cdn.bokeh.org/bokeh/release/bokeh-mathjax-2.4.3.min.js\"];\n  const css_urls = [];\n\n  const inline_js = [    function(Bokeh) {\n      Bokeh.set_log_level(\"info\");\n    },\nfunction(Bokeh) {\n    }\n  ];\n\n  function run_inline_js() {\n    if (root.Bokeh !== undefined || force === true) {\n          for (let i = 0; i < inline_js.length; i++) {\n      inline_js[i].call(root, root.Bokeh);\n    }\nif (force === true) {\n        display_loaded();\n      }} else if (Date.now() < root._bokeh_timeout) {\n      setTimeout(run_inline_js, 100);\n    } else if (!root._bokeh_failed_load) {\n      console.log(\"Bokeh: BokehJS failed to load within specified timeout.\");\n      root._bokeh_failed_load = true;\n    } else if (force !== true) {\n      const cell = $(document.getElementById(\"1078\")).parents('.cell').data().cell;\n      cell.output_area.append_execute_result(NB_LOAD_WARNING)\n    }\n  }\n\n  if (root._bokeh_is_loading === 0) {\n    console.debug(\"Bokeh: BokehJS loaded, going straight to plotting\");\n    run_inline_js();\n  } else {\n    load_libs(css_urls, js_urls, function() {\n      console.debug(\"Bokeh: BokehJS plotting callback run at\", now());\n      run_inline_js();\n    });\n  }\n}(window));",
      "application/vnd.bokehjs_load.v0+json": ""
     },
     "metadata": {},
     "output_type": "display_data"
    },
    {
     "data": {
      "text/html": [
       "\n",
       "  <div class=\"bk-root\" id=\"7bd92aa7-a5e0-44dc-9e8f-0dd7d0d13dd1\" data-root-id=\"1002\"></div>\n"
      ]
     },
     "metadata": {},
     "output_type": "display_data"
    },
    {
     "data": {
      "application/javascript": "(function(root) {\n  function embed_document(root) {\n  const docs_json = {\"4624bc89-8d48-46e0-9353-a03c43f23b15\":{\"defs\":[],\"roots\":{\"references\":[{\"attributes\":{\"below\":[{\"id\":\"1011\"}],\"center\":[{\"id\":\"1014\"},{\"id\":\"1018\"}],\"height\":200,\"left\":[{\"id\":\"1015\"}],\"renderers\":[{\"id\":\"1039\"},{\"id\":\"1046\"},{\"id\":\"1053\"},{\"id\":\"1060\"}],\"title\":{\"id\":\"1062\"},\"toolbar\":{\"id\":\"1025\"},\"width\":500,\"x_range\":{\"id\":\"1003\"},\"x_scale\":{\"id\":\"1007\"},\"y_range\":{\"id\":\"1005\"},\"y_scale\":{\"id\":\"1009\"}},\"id\":\"1002\",\"subtype\":\"Figure\",\"type\":\"Plot\"},{\"attributes\":{},\"id\":\"1022\",\"type\":\"ResetTool\"},{\"attributes\":{},\"id\":\"1071\",\"type\":\"UnionRenderers\"},{\"attributes\":{},\"id\":\"1072\",\"type\":\"Selection\"},{\"attributes\":{\"bottom\":{\"field\":\"bottom\"},\"fill_alpha\":{\"value\":0.1},\"fill_color\":{\"value\":\"#d53e4f\"},\"hatch_alpha\":{\"value\":0.1},\"left\":{\"field\":\"start_time\"},\"line_alpha\":{\"value\":0.1},\"right\":{\"field\":\"end_time\"},\"top\":{\"field\":\"top\"}},\"id\":\"1037\",\"type\":\"Quad\"},{\"attributes\":{\"bottom\":{\"field\":\"bottom\"},\"fill_alpha\":{\"value\":0.1},\"fill_color\":{\"value\":\"#3288bd\"},\"hatch_alpha\":{\"value\":0.1},\"left\":{\"field\":\"start_time\"},\"line_alpha\":{\"value\":0.1},\"right\":{\"field\":\"end_time\"},\"top\":{\"field\":\"top\"}},\"id\":\"1044\",\"type\":\"Quad\"},{\"attributes\":{},\"id\":\"1020\",\"type\":\"PanTool\"},{\"attributes\":{\"axis\":{\"id\":\"1015\"},\"coordinates\":null,\"dimension\":1,\"group\":null,\"ticker\":{\"id\":\"1033\"}},\"id\":\"1018\",\"type\":\"Grid\"},{\"attributes\":{},\"id\":\"1074\",\"type\":\"Selection\"},{\"attributes\":{\"tools\":[{\"id\":\"1019\"},{\"id\":\"1020\"},{\"id\":\"1021\"},{\"id\":\"1022\"},{\"id\":\"1023\"}]},\"id\":\"1025\",\"type\":\"Toolbar\"},{\"attributes\":{},\"id\":\"1069\",\"type\":\"UnionRenderers\"},{\"attributes\":{\"axis\":{\"id\":\"1011\"},\"coordinates\":null,\"group\":null,\"ticker\":null},\"id\":\"1014\",\"type\":\"Grid\"},{\"attributes\":{},\"id\":\"1076\",\"type\":\"Selection\"},{\"attributes\":{\"axis_label\":\"pitch (MIDI)\",\"coordinates\":null,\"formatter\":{\"id\":\"1064\"},\"group\":null,\"major_label_policy\":{\"id\":\"1065\"},\"ticker\":{\"id\":\"1031\"}},\"id\":\"1015\",\"type\":\"LinearAxis\"},{\"attributes\":{\"bottom\":{\"field\":\"bottom\"},\"fill_alpha\":{\"field\":\"fill_alpha\"},\"fill_color\":{\"value\":\"#d53e4f\"},\"left\":{\"field\":\"start_time\"},\"right\":{\"field\":\"end_time\"},\"top\":{\"field\":\"top\"}},\"id\":\"1036\",\"type\":\"Quad\"},{\"attributes\":{\"bottom\":{\"field\":\"bottom\"},\"fill_alpha\":{\"value\":0.2},\"fill_color\":{\"value\":\"#66c2a5\"},\"hatch_alpha\":{\"value\":0.2},\"left\":{\"field\":\"start_time\"},\"line_alpha\":{\"value\":0.2},\"right\":{\"field\":\"end_time\"},\"top\":{\"field\":\"top\"}},\"id\":\"1059\",\"type\":\"Quad\"},{\"attributes\":{\"bottom\":{\"field\":\"bottom\"},\"fill_alpha\":{\"value\":0.2},\"fill_color\":{\"value\":\"#d53e4f\"},\"hatch_alpha\":{\"value\":0.2},\"left\":{\"field\":\"start_time\"},\"line_alpha\":{\"value\":0.2},\"right\":{\"field\":\"end_time\"},\"top\":{\"field\":\"top\"}},\"id\":\"1038\",\"type\":\"Quad\"},{\"attributes\":{},\"id\":\"1068\",\"type\":\"AllLabels\"},{\"attributes\":{\"data\":{\"bottom\":{\"__ndarray__\":\"zczMzMzMTUDNzMzMzMxPQGZmZmZmplBAzczMzMzMTUDNzMzMzMxPQGZmZmZmplBA\",\"dtype\":\"float64\",\"order\":\"little\",\"shape\":[6]},\"duration\":{\"__ndarray__\":\"AAAAAAAAAEAAAAAAAAAAQAAAAAAAAABAAAAAAAAAAEAAAAAAAAAAQAAAAAAAAABA\",\"dtype\":\"float64\",\"order\":\"little\",\"shape\":[6]},\"end_time\":{\"__ndarray__\":\"AAAAAAAAAEAAAAAAAAAAQAAAAAAAAABAAAAAAAAAEEAAAAAAAAAQQAAAAAAAABBA\",\"dtype\":\"float64\",\"order\":\"little\",\"shape\":[6]},\"fill_alpha\":{\"__ndarray__\":\"AAAAAABA4D8AAAAAAEDgPwAAAAAAQOA/AAAAAABA4D8AAAAAAEDgPwAAAAAAQOA/\",\"dtype\":\"float64\",\"order\":\"little\",\"shape\":[6]},\"index\":[0,1,2,18,19,20],\"instrument\":[1,1,1,1,1,1],\"pitch\":[60,64,67,60,64,67],\"program\":[1,1,1,1,1,1],\"start_time\":{\"__ndarray__\":\"AAAAAAAAAAAAAAAAAAAAAAAAAAAAAAAAAAAAAAAAAEAAAAAAAAAAQAAAAAAAAABA\",\"dtype\":\"float64\",\"order\":\"little\",\"shape\":[6]},\"top\":{\"__ndarray__\":\"MzMzMzMzTkCamZmZmRlQQJqZmZmZ2VBAMzMzMzMzTkCamZmZmRlQQJqZmZmZ2VBA\",\"dtype\":\"float64\",\"order\":\"little\",\"shape\":[6]},\"velocity\":[65,65,65,65,65,65]},\"selected\":{\"id\":\"1070\"},\"selection_policy\":{\"id\":\"1069\"}},\"id\":\"1034\",\"type\":\"ColumnDataSource\"},{\"attributes\":{\"source\":{\"id\":\"1055\"}},\"id\":\"1061\",\"type\":\"CDSView\"},{\"attributes\":{\"bottom\":{\"field\":\"bottom\"},\"fill_alpha\":{\"value\":0.2},\"fill_color\":{\"value\":\"#3288bd\"},\"hatch_alpha\":{\"value\":0.2},\"left\":{\"field\":\"start_time\"},\"line_alpha\":{\"value\":0.2},\"right\":{\"field\":\"end_time\"},\"top\":{\"field\":\"top\"}},\"id\":\"1045\",\"type\":\"Quad\"},{\"attributes\":{},\"id\":\"1065\",\"type\":\"AllLabels\"},{\"attributes\":{},\"id\":\"1009\",\"type\":\"LinearScale\"},{\"attributes\":{\"coordinates\":null,\"data_source\":{\"id\":\"1048\"},\"glyph\":{\"id\":\"1050\"},\"group\":null,\"hover_glyph\":null,\"muted_glyph\":{\"id\":\"1052\"},\"nonselection_glyph\":{\"id\":\"1051\"},\"view\":{\"id\":\"1054\"}},\"id\":\"1053\",\"type\":\"GlyphRenderer\"},{\"attributes\":{\"bottom\":{\"field\":\"bottom\"},\"fill_alpha\":{\"value\":0.1},\"fill_color\":{\"value\":\"#66c2a5\"},\"hatch_alpha\":{\"value\":0.1},\"left\":{\"field\":\"start_time\"},\"line_alpha\":{\"value\":0.1},\"right\":{\"field\":\"end_time\"},\"top\":{\"field\":\"top\"}},\"id\":\"1058\",\"type\":\"Quad\"},{\"attributes\":{\"source\":{\"id\":\"1041\"}},\"id\":\"1047\",\"type\":\"CDSView\"},{\"attributes\":{\"source\":{\"id\":\"1048\"}},\"id\":\"1054\",\"type\":\"CDSView\"},{\"attributes\":{\"coordinates\":null,\"data_source\":{\"id\":\"1041\"},\"glyph\":{\"id\":\"1043\"},\"group\":null,\"hover_glyph\":null,\"muted_glyph\":{\"id\":\"1045\"},\"nonselection_glyph\":{\"id\":\"1044\"},\"view\":{\"id\":\"1047\"}},\"id\":\"1046\",\"type\":\"GlyphRenderer\"},{\"attributes\":{\"overlay\":{\"id\":\"1024\"}},\"id\":\"1021\",\"type\":\"BoxZoomTool\"},{\"attributes\":{\"coordinates\":null,\"data_source\":{\"id\":\"1055\"},\"glyph\":{\"id\":\"1057\"},\"group\":null,\"hover_glyph\":null,\"muted_glyph\":{\"id\":\"1059\"},\"nonselection_glyph\":{\"id\":\"1058\"},\"view\":{\"id\":\"1061\"}},\"id\":\"1060\",\"type\":\"GlyphRenderer\"},{\"attributes\":{},\"id\":\"1064\",\"type\":\"BasicTickFormatter\"},{\"attributes\":{\"source\":{\"id\":\"1034\"}},\"id\":\"1040\",\"type\":\"CDSView\"},{\"attributes\":{\"data\":{\"bottom\":{\"__ndarray__\":\"zczMzMzMR0DNzMzMzMxHQM3MzMzMzEdAzczMzMzMR0DNzMzMzMxHQM3MzMzMzEdAzczMzMzMR0DNzMzMzMxHQM3MzMzMzEdAzczMzMzMR0DNzMzMzMxHQM3MzMzMzEdAzczMzMzMR0DNzMzMzMxHQM3MzMzMzEdAzczMzMzMR0A=\",\"dtype\":\"float64\",\"order\":\"little\",\"shape\":[16]},\"duration\":{\"__ndarray__\":\"VVVVVVVVxT9UVVVVVVXFP1RVVVVVVcU/VFVVVVVVxT9QVVVVVVXFP1BVVVVVVcU/UFVVVVVVxT9QVVVVVVXFP1BVVVVVVcU/UFVVVVVVxT9QVVVVVVXFP1BVVVVVVcU/UFVVVVVVxT9QVVVVVVXFP1BVVVVVVcU/UFVVVVVVxT8=\",\"dtype\":\"float64\",\"order\":\"little\",\"shape\":[16]},\"end_time\":{\"__ndarray__\":\"VVVVVVVVxT+qqqqqqqraP1VVVVVVVeU/VVVVVVVV7T+qqqqqqqryP6qqqqqqqvY/qqqqqqqq+j+qqqqqqqr+P1VVVVVVVQFAVVVVVVVVA0BVVVVVVVUFQFVVVVVVVQdAVVVVVVVVCUBVVVVVVVULQFVVVVVVVQ1AVVVVVVVVD0A=\",\"dtype\":\"float64\",\"order\":\"little\",\"shape\":[16]},\"fill_alpha\":{\"__ndarray__\":\"AAAAAABA7D8AAAAAAEDoPwAAAAAAQOw/AAAAAABA6D8AAAAAAEDsPwAAAAAAQOg/AAAAAABA7D8AAAAAAEDoPwAAAAAAQOw/AAAAAABA6D8AAAAAAEDsPwAAAAAAQOg/AAAAAABA7D8AAAAAAEDoPwAAAAAAQOw/AAAAAABA6D8=\",\"dtype\":\"float64\",\"order\":\"little\",\"shape\":[16]},\"index\":[3,7,9,10,12,13,15,16,21,25,27,28,30,31,33,34],\"instrument\":[2,2,2,2,2,2,2,2,2,2,2,2,2,2,2,2],\"pitch\":[48,48,48,48,48,48,48,48,48,48,48,48,48,48,48,48],\"program\":[32,32,32,32,32,32,32,32,32,32,32,32,32,32,32,32],\"start_time\":{\"__ndarray__\":\"AAAAAAAAAAAAAAAAAADQPwAAAAAAAOA/AAAAAAAA6D8AAAAAAADwPwAAAAAAAPQ/AAAAAAAA+D8AAAAAAAD8PwAAAAAAAABAAAAAAAAAAkAAAAAAAAAEQAAAAAAAAAZAAAAAAAAACEAAAAAAAAAKQAAAAAAAAAxAAAAAAAAADkA=\",\"dtype\":\"float64\",\"order\":\"little\",\"shape\":[16]},\"top\":{\"__ndarray__\":\"MzMzMzMzSEAzMzMzMzNIQDMzMzMzM0hAMzMzMzMzSEAzMzMzMzNIQDMzMzMzM0hAMzMzMzMzSEAzMzMzMzNIQDMzMzMzM0hAMzMzMzMzSEAzMzMzMzNIQDMzMzMzM0hAMzMzMzMzSEAzMzMzMzNIQDMzMzMzM0hAMzMzMzMzSEA=\",\"dtype\":\"float64\",\"order\":\"little\",\"shape\":[16]},\"velocity\":[113,97,113,97,113,97,113,97,113,97,113,97,113,97,113,97]},\"selected\":{\"id\":\"1072\"},\"selection_policy\":{\"id\":\"1071\"}},\"id\":\"1041\",\"type\":\"ColumnDataSource\"},{\"attributes\":{},\"id\":\"1067\",\"type\":\"BasicTickFormatter\"},{\"attributes\":{},\"id\":\"1075\",\"type\":\"UnionRenderers\"},{\"attributes\":{\"interval\":12},\"id\":\"1031\",\"type\":\"SingleIntervalTicker\"},{\"attributes\":{},\"id\":\"1005\",\"type\":\"DataRange1d\"},{\"attributes\":{\"bottom\":{\"field\":\"bottom\"},\"fill_alpha\":{\"field\":\"fill_alpha\"},\"fill_color\":{\"value\":\"#66c2a5\"},\"left\":{\"field\":\"start_time\"},\"right\":{\"field\":\"end_time\"},\"top\":{\"field\":\"top\"}},\"id\":\"1057\",\"type\":\"Quad\"},{\"attributes\":{\"bottom_units\":\"screen\",\"coordinates\":null,\"fill_alpha\":0.5,\"fill_color\":\"lightgrey\",\"group\":null,\"left_units\":\"screen\",\"level\":\"overlay\",\"line_alpha\":1.0,\"line_color\":\"black\",\"line_dash\":[4,4],\"line_width\":2,\"right_units\":\"screen\",\"syncable\":false,\"top_units\":\"screen\"},\"id\":\"1024\",\"type\":\"BoxAnnotation\"},{\"attributes\":{\"coordinates\":null,\"group\":null},\"id\":\"1062\",\"type\":\"Title\"},{\"attributes\":{\"coordinates\":null,\"data_source\":{\"id\":\"1034\"},\"glyph\":{\"id\":\"1036\"},\"group\":null,\"hover_glyph\":null,\"muted_glyph\":{\"id\":\"1038\"},\"nonselection_glyph\":{\"id\":\"1037\"},\"view\":{\"id\":\"1040\"}},\"id\":\"1039\",\"type\":\"GlyphRenderer\"},{\"attributes\":{\"bottom\":{\"field\":\"bottom\"},\"fill_alpha\":{\"value\":0.2},\"fill_color\":{\"value\":\"#f46d43\"},\"hatch_alpha\":{\"value\":0.2},\"left\":{\"field\":\"start_time\"},\"line_alpha\":{\"value\":0.2},\"right\":{\"field\":\"end_time\"},\"top\":{\"field\":\"top\"}},\"id\":\"1052\",\"type\":\"Quad\"},{\"attributes\":{\"bottom\":{\"field\":\"bottom\"},\"fill_alpha\":{\"field\":\"fill_alpha\"},\"fill_color\":{\"value\":\"#3288bd\"},\"left\":{\"field\":\"start_time\"},\"right\":{\"field\":\"end_time\"},\"top\":{\"field\":\"top\"}},\"id\":\"1043\",\"type\":\"Quad\"},{\"attributes\":{\"interval\":12},\"id\":\"1033\",\"type\":\"SingleIntervalTicker\"},{\"attributes\":{},\"id\":\"1070\",\"type\":\"Selection\"},{\"attributes\":{\"bottom\":{\"field\":\"bottom\"},\"fill_alpha\":{\"value\":0.1},\"fill_color\":{\"value\":\"#f46d43\"},\"hatch_alpha\":{\"value\":0.1},\"left\":{\"field\":\"start_time\"},\"line_alpha\":{\"value\":0.1},\"right\":{\"field\":\"end_time\"},\"top\":{\"field\":\"top\"}},\"id\":\"1051\",\"type\":\"Quad\"},{\"attributes\":{},\"id\":\"1012\",\"type\":\"BasicTicker\"},{\"attributes\":{\"data\":{\"bottom\":{\"__ndarray__\":\"ZmZmZmbmUUBmZmZmZuZRQGZmZmZm5lFAZmZmZmbmUUBmZmZmZuZRQGZmZmZm5lFAZmZmZmbmUUBmZmZmZuZRQGZmZmZm5lFAZmZmZmbmUUA=\",\"dtype\":\"float64\",\"order\":\"little\",\"shape\":[10]},\"duration\":{\"__ndarray__\":\"AAAAAAAA0D9UVVVVVVXVP1RVVVVVVdU/VFVVVVVV1T9QVVVVVVXFPwAAAAAAANA/UFVVVVVV1T9QVVVVVVXVP1BVVVVVVdU/UFVVVVVVxT8=\",\"dtype\":\"float64\",\"order\":\"little\",\"shape\":[10]},\"end_time\":{\"__ndarray__\":\"AAAAAAAA0D+qqqqqqqrmP1VVVVVVVfE/VVVVVVVV+T+qqqqqqqr+PwAAAAAAAAJAqqqqqqqqBUCqqqqqqqoIQKqqqqqqqgxAVVVVVVVVD0A=\",\"dtype\":\"float64\",\"order\":\"little\",\"shape\":[10]},\"fill_alpha\":{\"__ndarray__\":\"AAAAAABA6D8AAAAAAEDoPwAAAAAAQOg/AAAAAABA6D8AAAAAAEDoPwAAAAAAQOg/AAAAAABA6D8AAAAAAEDoPwAAAAAAQOg/AAAAAABA6D8=\",\"dtype\":\"float64\",\"order\":\"little\",\"shape\":[10]},\"index\":[4,8,11,14,17,22,26,29,32,35],\"instrument\":[3,3,3,3,3,3,3,3,3,3],\"pitch\":[72,72,72,72,72,72,72,72,72,72],\"program\":[52,52,52,52,52,52,52,52,52,52],\"start_time\":{\"__ndarray__\":\"AAAAAAAAAAAAAAAAAADYPwAAAAAAAOg/AAAAAAAA9D8AAAAAAAD8PwAAAAAAAABAAAAAAAAAA0AAAAAAAAAGQAAAAAAAAApAAAAAAAAADkA=\",\"dtype\":\"float64\",\"order\":\"little\",\"shape\":[10]},\"top\":{\"__ndarray__\":\"mpmZmZkZUkCamZmZmRlSQJqZmZmZGVJAmpmZmZkZUkCamZmZmRlSQJqZmZmZGVJAmpmZmZkZUkCamZmZmRlSQJqZmZmZGVJAmpmZmZkZUkA=\",\"dtype\":\"float64\",\"order\":\"little\",\"shape\":[10]},\"velocity\":[97,97,97,97,97,97,97,97,97,97]},\"selected\":{\"id\":\"1074\"},\"selection_policy\":{\"id\":\"1073\"}},\"id\":\"1048\",\"type\":\"ColumnDataSource\"},{\"attributes\":{\"callback\":null,\"tooltips\":[[\"pitch\",\"@pitch\"],[\"program\",\"@program\"],[\"velo\",\"@velocity\"],[\"duration\",\"@duration\"],[\"start_time\",\"@start_time\"],[\"end_time\",\"@end_time\"],[\"velocity\",\"@velocity\"],[\"fill_alpha\",\"@fill_alpha\"]]},\"id\":\"1019\",\"type\":\"HoverTool\"},{\"attributes\":{},\"id\":\"1073\",\"type\":\"UnionRenderers\"},{\"attributes\":{},\"id\":\"1023\",\"type\":\"SaveTool\"},{\"attributes\":{},\"id\":\"1003\",\"type\":\"DataRange1d\"},{\"attributes\":{},\"id\":\"1007\",\"type\":\"LinearScale\"},{\"attributes\":{\"bottom\":{\"field\":\"bottom\"},\"fill_alpha\":{\"field\":\"fill_alpha\"},\"fill_color\":{\"value\":\"#f46d43\"},\"left\":{\"field\":\"start_time\"},\"right\":{\"field\":\"end_time\"},\"top\":{\"field\":\"top\"}},\"id\":\"1050\",\"type\":\"Quad\"},{\"attributes\":{\"data\":{\"bottom\":{\"__ndarray__\":\"zczMzMzMQUDNzMzMzExIQM3MzMzMzEFAzczMzMxMSEA=\",\"dtype\":\"float64\",\"order\":\"little\",\"shape\":[4]},\"duration\":{\"__ndarray__\":\"VVVVVVVV1T9VVVVVVVXVP1hVVVVVVdU/WFVVVVVV1T8=\",\"dtype\":\"float64\",\"order\":\"little\",\"shape\":[4]},\"end_time\":{\"__ndarray__\":\"VVVVVVVV1T9VVVVVVVXVP6uqqqqqqgJAq6qqqqqqAkA=\",\"dtype\":\"float64\",\"order\":\"little\",\"shape\":[4]},\"fill_alpha\":{\"__ndarray__\":\"AAAAAABA6D8AAAAAAEDoPwAAAAAAQOg/AAAAAABA6D8=\",\"dtype\":\"float64\",\"order\":\"little\",\"shape\":[4]},\"index\":[5,6,23,24],\"instrument\":[9,9,9,9],\"pitch\":[36,49,36,49],\"program\":[0,0,0,0],\"start_time\":{\"__ndarray__\":\"AAAAAAAAAAAAAAAAAAAAAAAAAAAAAABAAAAAAAAAAEA=\",\"dtype\":\"float64\",\"order\":\"little\",\"shape\":[4]},\"top\":{\"__ndarray__\":\"MzMzMzMzQkAzMzMzM7NIQDMzMzMzM0JAMzMzMzOzSEA=\",\"dtype\":\"float64\",\"order\":\"little\",\"shape\":[4]},\"velocity\":[97,97,97,97]},\"selected\":{\"id\":\"1076\"},\"selection_policy\":{\"id\":\"1075\"}},\"id\":\"1055\",\"type\":\"ColumnDataSource\"},{\"attributes\":{\"axis_label\":\"time (sec)\",\"coordinates\":null,\"formatter\":{\"id\":\"1067\"},\"group\":null,\"major_label_policy\":{\"id\":\"1068\"},\"ticker\":{\"id\":\"1012\"}},\"id\":\"1011\",\"type\":\"LinearAxis\"}],\"root_ids\":[\"1002\"]},\"title\":\"Bokeh Application\",\"version\":\"2.4.3\"}};\n  const render_items = [{\"docid\":\"4624bc89-8d48-46e0-9353-a03c43f23b15\",\"root_ids\":[\"1002\"],\"roots\":{\"1002\":\"7bd92aa7-a5e0-44dc-9e8f-0dd7d0d13dd1\"}}];\n  root.Bokeh.embed.embed_items_notebook(docs_json, render_items);\n  }\n  if (root.Bokeh !== undefined) {\n    embed_document(root);\n  } else {\n    let attempts = 0;\n    const timer = setInterval(function(root) {\n      if (root.Bokeh !== undefined) {\n        clearInterval(timer);\n        embed_document(root);\n      } else {\n        attempts++;\n        if (attempts > 100) {\n          clearInterval(timer);\n          console.log(\"Bokeh: ERROR: Unable to run BokehJS code because BokehJS library is missing\");\n        }\n      }\n    }, 10, root)\n  }\n})(window);",
      "application/vnd.bokehjs_exec.v0+json": ""
     },
     "metadata": {
      "application/vnd.bokehjs_exec.v0+json": {
       "id": "1002"
      }
     },
     "output_type": "display_data"
    }
   ],
   "source": [
    "double_seq = seqs + seqs\n",
    "trim_sequences(double_seq)\n",
    "fix_instruments_for_concatenation(double_seq)\n",
    "prog_ns = concatenate_sequences(double_seq)\n",
    "\n",
    "#play(prog_ns)\n",
    "mm.plot_sequence(prog_ns)"
   ]
  },
  {
   "cell_type": "code",
   "execution_count": 14,
   "metadata": {},
   "outputs": [
    {
     "name": "stdout",
     "output_type": "stream",
     "text": [
      "['instrument:', '1', 'pitch:', '60', 'velocity:', '65', 'start_time:', '0.0', 'end_time:', '2.0']\n",
      "['instrument:', '1', 'pitch:', '64', 'velocity:', '65', 'start_time:', '0.0', 'end_time:', '2.0']\n",
      "['instrument:', '1', 'pitch:', '67', 'velocity:', '65', 'start_time:', '0.0', 'end_time:', '2.0']\n",
      "['instrument:', '2', 'pitch:', '48', 'velocity:', '113', 'start_time:', '0.0', 'end_time:', '0.16666666666666666']\n",
      "['instrument:', '3', 'pitch:', '72', 'velocity:', '97', 'start_time:', '0.0', 'end_time:', '0.25']\n",
      "['instrument:', '9', 'pitch:', '36', 'velocity:', '97', 'start_time:', '0.0', 'end_time:', '0.3333333333333333']\n",
      "['instrument:', '9', 'pitch:', '49', 'velocity:', '97', 'start_time:', '0.0', 'end_time:', '0.3333333333333333']\n",
      "['instrument:', '2', 'pitch:', '48', 'velocity:', '97', 'start_time:', '0.25', 'end_time:', '0.41666666666666663']\n",
      "['instrument:', '3', 'pitch:', '72', 'velocity:', '97', 'start_time:', '0.375', 'end_time:', '0.7083333333333333']\n",
      "['instrument:', '2', 'pitch:', '48', 'velocity:', '113', 'start_time:', '0.5', 'end_time:', '0.6666666666666666']\n",
      "['instrument:', '2', 'pitch:', '48', 'velocity:', '97', 'start_time:', '0.75', 'end_time:', '0.9166666666666666']\n",
      "['instrument:', '3', 'pitch:', '72', 'velocity:', '97', 'start_time:', '0.75', 'end_time:', '1.0833333333333333']\n",
      "['instrument:', '2', 'pitch:', '48', 'velocity:', '113', 'start_time:', '1.0', 'end_time:', '1.1666666666666665']\n",
      "['instrument:', '2', 'pitch:', '48', 'velocity:', '97', 'start_time:', '1.25', 'end_time:', '1.4166666666666665']\n",
      "['instrument:', '3', 'pitch:', '72', 'velocity:', '97', 'start_time:', '1.25', 'end_time:', '1.5833333333333333']\n",
      "['instrument:', '2', 'pitch:', '48', 'velocity:', '113', 'start_time:', '1.5', 'end_time:', '1.6666666666666665']\n",
      "['instrument:', '2', 'pitch:', '48', 'velocity:', '97', 'start_time:', '1.75', 'end_time:', '1.9166666666666665']\n",
      "['instrument:', '3', 'pitch:', '72', 'velocity:', '97', 'start_time:', '1.75', 'end_time:', '1.9166666666666665']\n",
      "['instrument:', '1', 'pitch:', '60', 'velocity:', '65', 'start_time:', '2.0', 'end_time:', '4.0']\n",
      "['instrument:', '1', 'pitch:', '64', 'velocity:', '65', 'start_time:', '2.0', 'end_time:', '4.0']\n",
      "['instrument:', '1', 'pitch:', '67', 'velocity:', '65', 'start_time:', '2.0', 'end_time:', '4.0']\n",
      "['instrument:', '2', 'pitch:', '48', 'velocity:', '113', 'start_time:', '2.0', 'end_time:', '2.1666666666666665']\n",
      "['instrument:', '3', 'pitch:', '72', 'velocity:', '97', 'start_time:', '2.0', 'end_time:', '2.25']\n",
      "['instrument:', '9', 'pitch:', '36', 'velocity:', '97', 'start_time:', '2.0', 'end_time:', '2.3333333333333335']\n",
      "['instrument:', '9', 'pitch:', '49', 'velocity:', '97', 'start_time:', '2.0', 'end_time:', '2.3333333333333335']\n",
      "['instrument:', '2', 'pitch:', '48', 'velocity:', '97', 'start_time:', '2.25', 'end_time:', '2.4166666666666665']\n",
      "['instrument:', '3', 'pitch:', '72', 'velocity:', '97', 'start_time:', '2.375', 'end_time:', '2.708333333333333']\n",
      "['instrument:', '2', 'pitch:', '48', 'velocity:', '113', 'start_time:', '2.5', 'end_time:', '2.6666666666666665']\n",
      "['instrument:', '2', 'pitch:', '48', 'velocity:', '97', 'start_time:', '2.75', 'end_time:', '2.9166666666666665']\n",
      "['instrument:', '3', 'pitch:', '72', 'velocity:', '97', 'start_time:', '2.75', 'end_time:', '3.083333333333333']\n",
      "['instrument:', '2', 'pitch:', '48', 'velocity:', '113', 'start_time:', '3.0', 'end_time:', '3.1666666666666665']\n",
      "['instrument:', '2', 'pitch:', '48', 'velocity:', '97', 'start_time:', '3.25', 'end_time:', '3.4166666666666665']\n",
      "['instrument:', '3', 'pitch:', '72', 'velocity:', '97', 'start_time:', '3.25', 'end_time:', '3.583333333333333']\n",
      "['instrument:', '2', 'pitch:', '48', 'velocity:', '113', 'start_time:', '3.5', 'end_time:', '3.6666666666666665']\n",
      "['instrument:', '2', 'pitch:', '48', 'velocity:', '97', 'start_time:', '3.75', 'end_time:', '3.9166666666666665']\n",
      "['instrument:', '3', 'pitch:', '72', 'velocity:', '97', 'start_time:', '3.75', 'end_time:', '3.9166666666666665']\n"
     ]
    }
   ],
   "source": [
    "for notes in prog_ns.notes:\n",
    "    osc_message = \"instrument: \" + str(notes.instrument) + \" pitch: \" + str(notes.pitch) + \" velocity: \" + str(notes.velocity) + \" start_time: \" + str(notes.start_time) + \" end_time: \" + str(notes.end_time)\n",
    "    client.send_message(\"note\", osc_message)\n",
    "    print(osc_message)"
   ]
  },
  {
   "cell_type": "code",
   "execution_count": 49,
   "metadata": {},
   "outputs": [
    {
     "ename": "SyntaxError",
     "evalue": "unexpected EOF while parsing (851964165.py, line 2)",
     "output_type": "error",
     "traceback": [
      "\u001b[1;36m  File \u001b[1;32m\"C:\\Users\\rikyd\\AppData\\Local\\Temp\\ipykernel_1972\\851964165.py\"\u001b[1;36m, line \u001b[1;32m2\u001b[0m\n\u001b[1;33m    while flag:\u001b[0m\n\u001b[1;37m               ^\u001b[0m\n\u001b[1;31mSyntaxError\u001b[0m\u001b[1;31m:\u001b[0m unexpected EOF while parsing\n"
     ]
    }
   ],
   "source": [
    "while True:\n",
    "    \n",
    "    "
   ]
  },
  {
   "cell_type": "code",
   "execution_count": null,
   "metadata": {},
   "outputs": [],
   "source": [
    "from pythonosc.dispatcher import Dispatcher\n",
    "from pythonosc import osc_server\n",
    "dispatcher = Dispatcher()\n",
    "server = osc_server.ThreadingOSCUDPServer((args.ip, args.port), dispatcher)\n",
    "server.serve_forever()\n"
   ]
  }
 ],
 "metadata": {
  "kernelspec": {
   "display_name": "magenta-env",
   "language": "python",
   "name": "python3"
  },
  "language_info": {
   "codemirror_mode": {
    "name": "ipython",
    "version": 3
   },
   "file_extension": ".py",
   "mimetype": "text/x-python",
   "name": "python",
   "nbconvert_exporter": "python",
   "pygments_lexer": "ipython3",
   "version": "3.7.9"
  },
  "orig_nbformat": 4
 },
 "nbformat": 4,
 "nbformat_minor": 2
}
