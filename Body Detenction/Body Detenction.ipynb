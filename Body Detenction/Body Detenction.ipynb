{
 "cells": [
  {
   "cell_type": "code",
   "execution_count": 21,
   "metadata": {},
   "outputs": [],
   "source": [
    "import cv2\n",
    "import mediapipe as mp\n",
    "mp_drawing = mp.solutions.drawing_utils\n",
    "mp_drawing_styles = mp.solutions.drawing_styles\n",
    "mp_holistic = mp.solutions.holistic"
   ]
  },
  {
   "cell_type": "code",
   "execution_count": 22,
   "metadata": {},
   "outputs": [
    {
     "ename": "KeyboardInterrupt",
     "evalue": "",
     "output_type": "error",
     "traceback": [
      "\u001b[1;31m---------------------------------------------------------------------------\u001b[0m",
      "\u001b[1;31mKeyboardInterrupt\u001b[0m                         Traceback (most recent call last)",
      "Cell \u001b[1;32mIn[22], line 22\u001b[0m\n\u001b[0;32m     20\u001b[0m image\u001b[39m.\u001b[39mflags\u001b[39m.\u001b[39mwriteable \u001b[39m=\u001b[39m \u001b[39mTrue\u001b[39;00m\n\u001b[0;32m     21\u001b[0m image \u001b[39m=\u001b[39m cv2\u001b[39m.\u001b[39mcvtColor(image, cv2\u001b[39m.\u001b[39mCOLOR_RGB2BGR)\n\u001b[1;32m---> 22\u001b[0m mp_drawing\u001b[39m.\u001b[39;49mdraw_landmarks(\n\u001b[0;32m     23\u001b[0m     image,\n\u001b[0;32m     24\u001b[0m     results\u001b[39m.\u001b[39;49mface_landmarks,\n\u001b[0;32m     25\u001b[0m     mp_holistic\u001b[39m.\u001b[39;49mFACEMESH_CONTOURS,\n\u001b[0;32m     26\u001b[0m     landmark_drawing_spec\u001b[39m=\u001b[39;49m\u001b[39mNone\u001b[39;49;00m,\n\u001b[0;32m     27\u001b[0m     connection_drawing_spec\u001b[39m=\u001b[39;49mmp_drawing_styles\n\u001b[0;32m     28\u001b[0m     \u001b[39m.\u001b[39;49mget_default_face_mesh_contours_style())\n\u001b[0;32m     29\u001b[0m mp_drawing\u001b[39m.\u001b[39mdraw_landmarks(\n\u001b[0;32m     30\u001b[0m     image,\n\u001b[0;32m     31\u001b[0m     results\u001b[39m.\u001b[39mpose_landmarks,\n\u001b[0;32m     32\u001b[0m     mp_holistic\u001b[39m.\u001b[39mPOSE_CONNECTIONS,\n\u001b[0;32m     33\u001b[0m     landmark_drawing_spec\u001b[39m=\u001b[39mmp_drawing_styles\n\u001b[0;32m     34\u001b[0m     \u001b[39m.\u001b[39mget_default_pose_landmarks_style())\n\u001b[0;32m     35\u001b[0m \u001b[39m# Flip the image horizontally for a selfie-view display.\u001b[39;00m\n",
      "File \u001b[1;32mc:\\Users\\andre\\Desktop\\Project\\project-venv\\lib\\site-packages\\mediapipe\\python\\solutions\\drawing_utils.py:179\u001b[0m, in \u001b[0;36mdraw_landmarks\u001b[1;34m(image, landmark_list, connections, landmark_drawing_spec, connection_drawing_spec)\u001b[0m\n\u001b[0;32m    176\u001b[0m     \u001b[39mif\u001b[39;00m start_idx \u001b[39min\u001b[39;00m idx_to_coordinates \u001b[39mand\u001b[39;00m end_idx \u001b[39min\u001b[39;00m idx_to_coordinates:\n\u001b[0;32m    177\u001b[0m       drawing_spec \u001b[39m=\u001b[39m connection_drawing_spec[connection] \u001b[39mif\u001b[39;00m \u001b[39misinstance\u001b[39m(\n\u001b[0;32m    178\u001b[0m           connection_drawing_spec, Mapping) \u001b[39melse\u001b[39;00m connection_drawing_spec\n\u001b[1;32m--> 179\u001b[0m       cv2\u001b[39m.\u001b[39;49mline(image, idx_to_coordinates[start_idx],\n\u001b[0;32m    180\u001b[0m                idx_to_coordinates[end_idx], drawing_spec\u001b[39m.\u001b[39;49mcolor,\n\u001b[0;32m    181\u001b[0m                drawing_spec\u001b[39m.\u001b[39;49mthickness)\n\u001b[0;32m    182\u001b[0m \u001b[39m# Draws landmark points after finishing the connection lines, which is\u001b[39;00m\n\u001b[0;32m    183\u001b[0m \u001b[39m# aesthetically better.\u001b[39;00m\n\u001b[0;32m    184\u001b[0m \u001b[39mif\u001b[39;00m landmark_drawing_spec:\n",
      "\u001b[1;31mKeyboardInterrupt\u001b[0m: "
     ]
    }
   ],
   "source": [
    "# For webcam input:\n",
    "cap = cv2.VideoCapture(0)\n",
    "with mp_holistic.Holistic(\n",
    "    min_detection_confidence=0.5,\n",
    "    min_tracking_confidence=0.5) as holistic:\n",
    "  while cap.isOpened():\n",
    "    success, image = cap.read()\n",
    "    if not success:\n",
    "      print(\"Ignoring empty camera frame.\")\n",
    "      # If loading a video, use 'break' instead of 'continue'.\n",
    "      continue\n",
    "\n",
    "    # To improve performance, optionally mark the image as not writeable to\n",
    "    # pass by reference.\n",
    "    image.flags.writeable = False\n",
    "    image = cv2.cvtColor(image, cv2.COLOR_BGR2RGB)\n",
    "    results = holistic.process(image)\n",
    "\n",
    "    # Draw landmark annotation on the image.\n",
    "    image.flags.writeable = True\n",
    "    image = cv2.cvtColor(image, cv2.COLOR_RGB2BGR)\n",
    "    mp_drawing.draw_landmarks(\n",
    "        image,\n",
    "        results.face_landmarks,\n",
    "        mp_holistic.FACEMESH_CONTOURS,\n",
    "        landmark_drawing_spec=None,\n",
    "        connection_drawing_spec=mp_drawing_styles\n",
    "        .get_default_face_mesh_contours_style())\n",
    "    mp_drawing.draw_landmarks(\n",
    "        image,\n",
    "        results.pose_landmarks,\n",
    "        mp_holistic.POSE_CONNECTIONS,\n",
    "        landmark_drawing_spec=mp_drawing_styles\n",
    "        .get_default_pose_landmarks_style())\n",
    "    # Flip the image horizontally for a selfie-view display.\n",
    "    cv2.imshow('MediaPipe Holistic', cv2.flip(image, 1))\n",
    "    if cv2.waitKey(5) & 0xFF == 27:\n",
    "      break\n",
    "cap.release()\n"
   ]
  }
 ],
 "metadata": {
  "kernelspec": {
   "display_name": "project-venv",
   "language": "python",
   "name": "python3"
  },
  "language_info": {
   "codemirror_mode": {
    "name": "ipython",
    "version": 3
   },
   "file_extension": ".py",
   "mimetype": "text/x-python",
   "name": "python",
   "nbconvert_exporter": "python",
   "pygments_lexer": "ipython3",
   "version": "3.9.13"
  },
  "orig_nbformat": 4
 },
 "nbformat": 4,
 "nbformat_minor": 2
}
