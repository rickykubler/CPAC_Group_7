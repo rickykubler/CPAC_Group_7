{
 "cells": [
  {
   "cell_type": "code",
   "execution_count": 1,
   "metadata": {},
   "outputs": [],
   "source": [
    "import argparse\n",
    "from pythonosc import udp_client\n",
    "\n",
    "parser = argparse.ArgumentParser()\n",
    "# OSC server ip: '127.0.0.1'\n",
    "#parser.add_argument(\"--ip\", default='192.168.255.27', help=\"The ip of the OSC server\")\n",
    "parser.add_argument(\"--ip\", default='192.168.193.27') # if in the same machine\n",
    "parser.add_argument(\"--port\", type=int, default=7400)\n",
    "\n",
    "# Parse the arguments\n",
    "args, unknown = parser.parse_known_args()\n",
    "\n",
    "# Start the UDP Client\n",
    "client = udp_client.SimpleUDPClient(args.ip, args.port)\n",
    "client.send_message(\"pitch\", 69)"
   ]
  }
 ],
 "metadata": {
  "kernelspec": {
   "display_name": "project-venv",
   "language": "python",
   "name": "python3"
  },
  "language_info": {
   "codemirror_mode": {
    "name": "ipython",
    "version": 3
   },
   "file_extension": ".py",
   "mimetype": "text/x-python",
   "name": "python",
   "nbconvert_exporter": "python",
   "pygments_lexer": "ipython3",
   "version": "3.10.0"
  },
  "orig_nbformat": 4
 },
 "nbformat": 4,
 "nbformat_minor": 2
}
