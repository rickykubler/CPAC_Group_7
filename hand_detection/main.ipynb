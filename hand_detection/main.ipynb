{
 "cells": [
  {
   "cell_type": "code",
   "execution_count": 1,
   "metadata": {},
   "outputs": [],
   "source": [
    "import cv2\n",
    "import mediapipe as mp\n",
    "import argparse\n",
    "from pythonosc import udp_client\n",
    "\n",
    "import numpy as np\n",
    "\n",
    "cap = cv2.VideoCapture(0)\n",
    "mpHands = mp.solutions.hands\n",
    "hands = mpHands.Hands()\n",
    "mpDraw = mp.solutions.drawing_utils\n"
   ]
  },
  {
   "cell_type": "code",
   "execution_count": 2,
   "metadata": {},
   "outputs": [],
   "source": [
    "def normalizing_coordinates(coordinates):\n",
    "    temp1, temp2 = coordinates[0,0], coordinates[0,1]\n",
    "    for i in range(coordinates[0].size):\n",
    "        coordinates[i,0] -= temp1\n",
    "        coordinates[i,1] -= temp2\n",
    "    \n",
    "    coordinates = coordinates.flatten()\n",
    "    max_abs = max(abs(coordinates))\n",
    "    coordinates = coordinates/max_abs\n",
    "\n",
    "    return coordinates"
   ]
  },
  {
   "cell_type": "code",
   "execution_count": 3,
   "metadata": {},
   "outputs": [],
   "source": [
    "START_SOUND = True\n",
    "# start the osc\n",
    "# argparse helps writing user-friendly commandline interfaces\n",
    "parser = argparse.ArgumentParser()\n",
    "# OSC server ip: '127.0.0.1'\n",
    "parser.add_argument(\"--ip\", default='127.0.0.1', help=\"The ip of the OSC server\")\n",
    "# OSC server port (check on SuperCollider) 57120\n",
    "parser.add_argument(\"--port\", type=int, default=57120, help=\"The port the OSC server is listening on\")\n",
    "\n",
    "# Parse the arguments\n",
    "args, unknown = parser.parse_known_args()\n",
    "\n",
    "# Start the UDP Client\n",
    "client = udp_client.SimpleUDPClient(args.ip, args.port)"
   ]
  },
  {
   "cell_type": "code",
   "execution_count": 4,
   "metadata": {},
   "outputs": [],
   "source": [
    "while True:\n",
    "    success, image = cap.read()\n",
    "    image = cv2.flip(image, 1)\n",
    "    imageRGB = cv2.cvtColor(image, cv2.COLOR_BGR2RGB)\n",
    "    results = hands.process(imageRGB)\n",
    "    center_x = []\n",
    "    center_y = []\n",
    "    array_indx = np.zeros((21,2))\n",
    "    # checking whether a hand is detected\n",
    "    if results.multi_hand_landmarks:\n",
    "        for handLms in results.multi_hand_landmarks: # working with each hand\n",
    "            for id, lm in enumerate(handLms.landmark):\n",
    "                h, w, c = image.shape\n",
    "                cx, cy = int(lm.x * w), int(lm.y * h)\n",
    "                # fill the index array to normalize and feed into the classifier network\n",
    "                array_indx[id,0], array_indx[id,1] = cx, cy\n",
    "                # helps to extract the center coordinates\n",
    "                if(id == 0 or id == 5 or id == 17):\n",
    "                    center_x.append(cx)\n",
    "                    center_y.append(cy)\n",
    "                \n",
    "            center_palm_x = int(sum(center_x)/len(center_x))\n",
    "            center_palm_y = int(sum(center_y)/len(center_y))\n",
    "            cv2.circle(image, (center_palm_x, center_palm_y), 10, (255, 0 ,255), cv2.FILLED)\n",
    "\n",
    "            mpDraw.draw_landmarks(image, handLms, mpHands.HAND_CONNECTIONS)\n",
    "\n",
    "            normalized_coordinates = normalizing_coordinates(array_indx)\n",
    "            \n",
    "\n",
    "        \n",
    "        if START_SOUND:\n",
    "            client.send_message(\"freq\", center_palm_x)\n",
    "\t    \n",
    "            client.send_message(\"amp\", center_palm_y)\n",
    "            \n",
    "    cv2.imshow(\"Output\", image)\n",
    "    cv2.waitKey(1)\n",
    "    \n",
    "    keypress = cv2.waitKey(1) & 0xFF\t\t\n",
    "    if keypress == ord(\"q\"):\n",
    "\t\t    break\n",
    "\n",
    "# free up memory\n",
    "cap.release()\n",
    "cv2.destroyAllWindows()"
   ]
  }
 ],
 "metadata": {
  "kernelspec": {
   "display_name": "project-venv",
   "language": "python",
   "name": "python3"
  },
  "language_info": {
   "codemirror_mode": {
    "name": "ipython",
    "version": 3
   },
   "file_extension": ".py",
   "mimetype": "text/x-python",
   "name": "python",
   "nbconvert_exporter": "python",
   "pygments_lexer": "ipython3",
   "version": "3.10.7"
  },
  "orig_nbformat": 4,
  "vscode": {
   "interpreter": {
    "hash": "464f5ef9209adec1b7bf0795f9eb15d0b8fd869ea9d83db0eac410ac948bdd96"
   }
  }
 },
 "nbformat": 4,
 "nbformat_minor": 2
}
